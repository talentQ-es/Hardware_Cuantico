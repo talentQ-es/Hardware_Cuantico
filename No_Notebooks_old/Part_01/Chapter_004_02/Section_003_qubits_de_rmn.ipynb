{
 "cells": [
  {
   "cell_type": "markdown",
   "id": "8ddaeb38",
   "metadata": {},
   "source": [
    "<img src=\"Figuras/Fig_logo_UMA_scbi.png\" align=center  width=\"2000px\"/>\n",
    "\n",
    "\n",
    "<a href=\"https://www.scbi.uma.es/web/es/computacion-cuantica/\">\n",
    "    <button class=\"rounded\" style=\"float: right;\">\n",
    "    <svg xmlns=\"http://www.w3.org/2000/svg\" width=\"32\" height=\"32\" viewBox=\"0 0 24 24\">\n",
    "        <path fill=\"var(--fill, white)\"\n",
    "        d=\"M18.1 15.3c-.1.1-.3.2-.4.3l-2.4.4l1.7 3.6c.2.4 0 .8-.4\n",
    "            1l-2.8 1.3c-.1.1-.2.1-.3.1c-.3 0-.6-.2-.7-.4L11.2\n",
    "            18l-1.9 1.5c-.1.1-.3.2-.5.2c-.4 0-.8-.3-.8-.8V7.5c0-.5.3-.8.8-.8c.2 0\n",
    "            .4.1.5.2l8.7 7.4c.3.2.4.7.1 1M6 12H4V4h16v8h-1.6l2.2 1.9c.8-.3 1.3-1\n",
    "            1.3-1.9V4c0-1.1-.9-2-2-2H4c-1.1 0-2 .9-2 2v8c0 1.1.9 2 2 2h2z\" />\n",
    "    </svg>\n",
    "    Volver a SCBI - Computación Cuantica\n",
    "    </button>\n",
    "</a>\n",
    "\n",
    "$ \\newcommand{\\bra}[1]{\\langle #1|} $\n",
    "$ \\newcommand{\\ket}[1]{|#1\\rangle} $\n",
    "$ \\newcommand{\\branew}[1]{\\langle #1|} $\n",
    "$ \\newcommand{\\ketnew}[1]{\\langle #1|} $\n",
    "$ \\newcommand{\\braket}[2]{\\langle #1|#2\\rangle} $\n",
    "$ \\newcommand{\\ketbra}[2]{| #1\\rangle \\langle #2 |} $\n",
    "$ \\newcommand{\\i}{{\\color{blue} i}} $ \n",
    "$ \\newcommand{\\Hil}{{\\cal H}} $\n",
    "$ \\newcommand{\\cg}[1]{{\\rm C}#1} $\n",
    "$ \\newcommand{\\lp}{\\left(} $\n",
    "$ \\newcommand{\\rp}{\\right)} $\n",
    "$ \\newcommand{\\lc}{\\left[} $\n",
    "$ \\newcommand{\\rc}{\\right]} $\n",
    "$ \\newcommand{\\lch}{\\left\\{} $\n",
    "$ \\newcommand{\\rch}{\\right\\}} $\n",
    "$ \\newcommand{\\Lp}{\\Bigl(} $\n",
    "$ \\newcommand{\\Rp}{\\Bigr)} $\n",
    "$ \\newcommand{\\Lc}{\\Bigl[} $\n",
    "$ \\newcommand{\\Rc}{\\Bigr]} $\n",
    "$ \\newcommand{\\Lch}{\\Bigl\\{} $\n",
    "$ \\newcommand{\\Rch}{\\Bigr\\}} $\n",
    "$ \\newcommand{\\rqa}{\\quad \\Rightarrow \\quad} $\n",
    "$ \\newcommand{\\bm}{\\boldsymbol}$"
   ]
  },
  {
   "cell_type": "markdown",
   "id": "080fe82e",
   "metadata": {},
   "source": [
    "# qubits de RMN\n"
   ]
  },
  {
   "cell_type": "markdown",
   "id": "080fe82e",
   "metadata": {},
   "source": [
    "En esta sección vamos a describir como es el sistema con el que se construyen los qubits en RNM, basándonos en su <b>Hamiltoniano del sistema</b> y su <b>Hamiltoniano de control</b>. El Hamiltoniano del sistema da la energía de los espines simples y acoplados en un campo magnético estático, y el Hamiltoniano de control surge de la aplicación de pulsos de radiofrecuencia al sistema en, o cerca de, sus frecuencias resonantes. Veremos que para describir el efecto de los pulsos es más conveniente usar un <b>sistema de referencia giratorio</b>.\n"
   ]
  },
  {
   "cell_type": "markdown",
   "id": "080fe82e",
   "metadata": {},
   "source": [
    "\n",
    "<a id='sec_subsub_Harware_NMR_H_sys'></a>\n",
    "## Hamiltoniano del sistema \n"
   ]
  },
  {
   "cell_type": "markdown",
   "id": "080fe82e",
   "metadata": {},
   "source": [
    "### Espines simples.\n"
   ]
  },
  {
   "cell_type": "markdown",
   "id": "080fe82e",
   "metadata": {},
   "source": [
    "Una partícula con espín constituye un <b>dipolo magnético</b>. En esencia, dipolo magnético es un pequeño imán, es decir, una fuente de campo magnético. El <b>momento dipolar magnético</b>, $\\vec{\\mu}$, es proporcional al momento angular de espín, $\\vec{S}$:\n",
    "\\begin{equation} \\label{ec_Hardware_NMR_mu}\n",
    "\\vec{\\mu} = \\gamma \\vec{S}\\, ,\n",
    "\\end{equation}\n",
    "donde la constate de proporcionalidad, $\\gamma$, se denomina ratio giromagnético (<b>gyromagnetic ratio</b>). Este toma la forma\n",
    "\\begin{equation} \\label{ec_Hardware_NMR_gamma}\n",
    "\\gamma = g \\frac{q}{2m} \\, ,\n",
    "\\end{equation}\n",
    "donde $q$ es la carga eléctrica de la partícula, $m$ su masa y $g$ se denomina <b>factor $g$ ($g$-factor)</b>.\n"
   ]
  },
  {
   "cell_type": "markdown",
   "id": "080fe82e",
   "metadata": {},
   "source": [
    "Cuando un dipolo magnético se sitúa en un campo magnético $\\vec{B}$, este dipolo experimenta un torque, $\\vec{\\mu} \\times \\vec{B}$, que tiende a alinearlo paralelo al campo (como la aguja de una brújula). La energía asociada con este torque es\n",
    "\\begin{equation}\n",
    "E = - \\vec{\\mu} \\cdot \\vec{B}\n",
    "\\end{equation}\n",
    "con lo que el Hamiltoniano para una partícula cargada con espín, en reposo en un campo magnético $\\vec{B}$, es\n",
    "\\begin{equation}\n",
    "\\mathcal{H} = - \\gamma \\vec{B} \\cdot S\n",
    "\\end{equation}\n",
    "donde $S$ es el operador de espín (ver Ec.  {eq}`%s <ec_Hardware_NMR_operador_S_sigma_vec>` para el caso de partículad de espín 1/2).\n"
   ]
  },
  {
   "cell_type": "markdown",
   "id": "080fe82e",
   "metadata": {},
   "source": [
    "Si tenemos una partícula (o un núcleo) de espín 1/2 (no consideraremos espines de mayor orden en estas notas) en un campo magnético $\\vec{B}_0$ a lo largo del eje $\\hat{z}$, entonces su evolución temporal está gobernada por el Hamiltoniano\n",
    "\\begin{equation} \\label{ec_Hardware_NMR_H_sys_1}\n",
    "\\boxed{\\mathcal{H} = -  \\gamma B_0 S_z = - \\omega_0 S_z =\n",
    "\\begin{bmatrix}\n",
    "- \\hbar \\omega_0/2  & 0 \\\\\n",
    "0  &  \\hbar \\omega_0 /2\n",
    "\\end{bmatrix}} \\, ,\n",
    "\\end{equation}\n",
    "donde\n",
    "\n",
    " \n- $\\gamma$ es ratio giromagnético del núcleo (ver Ec.  {eq}`%s <ec_Hardware_NMR_gamma>`),\n",
    " \n- $\\omega/2 \\pi = \\gamma B_0 $ es la <b>frecuencia de Larmor</b>\n",
    " \n- e $S_z$ es el operador de espín en la dirección $\\hat{z}$ (ver Ec.  {eq}`%s <ec_Hardware_NMR_Sx-Sy-Sz>`).\n",
    "\n"
   ]
  },
  {
   "cell_type": "markdown",
   "id": "080fe82e",
   "metadata": {},
   "source": [
    "<div class=\"alert alert-block alert-danger\">\n",
    "<p style=\"color: DarkRed;\">\n",
    "<b>Nota</b>: <i>(frecuencia y frecuencia angular)</i>\n",
    "<br>\n",
    "En Física, la <b>frecuencia</b> se define como el inverso del periodo de rotación: $f = 1/T$ y se mide en Hz (1/segundos). Además, se define la <b>frecuencia angular</b> como $\\omega = 2\\pi f$ y se mide en radianes/segundo. Muchas veces se denomina a las dos, simplemente, frecuencia.\n",
    "</p></div>\n"
   ]
  },
  {
   "cell_type": "markdown",
   "id": "080fe82e",
   "metadata": {},
   "source": [
    "La interpretación de la Ec.  {eq}`%s <ec_Hardware_NMR_H_sys_1>` es simple. Cuando tenemos una partícula de espín 1/2 aislada, las dos proyecciones del espín son <b>degeneradas</b>, es decir, tiene la misma energía. Esto es fácil de entender si pensamos en que no hay ninguna dirección privilegiada en el sistema. Cuando introducimos un campo magnético, ahora sí hay una dirección privilegiada: aquella con el momento dipolar magnético $\\vec{\\mu}$ apuntando en la misma dirección que el campo magnético. Esto es debido a que el espín es como un pequeño imán y tiende a orientarse con el campo magnéticos. En este momento, el sistema pasa a ser <b>no-degenerado</b>, y un estado tiene más energía que el otro.\n"
   ]
  },
  {
   "cell_type": "markdown",
   "id": "080fe82e",
   "metadata": {},
   "source": [
    "Esto último se traduce matemáticamente en la Ec.  {eq}`%s <ec_Hardware_NMR_H_sys_1>`. Como el Hamiltoniano es diagonal, los elementos de la diagonal son las energías de los estados. Vemos que el estado con el espín apuntando en la misma dirección (es estado $\\ket{0}$ o $\\ket{\\uparrow}$) que el campo magnético tiene menos energía que el estado que apunta en la dirección contraria (el estado $\\ket{1}$ o $\\ket{\\downarrow}$). La diferencia de energía entre los estados es de $\\hbar \\omega_0$, como se puede ver en la Fig.  {numref}`%s <Fig_Harware_NMR_split_Zeeman>`. Esta separación de energías (<i>energy splitting</i>) se conoce como <b>Zeeman spliting</b>.\n"
   ]
  },
  {
   "cell_type": "markdown",
   "id": "080fe82e",
   "metadata": {},
   "source": [
    "<figure><center>\n",
    "<img src=\"Figuras/Fig_Harware_NMR_split_Zeeman.png\" alt=\"\" align=center width='150px'/>\n",
    "<a id='Fig_Harware_NMR_split_Zeeman'></a>\n",
    "<center>Diagrama de energías de una partícula de espín 1/2 en un campo magnético.</center>\n",
    "</center></figure>\n\n"
   ]
  },
  {
   "cell_type": "markdown",
   "id": "080fe82e",
   "metadata": {},
   "source": [
    "Podemos entender gráficamente la evolución temporal $U = e^{-i \\mathcal{H} t/ \\hbar}$ bajo el Hamiltoniano de la Ec.  {eq}`%s <ec_Hardware_NMR_H_sys_1>` como un movimiento de precesión en la esfera de Bloch al rededor de $\\vec{B}_0$, como se muestra en la Fig.  {numref}`%s <Fig_Harware_NMR_precesion>`. Como es habitual, definimos el eje $\\hat{z}$ de la esfera de Bloch como el eje de cuantización del Hamiltoniano, con $\\ket{0}$ a lo largo de $+\\hat{z}$ y $\\ket{1}$ a lo largo de $-\\hat{z}$.\n"
   ]
  },
  {
   "cell_type": "markdown",
   "id": "080fe82e",
   "metadata": {},
   "source": [
    "<figure><center>\n",
    "<img src=\"Figuras/Fig_Harware_NMR_precesion.png\" alt=\"\" align=center width='450px'/>\n",
    "<a id='Fig_Harware_NMR_precesion'></a>\n",
    "<center>Precesión del valor esperado del espín entorno al campo magnético.</center>\n",
    "</center></figure>\n\n"
   ]
  },
  {
   "cell_type": "markdown",
   "id": "080fe82e",
   "metadata": {},
   "source": [
    "<div class=\"alert alert-block alert-danger\">\n",
    "<p style=\"color: DarkRed;\">\n",
    "<b>Nota</b>: <i>(Esfera de Bloch para el espín)</i>\n",
    "<br>\n",
    "Véase que para el espín la representación en la esfera de Bloch no es más que la representación\n",
    "en 3D del vector de espín.\n",
    "</p></div>\n"
   ]
  },
  {
   "cell_type": "markdown",
   "id": "080fe82e",
   "metadata": {},
   "source": [
    "<div class=\"alert alert-block alert-danger\">\n",
    "<p style=\"color: DarkRed;\">\n",
    "<b>Nota</b>: <i>(orientación del espín)</i>\n",
    "<br>\n",
    "En las Ecs.  {eq}`%s <ec_Hardware_NMR_mu>` y  {eq}`%s <ec_Hardware_NMR_gamma>` vemos que el vector de espín\n",
    "y el momento dipolar magnético se relacionan por una constate que $\\gamma$ que puede ser positiva o\n",
    "negativa, dependiendo del valor de la carga eléctrica de la partícula. Es decir, estos vectores pueden\n",
    "apuntar en la misma dirección o en dirección opuesta.\n",
    "<br>\n",
    "Hemos comentado que cuando tenemos un campo magnético, el\n",
    "estado de menor energía es aquel con el <b>momento dipolar magnético</b> apuntando en la dirección\n",
    "del campo. Como podemos ver en la Fig.  {numref}`%s <Fig_Hardware_NMR_espines_en_B>`, tenemos dos opciones\n",
    "dependiendo de la carga de la partícula.\n",
    "<figure><center>\n",
    "<img src=\"Figuras/Fig_Hardware_NMR_espines_en_B.png\" alt=\"\" align=center width='1000px'/>\n",
    "<a id='Fig_Hardware_NMR_espines_en_B'></a>\n",
    "<center>Momentos dipolares magnéticos en presencia de un campo magnético externo. En las dos figuras de la derecha vemos que, dependiendo de la carga de la partícula, el momento dipolar puede apuntar en la misma dirección o en la contraria al espín. Figura tomada de \\url{http://hyperphysics.phy-astr.gsu.edu/hbase/Nuclear/nmr.html}</center>\n",
    "</center></figure>\n\n",
    "</p></div>\n"
   ]
  },
  {
   "cell_type": "markdown",
   "id": "080fe82e",
   "metadata": {},
   "source": [
    "Vemos a la demostración de que el valor esperado del espín precesa entorno al campo magnético:\n"
   ]
  },
  {
   "cell_type": "markdown",
   "id": "080fe82e",
   "metadata": {},
   "source": [
    "<details><summary><p style=\"color:blue\" > >> <i>Demostración</i> </p></summary>\n",
    "<b>(Precesión de Larmor, Griffiths [[9]](../../Bibliografia.ipynb#bib_griffiths_schroeter_2018) ejemplo 4.3)</b>\n",
    "<br>\n",
    "Supongamos una partícula con espín 1/2 sometida a un campo magnético en la dirección $\\vec{z}$, i.e. $\\vec{B}_0 = B_0 \\hat{z}$. El Hamiltoniano estará dado por\n",
    "\\begin{equation}\n",
    "\\mathcal{H} = - \\gamma B_0 S_z = - \\frac{\\gamma B_0 \\hbar}{2}\n",
    "\\begin{bmatrix}1 & 0 \\\\ 0 & -1 \\end{bmatrix}\n",
    "\\end{equation}\n",
    "Los autovectores y autovalores (energías) de este Hamiltoniano son\n",
    "\\begin{equation}\n",
    "\\lch\n",
    "\\begin{matrix}\n",
    "\\ket{0} = \\begin{bmatrix} 1 \\\\ 0 \\end{bmatrix} \\,\n",
    "\\text{con energía } E_{\\ket{0}} = - (\\gamma B_0 \\hbar) /2 \\, \\\\\n",
    "\\ket{1} = \\begin{bmatrix} 0 \\\\ 1 \\end{bmatrix} \\,\n",
    "\\text{con energía } E_{\\ket{1}} = + (\\gamma B_0 \\hbar) / 2\n",
    "\\end{matrix}\n",
    "\\right.\n",
    "\\end{equation}\n",
    "La energía es menor cando el momento dipolar es paralelo al campo magnético, al igual que en el caso clásico.\n",
    "<br>\n",
    "Como el Hamiltoniano es independiente del tiempo, la solución general para la ecuación de Schrödinger dependiente de tiempo,\n",
    "\\begin{equation} \\label{ec_Hardware_NMR_schrodinger}\n",
    "i \\hbar \\frac{\\partial \\ket{\\Psi}}{\\partial t} = \\mathcal{H} \\ket{\\Psi}\n",
    "\\end{equation}\n",
    "puede expresarse en función de estados estacionarios:\n",
    "\\begin{equation} \\label{ec_Hardware_NMR_schrodinger_sol}\n",
    "\\ket{\\Psi (t)} = a  e^{-i E_{\\ket{0}} t/ \\hbar} \\ket{0} + b  e^{-i E_{\\ket{1}} t/ \\hbar} \\ket{1}  =\n",
    "\\begin{bmatrix}\n",
    "a e ^{i \\gamma B_0 t/2} \\\\\n",
    "b e ^{i \\gamma B_0 t/2}\n",
    "\\end{bmatrix}\n",
    "\\end{equation}\n",
    "<br>\n",
    "Las constantes $a$ y $b$ se pueden determinar mediante las condiciones iniciales:\n",
    "\\begin{equation}\n",
    "\\ket{\\Psi (t = 0)} = \\begin{bmatrix} a \\\\ b\\end{bmatrix}\n",
    "\\end{equation}\n",
    "(por supuesto, $|a|^2 + |b|^2 = 1$). Sin perdida de generalidad, podemos elegir $a = \\cos (\\alpha/2)$ y $b = \\sin (\\alpha/2)$, donde $\\alpha$ es un ángulo fijo cuyo significado físico veremos dentro de poco.\n",
    "Tenemos entonces\n",
    "\\begin{equation}\n",
    "\\ket{\\Psi (t)} =\n",
    "\\begin{bmatrix}\n",
    "\\cos (\\alpha/2) e^{i \\gamma B_0 t/2} \\\\\n",
    "\\sin (\\alpha/2) e^{-i \\gamma B_0 t/2}\n",
    "\\end{bmatrix}\n",
    "\\end{equation}\n",
    "Para ver que está pasando con el espín bajo la evolución de este Hamiltoniano, calculemos el calor esperado del espín $\\vec{S}$ como función del tiempo.\n",
    "\\begin{equation}\n",
    "\\begin{aligned}\n",
    "\\left\\langle S_x \\right\\rangle = & \\, \\bra{\\Psi(t)} S_x \\ket{\\Psi(t)} =\n",
    "\\nonumber \\\\\n",
    "= & \\, \\Lc \\psi_0^* \\quad \\psi_1^* \\Rc\n",
    "\\begin{bmatrix} 1 & 0 \\\\ 0 & 1 \\end{bmatrix}\n",
    "\\begin{bmatrix} \\psi_0 \\\\ \\psi_1 \\end{bmatrix}\n",
    "\\nonumber \\\\\n",
    "= & \\, \\Lc a e ^{-i \\gamma B_0 t/2} \\qquad  b e ^{-i \\gamma B_0 t/2} \\Rc\n",
    "\\frac{\\hbar}{2} \\begin{bmatrix} 0 & 1 \\\\ 1 & 0 \\end{bmatrix}\n",
    "\\begin{bmatrix} \\cos (\\alpha/2) e^{i \\gamma B_0 t/2} \\\\ \\sin (\\alpha/2) e^{-i \\gamma B_0 t/2} \\end{bmatrix}\n",
    "\\nonumber \\\\\n",
    "= & \\, \\frac{\\hbar}{2} \\sin \\alpha \\cos (\\gamma B_0 t )\n",
    "\\end{aligned}\n",
    "\\end{equation}\n",
    "De forma análoga,\n",
    "\\begin{equation}\n",
    "\\begin{aligned}\n",
    "\\left\\langle S_y \\right\\rangle = & \\, - \\frac{\\hbar}{2} \\sin \\alpha \\sin (\\gamma B_0 t )  \\\\\n",
    "\\left\\langle S_z \\right\\rangle = & \\frac{\\hbar}{2} \\cos \\alpha\n",
    "\\end{aligned}\n",
    "\\end{equation}\n",
    "<br>\n",
    "Con lo cual, $\\left\\langle \\vec{S} \\right\\rangle$ está inclinado un ángulo $\\alpha$ respecto al eje $\\hat{z}$, y precesa al rededor del campo con una frecuencia\n",
    "\\begin{equation}\n",
    "f_0 = \\omega_0 / 2 \\pi = \\gamma B_0 / 2 \\pi\n",
    "\\end{equation}\n",
    "(la frecuencia de Larmor) al igual que en el caso clásico (una peonza inclinada). No tenemos ninguna sorpresa aquí, pues el teorema de Ehrenfest nos asegura que los valores esperados evolucionan de acuerdo a las leyes clásicas del movimiento (algunos autores limitan esta afirmación solo al par de ecuaciones $\\left\\langle p \\right\\rangle = m d \\left\\langle x \\right\\rangle / dt$ y $\\left\\langle - \\partial V / \\partial x \\right\\rangle = d \\left\\langle p \\right\\rangle / dt$) Puede verse esto en el Griffiths, [[9]](../../Bibliografia.ipynb#bib_griffiths_schroeter_2018).\n",
    "<figure><center>\n",
    "<img src=\"Figuras/Fig_Harware_NMR_precession_griffiths.png\" alt=\"\" align=center width='300px'/>\n",
    "<a id='Fig_Harware_NMR_precession_griffiths'></a>\n",
    "<center>Precesión de Larmor en un campo magnético uniforme.</center>\n",
    "</center></figure>\n\n",
    "<br>\n",
    "</details>\n\n"
   ]
  },
  {
   "cell_type": "markdown",
   "id": "080fe82e",
   "metadata": {},
   "source": [
    "<div class=\"alert alert-block alert-success\">\n",
    "<p style=\"color: DarkGreen;\">\n",
    "<b>Ejercicio</b>:\n",
    "Verifica que la Ec.  {eq}`%s <ec_Hardware_NMR_schrodinger_sol>` es solución de la ecuación de Schrödinger, Ec.  {eq}`%s <ec_Hardware_NMR_schrodinger>`\n",
    "</p></div>\n",
    "\n\n"
   ]
  },
  {
   "cell_type": "markdown",
   "id": "080fe82e",
   "metadata": {},
   "source": [
    "El Hamiltoniano de espín para una molécula con $n$ núcleos desacoplados viene dado por\n",
    "\\begin{equation} \\label{ec_Hardware_NMR_H_single}\n",
    "\\mathcal{H}_0 = - \\sum_{i=1}^n  \\omega_0^i S_z^i\n",
    "\\end{equation}\n",
    "Véase que, los espines de especies nucleares diferentes (espines heteronucleares) tendrán diferentes valores de $\\omega_0^i$, así como también es posibles que los espines de la misma especie nuclear (espines homonucleares) que formen una molécula  tengan también diferentes valores de esta frecuencia.\n"
   ]
  },
  {
   "cell_type": "markdown",
   "id": "080fe82e",
   "metadata": {},
   "source": [
    "### Espines que interactúan.\n"
   ]
  },
  {
   "cell_type": "markdown",
   "id": "080fe82e",
   "metadata": {},
   "source": [
    "Para espines nucleares en moléculas, la naturaleza nos proporciona dos mecanismos de interacción diferentes que vamos a describir:\n",
    "\n",
    " \n- <b>Interacción directa dipolo-dipolo.</b>\n",
    "    La interacción magnética dipolo-dipolo es similar a la interacción entre dos barras magnéticas cercanas. Tiene lugar puramente a través del espacio (no se requiere ningún medio para esta interacción) y depende del vector internuclear $\\vec{r}_{ij}$ que conecta los dos núcleos $i$ y $j$, tal y como describe el Hamiltoniano\n",
    "    \\begin{equation} \\label{ec_Hardware_NMR_H_dipolo-dipolo}\n",
    "    \\mathcal{H}_D = \\sum_{i<j} \\frac{\\mu_0 \\gamma_i \\gamma_j}{4 \\pi | \\vec{r}_{ij}|^3 \\hbar}\n",
    "    \\lc \\vec{S}^i \\cdot \\vec{S}^j - \\frac{3}{| \\vec{r}_{ij}|^2} \\lp \\vec{S}^i \\cdot \\vec{r}_{ij} \\rp \\lp \\vec{S}^j \\cdot \\vec{r}_{ij} \\rp \\rc\n",
    "    \\end{equation}\n",
    "    donde $\\mu_0$ es la permeabilidad magnética habitual del espacio libre.\n",
    "    No vamos a entrar en dalles sobre esta interacción, pues usualmente se promedia y no tiene efecto.\n",
    " \n- <b>Interacción del contrato de Fermi mediada por electrones (acoplamiento J).</b>\n",
    "    El segundo mecanismo de interacción entre los espines nucleares de una molécula es el acoplamiento $J$ o acoplamiento escalar. Esta interacción está mediada por los electrones compartidos en los enlaces químicos entre los átomos, y es debido al solapamiento de la función de onda del electrón compartido con los dos núcleos acoplados. Es decir, una interacción de contacto de Fermi. La fuerza de acoplamiento de enlace J depende de la especie nuclear respectiva y disminuye con el número de enlaces químicos que separan los núcleos.\n",
    "    El Hamiltoniano es\n",
    "    \\begin{equation}\n",
    "    \\mathcal{H} = \\frac{1}{\\hbar} \\sum_{i <j} 2 \\pi J_{ij} S^i S^j =\n",
    "    \\frac{1}{\\hbar} \\sum_{i < j} 2 \\pi J_{ij} \\lp S_x^i S_x^j + S_y^i S_y^j + S_z^i S_z^j  \\rp\n",
    "    \\end{equation}\n",
    "    donde $J_{ij}$ es la fuerza de acoplamiento entre los espines $i$ y $j$. Cuando $| \\omega_0^i - \\omega_0^j |$ es mucho más grande que el acoplamiento $J_{ij}$ ($| \\omega_0^i - \\omega_0^j | \\gg 2 \\pi |J_{ij}|$), los acoplamiento transversos se pueden despreciar. De esta forma, el Hamiltoniano se simplifica\n",
    "    \\begin{equation} \\label{ec_Hardware_NMR_J_coupling}\n",
    "    \\boxed{\\mathcal{H}_j = \\frac{1}{\\hbar} \\sum_{i < j}^n 2 \\pi J_{ij} S_z^{i} S_z^{j}}\n",
    "    \\end{equation}\n",
    "    Esta condición ($| \\omega_0^i - \\omega_0^j | \\gg 2 \\pi |J_{ij}|$) se cumple fácilmente para los espines heteronucleares y que también puede cumplirse para las moléculas homonucleares pequeñas.\n",
    "    La interpretación del término de acoplamiento escalar de la Ec.  {eq}`%s <ec_Hardware_NMR_J_coupling>`<i> es que un espín \"siente\" un campo magnético estático a lo largo de $\\pm z$ producido por los espines vecinos</i>, además del campo $\\vec{B}_0$ aplicado externamente. Este campo adicional desplaza los niveles de energía como podemos ver en la Fig.  {numref}`%s <Fig_Harware_NMR_diagrama>`. Como resultado, la frecuencia de Larmor del espín $i$ se mueve en una cantidad $-J_{ij}/2$ si el espín $j$ está en el estado $\\ket{0}$ (lineas rojas) y una cantidad $+J_{ij}/2$ si está en el estado $\\ket{1}$ (líneas azules).\n",
    "    <figure><center>\n",
    "    <img src=\"Figuras/Fig_Harware_NMR_diagrama.png\" alt=\"\" align=center width='400px'/>\n",
    "    <a id='Fig_Harware_NMR_diagrama'></a>\n",
    "    <center>Diagrama de niveles de energía para dos espines desacoplados (líneas discontinuas) y dos espines acoplados (líneas continuas) por un Hamiltoniano de la forma de la Ec. {eq}`%s <ec_Hardware_NMR_J_coupling>` (en unidades de $\\hbar$). Marcadas en rojo están las dos transiciones en las que el espín que no cambia está en el estado $\\ket{0}$, mientras que en azul están en las que el espín que no cambia está en el estado $\\ket{1}$. Vemos que la energía de transición de las primera disminuye, mientras que de las segundas aumenta.</center>\n",
    "    </center></figure>\n\n",
    "\n"
   ]
  },
  {
   "cell_type": "markdown",
   "id": "080fe82e",
   "metadata": {},
   "source": [
    "### Hamiltoniano completo.\n"
   ]
  },
  {
   "cell_type": "markdown",
   "id": "080fe82e",
   "metadata": {},
   "source": [
    "En resumen, la forma más simple del Hamiltoniano para un sistema de $n$ espines nucleares acoplados es, pues (de las Ecs.  {eq}`%s <ec_Hardware_NMR_H_single>` y  {eq}`%s <ec_Hardware_NMR_J_coupling>`)\n",
    "\\begin{equation} \\label{ec_Hardware_NMR_H_sys_final}\n",
    "\\boxed{\\mathcal{H}_{sys} = - \\sum_{i}^n \\omega_0^i S_z^{i}  + \\frac{1}{\\hbar} \\sum_{i<j} 2 \\pi J_{ij} S_z^i S_z^j}\n",
    "\\end{equation}\n"
   ]
  },
  {
   "cell_type": "markdown",
   "id": "080fe82e",
   "metadata": {},
   "source": [
    "\n",
    "<a id='sec_subsub_Harware_NMR_H_control'></a>\n",
    "## Hamiltoniano de control \n"
   ]
  },
  {
   "cell_type": "markdown",
   "id": "080fe82e",
   "metadata": {},
   "source": [
    "### Campos de radiofrecuencia\n"
   ]
  },
  {
   "cell_type": "markdown",
   "id": "080fe82e",
   "metadata": {},
   "source": [
    "Pasemos ahora a los mecanismos físicos para controlar el sistema de RMN. El estado de una partícula de espín $1/2$ en un campo magnético estático $\\vec{B}_0$ a lo largo del eje $\\hat{z}$ puede manipularse aplicando un campo electromagnético $\\vec{B}_1(t)$ que gira en el plano $\\hat{x}-\\hat{y}$ a frecuencia $\\omega_{rf}$, en o cerca de la frecuencia de precesión del espín $\\omega_0$. El Hamiltoniano de espín  correspondiente al campo de radiofrecuencia (RF) es, análogo a la Ec.  {eq}`%s <ec_Hardware_NMR_H_sys_1>` para el campo estático $B_0$,\n",
    "\\begin{equation}\n",
    "\\mathcal{H}_{rf} = - \\gamma B_1 \\Lc \\cos (\\omega_{rf} + \\phi) S_x + \\sin (\\omega_{rf} + \\phi) S_y \\Rc \\,\n",
    "\\end{equation}\n",
    "donde $\\phi$ es la fase del campo de RF, y $B_1$ su amplitud. Para $n$ espines tenemos\n",
    "\\begin{equation} \\label{ec_Hardware_NMR_H_rf}\n",
    "\\boxed{\\mathcal{H}_{rf} = - \\sum_{i}^n \\gamma_i B_1 \\Lc \\cos (\\omega_{rf} t + \\phi) S_x^i + \\sin (\\omega_{rf} t+ \\phi ) S_y^i \\Rc} \\, ,\n",
    "\\end{equation}\n"
   ]
  },
  {
   "cell_type": "markdown",
   "id": "080fe82e",
   "metadata": {},
   "source": [
    "<div class=\"alert alert-block alert-danger\">\n",
    "<p style=\"color: DarkRed;\">\n",
    "<b>Nota</b>: <i>(implementación de un campo rotante en el laboratorio)</i>\n",
    "<br>\n",
    "En la práctica, se aplica un campo magnético que oscila a lo largo de un eje fijo en el\n",
    "laboratorio, perpendicular al campo magnético estático. Este campo oscilante puede\n",
    "descomponerse en dos campos contrarrotatorios, uno de los cuales gira a $\\omega_{rf}$ en la\n",
    "misma dirección que el espín y, por tanto, puede establecerse en resonancia con el espín o\n",
    "cerca de ella. La  otra componente gira en la dirección opuesta y, por lo tanto, está muy\n",
    "lejos de la resonancia (en aproximadamente $2\\omega_0$). Como veremos, su único efecto es un\n",
    "desplazamiento insignificante de la frecuencia de Larmor, llamado desplazamiento Bloch-Siegert.\n",
    "</p></div>\n"
   ]
  },
  {
   "cell_type": "markdown",
   "id": "080fe82e",
   "metadata": {},
   "source": [
    "### Sistema de referencia rotante (<i>rotating frame</i>).\n"
   ]
  },
  {
   "cell_type": "markdown",
   "id": "080fe82e",
   "metadata": {},
   "source": [
    "El movimiento de un espín nuclear individual sometido a un campo magnético estático y giratorio es bastante complejo cuando se describe en el sistema de coordenadas habitual del laboratorio (el marco del laboratorio). Sin embargo, se simplifica mucho describiendo el movimiento en un <b>sistema de coordenadas que gira</b> alrededor de $\\hat{z}$ a frecuencia $\\omega_{rf}$ (el <b>rotating frame</b>):\n",
    "\\begin{equation} \\label{ec_Hardware_NMR_psi_rot}\n",
    "\\ket{\\psi}^{rot} = \\exp \\lp -i \\omega_{rf} t S_z/\\hbar \\rp \\ket{\\psi}\n",
    "\\end{equation}\n",
    "Para un solo espín libre, el Hamiltoniano será la suma  {eq}`%s <ec_Hardware_NMR_H_single>` y  {eq}`%s <ec_Hardware_NMR_H_rf>` (con $n=1$), es decir,\n",
    "\\begin{equation} \\label{ec_Hardware_NMR_H_lab_single}\n",
    "\\mathcal{H} = - \\omega_0 S_z - \\omega_1 \\Lc \\cos (\\omega_{rf} t+ \\phi) S_x + \\sin (\\omega_{rf} t + \\phi) S_y \\Rc\n",
    "\\end{equation}\n",
    "Este Hamiltoniano junto con el estado en el sistema de referencia estático cumplen la ecuación de Schrödinger\n",
    "\\begin{equation}\n",
    "i \\hbar \\frac{d \\ket{\\psi}}{dt} = \\mathcal{H} \\ket{\\psi}\n",
    "\\end{equation}\n",
    "Sustituyendo el cambio de variable de la Ec.  {eq}`%s <ec_Hardware_NMR_H_sys_final>` en la ecuación de Schrödinger, podemos calcular como tendría que ser el $\\mathcal{H}^{rot}$ que cumpla\n",
    "\\begin{equation}\n",
    "i \\hbar \\frac{d \\ket{\\psi}^{rot}}{dt} = \\mathcal{H}^{rot} \\ket{\\psi}^{rot}\n",
    "\\end{equation}\n",
    "Puede ver que el resultado es\n",
    "\\begin{equation} \\label{ec_Hardware_NMR_H_rot_single}\n",
    "\\boxed{\\mathcal{H}^{rot} = - (\\omega_0 - \\omega_{rf}) S_z - \\omega_1 \\Lc \\cos (\\phi) S_x + \\sin  (\\phi) S_y \\Rc}\n",
    "\\end{equation}\n"
   ]
  },
  {
   "cell_type": "markdown",
   "id": "080fe82e",
   "metadata": {},
   "source": [
    "Naturalmente, el campo de RF se encuentra a lo largo de un eje fijo en el sistema de referencia que gira a $\\omega_{rf}$. El movimiento del espín visto desde un sistema de referencia o el otro es diferente.\n",
    "\n",
    " \n- En el <b>sistema laboratorio (en reposo)</b>, al aplicar el campo magnético rotante $\\vec{B}_1$ lo que sucede es que <i>el valor esperado del espín rota en espiral, bajando por la esfera</i>, como podemos ver en la Fig.  {numref}`%s <Fig_Harware_NMR_espiral_bloch>`b.\n",
    "    <figure><center>\n",
    "    <img src=\"Figuras/Fig_Harware_NMR_espiral_bloch.png\" alt=\"\" align=center width='550px'/>\n",
    "    <a id='Fig_Harware_NMR_espiral_bloch'></a>\n",
    "    <center>Nutación de un espín sometido a un campo de RF transversal observada en el marco de rotación (a) y observada en el marco de laboratorio (b).</center>\n",
    "    </center></figure>\n\n",
    " \n- En el <b>sistema rotante</b>, tenemos dos casos:\n",
    "\n",
    " \n    - Caso <b>resonante</b> ($\\omega_{rf} = \\omega_0$): en este caso el primer término de la Ec.  {eq}`%s <ec_Hardware_NMR_H_rot_single>` desaparece. En este caso, un observador en el sistema rotante verá el espín simplemente <i>precesar</i> alrededor de $\\vec{B}_1$ (Fig.  {numref}`%s <Fig_Harware_NMR_espiral_bloch>`a), un movimiento llamado nutación. La elección de $\\phi$ controla el eje de nutación.\n",
    " \n    - Caso <b>fuera de resonancia</b>: Si el campo de RF está fuera de resonancia con respecto a la frecuencia de espín en $\\Delta \\omega = \\omega_0 - \\omega_{rf}$, el espín precesa en el marco de rotación alrededor de un eje inclinado con respecto al eje $\\vec{z}$ en un ángulo\n",
    "        \\begin{equation}\n",
    "        \\alpha = \\arctan (\\omega_1 / \\Delta \\omega)\n",
    "        \\end{equation}\n",
    "        como se ilustra en la Fig.  {numref}`%s <Fig_Harware_NMR_nutacion_inclinada>`.\n",
    "        <figure><center>\n",
    "        <img src=\"Figuras/Fig_Harware_NMR_nutacion_inclinada.png\" alt=\"\" align=center width='350px'/>\n",
    "        <a id='Fig_Harware_NMR_nutacion_inclinada'></a>\n",
    "        <center>Eje de rotación (en el marco giratorio) durante un pulso de radiofrecuencia fuera de resonancia.</center>\n",
    "        </center></figure>\n\n",
    "\n",
    "\n"
   ]
  },
  {
   "cell_type": "markdown",
   "id": "080fe82e",
   "metadata": {},
   "source": [
    "En este último caso se deduce que <b>el campo de RF no tiene prácticamente ningún efecto sobre espines que están lejos de la resonancia</b>, ya que $\\alpha$ es muy pequeño cuando $|\\Delta \\omega | \\gg \\omega_1$ (ver Fig.  {numref}`%s <Fig_Harware_NMR_espiral_bloch_2>`). Si todos los espines tienen frecuencias de Larmor bien separadas, en principio podemos <b>rotar selectivamente</b> cualquier qubit sin rotar los otros espines.\n"
   ]
  },
  {
   "cell_type": "markdown",
   "id": "080fe82e",
   "metadata": {},
   "source": [
    "Los pulsos moderadamente fuera de resonancia ($|\\Delta \\omega| \\approx \\omega_1$) hacen girar el espín, pero debido a la inclinación del eje de rotación, un solo pulso de este tipo no puede, por ejemplo, voltear un espín de $|0 \\rangle$ a $|1 \\rangle$ (véase de nuevo la Fig.  {numref}`%s <Fig_Harware_NMR_espiral_bloch_2>`). Por supuesto, los pulsos fuera de resonancia también pueden ser útiles, por ejemplo para la implementación directa de rotaciones sobre un eje fuera del plano $\\hat{x} - \\hat{y}$.\n"
   ]
  },
  {
   "cell_type": "markdown",
   "id": "080fe82e",
   "metadata": {},
   "source": [
    "<figure><center>\n",
    "<img src=\"Figuras/Fig_Harware_NMR_espiral_bloch_2.png\" alt=\"\" align=center width='400px'/>\n",
    "<a id='Fig_Harware_NMR_espiral_bloch_2'></a>\n",
    "<center>Trayectoria en la esfera de Bloch (en el sistema de referencia rotante) descrita por un qubit inicialmente en $\\ket{0}$ (a lo largo de $+\\hat{z}$), después de aplicar un pulso de 250 $\\mu s$ de intensidad $\\omega_1 = 1$ kHz fuera de resonancia en $0$, $0.5$, $1$, $\\dots$ 4 kHz. En resonancia, el pulso produce una rotación $90º$. Lejos de la resonancia, el qubit apenas rota alejándose de $\\ket{0}$.</center>\n",
    "</center></figure>\n\n"
   ]
  },
  {
   "cell_type": "markdown",
   "id": "080fe82e",
   "metadata": {},
   "source": [
    "Por otro lado, podemos elegir trabajar en <b>un sistema de referencia que rote a</b> $\\bm{\\omega_0}$ (en vez de a $\\omega_{rf}$, donde\n",
    "\\begin{equation}\n",
    "\\boxed{\\mathcal{H}^{rot} = - \\omega_1 \\Lc \\cos ((\\omega_{rf} - \\omega_0)t + \\phi) S_x + \\sin ((\\omega_{rf} - \\omega_0)t + \\phi) S_y \\Rc}\n",
    "\\end{equation}\n"
   ]
  },
  {
   "cell_type": "markdown",
   "id": "080fe82e",
   "metadata": {},
   "source": [
    "Esta transformación no da un Hamiltoniano de RF independiente del tiempo (a menos que $\\omega_{rf} = \\omega_0$), como fue el caso para $\\mathcal{H}^{rot}$ en la Ec.  {eq}`%s <ec_Hardware_NMR_H_rot_single>`). Sin embargo, es un punto de partida natural para la extensión al caso de <b>múltiples espines</b>, donde puede introducirse un marco de rotación separado para cada espín:\n",
    "\\begin{equation} \\label{ec_Hardware_NMR_psi_rot_multi}\n",
    "\\ket{\\psi}^{rot} = \\Lc \\prod_i \\exp (-i \\omega_0^i t S^i_z/\\hbar ) \\Rc \\ket{\\psi}\n",
    "\\end{equation}\n",
    "En presencia de múltiples campos de RF indexados con $r$, el Hamiltoniano en este marco de referencia rotante e $\\omega_0$ nos queda\n",
    "\\begin{equation}\n",
    "\\boxed{\\mathcal{H}^{rot} = \\sum_{i,r} - \\omega_1^r \\Lc \\cos ((\\omega_{rf}^r - \\omega_0^i)t + \\phi^r) S_x^i + \\sin ((\\omega_{rf}^r - \\omega_0^i) t +\\phi^r) S_y^i  \\Rc}\n",
    "\\end{equation}\n",
    "donde las amplitudes $\\omega_i^r$ y las fases $\\phi^r$ están bajo control.\n"
   ]
  },
  {
   "cell_type": "markdown",
   "id": "080fe82e",
   "metadata": {},
   "source": [
    "El Hamiltoniano del sistema de la Ec.  {eq}`%s <ec_Hardware_NMR_H_sys_final>` se simplifica en el sistema de referencia multi-rotante de la Ec.  {eq}`%s <ec_Hardware_NMR_psi_rot_multi>`: el termino $S_z^i$ desparece dejando solo el término de acoplamiento $J_{ij} S_z^i S_z^j$, que permanecen invariantes.\n"
   ]
  },
  {
   "cell_type": "markdown",
   "id": "080fe82e",
   "metadata": {},
   "source": [
    "En resumen, en el sistema de referencia multi-rotante, el Hamiltoniano de $NMR$ $\\mathcal{H} = \\mathcal{H}_{sys} + \\mathcal{H}_{control}$ toma la forma\n",
    "\\begin{equation} \\label{ec_Hardware_NMR_H_sys_control_final_multi_rot}\n",
    "\\begin{aligned}\n",
    "& ~~~~ \\boxed{ \\mathcal{H}_{sys} =  \\, \\frac{1}{\\hbar} \\sum_{i<j} 2 \\pi J_{ij} S_z^i S_z^j} \\\\\n",
    "&\\boxed{\\mathcal{H}_{control} =  \\, \\sum_{i,j} - \\omega_1^r \\Lc \\cos ((\\omega_{rf}^r - \\omega_0^i)t +\\phi^r) S_x^i + \\sin ((\\omega_{rf}^r-\\omega_0^i)t +\\phi^r) S^i_y \\Rc}\n",
    "\\end{aligned}\n",
    "\\end{equation}\n"
   ]
  },
  {
   "cell_type": "markdown",
   "id": "8534e04c",
   "metadata": {},
   "source": [
    "<figure><center>\n",
    "<img   src=\"https://quantumspain-project.es/wp-content/uploads/2022/11/Logo_QS_EspanaDigital.png\" align=center  width=\"2000px\"/>\n",
    "</center></figure>\n",
    "\n",
    "<center>\n",
    "<img align=\"left\" src=\"https://quantumspain-project.es/wp-content/uploads/2024/02/Banner-QS_GOB_v2.png\" width=\"1000px\" />\n",
    "</center>"
   ]
  }
 ],
 "metadata": {
  "kernelspec": {
   "display_name": "Python 3 (ipykernel)",
   "language": "python",
   "name": "python3"
  },
  "language_info": {
   "codemirror_mode": {
    "name": "ipython",
    "version": 3
   },
   "file_extension": ".py",
   "mimetype": "text/x-python",
   "name": "python",
   "nbconvert_exporter": "python",
   "pygments_lexer": "ipython3",
   "version": "3.11.7"
  },
  "toc": {
   "base_numbering": 1,
   "nav_menu": {},
   "number_sections": false,
   "sideBar": true,
   "skip_h1_title": true,
   "title_cell": "Table of Contents",
   "title_sidebar": "Contents",
   "toc_cell": false,
   "toc_position": {},
   "toc_section_display": true,
   "toc_window_display": false
  }
 },
 "nbformat": 4,
 "nbformat_minor": 5
}
