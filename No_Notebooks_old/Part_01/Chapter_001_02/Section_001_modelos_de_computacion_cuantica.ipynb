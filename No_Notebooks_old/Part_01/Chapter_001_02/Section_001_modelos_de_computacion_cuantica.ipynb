{
 "cells": [
  {
   "cell_type": "markdown",
   "id": "8ddaeb38",
   "metadata": {},
   "source": [
    "<img src=\"Figuras/Fig_logo_UMA_scbi.png\" align=center  width=\"2000px\"/>\n",
    "\n",
    "\n",
    "<a href=\"https://www.scbi.uma.es/web/es/computacion-cuantica/\">\n",
    "    <button class=\"rounded\" style=\"float: right;\">\n",
    "    <svg xmlns=\"http://www.w3.org/2000/svg\" width=\"32\" height=\"32\" viewBox=\"0 0 24 24\">\n",
    "        <path fill=\"var(--fill, white)\"\n",
    "        d=\"M18.1 15.3c-.1.1-.3.2-.4.3l-2.4.4l1.7 3.6c.2.4 0 .8-.4\n",
    "            1l-2.8 1.3c-.1.1-.2.1-.3.1c-.3 0-.6-.2-.7-.4L11.2\n",
    "            18l-1.9 1.5c-.1.1-.3.2-.5.2c-.4 0-.8-.3-.8-.8V7.5c0-.5.3-.8.8-.8c.2 0\n",
    "            .4.1.5.2l8.7 7.4c.3.2.4.7.1 1M6 12H4V4h16v8h-1.6l2.2 1.9c.8-.3 1.3-1\n",
    "            1.3-1.9V4c0-1.1-.9-2-2-2H4c-1.1 0-2 .9-2 2v8c0 1.1.9 2 2 2h2z\" />\n",
    "    </svg>\n",
    "    Volver a SCBI - Computación Cuantica\n",
    "    </button>\n",
    "</a>\n",
    "\n",
    "$ \\newcommand{\\bra}[1]{\\langle #1|} $\n",
    "$ \\newcommand{\\ket}[1]{|#1\\rangle} $\n",
    "$ \\newcommand{\\branew}[1]{\\langle #1|} $\n",
    "$ \\newcommand{\\ketnew}[1]{\\langle #1|} $\n",
    "$ \\newcommand{\\braket}[2]{\\langle #1|#2\\rangle} $\n",
    "$ \\newcommand{\\ketbra}[2]{| #1\\rangle \\langle #2 |} $\n",
    "$ \\newcommand{\\i}{{\\color{blue} i}} $ \n",
    "$ \\newcommand{\\Hil}{{\\cal H}} $\n",
    "$ \\newcommand{\\cg}[1]{{\\rm C}#1} $\n",
    "$ \\newcommand{\\lp}{\\left(} $\n",
    "$ \\newcommand{\\rp}{\\right)} $\n",
    "$ \\newcommand{\\lc}{\\left[} $\n",
    "$ \\newcommand{\\rc}{\\right]} $\n",
    "$ \\newcommand{\\lch}{\\left\\{} $\n",
    "$ \\newcommand{\\rch}{\\right\\}} $\n",
    "$ \\newcommand{\\Lp}{\\Bigl(} $\n",
    "$ \\newcommand{\\Rp}{\\Bigr)} $\n",
    "$ \\newcommand{\\Lc}{\\Bigl[} $\n",
    "$ \\newcommand{\\Rc}{\\Bigr]} $\n",
    "$ \\newcommand{\\Lch}{\\Bigl\\{} $\n",
    "$ \\newcommand{\\Rch}{\\Bigr\\}} $\n",
    "$ \\newcommand{\\rqa}{\\quad \\Rightarrow \\quad} $\n",
    "$ \\newcommand{\\bm}{\\boldsymbol}$"
   ]
  },
  {
   "cell_type": "markdown",
   "id": "080fe82e",
   "metadata": {},
   "source": [
    "# Modelos de Computación Cuántica\n"
   ]
  },
  {
   "cell_type": "markdown",
   "id": "080fe82e",
   "metadata": {},
   "source": [
    "Independientemente del hardware que haya debajo, los ordenadores cuánticos pueden clasificarse en tres categorías:\n",
    "\n",
    " \n- Ordenadores Cuánticos <b>Fault Tolerant</b>: Estos ordenadores presentan dos capas de abstracción: corrección de errores + puertas. El nombre \"Fault Tolerant\" se refiere a que son ordenadores resistentes a errores. Son el objetivo a conseguir.\n",
    " \n- Ordenadores Cuánticos <b>NISQ</b>: Estos ordenadores presentan una capa de abstracción: puertas. \"NISQ\" son las iniciales de Noisy Intermediate Scale Quantum, que se refiere a que son ordenadores con errores (ruido), lo que limita su aplicación. Son los ordenadores de puertas que tenemos actualmente.\n",
    " \n- Ordenadores Cuánticos <b>analógicos</b>: Estos ordenadores no presentan ninguna capa de abstracción: se hace evolucionar un sistema cuántico real. Son los ordenadores de <b>Anneling</b>.\n",
    "\n"
   ]
  },
  {
   "cell_type": "markdown",
   "id": "080fe82e",
   "metadata": {},
   "source": [
    "## Computación Cuántica Analógica\n"
   ]
  },
  {
   "cell_type": "markdown",
   "id": "080fe82e",
   "metadata": {},
   "source": [
    "Los ordenadores cuánticos analógicos son los que se usan en Quantum Anneling.\n"
   ]
  },
  {
   "cell_type": "markdown",
   "id": "080fe82e",
   "metadata": {},
   "source": [
    "\n",
    " \n- <b>¿Qué hacen?</b>: Aplicar parámetros de control para hacer evolucionar en el tiempo un sistema cuántico del mundo real.\n",
    " \n- <b>Casos de uso</b>: Simulación cuántica (abierta y cerrada), Optimización.\n",
    " \n- <b>Argumentos a favor</b>: Uso muy eficiente de los recursos de hardware cuántico. Muy rápidos (sin capas de abstracción)\n",
    " \n- <b>Argumentos en contra</b>: Alta especialización para aplicaciones especificas. El ruido del hardware puede ser limitante\n",
    "\n"
   ]
  },
  {
   "cell_type": "markdown",
   "id": "080fe82e",
   "metadata": {},
   "source": [
    "## Computación basada en puertas NISQ\n"
   ]
  },
  {
   "cell_type": "markdown",
   "id": "080fe82e",
   "metadata": {},
   "source": [
    "Los ordenadores basados en puertas NISQ (Noisy Intermediate Scale Quantum) son los ordenadores basados en puertas que tenemos a día de hoy. En estos, hay que lidiar con el <b>ruido</b> y con tiempos de coherencia relativamente pequeños. Esto limita en gran medida el uso que se le puede dar a estos ordenadores, con lo que los estudios se centran en dos cosas: en el desarrollo de ordenadores Fault-Tolerant y en ver que problemas se pueden resolver a pesar de los problemas de estos ordenadores. Por ejemplo, los algoritmos cuánticos variacionales se pensaron para poder sacar partido a estos ordenadores.\n"
   ]
  },
  {
   "cell_type": "markdown",
   "id": "080fe82e",
   "metadata": {},
   "source": [
    "\n",
    " \n- <b>¿Qué hacen?</b>: Aplicar puertas cuánticas imperfectas para implementar una computación cuántica universal ruidosa. (Nota: suelen incluir puertas de rotación arbitraria.)\n",
    " \n- <b>Casos de uso</b>: Simulación cuántica (cerrada), algoritmos cuánticos variacionales, machine learning cuántico\n",
    " \n- <b>Argumentos a favor</b>: Son flexibles (muchos tipos de implementaciones) y rápidos (una capa de abstracción: las puertas).\n",
    " \n- <b>Argumentos en contra</b>: El ruido es limitante y no se tiene claro como extender el tiempo de coherencia de los qubits.\n",
    "\n"
   ]
  },
  {
   "cell_type": "markdown",
   "id": "080fe82e",
   "metadata": {},
   "source": [
    "## Computación basada en puertas Fault-Tolerant\n"
   ]
  },
  {
   "cell_type": "markdown",
   "id": "080fe82e",
   "metadata": {},
   "source": [
    "Los ordenadores basados en puertas tolerantes a fallos (Fault-Tolerant) son el objetivo a conseguir. Serían ordenadores universales en los que se podrían ejecutar circuitos cuánticos con toda la profundidad que se quiera.\n"
   ]
  },
  {
   "cell_type": "markdown",
   "id": "080fe82e",
   "metadata": {},
   "source": [
    "\n",
    " \n- <b>¿Qué hacen?</b>: Aplicar puertas cuánticas con corrección de errores para implementar una computación cuántica universal perfecta. (Nota: un conjunto de puertas restrictivo (por ejemplo, Clifford+T)).\n",
    " \n- <b>Casos de uso</b>: Simulación cuántica (alta precisión), Factorización, Sistemas lineales, Sistemas no lineales.\n",
    " \n- <b>Argumentos a favor</b>: Algoritmos fiables con pruebas. La Corrección Cuántica de Errores (QEC) permite ir más allá del límite del tiempo de coherencia de los qubits.\n",
    " \n- <b>Argumentos en contra</b>: Requieren <b>muchos</b> qubits físicos. Los algoritmos requieren muchas puertas (>$10^6$). Lento, los gastos generales de QEC llevan tiempo (2 capas de abstracción).\n",
    "\n"
   ]
  },
  {
   "cell_type": "markdown",
   "id": "080fe82e",
   "metadata": {},
   "source": [
    "## Tres tipos de ordenadores cuánticos comerciales\n"
   ]
  },
  {
   "cell_type": "markdown",
   "id": "080fe82e",
   "metadata": {},
   "source": [
    "En la Fig.  {numref}`%s <Fig_Hardware_ordenadores_comerciales>` podemos ver las apuestas de diferentes empresas para el desarrollo de ordenadores cuánticos de diferentes tecnologías.\n"
   ]
  },
  {
   "cell_type": "markdown",
   "id": "080fe82e",
   "metadata": {},
   "source": [
    "<figure><center>\n",
    "<img src=\"Figuras/Fig_Hardware_ordenadores_comerciales.png\" alt=\"\" align=center width='1000px'/>\n",
    "<a id='Fig_Hardware_ordenadores_comerciales'></a>\n",
    "<center>Ordenadores cuánticos comerciales</center>\n",
    "</center></figure>\n\n"
   ]
  },
  {
   "cell_type": "markdown",
   "id": "8534e04c",
   "metadata": {},
   "source": [
    "<figure><center>\n",
    "<img   src=\"https://quantumspain-project.es/wp-content/uploads/2022/11/Logo_QS_EspanaDigital.png\" align=center  width=\"2000px\"/>\n",
    "</center></figure>\n",
    "\n",
    "<center>\n",
    "<img align=\"left\" src=\"https://quantumspain-project.es/wp-content/uploads/2024/02/Banner-QS_GOB_v2.png\" width=\"1000px\" />\n",
    "</center>"
   ]
  }
 ],
 "metadata": {
  "kernelspec": {
   "display_name": "Python 3 (ipykernel)",
   "language": "python",
   "name": "python3"
  },
  "language_info": {
   "codemirror_mode": {
    "name": "ipython",
    "version": 3
   },
   "file_extension": ".py",
   "mimetype": "text/x-python",
   "name": "python",
   "nbconvert_exporter": "python",
   "pygments_lexer": "ipython3",
   "version": "3.11.7"
  },
  "toc": {
   "base_numbering": 1,
   "nav_menu": {},
   "number_sections": false,
   "sideBar": true,
   "skip_h1_title": true,
   "title_cell": "Table of Contents",
   "title_sidebar": "Contents",
   "toc_cell": false,
   "toc_position": {},
   "toc_section_display": true,
   "toc_window_display": false
  }
 },
 "nbformat": 4,
 "nbformat_minor": 5
}
