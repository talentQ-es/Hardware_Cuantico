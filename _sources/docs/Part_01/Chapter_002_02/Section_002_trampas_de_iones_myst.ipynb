{
 "cells": [
  {
   "cell_type": "markdown",
   "id": "8ddaeb38",
   "metadata": {},
   "source": [
    "> {sub-ref}`today` | {sub-ref}`wordcount-minutes` min read\n",
    "\n",
    "$ \\newcommand{\\bra}[1]{\\langle #1|} $\n",
    "$ \\newcommand{\\ket}[1]{|#1\\rangle} $\n",
    "$ \\newcommand{\\branew}[1]{\\langle #1|} $\n",
    "$ \\newcommand{\\ketnew}[1]{\\langle #1|} $\n",
    "$ \\newcommand{\\braket}[2]{\\langle #1|#2\\rangle} $\n",
    "$ \\newcommand{\\ketbra}[2]{| #1\\rangle \\langle #2 |} $\n",
    "$ \\newcommand{\\i}{{\\color{blue} i}} $ \n",
    "$ \\newcommand{\\Hil}{{\\cal H}} $\n",
    "$ \\newcommand{\\cg}[1]{{\\rm C}#1} $\n",
    "$ \\newcommand{\\lp}{\\left(} $\n",
    "$ \\newcommand{\\rp}{\\right)} $\n",
    "$ \\newcommand{\\lc}{\\left[} $\n",
    "$ \\newcommand{\\rc}{\\right]} $\n",
    "$ \\newcommand{\\lch}{\\left\\{} $\n",
    "$ \\newcommand{\\rch}{\\right\\}} $\n",
    "$ \\newcommand{\\Lp}{\\Bigl(} $\n",
    "$ \\newcommand{\\Rp}{\\Bigr)} $\n",
    "$ \\newcommand{\\Lc}{\\Bigl[} $\n",
    "$ \\newcommand{\\Rc}{\\Bigr]} $\n",
    "$ \\newcommand{\\Lch}{\\Bigl\\{} $\n",
    "$ \\newcommand{\\Rch}{\\Bigr\\}} $\n",
    "$ \\newcommand{\\rqa}{\\quad \\Rightarrow \\quad} $\n",
    "$ \\newcommand{\\bm}{\\boldsymbol}$"
   ]
  },
  {
   "cell_type": "markdown",
   "id": "080fe82e",
   "metadata": {},
   "source": [
    "# Trampas de iones\n"
   ]
  },
  {
   "cell_type": "markdown",
   "id": "080fe82e",
   "metadata": {},
   "source": [
    "Un ion fotoionizado recién nacido tiene típicamente una energía de $\\sim$1 keV, lo que corresponde a una velocidad de $\\sim$1 m s${}^{-1}$ para un ion como el 40Ca${}^+$. A tales energías, el ion puede considerarse un sistema clásico desde el punto de vista del movimiento. Por tanto, para construir un sistema completamente cuántico necesitamos restringir su movimiento tanto en el espacio (atraparlo) como en velocidad (enfriarlo).\n"
   ]
  },
  {
   "cell_type": "markdown",
   "id": "080fe82e",
   "metadata": {},
   "source": [
    "Una <b>trampa de iones</b> es un dispositivo cuya finalidad es mantener los iones confinados en una estrecha región del espacio. Una condición necesaria para que esto ocurra es que el ion sienta un <b>mínimo</b> de la energía potencial $V(x)$ (el centro de la trampa) en algún punto dentro de la región de atrapamiento.\n"
   ]
  },
  {
   "cell_type": "markdown",
   "id": "080fe82e",
   "metadata": {},
   "source": [
    "::::::{admonition} Nota (Energía potencial) \n",
    ":class: note\n",
    "\n",
    "\n",
    "\n",
    "Una buena forma de explicar los mínimos de la energía potencial es usando la energía potencial gravitatoria, es decir, la generada por la fuerza de la gravedad.\n",
    "\n",
    "En el caso de la energía potencial gravitatoria, esta crece a medida que nos alejamos del centro de la Tierra. Es decir, una pelota en lo alto de un edificio tiene <b>más</b> energía potencial gravitatoria que a la altura de la calle. Por ese motivo, si soltamos la pelota desde lo alto, esta caerá  (hacía la zona con menos energía potencial). A medida que vaya cayendo, la pelota <b>perderá</b> energía potencial y <b>ganará</b> energía cinética (velocidad), conservándose la cantidad total de energía.\n",
    "\n",
    "El resumen es que, cuando tenemos una fuerza central (como la gravitatoria o la eléctrica) esta trae consigo un potencial. Los objetos que sienten estas fuerzas se mueven hacia zonas de menos potencial.\n",
    "::::::\n"
   ]
  },
  {
   "cell_type": "markdown",
   "id": "080fe82e",
   "metadata": {},
   "source": [
    "Aprovechando la naturaleza cargada de los iones, se puede crear un potencial de atrapamiento utilizando una combinación adecuada de potenciales eléctricos y/o magnéticos. Existen dos paradigmas para el diseño de dicho potencial de atrapamiento:\n"
   ]
  },
  {
   "cell_type": "markdown",
   "id": "080fe82e",
   "metadata": {},
   "source": [
    "\n",
    " \n- La trampa de Penning, en la que se utilizan potenciales eléctricos y magnéticos <b>estáticos</b>.\n",
    " \n- La trampa de Paul, en la que se utilizan campos eléctricos <b>estáticos y oscilantes</b>.\n",
    "\n"
   ]
  },
  {
   "cell_type": "markdown",
   "id": "080fe82e",
   "metadata": {},
   "source": [
    "Aunque ambos son en principio adecuados para aplicaciones de computación cuántica, la trampa de Paul es actualmente el método más utilizado en entornos académicos e industriales.\n"
   ]
  },
  {
   "cell_type": "markdown",
   "id": "080fe82e",
   "metadata": {},
   "source": [
    "Suficientemente cerca del centro de la trampa (del mínimo del potencial), cualquier potencial puede aproximarse bien mediante una función cuadrática de las coordenadas, es decir, un ion atrapado se comportará como un oscilador armónico simple (SHO) en tres dimensiones.\n"
   ]
  },
  {
   "cell_type": "markdown",
   "id": "080fe82e",
   "metadata": {},
   "source": [
    "Los sistemas de captura más utilizados en aplicaciones de computación cuántica son las <b>trampas lineales</b>: la fuerza de captura en dos de las tres dimensiones es mucho mayor que la de la tercera (por ejemplo, una trampa Paul muy fuerte en las direcciones $x$ e $y$ y un par de electrodos relativamente más débiles en la dirección $z$, como en la Fig.  {numref}`%s <Fig_ions_linear_trap>`), por lo que el único movimiento relevante será un <b>movimiento armónico simple</b> en (digamos) la dirección $\\hat{z}$, caracterizado por una frecuencia $\\omega_z$ y por la masa $M$ del ion.\n"
   ]
  },
  {
   "cell_type": "markdown",
   "id": "080fe82e",
   "metadata": {},
   "source": [
    "::::{figure} Figuras/Fig_ions_linear_trap.png\n",
    ":width: 600px\n",
    ":align: center\n",
    ":name: Fig_ions_linear_trap\n",
    "Iones fuertemente atrapados por una trampa Paul en el plano $xy$, y a los que sólo se permite moverse en la dirección $z$. Un par de electrodos impiden que los iones se repelan fuera de la trampa. Fuente {cite}`bib_ions_main`.\n",
    "::::\n"
   ]
  },
  {
   "cell_type": "markdown",
   "id": "080fe82e",
   "metadata": {},
   "source": [
    "Para que la aproximación armónica se mantenga, el ion no debe alejarse apreciablemente del centro de la trampa. Si esto ocurre, ya no podemos garantizar que las fuerzas que actúan sobre el ion se dirijan hacia el centro de la trampa, y en algún momento podríamos incluso hallarlo fuera de la trampa.\n"
   ]
  },
  {
   "cell_type": "markdown",
   "id": "080fe82e",
   "metadata": {},
   "source": [
    "Por la razón anterior, es importante que el ion se mueva lentamente, por lo que queremos disminuir su energía cinética. Con un ligero abuso del lenguaje llamamos a esta etapa \"enfriamiento\" asociando una temperatura a la energía cinética, aunque el ion no esté en equilibrio térmico. En la sección  {numref}`%s <sec_ions_laser_cooling>` describiremos dos ejemplos de enfriamiento por láser, válidos en los regímenes clásico y cuántico, respectivamente. Utilizando láseres convenientemente sintonizados, es posible impartir una fuerza de amortiguación efectiva sobre los iones, que los ralentiza.\n"
   ]
  },
  {
   "cell_type": "markdown",
   "id": "080fe82e",
   "metadata": {},
   "source": [
    "Por último, las colisiones con otras partículas también son perjudiciales para el procedimiento de atrapamiento, ya que pueden inducir cambios bruscos en la energía cinética, lo que puede provocar el escape de iones de la trampa. Para minimizar tales interacciones, se crea un <b>vacío ultraalto</b> a presiones de unos $10^{-11}$ Torr ($\\sim 1,3 \\times 10^{-9}$ Pa) en la región donde se colocará la trampa.\n"
   ]
  },
  {
   "cell_type": "markdown",
   "id": "8534e04c",
   "metadata": {},
   "source": [
    "::::{figure} https://quantumspain-project.es/wp-content/uploads/2022/11/Logo_QS_EspanaDigital.png\n",
    ":width: 2000px\n",
    ":align: center\n",
    "::::\n",
    "\n",
    "<center>\n",
    "<img align=\"left\" src=\"https://quantumspain-project.es/wp-content/uploads/2024/02/Banner-QS_GOB_v2.png\" width=\"1000px\" />\n",
    "</center>"
   ]
  }
 ],
 "metadata": {
  "kernelspec": {
   "display_name": "Python 3 (ipykernel)",
   "language": "python",
   "name": "python3"
  },
  "language_info": {
   "codemirror_mode": {
    "name": "ipython",
    "version": 3
   },
   "file_extension": ".py",
   "mimetype": "text/x-python",
   "name": "python",
   "nbconvert_exporter": "python",
   "pygments_lexer": "ipython3",
   "version": "3.11.7"
  },
  "toc": {
   "base_numbering": 1,
   "nav_menu": {},
   "number_sections": false,
   "sideBar": true,
   "skip_h1_title": true,
   "title_cell": "Table of Contents",
   "title_sidebar": "Contents",
   "toc_cell": false,
   "toc_position": {},
   "toc_section_display": true,
   "toc_window_display": false
  }
 },
 "nbformat": 4,
 "nbformat_minor": 5
}
