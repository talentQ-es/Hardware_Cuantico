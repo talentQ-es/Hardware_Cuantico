{
 "cells": [
  {
   "cell_type": "markdown",
   "id": "8ddaeb38",
   "metadata": {},
   "source": [
    "> {sub-ref}`today` | {sub-ref}`wordcount-minutes` min read\n",
    "\n",
    "$ \\newcommand{\\bra}[1]{\\langle #1|} $\n",
    "$ \\newcommand{\\ket}[1]{|#1\\rangle} $\n",
    "$ \\newcommand{\\branew}[1]{\\langle #1|} $\n",
    "$ \\newcommand{\\ketnew}[1]{\\langle #1|} $\n",
    "$ \\newcommand{\\braket}[2]{\\langle #1|#2\\rangle} $\n",
    "$ \\newcommand{\\ketbra}[2]{| #1\\rangle \\langle #2 |} $\n",
    "$ \\newcommand{\\i}{{\\color{blue} i}} $ \n",
    "$ \\newcommand{\\Hil}{{\\cal H}} $\n",
    "$ \\newcommand{\\cg}[1]{{\\rm C}#1} $\n",
    "$ \\newcommand{\\lp}{\\left(} $\n",
    "$ \\newcommand{\\rp}{\\right)} $\n",
    "$ \\newcommand{\\lc}{\\left[} $\n",
    "$ \\newcommand{\\rc}{\\right]} $\n",
    "$ \\newcommand{\\lch}{\\left\\{} $\n",
    "$ \\newcommand{\\rch}{\\right\\}} $\n",
    "$ \\newcommand{\\Lp}{\\Bigl(} $\n",
    "$ \\newcommand{\\Rp}{\\Bigr)} $\n",
    "$ \\newcommand{\\Lc}{\\Bigl[} $\n",
    "$ \\newcommand{\\Rc}{\\Bigr]} $\n",
    "$ \\newcommand{\\Lch}{\\Bigl\\{} $\n",
    "$ \\newcommand{\\Rch}{\\Bigr\\}} $\n",
    "$ \\newcommand{\\rqa}{\\quad \\Rightarrow \\quad} $\n",
    "$ \\newcommand{\\bm}{\\boldsymbol}$"
   ]
  },
  {
   "cell_type": "markdown",
   "id": "080fe82e",
   "metadata": {},
   "source": [
    "# Conclusiones: pros y contras\n"
   ]
  },
  {
   "cell_type": "markdown",
   "id": "080fe82e",
   "metadata": {},
   "source": [
    "A lo largo del capítulo, hemos demostrado que los sistemas de iones atrapados cumplen satisfactoriamente los criterios de DiVincenzo (seccioón  {numref}`%s <sec_criterio_divicenzo>`) para su uso como plataforma para la computación cuántica. En resumen,\n",
    "\n",
    " \n-  Criterios 1(a) y 2: Los qubits de iones atrapados son robustos y pueden inicializarse con gran precisión.\n",
    " \n- Criterio 3: Los iones tienen una elevada relación entre el tiempo de coherencia ($\\sim 10^1$ s) y el tiempo de puerta ($\\sim 10^{-6}$ s), lo que da tiempo suficiente para realizar cálculos en el sistema antes de que aparezcan los efectos de la decoherencia.\n",
    " \n- Criterios 4 y 5: Es posible implementar un conjunto universal de puertas y leer iones individuales mediante pulsos láser cuidadosamente ajustados.\n",
    "\n"
   ]
  },
  {
   "cell_type": "markdown",
   "id": "080fe82e",
   "metadata": {},
   "source": [
    "Además, los iones atrapados pueden entrelazarse fácilmente a pesar de estar físicamente muy alejados, gracias a su manipulación mediante pulsos láser. Se trata de una ventaja significativa con respecto a los qubits superconductores, que convierte a los iones atrapados en una plataforma idónea para simular interacciones de largo alcance, habituales en la física cuántica de muchos cuerpos y en la física de altas energías.\n"
   ]
  },
  {
   "cell_type": "markdown",
   "id": "080fe82e",
   "metadata": {},
   "source": [
    "Sin embargo, la escalabilidad (Criterio 1b) a cientos o miles de qubits sigue siendo un reto importante para los iones atrapados. Muchos de los criterios de DiVincenzo se rompen cuando la cadena de iones contiene varios iones. Hay dos dificultades principales:\n",
    "\n",
    " \n- Tiempo de coherencia: Las cadenas de iones más grandes tienen tiempos de coherencia más cortos, y los efectos de la decoherencia son mucho más significativos en cadenas con longitudes de 100 iones o más.\n",
    " \n- Lectura: A medida que la cadena se hace más larga, se hace más difícil leer los iones individuales con alta precisión porque la precisión requerida para que los parámetros del pulso láser midan los iones individuales excede las capacidades tecnológicas actuales.\n",
    "\n"
   ]
  },
  {
   "cell_type": "markdown",
   "id": "080fe82e",
   "metadata": {},
   "source": [
    "Aparte de los problemas de escalabilidad, el tiempo de puerta absoluto de los iones atrapados es mayor ($\\sim 10^{-6}$ s) que el de los qubits superconductores ($\\sim 10^{-9}$ s). Por tanto, realizar el mismo cálculo en una plataforma de iones atrapados llevaría mucho más tiempo y supondría un reto para lograr la ventaja cuántica.\n"
   ]
  },
  {
   "cell_type": "markdown",
   "id": "8534e04c",
   "metadata": {},
   "source": [
    "::::{figure} https://quantumspain-project.es/wp-content/uploads/2022/11/Logo_QS_EspanaDigital.png\n",
    ":width: 2000px\n",
    ":align: center\n",
    "::::\n",
    "\n",
    "<center>\n",
    "<img align=\"left\" src=\"https://quantumspain-project.es/wp-content/uploads/2024/02/Banner-QS_GOB_v2.png\" width=\"1000px\" />\n",
    "</center>"
   ]
  }
 ],
 "metadata": {
  "kernelspec": {
   "display_name": "Python 3 (ipykernel)",
   "language": "python",
   "name": "python3"
  },
  "language_info": {
   "codemirror_mode": {
    "name": "ipython",
    "version": 3
   },
   "file_extension": ".py",
   "mimetype": "text/x-python",
   "name": "python",
   "nbconvert_exporter": "python",
   "pygments_lexer": "ipython3",
   "version": "3.11.7"
  },
  "toc": {
   "base_numbering": 1,
   "nav_menu": {},
   "number_sections": false,
   "sideBar": true,
   "skip_h1_title": true,
   "title_cell": "Table of Contents",
   "title_sidebar": "Contents",
   "toc_cell": false,
   "toc_position": {},
   "toc_section_display": true,
   "toc_window_display": false
  }
 },
 "nbformat": 4,
 "nbformat_minor": 5
}
