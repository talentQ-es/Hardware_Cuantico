{
 "cells": [
  {
   "cell_type": "markdown",
   "id": "8ddaeb38",
   "metadata": {},
   "source": [
    "> {sub-ref}`today` | {sub-ref}`wordcount-minutes` min read\n",
    "\n",
    "<img src=\"Figuras/Fig_logo_UMA_scbi.png\" align=center  width=\"2000px\"/>\n",
    "\n",
    "\n",
    "<a href=\"https://www.scbi.uma.es/web/es/computacion-cuantica/\">\n",
    "    <button class=\"rounded\" style=\"float: right;\">\n",
    "    <svg xmlns=\"http://www.w3.org/2000/svg\" width=\"32\" height=\"32\" viewBox=\"0 0 24 24\">\n",
    "        <path fill=\"var(--fill, white)\"\n",
    "        d=\"M18.1 15.3c-.1.1-.3.2-.4.3l-2.4.4l1.7 3.6c.2.4 0 .8-.4\n",
    "            1l-2.8 1.3c-.1.1-.2.1-.3.1c-.3 0-.6-.2-.7-.4L11.2\n",
    "            18l-1.9 1.5c-.1.1-.3.2-.5.2c-.4 0-.8-.3-.8-.8V7.5c0-.5.3-.8.8-.8c.2 0\n",
    "            .4.1.5.2l8.7 7.4c.3.2.4.7.1 1M6 12H4V4h16v8h-1.6l2.2 1.9c.8-.3 1.3-1\n",
    "            1.3-1.9V4c0-1.1-.9-2-2-2H4c-1.1 0-2 .9-2 2v8c0 1.1.9 2 2 2h2z\" />\n",
    "    </svg>\n",
    "    Volver a SCBI - Computación Cuantica\n",
    "    </button>\n",
    "</a>\n",
    "\n",
    "$ \\newcommand{\\bra}[1]{\\langle #1|} $\n",
    "$ \\newcommand{\\ket}[1]{|#1\\rangle} $\n",
    "$ \\newcommand{\\branew}[1]{\\langle #1|} $\n",
    "$ \\newcommand{\\ketnew}[1]{\\langle #1|} $\n",
    "$ \\newcommand{\\braket}[2]{\\langle #1|#2\\rangle} $\n",
    "$ \\newcommand{\\ketbra}[2]{| #1\\rangle \\langle #2 |} $\n",
    "$ \\newcommand{\\i}{{\\color{blue} i}} $ \n",
    "$ \\newcommand{\\Hil}{{\\cal H}} $\n",
    "$ \\newcommand{\\cg}[1]{{\\rm C}#1} $\n",
    "$ \\newcommand{\\lp}{\\left(} $\n",
    "$ \\newcommand{\\rp}{\\right)} $\n",
    "$ \\newcommand{\\lc}{\\left[} $\n",
    "$ \\newcommand{\\rc}{\\right]} $\n",
    "$ \\newcommand{\\lch}{\\left\\{} $\n",
    "$ \\newcommand{\\rch}{\\right\\}} $\n",
    "$ \\newcommand{\\Lp}{\\Bigl(} $\n",
    "$ \\newcommand{\\Rp}{\\Bigr)} $\n",
    "$ \\newcommand{\\Lc}{\\Bigl[} $\n",
    "$ \\newcommand{\\Rc}{\\Bigr]} $\n",
    "$ \\newcommand{\\Lch}{\\Bigl\\{} $\n",
    "$ \\newcommand{\\Rch}{\\Bigr\\}} $\n",
    "$ \\newcommand{\\rqa}{\\quad \\Rightarrow \\quad} $\n",
    "$ \\newcommand{\\bm}{\\boldsymbol}$"
   ]
  },
  {
   "cell_type": "markdown",
   "id": "080fe82e",
   "metadata": {},
   "source": [
    "\n",
    "(sec_ions_multiqubit)= \n",
    "# Puertas multiqubit con iones \n"
   ]
  },
  {
   "cell_type": "markdown",
   "id": "080fe82e",
   "metadata": {},
   "source": [
    "Hemos demostrado que se puede preparar con precisión un sistema de iones atrapados en un estado fiduciario. Se ha demostrado experimentalmente que un sistema de este tipo es escalable hasta unos cien iones, puede manipularse utilizando la interacción láser-ión y el estado final puede leerse de forma efectiva. También hemos demostrado que se puede aplicar cualquier puerta de 1 qubit al estado inicial utilizando un pulso láser con una fase, duración y frecuencia concreta usando la <i>carrier resonance</i>.\n"
   ]
  },
  {
   "cell_type": "markdown",
   "id": "080fe82e",
   "metadata": {},
   "source": [
    "Sin embargo, queda por ver si se puede aplicar alguna puerta de múltiples qubits al sistema. Como ya se discutió, cualquier puerta de múltiples qubits puede obtenerse utilizando puertas de 1 qubit y la puerta CNOT de 2 qubits. En esta sección, discutiremos el proceso de implementación de la puerta CNOT. Demostraremos que una puerta CNOT puede construirse utilizando puertas Hadamard y Z controladas.\n"
   ]
  },
  {
   "cell_type": "markdown",
   "id": "080fe82e",
   "metadata": {},
   "source": [
    "Al igual que antes, definimos $\\ket{g,0} \\equiv \\ket{0}$ y $\\ket{e,0} \\equiv \\ket{1}$ como la base computacional.  Aunque tanto el estado atómico como los estados vibracionales pueden utilizarse como qubits separados, normalmente los qubits vibracionales sólo se consideran qubits auxiliares (para cálculo intermedio) y no como qubits medibles porque son difíciles para medir.\n"
   ]
  },
  {
   "cell_type": "markdown",
   "id": "080fe82e",
   "metadata": {},
   "source": [
    "## Puerta de Hadammard\n"
   ]
  },
  {
   "cell_type": "markdown",
   "id": "080fe82e",
   "metadata": {},
   "source": [
    "La puerta de Hadammard (ver Ec.  {eq}`%s <ec_puertas_simples_H>`) puede construirse (salvo una fase global) aplicando dos veces la <i>carrier transition</i> (Fig.  {numref}`%s <Fig_ions_U_carrier>`)\n",
    "```{math}\n",
    ":label: ec_ions_H \n",
    "\\begin{equation} \n",
    "H = \\mathcal{U}_I^{(\\text{c})}(\\beta = \\pi, \\phi = \\pi) \\mathcal{U}_I^{(\\text{c})}(\\beta = \\pi/2, \\phi = -\\pi/2) \\, .\n",
    "\\end{equation} \n",
    "```\n"
   ]
  },
  {
   "cell_type": "markdown",
   "id": "080fe82e",
   "metadata": {},
   "source": [
    "::::::{admonition} Ejercicio\n",
    ":class: tip\n",
    "\n",
    "\n",
    "Demuestra el resultado de la Ec.  {eq}`%s <ec_ions_H>`. Para ello, recuerda como la <i>carrier transition</i> solo afecta a los estados  $\\ket{g,0} \\equiv \\ket{0}$ y $\\ket{e,0} \\equiv \\ket{1}$, la matriz $4\\times4$ de la Fig.  {numref}`%s <Fig_ions_U_carrier>` puede escribirse como una matriz $2\\times2$ tomando como base $\\{\\ket{g,0},\\ket{e,0}\\}$.\n",
    "::::::\n",
    "\n\n"
   ]
  },
  {
   "cell_type": "markdown",
   "id": "080fe82e",
   "metadata": {},
   "source": [
    "## Puerta controlada $Z$\n"
   ]
  },
  {
   "cell_type": "markdown",
   "id": "080fe82e",
   "metadata": {},
   "source": [
    "La puerta controlada-Z (CZ) es una puerta de dos qubits. Su acción puede describirse como:\n",
    "\n",
    " \n- No hace nada al qubit objetivo si el qubit de control es $\\ket{0}$\n",
    " \n- Aplica una puerta $Z$ en el qubit objetivo si el qubit de control es $\\ket{1}$.\n",
    "\n"
   ]
  },
  {
   "cell_type": "markdown",
   "id": "080fe82e",
   "metadata": {},
   "source": [
    "Como CZ es una puerta de dos qubits, necesitamos dos etiquetas para los grados de libertad atómicos de los dos iones. La base del espacio de Hilbert de dos qubits es ahora\n",
    "\\begin{equation*}\n",
    "\\{\\ket{gg}, \\ket{ge}, \\ket{eg}, \\ket{ee} \\}\\, ,\n",
    "\\end{equation*}\n",
    "(todos con $n=0$) donde la primera etiqueta indica el <b>qubit de control</b> y la segunda etiqueta indica el <b>qubit de objetivo</b>. En notación matricial, la puerta CZ puede expresarse como\n"
   ]
  },
  {
   "cell_type": "markdown",
   "id": "080fe82e",
   "metadata": {},
   "source": [
    "\n",
    "\n",
    "\n",
    "\n",
    "\n",
    "::::{figure} Figuras/Fig_ions_CZ_matrix.png\n",
    ":width: 1000px\n",
    ":align: center\n",
    ":name: Fig_ions_CZ_matrix\n",
    "Puerta CZ\n",
    "::::\n"
   ]
  },
  {
   "cell_type": "markdown",
   "id": "080fe82e",
   "metadata": {},
   "source": [
    "Para implementar la puerta CZ necesitamos construir otras dos puertas de un ión que se describen a continuación.\n"
   ]
  },
  {
   "cell_type": "markdown",
   "id": "080fe82e",
   "metadata": {},
   "source": [
    "### Puerta de SWAP entre estados atómicos y vibracionales ($\\text{SWAP}_{av}$)\n"
   ]
  },
  {
   "cell_type": "markdown",
   "id": "080fe82e",
   "metadata": {},
   "source": [
    "En este caso, consideramos tanto el estado atómico como el vibracional de un ion. La base de este espacio es\n",
    "\\begin{equation}\n",
    "\\lch \\ket{g,0}, \\ket{g,1}, \\ket{e,0}, \\ket{e,1} \\rch.\n",
    "\\end{equation}\n",
    "La acción de la puerta $\\text{SWAP}_{av}$ se representa mediante la matriz\n",
    "\n",
    "\n",
    "\n",
    "\n",
    "\n",
    "::::{figure} Figuras/Fig_ions_SWAPav_matrix.png\n",
    ":width: 1000px\n",
    ":align: center\n",
    ":name: Fig_ions_SWAPav_matrix\n",
    "Puerta SWAP${}_\\text{av}$\n",
    "::::\n"
   ]
  },
  {
   "cell_type": "markdown",
   "id": "080fe82e",
   "metadata": {},
   "source": [
    "con las únicas transiciones no triviales siendo\n",
    "\\begin{equation}\n",
    "\\begin{aligned}\n",
    "\\ket{g,1} & \\rightarrow - \\ket{e,0} \\\\\n",
    "\\ket{e,0} & \\rightarrow \\ket{g,1}\n",
    "\\end{aligned}\n",
    "\\end{equation}\n",
    "La puerta $\\text{SWAP}_{av}$ puede implementarse mediante un láser usando la red sideband resonance. Utilizando la Fig.  {numref}`%s <Fig_ions_U_rsb>`, la puerta  $\\text{SWAP}_{av}$ puede realizarse mediante la elección de un pulso láser con $\\eta \\beta = \\pi$ y $\\phi + \\pi/2 = 3 \\pi/2$. La inversa de la puerta se puede implementar cambiando la fase del láser a  $\\text{SWAP}_{av}$.\n"
   ]
  },
  {
   "cell_type": "markdown",
   "id": "080fe82e",
   "metadata": {},
   "source": [
    "### Puerta CZ entre estados atómicos y vibracionales ($\\text{CZ}_{av})$\n"
   ]
  },
  {
   "cell_type": "markdown",
   "id": "080fe82e",
   "metadata": {},
   "source": [
    "Se trata de una puerta controlada-Z que actúa sobre los estados atómico y vibracional de un único ion, donde el estado atómico actúa como qubit de control y el estado vibracional actúa como qubit objetivo. En la base de un solo ion\n",
    "\\begin{equation}\n",
    "\\lch \\ket{g,0}, \\ket{g,1}, \\ket{e,0}, \\ket{e,1} \\rch\\, ,\n",
    "\\end{equation}\n",
    "esta puerta se representa como\n",
    "\n",
    "\n",
    "\n",
    "\n",
    "\n",
    "::::{figure} Figuras/Fig_ions_CZav_matrix.png\n",
    ":width: 1000px\n",
    ":align: center\n",
    ":name: Fig_ions_CZav_matrix\n",
    "Puerta CZ${}_\\text{av}$\n",
    "::::\n"
   ]
  },
  {
   "cell_type": "markdown",
   "id": "080fe82e",
   "metadata": {},
   "source": [
    "con la única acción no trivial siendo\n",
    "\\begin{equation}\n",
    "\\ket{e,1} \\rightarrow - \\ket{e,1} \\, .\n",
    "\\end{equation}\n"
   ]
  },
  {
   "cell_type": "markdown",
   "id": "080fe82e",
   "metadata": {},
   "source": [
    "Para implementar esta puerta, se busca un nivel auxiliar $\\ket{\\tilde{e},0}$ del ion que puede alcanzarse <b>solo desde</b> $\\ket{e,1}$ mediante un láser de frecuencia $\\omega_{e\\tilde{e}} + \\omega_z$ (ver Fig.  {numref}`%s <Fig_ions_Niveles_CZav>`). Si nos fijamos, la transición\n",
    "\\begin{equation}\n",
    "\\ket{\\tilde{e},0} \\leftrightarrow \\ket{e,1}\n",
    "\\end{equation}\n",
    "es una transición <i>blue sideband</i>, donde cambiamos $g$ por $\\tilde{e}$ en la Fig.  {numref}`%s <Fig_ions_U_bsb>`. Si tomamos la Fig.  {numref}`%s <Fig_ions_U_bsb>` para la base\n",
    "\\begin{equation}\n",
    "\\lch \\ket{\\tilde{e},0}, \\ket{\\tilde{e},1}, \\ket{e,0}, \\ket{e,1} \\rch.\n",
    "\\end{equation}\n",
    "con $\\eta \\beta = 2\\pi$ y la aplicamos sobre el estado $\\ket{e,1}$ obtenemos:\n",
    "\\begin{equation}\n",
    "\\ket{e,1} \\rightarrow -\\ket{e,1}\n",
    "\\end{equation}\n",
    "Dado que utilizamos un nivel auxiliar para la transición, los demás estados originales no se modifican, lo que da lugar al único cambio no trivial en la Fig.  {numref}`%s <Fig_ions_CZav_matrix>`.\n"
   ]
  },
  {
   "cell_type": "markdown",
   "id": "080fe82e",
   "metadata": {},
   "source": [
    "::::::{admonition} Ejercicio\n",
    ":class: tip\n",
    "\n",
    "\n",
    "Comprueba este resultado, es decir, aplica el operador de la Fig.  {numref}`%s <Fig_ions_U_bsb>` sobre $\\ket{e,1}$ tomando la base $\\lch \\ket{\\tilde{e},0}, \\ket{\\tilde{e},1}, \\ket{e,0}, \\ket{e,1} \\rch$ y tomando $\\eta \\beta = 2\\pi$.\n",
    "::::::\n",
    "\n\n"
   ]
  },
  {
   "cell_type": "markdown",
   "id": "080fe82e",
   "metadata": {},
   "source": [
    "::::{figure} Figuras/Fig_ions_Niveles_CZav.png\n",
    ":width: 1000px\n",
    ":align: center\n",
    ":name: Fig_ions_Niveles_CZav\n",
    "Nivel auxiliar utilizado para la implementación de la puerta $\\text{CZ}_{av}$. Un ion en el estado atómico fundamental ($\\ket{g}$) permanece en el estado fundamental debido a la frecuencia fuera de resonancia  del láser para las transiciones de este estado.\n",
    "::::\n"
   ]
  },
  {
   "cell_type": "markdown",
   "id": "080fe82e",
   "metadata": {},
   "source": [
    "## Implementación de la puerta CZ\n"
   ]
  },
  {
   "cell_type": "markdown",
   "id": "080fe82e",
   "metadata": {},
   "source": [
    "Ahora estamos listos para implementar la puerta CZ para dos iones. El estado más genérico de un sistema de dos iones en el estado fundamental vibracional viene dado por la ecuación\n",
    "```{math}\n",
    ":label: ec_ions_psi_2_ions \n",
    "\\begin{equation} \n",
    "\\ket{\\Psi_0} = a_{gg} \\ket{gg,0} + a_{ge} \\ket{ge,0} + a_{eg} \\ket{eg,0} + a_{ee} \\ket{ee,0}\n",
    "\\end{equation} \n",
    "```\n"
   ]
  },
  {
   "cell_type": "markdown",
   "id": "080fe82e",
   "metadata": {},
   "source": [
    "La puerta CZ puede implementarse en este estado siguiendo paso a paso el siguiente procedimiento (las fuentes en negrita en los siguientes pasos resaltan los cambios en el estado $\\ket{\\Psi}$)\n",
    "\n",
    " \n- Aplicamos la puerta $\\text{SWAP}_{av}$ en el segundo ion:\n",
    "    \\begin{equation}\n",
    "    \\ket{\\Psi_1} = a_{gg} \\ket{gg,0} + a_{ge} \\ket{g\\mathbf{e},\\mathbf{1}} + a_{eg} \\ket{eg,0} + a_{ee} \\ket{e\\mathbf{g},\\mathbf{1}}\n",
    "    \\end{equation}\n",
    " \n- Aplicamos la puerta $\\text{CZ}_{av}$ en el primer ion:\n",
    "    \\begin{equation}\n",
    "    \\ket{\\Psi_2} = a_{gg} \\ket{gg,0} + a_{ge} \\ket{ge,1} + a_{eg} \\ket{eg,0} - a_{ee} \\ket{\\mathbf{e}g,\\mathbf{1}}\n",
    "    \\end{equation}\n",
    " \n- Aplicamos la inversa de la puerta $\\text{SWAP}_{av}$ en el segundo ion:\n",
    "    \\begin{equation}\n",
    "    \\ket{\\Psi_1} = a_{gg} \\ket{gg,0} + a_{ge} \\ket{g\\mathbf{g},\\mathbf{0}} + a_{eg} \\ket{eg,0} - a_{ee} \\ket{e\\mathbf{e},\\mathbf{0}}\n",
    "    \\end{equation}\n",
    "\n"
   ]
  },
  {
   "cell_type": "markdown",
   "id": "080fe82e",
   "metadata": {},
   "source": [
    "Obsérvese que tras el conjunto de operaciones descritas anteriormente, el qubit vibracional vuelve al estado fundamental (de donde partió). El qubit vibracional puede eliminarse ahora de la descripción del paso inicial y de final, lo que da la transformación efectiva\n",
    "\\begin{equation}\n",
    "a_{gg} \\ket{gg} + a_{ge} \\ket{ge} + a_{eg} \\ket{eg} + a_{ee} \\ket{ee}\n",
    "\\rightarrow\n",
    "a_{gg} \\ket{gg} + a_{ge} \\ket{ge} + a_{eg} \\ket{eg} - a_{ee} \\ket{ee}\n",
    "\\end{equation}\n",
    "Ahora es evidente que los pasos descritos anteriormente implementan efectivamente la puerta CZ en un sistema de dos iones.\n"
   ]
  },
  {
   "cell_type": "markdown",
   "id": "080fe82e",
   "metadata": {},
   "source": [
    "## La puerta CNOT\n"
   ]
  },
  {
   "cell_type": "markdown",
   "id": "080fe82e",
   "metadata": {},
   "source": [
    "Para implementar la puerta CNOT solo tenemos que tener en cuenta la siguiente relación:\n",
    "```{math}\n",
    ":label: ec_ions_CNOT_from_HCZH \n",
    "\\begin{equation} \n",
    "\\text{CNOT} = (\\mathbb{I} \\otimes H) \\text{CZ} (\\mathbb{I} \\otimes H)\n",
    "\\end{equation} \n",
    "```\n",
    "(donde la CZ está controlada por el qubit de la izquierda en el par).\n"
   ]
  },
  {
   "cell_type": "markdown",
   "id": "080fe82e",
   "metadata": {},
   "source": [
    "Al poder implementar cualquier puerta de un qubit y la CNOT, tenemos un <b>conjunto universal de puertas</b>. Es decir, se cumple el criterio 4 de DiVicenzo (sección  {numref}`%s <sec_criterio_divicenzo>`).\n"
   ]
  },
  {
   "cell_type": "markdown",
   "id": "080fe82e",
   "metadata": {},
   "source": [
    "::::::{admonition} Ejercicio\n",
    ":class: tip\n",
    "\n",
    "\n",
    "Comprueba la relación de la Ec.  {eq}`%s <ec_ions_CNOT_from_HCZH>`.\n",
    "::::::\n",
    "\n\n"
   ]
  },
  {
   "cell_type": "markdown",
   "id": "080fe82e",
   "metadata": {},
   "source": [
    "## Creación de los estados de Bell\n"
   ]
  },
  {
   "cell_type": "markdown",
   "id": "080fe82e",
   "metadata": {},
   "source": [
    "Una vez tenemos construidas la CNOT y las puertas de un qubit, podemos construir los estados de Bell como ejemplo para ver que se puede generar entrelazamiento con iones. Construyamos por ejemplo el $B_{00}$ (ver Ec.  {eq}`%s <ec_multiqubit_Bell_states>`:\n",
    "\\begin{equation}\n",
    "CNOT (H \\otimes \\mathbb{I}) \\ket{gg} = \\frac{\\ket{gg} + \\ket{ee}}{\\sqrt{2}}\n",
    "\\end{equation}\n"
   ]
  },
  {
   "cell_type": "markdown",
   "id": "8534e04c",
   "metadata": {},
   "source": [
    "::::{figure} https://quantumspain-project.es/wp-content/uploads/2022/11/Logo_QS_EspanaDigital.png\n",
    ":width: 2000px\n",
    ":align: center\n",
    "::::\n",
    "\n",
    "<center>\n",
    "<img align=\"left\" src=\"https://quantumspain-project.es/wp-content/uploads/2024/02/Banner-QS_GOB_v2.png\" width=\"1000px\" />\n",
    "</center>"
   ]
  }
 ],
 "metadata": {
  "kernelspec": {
   "display_name": "Python 3 (ipykernel)",
   "language": "python",
   "name": "python3"
  },
  "language_info": {
   "codemirror_mode": {
    "name": "ipython",
    "version": 3
   },
   "file_extension": ".py",
   "mimetype": "text/x-python",
   "name": "python",
   "nbconvert_exporter": "python",
   "pygments_lexer": "ipython3",
   "version": "3.11.7"
  },
  "toc": {
   "base_numbering": 1,
   "nav_menu": {},
   "number_sections": false,
   "sideBar": true,
   "skip_h1_title": true,
   "title_cell": "Table of Contents",
   "title_sidebar": "Contents",
   "toc_cell": false,
   "toc_position": {},
   "toc_section_display": true,
   "toc_window_display": false
  }
 },
 "nbformat": 4,
 "nbformat_minor": 5
}
