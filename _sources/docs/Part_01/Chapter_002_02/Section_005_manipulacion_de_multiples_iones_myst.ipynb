{
 "cells": [
  {
   "cell_type": "markdown",
   "id": "8ddaeb38",
   "metadata": {},
   "source": [
    "> {sub-ref}`today` | {sub-ref}`wordcount-minutes` min read\n",
    "\n",
    "<img src=\"Figuras/Fig_logo_UMA_scbi.png\" align=center  width=\"2000px\"/>\n",
    "\n",
    "\n",
    "<a href=\"https://www.scbi.uma.es/web/es/computacion-cuantica/\">\n",
    "    <button class=\"rounded\" style=\"float: right;\">\n",
    "    <svg xmlns=\"http://www.w3.org/2000/svg\" width=\"32\" height=\"32\" viewBox=\"0 0 24 24\">\n",
    "        <path fill=\"var(--fill, white)\"\n",
    "        d=\"M18.1 15.3c-.1.1-.3.2-.4.3l-2.4.4l1.7 3.6c.2.4 0 .8-.4\n",
    "            1l-2.8 1.3c-.1.1-.2.1-.3.1c-.3 0-.6-.2-.7-.4L11.2\n",
    "            18l-1.9 1.5c-.1.1-.3.2-.5.2c-.4 0-.8-.3-.8-.8V7.5c0-.5.3-.8.8-.8c.2 0\n",
    "            .4.1.5.2l8.7 7.4c.3.2.4.7.1 1M6 12H4V4h16v8h-1.6l2.2 1.9c.8-.3 1.3-1\n",
    "            1.3-1.9V4c0-1.1-.9-2-2-2H4c-1.1 0-2 .9-2 2v8c0 1.1.9 2 2 2h2z\" />\n",
    "    </svg>\n",
    "    Volver a SCBI - Computación Cuantica\n",
    "    </button>\n",
    "</a>\n",
    "\n",
    "$ \\newcommand{\\bra}[1]{\\langle #1|} $\n",
    "$ \\newcommand{\\ket}[1]{|#1\\rangle} $\n",
    "$ \\newcommand{\\branew}[1]{\\langle #1|} $\n",
    "$ \\newcommand{\\ketnew}[1]{\\langle #1|} $\n",
    "$ \\newcommand{\\braket}[2]{\\langle #1|#2\\rangle} $\n",
    "$ \\newcommand{\\ketbra}[2]{| #1\\rangle \\langle #2 |} $\n",
    "$ \\newcommand{\\i}{{\\color{blue} i}} $ \n",
    "$ \\newcommand{\\Hil}{{\\cal H}} $\n",
    "$ \\newcommand{\\cg}[1]{{\\rm C}#1} $\n",
    "$ \\newcommand{\\lp}{\\left(} $\n",
    "$ \\newcommand{\\rp}{\\right)} $\n",
    "$ \\newcommand{\\lc}{\\left[} $\n",
    "$ \\newcommand{\\rc}{\\right]} $\n",
    "$ \\newcommand{\\lch}{\\left\\{} $\n",
    "$ \\newcommand{\\rch}{\\right\\}} $\n",
    "$ \\newcommand{\\Lp}{\\Bigl(} $\n",
    "$ \\newcommand{\\Rp}{\\Bigr)} $\n",
    "$ \\newcommand{\\Lc}{\\Bigl[} $\n",
    "$ \\newcommand{\\Rc}{\\Bigr]} $\n",
    "$ \\newcommand{\\Lch}{\\Bigl\\{} $\n",
    "$ \\newcommand{\\Rch}{\\Bigr\\}} $\n",
    "$ \\newcommand{\\rqa}{\\quad \\Rightarrow \\quad} $\n",
    "$ \\newcommand{\\bm}{\\boldsymbol}$"
   ]
  },
  {
   "cell_type": "markdown",
   "id": "080fe82e",
   "metadata": {},
   "source": [
    "# Manipulación de múltiples iones.\n"
   ]
  },
  {
   "cell_type": "markdown",
   "id": "080fe82e",
   "metadata": {},
   "source": [
    "Cuando hay más de un ion en la trampa, hay que tener en cuenta un fenómeno adicional. Las cargas eléctricas del mismo signo se repelen entre sí; por lo tanto, el potencial de atrapamiento y el potencial de Coulomb repulsivo entre iones competirán para determinar la densidad de iones. Como suele ocurrir cuando existe tal competencia, es posible demostrar que existe un estado de equilibrio. De hecho, para las trampas lineales a las temperaturas de trabajo habituales en los experimentos de computación cuántica, los iones tienden a formar estructuras coherentes en forma de cadena denominadas <b>cristales de Coulomb</b>.\n"
   ]
  },
  {
   "cell_type": "markdown",
   "id": "080fe82e",
   "metadata": {},
   "source": [
    "Una descripción completa de los modos normales y de los niveles de energía detallados que surgen del estudio de esta estructura queda fuera del alcance de este curso. Resumimos los resultados mencionando que, entre todos sus posibles comportamientos colectivos, el cristal de Coulomb exhibe el modo de centro de masa de menor energía, similar al movimiento de un único ion, pero que ahora implica a toda la cadena de partículas atrapadas moviéndose al unísono.\n"
   ]
  },
  {
   "cell_type": "markdown",
   "id": "080fe82e",
   "metadata": {},
   "source": [
    "En al sección  {numref}`%s <sec_ions_single_ion>` hemos explotado la interacción entre los grados de libertad vibratorios y atómico de un único ion. Los iones de este cristal pueden seguir considerándose qubits atómicos individuales, pero desde el punto de vista del movimiento deben considerarse como una red. En consecuencia, <b>ya no pueden cambiar de estado vibratorios individualmente</b>, y las únicas transiciones energéticas permitidas serán necesariamente las asociadas a los <b>modos normales de la red</b> cuantizada correspondiente.\n"
   ]
  },
  {
   "cell_type": "markdown",
   "id": "080fe82e",
   "metadata": {},
   "source": [
    "Esto tiene las dos consecuencias siguientes.\n",
    "\n",
    " \n- El estado de una cadena de $N$ iones debe describirse como el producto tensorial de $N$ qubits atómicos individuales y <b>un solo estado vibratorio global</b>:\n",
    "    \\begin{equation}\n",
    "    \\ket{x_{n-1},\\nu_{n-1}}, \\dots, \\ket{x_0, \\nu_0} \\, \\rightarrow \\, \\ket{x_{n-1} \\dots x_0, \\nu}  \\,, \\qquad \\lp x_j \\in \\lch g,e \\rch, \\, \\nu \\in \\lch n=0,n=1 \\rch \\rp\n",
    "    \\end{equation}\n",
    " \n- Las transiciones de <i>red</i> y <i>blue sideband</i> cambiarán ahora el estado vibratorio de <b>toda la cadena</b>, aunque siguen operando sobre estados atómicos <b>individuales</b> de los iones. Por ejemplo, la <i>red sideband</i> aplicada al segundo ion de una cadena de dos iones da como resultado\n",
    "    \\begin{equation}\n",
    "    \\mathcal{U}_I^{\\text{(rsb)}}(t) \\ket{g_2, g_1, \\mathbf{1}} = \\cos(\\nu\\beta/2) \\ket{g_2, g_1, \\mathbf{1}} - i e^{i (\\phi+\\pi/2)} \\sin(\\nu\\beta/2) \\ket{e_2, g_1, \\mathbf{0}} \\, .\n",
    "    \\end{equation}\n",
    "    Ahora la energía intercambiada en una transición vibratoria de la red es ahora $N$ veces mayor que la implicada anteriormente en las transiciones de un solo ion, ya que $N$ iones tienen que cambiar su movimiento a la vez.\n",
    "\n"
   ]
  },
  {
   "cell_type": "markdown",
   "id": "080fe82e",
   "metadata": {},
   "source": [
    "El hecho de que toda la red se vea ahora afectada por una transición vibratoria implica una especie de <b>interacción de largo alcance</b> entre los iones del cristal. Esto allana el camino para la implementación de las puertas multiqubit (la puerta CNOT) en la sección  {numref}`%s <sec_ions_multiqubit>`.\n"
   ]
  },
  {
   "cell_type": "markdown",
   "id": "080fe82e",
   "metadata": {},
   "source": [
    "Las trampas lineales actuales pueden albergar aproximadamente $\\sim 10^2$ iones, pero actualmente se están desarrollando propuestas para escalar el sistema (para satisfacer el criterio 1b de la sección  {numref}`%s <sec_criterio_divicenzo>`) mediante la construcción de redes de trampas. En estos sistemas, los fotones se utilizan para transferir información entre trampas y, más recientemente, para transportar iones.\n"
   ]
  },
  {
   "cell_type": "markdown",
   "id": "8534e04c",
   "metadata": {},
   "source": [
    "::::{figure} https://quantumspain-project.es/wp-content/uploads/2022/11/Logo_QS_EspanaDigital.png\n",
    ":width: 2000px\n",
    ":align: center\n",
    "::::\n",
    "\n",
    "<center>\n",
    "<img align=\"left\" src=\"https://quantumspain-project.es/wp-content/uploads/2024/02/Banner-QS_GOB_v2.png\" width=\"1000px\" />\n",
    "</center>"
   ]
  }
 ],
 "metadata": {
  "kernelspec": {
   "display_name": "Python 3 (ipykernel)",
   "language": "python",
   "name": "python3"
  },
  "language_info": {
   "codemirror_mode": {
    "name": "ipython",
    "version": 3
   },
   "file_extension": ".py",
   "mimetype": "text/x-python",
   "name": "python",
   "nbconvert_exporter": "python",
   "pygments_lexer": "ipython3",
   "version": "3.11.7"
  },
  "toc": {
   "base_numbering": 1,
   "nav_menu": {},
   "number_sections": false,
   "sideBar": true,
   "skip_h1_title": true,
   "title_cell": "Table of Contents",
   "title_sidebar": "Contents",
   "toc_cell": false,
   "toc_position": {},
   "toc_section_display": true,
   "toc_window_display": false
  }
 },
 "nbformat": 4,
 "nbformat_minor": 5
}
