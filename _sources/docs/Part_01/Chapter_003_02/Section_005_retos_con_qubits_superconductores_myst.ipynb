{
 "cells": [
  {
   "cell_type": "markdown",
   "id": "8ddaeb38",
   "metadata": {},
   "source": [
    "> {sub-ref}`today` | {sub-ref}`wordcount-minutes` min read\n",
    "\n",
    "$ \\newcommand{\\bra}[1]{\\langle #1|} $\n",
    "$ \\newcommand{\\ket}[1]{|#1\\rangle} $\n",
    "$ \\newcommand{\\branew}[1]{\\langle #1|} $\n",
    "$ \\newcommand{\\ketnew}[1]{\\langle #1|} $\n",
    "$ \\newcommand{\\braket}[2]{\\langle #1|#2\\rangle} $\n",
    "$ \\newcommand{\\ketbra}[2]{| #1\\rangle \\langle #2 |} $\n",
    "$ \\newcommand{\\i}{{\\color{blue} i}} $ \n",
    "$ \\newcommand{\\Hil}{{\\cal H}} $\n",
    "$ \\newcommand{\\cg}[1]{{\\rm C}#1} $\n",
    "$ \\newcommand{\\lp}{\\left(} $\n",
    "$ \\newcommand{\\rp}{\\right)} $\n",
    "$ \\newcommand{\\lc}{\\left[} $\n",
    "$ \\newcommand{\\rc}{\\right]} $\n",
    "$ \\newcommand{\\lch}{\\left\\{} $\n",
    "$ \\newcommand{\\rch}{\\right\\}} $\n",
    "$ \\newcommand{\\Lp}{\\Bigl(} $\n",
    "$ \\newcommand{\\Rp}{\\Bigr)} $\n",
    "$ \\newcommand{\\Lc}{\\Bigl[} $\n",
    "$ \\newcommand{\\Rc}{\\Bigr]} $\n",
    "$ \\newcommand{\\Lch}{\\Bigl\\{} $\n",
    "$ \\newcommand{\\Rch}{\\Bigr\\}} $\n",
    "$ \\newcommand{\\rqa}{\\quad \\Rightarrow \\quad} $\n",
    "$ \\newcommand{\\bm}{\\boldsymbol}$"
   ]
  },
  {
   "cell_type": "markdown",
   "id": "080fe82e",
   "metadata": {},
   "source": [
    "# Retos con qubits superconductores\n"
   ]
  },
  {
   "cell_type": "markdown",
   "id": "080fe82e",
   "metadata": {},
   "source": [
    "Como todos los tipos de qubits, los superconductores tienen sus dificultades para permitir la creación de ordenadores cuánticos útiles, ya sea en el ámbito NISQ o FTQC. Sobre el papel, la tecnología podría ampliarse a miles, si no millones, de qubits. Las mejores fidelidades de su clase las obtuvo IBM con su procesador Egret de 33 qubits en noviembre de 2022, con una fidelidad de puerta de dos qubits del 99,7\\%. Crear un ordenador cuántico tolerante a fallos requeriría al menos unos 100.000 qubits físicos con una fidelidad del 99,9\\%. Esto permitiría 100 qubits lógicos y una profundidad de cálculo equivalente.\n"
   ]
  },
  {
   "cell_type": "markdown",
   "id": "080fe82e",
   "metadata": {},
   "source": [
    "En este punto se plantean las siguientes cuestiones:\n",
    "\n",
    " \n- ¿puede contenerse la interferencia entre qubits a esta escala?\n",
    " \n- ¿Es posible entrelazar de forma controlada sistemas cuánticos multicuerpo tan grandes?\n",
    " \n- ¿Cómo diseñar códigos cuánticos de corrección de errores con una sobrecarga física de qubits y unos requisitos de fidelidad mínimos?\n",
    " \n- ¿Es posible crear una electrónica de control de bajo consumo, cableado, multiplexación y criogenia adecuados para alcanzar tal escala?\n",
    " \n- ¿Será posible interconectar varios procesadores cuánticos con microondas o recursos de fotones entrelazados?\n",
    "\n",
    "Todos estos y más retos científicos y tecnológicos son gigantescos.\n"
   ]
  },
  {
   "cell_type": "markdown",
   "id": "080fe82e",
   "metadata": {},
   "source": [
    "Mientras tanto, proveedores como IBM, Rigetti y Google intentan crear sistemas NISQ con cientos de qubits que podrían aportar alguna ventaja a la computación cuántica gracias a la técnica de mitigación de errores cuánticos que funciona con algoritmos de poca profundidad, en particular los <b>algoritmos variacionales</b> que trabajan en modo híbrido junto con superordenadores. La creación de sistemas NISQ utilizables seguiría requiriendo fidelidades de puerta muy superiores a las disponibles en la actualidad, con fidelidades de puerta de dos qubits superiores al 99.99\\%.\n"
   ]
  },
  {
   "cell_type": "markdown",
   "id": "8534e04c",
   "metadata": {},
   "source": [
    "::::{figure} https://quantumspain-project.es/wp-content/uploads/2022/11/Logo_QS_EspanaDigital.png\n",
    ":width: 2000px\n",
    ":align: center\n",
    "::::\n",
    "\n",
    "<center>\n",
    "<img align=\"left\" src=\"https://quantumspain-project.es/wp-content/uploads/2024/02/Banner-QS_GOB_v2.png\" width=\"1000px\" />\n",
    "</center>"
   ]
  }
 ],
 "metadata": {
  "kernelspec": {
   "display_name": "Python 3 (ipykernel)",
   "language": "python",
   "name": "python3"
  },
  "language_info": {
   "codemirror_mode": {
    "name": "ipython",
    "version": 3
   },
   "file_extension": ".py",
   "mimetype": "text/x-python",
   "name": "python",
   "nbconvert_exporter": "python",
   "pygments_lexer": "ipython3",
   "version": "3.11.7"
  },
  "toc": {
   "base_numbering": 1,
   "nav_menu": {},
   "number_sections": false,
   "sideBar": true,
   "skip_h1_title": true,
   "title_cell": "Table of Contents",
   "title_sidebar": "Contents",
   "toc_cell": false,
   "toc_position": {},
   "toc_section_display": true,
   "toc_window_display": false
  }
 },
 "nbformat": 4,
 "nbformat_minor": 5
}
