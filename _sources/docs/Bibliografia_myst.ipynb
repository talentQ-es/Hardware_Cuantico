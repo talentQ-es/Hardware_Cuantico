{
 "cells": [
  {
   "cell_type": "markdown",
   "id": "8ddaeb38",
   "metadata": {},
   "source": [
    "",
    ""
   ]
  },
  {
   "cell_type": "markdown",
   "id": "2613c2ec",
   "metadata": {},
   "source": [
    "[1]<a id='bib_Curso-JMas'></a>\n",
    "@misc{bib_Curso-JMas\n",
    "\n",
    "    author = {{Javier Mas Sole}}\n",
    "    title = {Curso Básico de Computación Cuántica (\\url{https://talentq-es.github.io/TalentQ-CICC/docs/index.html})}\n",
    "    howpublished = {TalentQ (\\url{https://www.talentq.es/es_es/})}\n",
    "    year = {2024}\n",
    "}\n"
   ]
  },
  {
   "cell_type": "markdown",
   "id": "080fe82e",
   "metadata": {},
   "source": [
    "[2]<a id='bib_Claude'></a>\n",
    "@book{bib_Claude\n",
    "\n",
    "    author = {Cohen-Tannoudji, Claude and Diu, Bernard}\n",
    "    title = {{Quantum Mechanics, Vol 1}}\n",
    "    publisher = {Wiley-VCH}\n",
    "}\n"
   ]
  },
  {
   "cell_type": "markdown",
   "id": "080fe82e",
   "metadata": {},
   "source": [
    "[3]<a id='bib_le_bellac_2006'></a>\n",
    "@book{bib_le_bellac_2006\n",
    "\n",
    "    place = {Cambridge}\n",
    "    title = {Quantum Physics}\n",
    "    DOI = {10.1017/CBO9780511616471}\n",
    "    publisher = {Cambridge University Press}\n",
    "    author = {Le Bellac, Michel}\n",
    "    editor = {Forcrand-Millard, Patricia deTranslator}\n",
    "    year = {2006}\n",
    "}\n"
   ]
  },
  {
   "cell_type": "markdown",
   "id": "080fe82e",
   "metadata": {},
   "source": [
    "[4]<a id='bib_khatri2020principles'></a>\n",
    "@misc{bib_khatri2020principles\n",
    "\n",
    "    title = {Principles of Quantum Communication Theory: A Modern Approach (notes in progress}\n",
    "    author = {Sumeet Khatri and Mark M. Wilde}\n",
    "    year = {2020}\n",
    "    eprint = {2011.04672}\n",
    "    archivePrefix = {arXiv}\n",
    "    primaryClass = {quant-ph}\n",
    "}\n"
   ]
  },
  {
   "cell_type": "markdown",
   "id": "080fe82e",
   "metadata": {},
   "source": [
    "[5]<a id='bib_fayngold2013quantum'></a>\n",
    "@book{bib_fayngold2013quantum\n",
    "\n",
    "    title = {Quantum mechanics and quantum information}\n",
    "    author = {Fayngold, Moses and Fayngold, Vadim}\n",
    "    year = {1982}\n",
    "    publisher = {Wiley-VCH}\n",
    "}\n"
   ]
  },
  {
   "cell_type": "markdown",
   "id": "080fe82e",
   "metadata": {},
   "source": [
    "[6]<a id='bib_NMR_hardware'></a>\n",
    "@article{bib_NMR_hardware\n",
    "\n",
    "    title = {NMR techniques for quantum control and computation}\n",
    "    author = {Vandersypen, L. M. K. and Chuang, I. L.}\n",
    "    journal = {Rev. Mod. Phys.}\n",
    "    volume = {76}\n",
    "    issue = {4}\n",
    "    pages = {1037--1069}\n",
    "    numpages = {0}\n",
    "    year = {2005}\n",
    "    month = {Jan}\n",
    "    publisher = {American Physical Society}\n",
    "    doi = {10.1103/RevModPhys.76.1037}\n",
    "    url = {https://link.aps.org/doi/10.1103/RevModPhys.76.1037}\n",
    "}\n"
   ]
  },
  {
   "cell_type": "markdown",
   "id": "080fe82e",
   "metadata": {},
   "source": [
    "[7]<a id='bib_Krane:359790'></a>\n",
    "@book{bib_Krane:359790\n",
    "\n",
    "    author = {Krane, Kenneth S}\n",
    "    title = {{Introductory nuclear physics}}\n",
    "    publisher = {Wiley}\n",
    "    address = {New York, NY}\n",
    "    year = {1988}\n",
    "    url = {https://cds.cern.ch/record/359790}\n",
    "}\n"
   ]
  },
  {
   "cell_type": "markdown",
   "id": "080fe82e",
   "metadata": {},
   "source": [
    "[8]<a id='bib_nielsen_chuang_2010'></a>\n",
    "@book{bib_nielsen_chuang_2010\n",
    "\n",
    "    place = {Cambridge}\n",
    "    title = {Quantum Computation and Quantum Information: 10th Anniversary Edition}\n",
    "    DOI = {10.1017/CBO9780511976667}\n",
    "    publisher = {Cambridge University Press}\n",
    "    author = {Nielsen, Michael A. and Chuang, Isaac L.}\n",
    "    year = {2010}\n",
    "}\n"
   ]
  },
  {
   "cell_type": "markdown",
   "id": "080fe82e",
   "metadata": {},
   "source": [
    "[9]<a id='bib_griffiths_schroeter_2018'></a>\n",
    "@book{bib_griffiths_schroeter_2018\n",
    "\n",
    "    place = {Cambridge}\n",
    "    edition = {3}\n",
    "    title = {Introduction to Quantum Mechanics}\n",
    "    DOI = {10.1017/9781316995433}\n",
    "    publisher = {Cambridge University Press}\n",
    "    author = {Griffiths, David J. and Schroeter, Darrell F.}\n",
    "    year = {2018}\n",
    "}\n"
   ]
  },
  {
   "cell_type": "markdown",
   "id": "080fe82e",
   "metadata": {},
   "source": [
    "[10]<a id='bib_Bell'></a>\n",
    "@article{bib_Bell\n",
    "\n",
    "    title = {On the {Einstein Podolsky Rosen} paradox}\n",
    "    author = {Bell, J. S.}\n",
    "    journal = {Physics Physique Fizika}\n",
    "    volume = {1}\n",
    "    issue = {3}\n",
    "    pages = {195--200}\n",
    "    numpages = {6}\n",
    "    year = {1964}\n",
    "    month = {Nov}\n",
    "    publisher = {American Physical Society}\n",
    "    doi = {10.1103/PhysicsPhysiqueFizika.1.195}\n",
    "    url = {https://link.aps.org/doi/10.1103/PhysicsPhysiqueFizika.1.195}\n",
    "}\n"
   ]
  },
  {
   "cell_type": "markdown",
   "id": "080fe82e",
   "metadata": {},
   "source": [
    "[11]<a id='bib_Bell_experiment'></a>\n",
    "@article{bib_Bell_experiment\n",
    "\n",
    "    title = {Experimental Test of Bell's Inequalities Using Time-Varying Analyzers}\n",
    "    author = {Aspect, Alain and Dalibard, Jean and Roger, G\\'erard}\n",
    "    journal = {Phys. Rev. Lett.}\n",
    "    volume = {49}\n",
    "    issue = {25}\n",
    "    pages = {1804--1807}\n",
    "    numpages = {0}\n",
    "    year = {1982}\n",
    "    month = {Dec}\n",
    "    publisher = {American Physical Society}\n",
    "    doi = {10.1103/PhysRevLett.49.1804}\n",
    "    url = {https://link.aps.org/doi/10.1103/PhysRevLett.49.1804}\n",
    "}\n"
   ]
  },
  {
   "cell_type": "markdown",
   "id": "080fe82e",
   "metadata": {},
   "source": [
    "[12]<a id='bib_Bell_CHSH'></a>\n",
    "@article{bib_Bell_CHSH\n",
    "\n",
    "    title = {Proposed Experiment to Test Local Hidden-Variable Theories}\n",
    "    author = {Clauser, John F. and Horne, Michael A. and Shimony, Abner and Holt, Richard A.}\n",
    "    journal = {Phys. Rev. Lett.}\n",
    "    volume = {23}\n",
    "    issue = {15}\n",
    "    pages = {880--884}\n",
    "    numpages = {0}\n",
    "    year = {1969}\n",
    "    month = {Oct}\n",
    "    publisher = {American Physical Society}\n",
    "    doi = {10.1103/PhysRevLett.23.880}\n",
    "    url = {https://link.aps.org/doi/10.1103/PhysRevLett.23.880}\n",
    "}\n"
   ]
  },
  {
   "cell_type": "markdown",
   "id": "080fe82e",
   "metadata": {},
   "source": [
    "[13]<a id='bib_Gottesman-Knill'></a>\n",
    "@article{bib_Gottesman-Knill\n",
    "\n",
    "    title = {Improved simulation of stabilizer circuits}\n",
    "    author = {Aaronson, Scott and Gottesman, Daniel}\n",
    "    journal = {Phys. Rev. A}\n",
    "    volume = {70}\n",
    "    issue = {5}\n",
    "    pages = {052328}\n",
    "    numpages = {14}\n",
    "    year = {2004}\n",
    "    month = {Nov}\n",
    "    publisher = {American Physical Society}\n",
    "    doi = {10.1103/PhysRevA.70.052328}\n",
    "    url = {https://link.aps.org/doi/10.1103/PhysRevA.70.052328}\n",
    "}\n"
   ]
  },
  {
   "cell_type": "markdown",
   "id": "080fe82e",
   "metadata": {},
   "source": [
    "[14]<a id='bib_IONQ'></a>\n",
    "@misc{bib_IONQ\n",
    "\n",
    "    author = {{IONQ}}\n",
    "    year = {6 de abril de 2023}\n",
    "    title = {Getting started with native gates, \\url{https://ionq.com/docs/getting-started-with-native-gates}}\n",
    "    url = {https://ionq.com/docs/getting-started-with-native-gates}\n",
    "}\n"
   ]
  },
  {
   "cell_type": "markdown",
   "id": "080fe82e",
   "metadata": {},
   "source": [
    "[15]<a id='bib_Hardware_NMR_reenfoque_Hadammard_1'></a>\n",
    "@article{bib_Hardware_NMR_reenfoque_Hadammard_1\n",
    "\n",
    "    title = {Efficient implementation of coupled logic gates for quantum computation}\n",
    "    author = {Leung, Debbie W. and Chuang, Isaac L. and Yamaguchi, Fumiko and Yamamoto, Yoshihisa}\n",
    "    journal = {Phys. Rev. A}\n",
    "    volume = {61}\n",
    "    issue = {4}\n",
    "    pages = {042310}\n",
    "    numpages = {7}\n",
    "    year = {2000}\n",
    "    month = {Mar}\n",
    "    publisher = {American Physical Society}\n",
    "    doi = {10.1103/PhysRevA.61.042310}\n",
    "    url = {https://link.aps.org/doi/10.1103/PhysRevA.61.042310}\n",
    "}\n"
   ]
  },
  {
   "cell_type": "markdown",
   "id": "080fe82e",
   "metadata": {},
   "source": [
    "[16]<a id='bib_Hardware_NMR_reenfoque_Hadammard_2'></a>\n",
    "@article{bib_Hardware_NMR_reenfoque_Hadammard_2\n",
    "\n",
    "    title = {Efficient Refocusing of One-Spin and Two-Spin Interactions for NMR Quantum Computation}\n",
    "    journal = {Journal of Magnetic Resonance}\n",
    "    volume = {141}\n",
    "    number = {2}\n",
    "    pages = {322-325}\n",
    "    year = {1999}\n",
    "    issn = {1090-7807}\n",
    "    doi = {https://doi.org/10.1006/jmre.1999.1890}\n",
    "    url = {https://www.sciencedirect.com/science/article/pii/S1090780799918906}\n",
    "    author = {J.A. Jones and E. Knill}\n",
    "    keywords = {spin echo, hadamard, quantum computation, graph, proper coloring}\n",
    "    abstract = {The use of spin echoes to refocus one-spin interactions (chemical shifts) and two-spin interactions (spin–spin couplings) plays a central role in both conventional NMR experiments and NMR quantum computation. Here we describe schemes for efficient refocusing of such interactions in both fully and partially coupled spin systems.}\n",
    "}\n"
   ]
  },
  {
   "cell_type": "markdown",
   "id": "080fe82e",
   "metadata": {},
   "source": [
    "[17]<a id='bib_Decoherence_and_dephasing'></a>\n",
    "@inproceedings{bib_Decoherence_and_dephasing\n",
    "\n",
    "    doi = {10.1142/9789812776716_0001}\n",
    "    url = {https://doi.org/10.1142%2F9789812776716_0001}\n",
    "    year = {2002}\n",
    "    month = {oct}\n",
    "    publisher = {{WORLD} {SCIENTIFIC}}\n",
    "    author = {XUEDONG HU and ROGERIO DE SOUSA and S. DAS SARMA}\n",
    "    title = {{DECOHERENCE} {AND} {DEPHASING} {IN} {SPIN}-{BASED} {SOLID} {STATE} {QUANTUM} {COMPUTERS}}\n",
    "    booktitle = {Foundations of Quantum Mechanics in the Light of New Technology}\n",
    "}\n"
   ]
  },
  {
   "cell_type": "markdown",
   "id": "080fe82e",
   "metadata": {},
   "source": [
    "[18]<a id='bib_wiki_kronecker'></a>\n",
    "@misc{bib_wiki_kronecker\n",
    "\n",
    "    author = {{Wikipedia contributors}}\n",
    "    title = {Kronecker product --- {Wikipedia}{,} The Free Encyclopedia}\n",
    "    year = {2023}\n",
    "    url = {https://en.wikipedia.org/w/index.php?title=Kronecker_product&oldid=1160216148}\n",
    "    note = {[Online; accessed 15-June-2023]}\n",
    "}\n"
   ]
  },
  {
   "cell_type": "markdown",
   "id": "080fe82e",
   "metadata": {},
   "source": [
    "[19]<a id='bib_wiki_GramSchmidt'></a>\n",
    "@misc{bib_wiki_GramSchmidt\n",
    "\n",
    "    author = {{Wikipedia contributors}}\n",
    "    title = {Gram–Schmidt process --- {Wikipedia}{,} The Free Encyclopedia}\n",
    "    year = {2023}\n",
    "    url = {https://en.wikipedia.org/wiki/Gram%E2%80%93Schmidt_process}\n",
    "    note = {[Online; accessed 12-November-2023]}\n",
    "}\n"
   ]
  },
  {
   "cell_type": "markdown",
   "id": "080fe82e",
   "metadata": {},
   "source": [
    "[20]<a id='bib_nielsen'></a>\n",
    "@misc{bib_nielsen\n",
    "\n",
    "    title = {Quantum computation and quantum information}\n",
    "    author = {Nielsen, Michael A and Chuang, Isaac}\n",
    "    year = {2002}\n",
    "    publisher = {American Association of Physics Teachers}\n",
    "}\n"
   ]
  },
  {
   "cell_type": "markdown",
   "id": "080fe82e",
   "metadata": {},
   "source": [
    "[21]<a id='bib_2n+3'></a>\n",
    "@article{bib_2n+3\n",
    "\n",
    "    doi = {10.48550/ARXIV.QUANT-PH/0205095}\n",
    "    url = {https://arxiv.org/abs/quant-ph/0205095}\n",
    "    author = {Beauregard, Stephane}\n",
    "    keywords = {Quantum Physics (quant-ph), FOS: Physical sciences, FOS: Physical sciences}\n",
    "    title = {Circuit for Shor's algorithm using 2n+3 qubits}\n",
    "    publisher = {arXiv}\n",
    "    year = {2002}\n",
    "    journal = {arXiv preprint quant-ph/0205095}\n",
    "    copyright = {Assumed arXiv.org perpetual, non-exclusive license to distribute this article for submissions made before January 2004}\n",
    "}\n"
   ]
  },
  {
   "cell_type": "markdown",
   "id": "080fe82e",
   "metadata": {},
   "source": [
    "[22]<a id='bib_QPE'></a>\n",
    "@misc{bib_QPE\n",
    "\n",
    "    title = {Textbook IBM: Quantum Phase Estimation}\n",
    "    howpublished = {\\url{https://learn.qiskit.org/course/ch-algorithms/quantum-phase-estimation}}\n",
    "}\n"
   ]
  },
  {
   "cell_type": "markdown",
   "id": "080fe82e",
   "metadata": {},
   "source": [
    "[23]<a id='bib_QFT'></a>\n",
    "@misc{bib_QFT\n",
    "\n",
    "    title = {Textbook IBM: Quantum Fourier Transform}\n",
    "    howpublished = {\\url{https://learn.qiskit.org/course/ch-algorithms/quantum-fourier-transform}}\n",
    "}\n"
   ]
  },
  {
   "cell_type": "markdown",
   "id": "080fe82e",
   "metadata": {},
   "source": [
    "[24]<a id='bib_Shor-Qiskit'></a>\n",
    "@misc{bib_Shor-Qiskit\n",
    "\n",
    "    title = {Textbook IBM: Shor's Algorithm}\n",
    "    howpublished = {\\url{https://learn.qiskit.org/course/ch-algorithms/shors-algorithm}}\n",
    "}\n"
   ]
  },
  {
   "cell_type": "markdown",
   "id": "080fe82e",
   "metadata": {},
   "source": [
    "[25]<a id='bib_Continued_fraction'></a>\n",
    "@misc{bib_Continued_fraction\n",
    "\n",
    "    title = {Wikipedia: Continued fraction}\n",
    "    howpublished = {\\url{https://en.wikipedia.org/wiki/Continued_fraction}}\n",
    "}\n"
   ]
  },
  {
   "cell_type": "markdown",
   "id": "080fe82e",
   "metadata": {},
   "source": [
    "[26]<a id='bib_Euclides'></a>\n",
    "@misc{bib_Euclides\n",
    "\n",
    "    title = {Wikipedia: Euclidean algorithm}\n",
    "    howpublished = {\\url{https://en.wikipedia.org/wiki/Euclidean_algorithm}}\n",
    "}\n"
   ]
  },
  {
   "cell_type": "markdown",
   "id": "080fe82e",
   "metadata": {},
   "source": [
    "[27]<a id='bib_Addition'></a>\n",
    "@misc{bib_Addition\n",
    "\n",
    "    doi = {10.48550/ARXIV.QUANT-PH/0008033}\n",
    "    url = {https://arxiv.org/abs/quant-ph/0008033}\n",
    "    author = {Draper, Thomas G.}\n",
    "    keywords = {Quantum Physics (quant-ph), FOS: Physical sciences, FOS: Physical sciences}\n",
    "    title = {Addition on a Quantum Computer}\n",
    "    publisher = {arXiv}\n",
    "    year = {2000}\n",
    "    copyright = {Assumed arXiv.org perpetual, non-exclusive license to distribute this article for submissions made before January 2004}\n",
    "}\n"
   ]
  },
  {
   "cell_type": "markdown",
   "id": "080fe82e",
   "metadata": {},
   "source": [
    "[28]<a id='bib_https://doi.org/10.48550/arxiv.quant-ph/9903071'></a>\n",
    "@misc{bib_https://doi.org/10.48550/arxiv.quant-ph/9903071\n",
    "\n",
    "    doi = {10.48550/ARXIV.QUANT-PH/9903071}\n",
    "    url = {https://arxiv.org/abs/quant-ph/9903071}\n",
    "    author = {Mosca, Michele and Ekert, Artur}\n",
    "    keywords = {Quantum Physics (quant-ph), FOS: Physical sciences, FOS: Physical sciences}\n",
    "    title = {The Hidden Subgroup Problem and Eigenvalue Estimation on a Quantum Computer}\n",
    "    publisher = {arXiv}\n",
    "    year = {1999}\n",
    "    copyright = {Assumed arXiv.org perpetual, non-exclusive license to distribute this article for submissions made before January 2004}\n",
    "}\n"
   ]
  },
  {
   "cell_type": "markdown",
   "id": "080fe82e",
   "metadata": {},
   "source": [
    "[29]<a id='bib_https://doi.org/10.48550/arxiv.quant-ph/9806084'></a>\n",
    "@misc{bib_https://doi.org/10.48550/arxiv.quant-ph/9806084\n",
    "\n",
    "    doi = {10.48550/ARXIV.QUANT-PH/9806084}\n",
    "    url = {https://arxiv.org/abs/quant-ph/9806084}\n",
    "    author = {Zalka, Christof}\n",
    "    keywords = {Quantum Physics (quant-ph), FOS: Physical sciences, FOS: Physical sciences}\n",
    "    title = {Fast versions of Shor's quantum factoring algorithm}\n",
    "    publisher = {arXiv}\n",
    "    year = {1998}\n",
    "    copyright = {Assumed arXiv.org perpetual, non-exclusive license to distribute this article for submissions made before January 2004}\n",
    "}\n"
   ]
  },
  {
   "cell_type": "markdown",
   "id": "080fe82e",
   "metadata": {},
   "source": [
    "[30]<a id='bib_PhysRevLett.85.3049'></a>\n",
    "@article{bib_PhysRevLett.85.3049\n",
    "\n",
    "    title = {Efficient Factorization with a Single Pure Qubit and $\\mathrm{log}\\mathit{N}$ Mixed Qubits}\n",
    "    author = {Parker, S. and Plenio, M. B.}\n",
    "    journal = {Phys. Rev. Lett.}\n",
    "    volume = {85}\n",
    "    issue = {14}\n",
    "    pages = {3049--3052}\n",
    "    numpages = {0}\n",
    "    year = {2000}\n",
    "    month = {Oct}\n",
    "    publisher = {American Physical Society}\n",
    "    doi = {10.1103/PhysRevLett.85.3049}\n",
    "    url = {https://link.aps.org/doi/10.1103/PhysRevLett.85.3049}\n",
    "}\n"
   ]
  },
  {
   "cell_type": "markdown",
   "id": "080fe82e",
   "metadata": {},
   "source": [
    "[31]<a id='bib_QFT-aprox'></a>\n",
    "@misc{bib_QFT-aprox\n",
    "\n",
    "    doi = {10.48550/ARXIV.QUANT-PH/0201067}\n",
    "    url = {https://arxiv.org/abs/quant-ph/0201067}\n",
    "    author = {Coppersmith, D.}\n",
    "    keywords = {Quantum Physics (quant-ph), FOS: Physical sciences, FOS: Physical sciences}\n",
    "    title = {An approximate Fourier transform useful in quantum factoring}\n",
    "    publisher = {arXiv}\n",
    "    year = {2002}\n",
    "    copyright = {Assumed arXiv.org perpetual, non-exclusive license to distribute this article for submissions made before January 2004}\n",
    "}\n"
   ]
  },
  {
   "cell_type": "markdown",
   "id": "080fe82e",
   "metadata": {},
   "source": [
    "[32]<a id='bib_Qiskit-Grover'></a>\n",
    "@misc{bib_Qiskit-Grover\n",
    "\n",
    "    author = {{Textbook de Qiskit (IBM)}}\n",
    "    title = {Grover's Algorithm}\n",
    "    year = {2021}\n",
    "    url = {https://qiskit.org/textbook/ch-algorithms/grover.html}\n",
    "}\n"
   ]
  },
  {
   "cell_type": "markdown",
   "id": "080fe82e",
   "metadata": {},
   "source": [
    "[33]<a id='bib_Boyer_1998'></a>\n",
    "@article{bib_Boyer_1998\n",
    "\n",
    "    doi = {10.1002/(sici)1521-3978(199806)46:4/5<493::aid-prop493>3.0.co;2-p}\n",
    "    url = {https://doi.org/10.1002%2F%28sici%291521-3978%28199806%2946%3A4%2F5%3C493%3A%3Aaid-prop493%3E3.0.co%3B2-p}\n",
    "    year = {1998}\n",
    "    month = {jun}\n",
    "    publisher = {Wiley}\n",
    "    volume = {46}\n",
    "    number = {4-5}\n",
    "    pages = {493--505}\n",
    "    author = {Michel Boyer and Gilles Brassard and Peter H{\\o}yer and Alain Tapp}\n",
    "    title = {Tight Bounds on Quantum Searching}\n",
    "    journal = {Fortschritte der Physik}\n",
    "}\n"
   ]
  },
  {
   "cell_type": "markdown",
   "id": "080fe82e",
   "metadata": {},
   "source": [
    "[34]<a id='bib_Approximate_QC'></a>\n",
    "@incollection{bib_Approximate_QC\n",
    "\n",
    "    doi = {10.1007/bfb0055105}\n",
    "    url = {https://doi.org/10.1007%2Fbfb0055105}\n",
    "    year = {1998}\n",
    "    publisher = {Springer Berlin Heidelberg}\n",
    "    pages = {820--831}\n",
    "    author = {Gilles Brassard and Peter H{\\O}yer and Alain Tapp}\n",
    "    title = {Quantum counting}\n",
    "    booktitle = {Automata, Languages and Programming}\n",
    "}\n"
   ]
  },
  {
   "cell_type": "markdown",
   "id": "080fe82e",
   "metadata": {},
   "source": [
    "[35]<a id='bib_kitaev1995quantum'></a>\n",
    "@misc{bib_kitaev1995quantum\n",
    "\n",
    "    title = {Quantum measurements and the Abelian Stabilizer Problem}\n",
    "    author = {A. Yu. Kitaev}\n",
    "    year = {1995}\n",
    "    eprint = {quant-ph/9511026}\n",
    "    archivePrefix = {arXiv}\n",
    "    primaryClass = {quant-ph}\n",
    "}\n"
   ]
  },
  {
   "cell_type": "markdown",
   "id": "080fe82e",
   "metadata": {},
   "source": [
    "[36]<a id='bib_PhysRevLett.80.4329'></a>\n",
    "@article{bib_PhysRevLett.80.4329\n",
    "\n",
    "    title = {Quantum Computers Can Search Rapidly by Using Almost Any Transformation}\n",
    "    author = {Grover, Lov K.}\n",
    "    journal = {Phys. Rev. Lett.}\n",
    "    volume = {80}\n",
    "    issue = {19}\n",
    "    pages = {4329--4332}\n",
    "    numpages = {0}\n",
    "    year = {1998}\n",
    "    month = {May}\n",
    "    publisher = {American Physical Society}\n",
    "    doi = {10.1103/PhysRevLett.80.4329}\n",
    "    url = {https://link.aps.org/doi/10.1103/PhysRevLett.80.4329}\n",
    "}\n"
   ]
  },
  {
   "cell_type": "markdown",
   "id": "080fe82e",
   "metadata": {},
   "source": [
    "[37]<a id='bib_clone1'></a>\n",
    "@article{bib_clone1\n",
    "\n",
    "    title = {Communication by EPR devices}\n",
    "    journal = {Physics Letters A}\n",
    "    volume = {92}\n",
    "    number = {6}\n",
    "    pages = {271-272}\n",
    "    year = {1982}\n",
    "    issn = {0375-9601}\n",
    "    doi = {https://doi.org/10.1016/0375-9601(82)90084-6}\n",
    "    url = {https://www.sciencedirect.com/science/article/pii/0375960182900846}\n",
    "    author = {D. Dieks}\n",
    "    abstract = {A recent proposal to achieve faster-than-light communication by means of an EPR-type experimental set-up is examined. We demonstrate that such superluminal communication is not possible. The crucial role of the linearity of the quantum mechanical evolution laws in preventing causal anomalies is stressed.}\n",
    "}\n"
   ]
  },
  {
   "cell_type": "markdown",
   "id": "080fe82e",
   "metadata": {},
   "source": [
    "[38]<a id='bib_clone2'></a>\n",
    "@article{bib_clone2\n",
    "\n",
    "    title = {A single quantum cannot be cloned}\n",
    "    author = {Wootters, William K and Zurek, Wojciech H}\n",
    "    journal = {Nature}\n",
    "    volume = {299}\n",
    "    number = {5886}\n",
    "    pages = {802--803}\n",
    "    year = {1982}\n",
    "    publisher = {Nature Publishing Group UK London}\n",
    "}\n"
   ]
  },
  {
   "cell_type": "markdown",
   "id": "080fe82e",
   "metadata": {},
   "source": [
    "[39]<a id='bib_QKD_resumen'></a>\n",
    "@article{bib_QKD_resumen\n",
    "\n",
    "    title = {The security of practical quantum key distribution}\n",
    "    author = {Scarani, Valerio and Bechmann-Pasquinucci, Helle and Cerf, Nicolas J. and Du\\ifmmode \\check{s}\\else \\v{s}\\fi{}ek, Miloslav and L\\'utkenhaus, Norbert and Peev, Momtchil}\n",
    "    journal = {Rev. Mod. Phys.}\n",
    "    volume = {81}\n",
    "    issue = {3}\n",
    "    pages = {1301--1350}\n",
    "    numpages = {0}\n",
    "    year = {2009}\n",
    "    month = {Sep}\n",
    "    publisher = {American Physical Society}\n",
    "    doi = {10.1103/RevModPhys.81.1301}\n",
    "    url = {https://link.aps.org/doi/10.1103/RevModPhys.81.1301}\n",
    "}\n"
   ]
  },
  {
   "cell_type": "markdown",
   "id": "080fe82e",
   "metadata": {},
   "source": [
    "[40]<a id='bib_Vernam-1926'></a>\n",
    "@article{bib_Vernam-1926\n",
    "\n",
    "    author = {Vernam, G. S.}\n",
    "    journal = {Journal of the A.I.E.E.}\n",
    "    title = {Cipher printing telegraph systems: For secret wire and radio telegraphic communications}\n",
    "    year = {1926}\n",
    "    volume = {45}\n",
    "    number = {2}\n",
    "    pages = {109-115}\n",
    "    doi = {10.1109/JAIEE.1926.6534724}\n",
    "}\n"
   ]
  },
  {
   "cell_type": "markdown",
   "id": "080fe82e",
   "metadata": {},
   "source": [
    "[41]<a id='bib_Shannon-1949'></a>\n",
    "@article{bib_Shannon-1949\n",
    "\n",
    "    author = {Shannon, C. E.}\n",
    "    journal = {The Bell System Technical Journal}\n",
    "    title = {Communication theory of secrecy systems}\n",
    "    year = {1949}\n",
    "    volume = {28}\n",
    "    number = {4}\n",
    "    pages = {656-715}\n",
    "    doi = {10.1002/j.1538-7305.1949.tb00928.x}\n",
    "}\n"
   ]
  },
  {
   "cell_type": "markdown",
   "id": "080fe82e",
   "metadata": {},
   "source": [
    "[42]<a id='bib_BB84'></a>\n",
    "@inproceedings{bib_BB84\n",
    "\n",
    "    title = {Quantum cryptography: Public key distribution and coin tossing}\n",
    "    author = {Brassard, G and Bennett, Charles H}\n",
    "    booktitle = {International conference on computers, systems and signal processing}\n",
    "    pages = {175--179}\n",
    "    year = {1984}\n",
    "}\n"
   ]
  },
  {
   "cell_type": "markdown",
   "id": "080fe82e",
   "metadata": {},
   "source": [
    "[43]<a id='bib_Ekert-1991'></a>\n",
    "@article{bib_Ekert-1991\n",
    "\n",
    "    title = {Quantum cryptography based on Bell's theorem}\n",
    "    author = {Ekert, Artur K.}\n",
    "    journal = {Phys. Rev. Lett.}\n",
    "    volume = {67}\n",
    "    issue = {6}\n",
    "    pages = {661--663}\n",
    "    numpages = {0}\n",
    "    year = {1991}\n",
    "    month = {Aug}\n",
    "    publisher = {American Physical Society}\n",
    "    doi = {10.1103/PhysRevLett.67.661}\n",
    "    url = {https://link.aps.org/doi/10.1103/PhysRevLett.67.661}\n",
    "}\n"
   ]
  },
  {
   "cell_type": "markdown",
   "id": "080fe82e",
   "metadata": {},
   "source": [
    "[44]<a id='bib_BB84_E91_iguales'></a>\n",
    "@article{bib_BB84_E91_iguales\n",
    "\n",
    "    title = {Quantum cryptography without Bell's theorem}\n",
    "    author = {Bennett, Charles H. and Brassard, Gilles and Mermin, N. David}\n",
    "    journal = {Phys. Rev. Lett.}\n",
    "    volume = {68}\n",
    "    issue = {5}\n",
    "    pages = {557--559}\n",
    "    numpages = {0}\n",
    "    year = {1992}\n",
    "    month = {Feb}\n",
    "    publisher = {American Physical Society}\n",
    "    doi = {10.1103/PhysRevLett.68.557}\n",
    "    url = {https://link.aps.org/doi/10.1103/PhysRevLett.68.557}\n",
    "}\n"
   ]
  },
  {
   "cell_type": "markdown",
   "id": "080fe82e",
   "metadata": {},
   "source": [
    "[45]<a id='bib_B92'></a>\n",
    "@article{bib_B92\n",
    "\n",
    "    title = {Quantum cryptography using any two nonorthogonal states}\n",
    "    author = {Bennett, Charles H.}\n",
    "    journal = {Phys. Rev. Lett.}\n",
    "    volume = {68}\n",
    "    issue = {21}\n",
    "    pages = {3121--3124}\n",
    "    numpages = {0}\n",
    "    year = {1992}\n",
    "    month = {May}\n",
    "    publisher = {American Physical Society}\n",
    "    doi = {10.1103/PhysRevLett.68.3121}\n",
    "    url = {https://link.aps.org/doi/10.1103/PhysRevLett.68.3121}\n",
    "}\n"
   ]
  },
  {
   "cell_type": "markdown",
   "id": "080fe82e",
   "metadata": {},
   "source": [
    "[46]<a id='bib_experiment_QKD'></a>\n",
    "@article{bib_experiment_QKD\n",
    "\n",
    "    title = {Experimental Quantum Cryptography}\n",
    "    journal = {J. Cryptology}\n",
    "    volume = {5}\n",
    "    pages = {3-28}\n",
    "    doi = {10.1007/BF00191318}\n",
    "    author = {Charles H. Bennett and François Bessette and Gilles Brassard and Louis Salvail and John A. Smolin}\n",
    "    year = {1992}\n",
    "}\n"
   ]
  },
  {
   "cell_type": "markdown",
   "id": "080fe82e",
   "metadata": {},
   "source": [
    "[47]<a id='bib_Privacy_amplification'></a>\n",
    "@article{bib_Privacy_amplification\n",
    "\n",
    "    author = {Bennett, C.H. and Brassard, G. and Crepeau, C. and Maurer, U.M.}\n",
    "    journal = {IEEE Transactions on Information Theory}\n",
    "    title = {Generalized privacy amplification}\n",
    "    year = {1995}\n",
    "    volume = {41}\n",
    "    number = {6}\n",
    "    pages = {1915-1923}\n",
    "    doi = {10.1109/18.476316}\n",
    "}\n"
   ]
  },
  {
   "cell_type": "markdown",
   "id": "080fe82e",
   "metadata": {},
   "source": [
    "[48]<a id='bib_Continue_var_Ralph_1999'></a>\n",
    "@article{bib_Continue_var_Ralph_1999\n",
    "\n",
    "    title = {Continuous variable quantum cryptography}\n",
    "    author = {Ralph, T. C.}\n",
    "    journal = {Phys. Rev. A}\n",
    "    volume = {61}\n",
    "    issue = {1}\n",
    "    pages = {010303}\n",
    "    numpages = {4}\n",
    "    year = {1999}\n",
    "    month = {Dec}\n",
    "    publisher = {American Physical Society}\n",
    "    doi = {10.1103/PhysRevA.61.010303}\n",
    "    url = {https://link.aps.org/doi/10.1103/PhysRevA.61.010303}\n",
    "}\n"
   ]
  },
  {
   "cell_type": "markdown",
   "id": "080fe82e",
   "metadata": {},
   "source": [
    "[49]<a id='bib_Continue_var_Hillery_2000'></a>\n",
    "@article{bib_Continue_var_Hillery_2000\n",
    "\n",
    "    title = {Quantum cryptography with squeezed states}\n",
    "    author = {Hillery, Mark}\n",
    "    journal = {Phys. Rev. A}\n",
    "    volume = {61}\n",
    "    issue = {2}\n",
    "    pages = {022309}\n",
    "    numpages = {8}\n",
    "    year = {2000}\n",
    "    month = {Jan}\n",
    "    publisher = {American Physical Society}\n",
    "    doi = {10.1103/PhysRevA.61.022309}\n",
    "    url = {https://link.aps.org/doi/10.1103/PhysRevA.61.022309}\n",
    "}\n"
   ]
  },
  {
   "cell_type": "markdown",
   "id": "080fe82e",
   "metadata": {},
   "source": [
    "[50]<a id='bib_Continue_var_Cerf_2001'></a>\n",
    "@article{bib_Continue_var_Cerf_2001\n",
    "\n",
    "    title = {Quantum distribution of Gaussian keys using squeezed states}\n",
    "    author = {Cerf, N. J. and L\\'evy, M. and Assche, G. Van}\n",
    "    journal = {Phys. Rev. A}\n",
    "    volume = {63}\n",
    "    issue = {5}\n",
    "    pages = {052311}\n",
    "    numpages = {5}\n",
    "    year = {2001}\n",
    "    month = {Apr}\n",
    "    publisher = {American Physical Society}\n",
    "    doi = {10.1103/PhysRevA.63.052311}\n",
    "    url = {https://link.aps.org/doi/10.1103/PhysRevA.63.052311}\n",
    "}\n"
   ]
  },
  {
   "cell_type": "markdown",
   "id": "080fe82e",
   "metadata": {},
   "source": [
    "[51]<a id='bib_Continue_var_Gottesman_2001'></a>\n",
    "@article{bib_Continue_var_Gottesman_2001\n",
    "\n",
    "    title = {Secure quantum key distribution using squeezed states}\n",
    "    author = {Gottesman, Daniel and Preskill, John}\n",
    "    journal = {Phys. Rev. A}\n",
    "    volume = {63}\n",
    "    issue = {2}\n",
    "    pages = {022309}\n",
    "    numpages = {18}\n",
    "    year = {2001}\n",
    "    month = {Jan}\n",
    "    publisher = {American Physical Society}\n",
    "    doi = {10.1103/PhysRevA.63.022309}\n",
    "    url = {https://link.aps.org/doi/10.1103/PhysRevA.63.022309}\n",
    "}\n"
   ]
  },
  {
   "cell_type": "markdown",
   "id": "080fe82e",
   "metadata": {},
   "source": [
    "[52]<a id='bib_Continue_var_Grosshans_2002'></a>\n",
    "@article{bib_Continue_var_Grosshans_2002\n",
    "\n",
    "    title = {Continuous Variable Quantum Cryptography Using Coherent States}\n",
    "    author = {Grosshans, Fr\\'ed\\'eric and Grangier, Philippe}\n",
    "    journal = {Phys. Rev. Lett.}\n",
    "    volume = {88}\n",
    "    issue = {5}\n",
    "    pages = {057902}\n",
    "    numpages = {4}\n",
    "    year = {2002}\n",
    "    month = {Jan}\n",
    "    publisher = {American Physical Society}\n",
    "    doi = {10.1103/PhysRevLett.88.057902}\n",
    "    url = {https://link.aps.org/doi/10.1103/PhysRevLett.88.057902}\n",
    "}\n"
   ]
  },
  {
   "cell_type": "markdown",
   "id": "080fe82e",
   "metadata": {},
   "source": [
    "[53]<a id='bib_Continue_var_Silberhorn_2002'></a>\n",
    "@article{bib_Continue_var_Silberhorn_2002\n",
    "\n",
    "    title = {Continuous Variable Quantum Cryptography: Beating the 3 dB Loss Limit}\n",
    "    author = {Silberhorn, Ch. and Ralph, T. C. and L\\'utkenhaus, N. and Leuchs, G.}\n",
    "    journal = {Phys. Rev. Lett.}\n",
    "    volume = {89}\n",
    "    issue = {16}\n",
    "    pages = {167901}\n",
    "    numpages = {4}\n",
    "    year = {2002}\n",
    "    month = {Sep}\n",
    "    publisher = {American Physical Society}\n",
    "    doi = {10.1103/PhysRevLett.89.167901}\n",
    "    url = {https://link.aps.org/doi/10.1103/PhysRevLett.89.167901}\n",
    "}\n"
   ]
  },
  {
   "cell_type": "markdown",
   "id": "080fe82e",
   "metadata": {},
   "source": [
    "[54]<a id='bib_Continue_var_Reid_2000'></a>\n",
    "@article{bib_Continue_var_Reid_2000\n",
    "\n",
    "    title = {Quantum cryptography with a predetermined key, using continuous-variable Einstein-Podolsky-Rosen correlations}\n",
    "    author = {Reid, M. D.}\n",
    "    journal = {Phys. Rev. A}\n",
    "    volume = {62}\n",
    "    issue = {6}\n",
    "    pages = {062308}\n",
    "    numpages = {6}\n",
    "    year = {2000}\n",
    "    month = {Nov}\n",
    "    publisher = {American Physical Society}\n",
    "    doi = {10.1103/PhysRevA.62.062308}\n",
    "    url = {https://link.aps.org/doi/10.1103/PhysRevA.62.062308}\n",
    "}\n"
   ]
  },
  {
   "cell_type": "markdown",
   "id": "080fe82e",
   "metadata": {},
   "source": [
    "[55]<a id='bib_Phase_Inoue_2002'></a>\n",
    "@article{bib_Phase_Inoue_2002\n",
    "\n",
    "    title = {Differential Phase Shift Quantum Key Distribution}\n",
    "    author = {Inoue, Kyo and Waks, Edo and Yamamoto, Yoshihisa}\n",
    "    journal = {Phys. Rev. Lett.}\n",
    "    volume = {89}\n",
    "    issue = {3}\n",
    "    pages = {037902}\n",
    "    numpages = {3}\n",
    "    year = {2002}\n",
    "    month = {Jun}\n",
    "    publisher = {American Physical Society}\n",
    "    doi = {10.1103/PhysRevLett.89.037902}\n",
    "    url = {https://link.aps.org/doi/10.1103/PhysRevLett.89.037902}\n",
    "}\n"
   ]
  },
  {
   "cell_type": "markdown",
   "id": "080fe82e",
   "metadata": {},
   "source": [
    "[56]<a id='bib_Phase_Inoue_2003'></a>\n",
    "@article{bib_Phase_Inoue_2003\n",
    "\n",
    "    title = {Differential-phase-shift quantum key distribution using coherent light}\n",
    "    author = {Inoue, K. and Waks, E. and Yamamoto, Y.}\n",
    "    journal = {Phys. Rev. A}\n",
    "    volume = {68}\n",
    "    issue = {2}\n",
    "    pages = {022317}\n",
    "    numpages = {4}\n",
    "    year = {2003}\n",
    "    month = {Aug}\n",
    "    publisher = {American Physical Society}\n",
    "    doi = {10.1103/PhysRevA.68.022317}\n",
    "    url = {https://link.aps.org/doi/10.1103/PhysRevA.68.022317}\n",
    "}\n"
   ]
  },
  {
   "cell_type": "markdown",
   "id": "080fe82e",
   "metadata": {},
   "source": [
    "[57]<a id='bib_Phase_Stucki_2005'></a>\n",
    "@article{bib_Phase_Stucki_2005\n",
    "\n",
    "    author = {Stucki, Damien and Brunner, Nicolas and Gisin, Nicolas and Scarani, Valerio and Zbinden, Hugo}\n",
    "    title = {{Fast and simple one-way quantum key distribution}}\n",
    "    journal = {Applied Physics Letters}\n",
    "    volume = {87}\n",
    "    number = {19}\n",
    "    pages = {194108}\n",
    "    year = {2005}\n",
    "    month = {11}\n",
    "    abstract = {{We present and demonstrate a new protocol for practical quantum cryptography, tailored for an implementation with weak coherent pulses to obtain a high key generation rate. The key is obtained by a simple time-of-arrival measurement on the dataline; the presence of an eavesdropper is checked by an interferometer on an additional monitoring line. The setup is experimentally simple; moreover, it is tolerant to reduced interference visibility and to photon number splitting attacks, thus featuring a high efficiency in terms of distilled secret bit per qubit.}}\n",
    "    issn = {0003-6951}\n",
    "    doi = {10.1063/1.2126792}\n",
    "    url = {https://doi.org/10.1063/1.2126792}\n",
    "    eprint = {https://pubs.aip.org/aip/apl/article-pdf/doi/10.1063/1.2126792/14651015/194108\\_1\\_online.pdf}\n",
    "}\n"
   ]
  },
  {
   "cell_type": "markdown",
   "id": "080fe82e",
   "metadata": {},
   "source": [
    "[58]<a id='bib_Phase_gisin2004practical'></a>\n",
    "@misc{bib_Phase_gisin2004practical\n",
    "\n",
    "    title = {Towards practical and fast Quantum Cryptography}\n",
    "    author = {Nicolas Gisin and Gregoire Ribordy and Hugo Zbinden and Damien Stucki and Nicolas Brunner and Valerio Scarani}\n",
    "    year = {2004}\n",
    "    eprint = {quant-ph/0411022}\n",
    "    archivePrefix = {arXiv}\n",
    "    primaryClass = {quant-ph}\n",
    "}\n"
   ]
  },
  {
   "cell_type": "markdown",
   "id": "080fe82e",
   "metadata": {},
   "source": [
    "[59]<a id='bib_BB84_Wiesner_1983'></a>\n",
    "@article{bib_BB84_Wiesner_1983\n",
    "\n",
    "    author = {Wiesner, Stephen}\n",
    "    title = {Conjugate Coding}\n",
    "    year = {1983}\n",
    "    issue_date = {Winter-Spring 1983}\n",
    "    publisher = {Association for Computing Machinery}\n",
    "    address = {New York, NY, USA}\n",
    "    volume = {15}\n",
    "    number = {1}\n",
    "    issn = {0163-5700}\n",
    "    url = {https://doi.org/10.1145/1008908.1008920}\n",
    "    doi = {10.1145/1008908.1008920}\n",
    "    journal = {SIGACT News}\n",
    "    month = {jan}\n",
    "    pages = {78–88}\n",
    "    numpages = {11}\n",
    "}\n"
   ]
  },
  {
   "cell_type": "markdown",
   "id": "080fe82e",
   "metadata": {},
   "source": [
    "[60]<a id='bib_SAR04_1'></a>\n",
    "@article{bib_SAR04_1\n",
    "\n",
    "    title = {Coherent-pulse implementations of quantum cryptography protocols resistant to photon-number-splitting attacks}\n",
    "    author = {Ac\\'{\\i}n, Antonio and Gisin, Nicolas and Scarani, Valerio}\n",
    "    journal = {Phys. Rev. A}\n",
    "    volume = {69}\n",
    "    issue = {1}\n",
    "    pages = {012309}\n",
    "    numpages = {16}\n",
    "    year = {2004}\n",
    "    month = {Jan}\n",
    "    publisher = {American Physical Society}\n",
    "    doi = {10.1103/PhysRevA.69.012309}\n",
    "    url = {https://link.aps.org/doi/10.1103/PhysRevA.69.012309}\n",
    "}\n"
   ]
  },
  {
   "cell_type": "markdown",
   "id": "080fe82e",
   "metadata": {},
   "source": [
    "[61]<a id='bib_SAR04_2'></a>\n",
    "@article{bib_SAR04_2\n",
    "\n",
    "    title = {Quantum Cryptography Protocols Robust against Photon Number Splitting Attacks for Weak Laser Pulse Implementations}\n",
    "    author = {Scarani, Valerio and Ac\\'{\\i}n, Antonio and Ribordy, Gr\\'egoire and Gisin, Nicolas}\n",
    "    journal = {Phys. Rev. Lett.}\n",
    "    volume = {92}\n",
    "    issue = {5}\n",
    "    pages = {057901}\n",
    "    numpages = {4}\n",
    "    year = {2004}\n",
    "    month = {Feb}\n",
    "    publisher = {American Physical Society}\n",
    "    doi = {10.1103/PhysRevLett.92.057901}\n",
    "    url = {https://link.aps.org/doi/10.1103/PhysRevLett.92.057901}\n",
    "}\n"
   ]
  },
  {
   "cell_type": "markdown",
   "id": "080fe82e",
   "metadata": {},
   "source": [
    "[62]<a id='bib_QKD_Six_state_2'></a>\n",
    "@article{bib_QKD_Six_state_2\n",
    "\n",
    "    title = {Optimal Eavesdropping in Quantum Cryptography with Six States}\n",
    "    author = {Bru\\ss{}, Dagmar}\n",
    "    journal = {Phys. Rev. Lett.}\n",
    "    volume = {81}\n",
    "    issue = {14}\n",
    "    pages = {3018--3021}\n",
    "    numpages = {0}\n",
    "    year = {1998}\n",
    "    month = {Oct}\n",
    "    publisher = {American Physical Society}\n",
    "    doi = {10.1103/PhysRevLett.81.3018}\n",
    "    url = {https://link.aps.org/doi/10.1103/PhysRevLett.81.3018}\n",
    "}\n"
   ]
  },
  {
   "cell_type": "markdown",
   "id": "080fe82e",
   "metadata": {},
   "source": [
    "[63]<a id='bib_QKD_Six_state_3'></a>\n",
    "@article{bib_QKD_Six_state_3\n",
    "\n",
    "    title = {Incoherent and coherent eavesdropping in the six-state protocol of quantum cryptography}\n",
    "    author = {Bechmann-Pasquinucci, H. and Gisin, N.}\n",
    "    journal = {Phys. Rev. A}\n",
    "    volume = {59}\n",
    "    issue = {6}\n",
    "    pages = {4238--4248}\n",
    "    numpages = {0}\n",
    "    year = {1999}\n",
    "    month = {Jun}\n",
    "    publisher = {American Physical Society}\n",
    "    doi = {10.1103/PhysRevA.59.4238}\n",
    "    url = {https://link.aps.org/doi/10.1103/PhysRevA.59.4238}\n",
    "}\n"
   ]
  },
  {
   "cell_type": "markdown",
   "id": "080fe82e",
   "metadata": {},
   "source": [
    "[64]<a id='bib_QKD_Six_state_lo2001proof'></a>\n",
    "@article{bib_QKD_Six_state_lo2001proof\n",
    "\n",
    "    title = {Proof of unconditional security of six-state quantum key distribution scheme}\n",
    "    author = {Lo, Hoi-Kwong}\n",
    "    journal = {arXiv preprint quant-ph/0102138}\n",
    "    year = {2001}\n",
    "}\n"
   ]
  },
  {
   "cell_type": "markdown",
   "id": "080fe82e",
   "metadata": {},
   "source": [
    "[65]<a id='bib_B92_proof_1'></a>\n",
    "@article{bib_B92_proof_1\n",
    "\n",
    "    title = {Unconditionally Secure Key Distribution Based on Two Nonorthogonal States}\n",
    "    author = {Tamaki, Kiyoshi and Koashi, Masato and Imoto, Nobuyuki}\n",
    "    journal = {Phys. Rev. Lett.}\n",
    "    volume = {90}\n",
    "    issue = {16}\n",
    "    pages = {167904}\n",
    "    numpages = {4}\n",
    "    year = {2003}\n",
    "    month = {Apr}\n",
    "    publisher = {American Physical Society}\n",
    "    doi = {10.1103/PhysRevLett.90.167904}\n",
    "    url = {https://link.aps.org/doi/10.1103/PhysRevLett.90.167904}\n",
    "}\n"
   ]
  },
  {
   "cell_type": "markdown",
   "id": "080fe82e",
   "metadata": {},
   "source": [
    "[66]<a id='bib_B92_proof_2'></a>\n",
    "@article{bib_B92_proof_2\n",
    "\n",
    "    title = {Unconditional security of the Bennett 1992 quantum key-distribution protocol over a lossy and noisy channel}\n",
    "    author = {Tamaki, Kiyoshi and L\\'utkenhaus, Norbert}\n",
    "    journal = {Phys. Rev. A}\n",
    "    volume = {69}\n",
    "    issue = {3}\n",
    "    pages = {032316}\n",
    "    numpages = {5}\n",
    "    year = {2004}\n",
    "    month = {Mar}\n",
    "    publisher = {American Physical Society}\n",
    "    doi = {10.1103/PhysRevA.69.032316}\n",
    "    url = {https://link.aps.org/doi/10.1103/PhysRevA.69.032316}\n",
    "}\n"
   ]
  },
  {
   "cell_type": "markdown",
   "id": "080fe82e",
   "metadata": {},
   "source": [
    "[67]<a id='bib_B92_proof_3'></a>\n",
    "@article{bib_B92_proof_3\n",
    "\n",
    "    title = {Unconditional Security of Coherent-State Quantum Key Distribution with a Strong Phase-Reference Pulse}\n",
    "    author = {Koashi, Masato}\n",
    "    journal = {Phys. Rev. Lett.}\n",
    "    volume = {93}\n",
    "    issue = {12}\n",
    "    pages = {120501}\n",
    "    numpages = {4}\n",
    "    year = {2004}\n",
    "    month = {Sep}\n",
    "    publisher = {American Physical Society}\n",
    "    doi = {10.1103/PhysRevLett.93.120501}\n",
    "    url = {https://link.aps.org/doi/10.1103/PhysRevLett.93.120501}\n",
    "}\n"
   ]
  },
  {
   "cell_type": "markdown",
   "id": "080fe82e",
   "metadata": {},
   "source": [
    "[68]<a id='bib_B92_proof_4'></a>\n",
    "@article{bib_B92_proof_4\n",
    "\n",
    "    doi = {10.1103/physreva.80.032302}\n",
    "    url = {https://doi.org/10.1103%2Fphysreva.80.032302}\n",
    "    year = {2009}\n",
    "    month = {sep}\n",
    "    publisher = {American Physical Society ({APS})}\n",
    "    volume = {80}\n",
    "    number = {3}\n",
    "    author = {Kiyoshi Tamaki and Norbert Lütkenhaus and Masato Koashi and Jamie Batuwantudawe}\n",
    "    title = {Unconditional security of the Bennett 1992 quantum-key-distribution scheme with a strong reference pulse}\n",
    "    journal = {Physical Review A}\n",
    "}\n"
   ]
  },
  {
   "cell_type": "markdown",
   "id": "080fe82e",
   "metadata": {},
   "source": [
    "[69]<a id='bib_QKD_DFR_Takesue_2005'></a>\n",
    "@article{bib_QKD_DFR_Takesue_2005\n",
    "\n",
    "    doi = {10.1088/1367-2630/7/1/232}\n",
    "    url = {https://doi.org/10.1088%2F1367-2630%2F7%2F1%2F232}\n",
    "    year = {2005}\n",
    "    month = {nov}\n",
    "    publisher = {{IOP} Publishing}\n",
    "    volume = {7}\n",
    "    pages = {232--232}\n",
    "    author = {H Takesue and E Diamanti and T Honjo and C Langrock and M M Fejer and K Inoue and Y Yamamoto}\n",
    "    title = {Differential phase shift quantum key distribution experiment over 105{\\hspace{0.167em}}km fibre}\n",
    "    journal = {New Journal of Physics}\n",
    "}\n"
   ]
  },
  {
   "cell_type": "markdown",
   "id": "080fe82e",
   "metadata": {},
   "source": [
    "[70]<a id='bib_QKD_DFR_Takesue_2007'></a>\n",
    "@article{bib_QKD_DFR_Takesue_2007\n",
    "\n",
    "    doi = {10.1038/nphoton.2007.75}\n",
    "    url = {https://doi.org/10.1038%2Fnphoton.2007.75}\n",
    "    year = {2007}\n",
    "    month = {jun}\n",
    "    publisher = {Springer Science and Business Media {LLC}}\n",
    "    volume = {1}\n",
    "    number = {6}\n",
    "    pages = {343--348}\n",
    "    author = {Hiroki Takesue and Sae Woo Nam and Qiang Zhang and Robert H. Hadfield and Toshimori Honjo and Kiyoshi Tamaki and Yoshihisa Yamamoto}\n",
    "    title = {Quantum key distribution over a 40-{dB} channel loss using superconducting single-photon detectors}\n",
    "    journal = {Nature Photonics}\n",
    "}\n"
   ]
  },
  {
   "cell_type": "markdown",
   "id": "080fe82e",
   "metadata": {},
   "source": [
    "[71]<a id='bib_QKD_DFR_Diamanti_2006'></a>\n",
    "@article{bib_QKD_DFR_Diamanti_2006\n",
    "\n",
    "    author = {Eleni Diamanti and Hiroki Takesue and Carsten Langrock and M. M. Fejer and Yoshihisa Yamamoto}\n",
    "    journal = {Opt. Express}\n",
    "    keywords = {Quantum optics; Quantum detectors; Bit error rate; Lithium niobate waveguides; Periodically poled lithium niobate; Phase shift; Quantum key distribution; Raman scattering}\n",
    "    number = {26}\n",
    "    pages = {13073--13082}\n",
    "    publisher = {Optica Publishing Group}\n",
    "    title = {100 km differential phase shift quantum key distribution experiment with low jitter up-conversion detectors}\n",
    "    volume = {14}\n",
    "    month = {Dec}\n",
    "    year = {2006}\n",
    "    url = {https://opg.optica.org/oe/abstract.cfm?URI=oe-14-26-13073}\n",
    "    doi = {10.1364/OE.14.013073}\n",
    "}\n"
   ]
  },
  {
   "cell_type": "markdown",
   "id": "080fe82e",
   "metadata": {},
   "source": [
    "[72]<a id='bib_DiVincenzo_2000'></a>\n",
    "@article{bib_DiVincenzo_2000\n",
    "\n",
    "    title = {The Physical Implementation of Quantum Computation}\n",
    "    volume = {48}\n",
    "    ISSN = {1521-3978}\n",
    "    url = {http://dx.doi.org/10.1002/1521-3978(200009)48:9/11<771::AID-PROP771>3.0.CO;2-E}\n",
    "    DOI = {10.1002/1521-3978(200009)48:9/11<771::aid-prop771>3.0.co;2-e}\n",
    "    number = {9–11}\n",
    "    journal = {Fortschritte der Physik}\n",
    "    publisher = {Wiley}\n",
    "    author = {DiVincenzo, David P.}\n",
    "    year = {2000}\n",
    "    month = {sep}\n",
    "    pages = {771–783}\n",
    "}\n"
   ]
  },
  {
   "cell_type": "markdown",
   "id": "080fe82e",
   "metadata": {},
   "source": [
    "[73]<a id='bib_scq_ezratty2023perspective'></a>\n",
    "@article{bib_scq_ezratty2023perspective\n",
    "\n",
    "    title = {Perspective on superconducting qubit quantum computing}\n",
    "    author = {Ezratty, Olivier}\n",
    "    journal = {The European Physical Journal A}\n",
    "    volume = {59}\n",
    "    number = {5}\n",
    "    pages = {94}\n",
    "    year = {2023}\n",
    "    publisher = {Springer}\n",
    "    doi = {https://doi.org/10.1140/epja/s10050-023-01006-7}\n",
    "}\n"
   ]
  },
  {
   "cell_type": "markdown",
   "id": "080fe82e",
   "metadata": {},
   "source": [
    "[74]<a id='bib_scq_Feynman_lectures'></a>\n",
    "@book{bib_scq_Feynman_lectures\n",
    "\n",
    "    author = {Feynman, Richard Phillips and Leighton, Robert Benjamin and Sands, Matthew}\n",
    "    title = {{The Feynman lectures on physics; New millennium ed.}}\n",
    "    publisher = {Basic Books}\n",
    "    address = {New York, NY}\n",
    "    year = {2010}\n",
    "    url = {https://cds.cern.ch/record/1494701}\n",
    "    note = {Originally published 1963-1965}\n",
    "}\n"
   ]
  },
  {
   "cell_type": "markdown",
   "id": "080fe82e",
   "metadata": {},
   "source": [
    "[75]<a id='bib_scq_encyclopedia_of_cmp'></a>\n",
    "@book{bib_scq_encyclopedia_of_cmp\n",
    "\n",
    "    title = {Encyclopedia of Condensed Matter Physics}\n",
    "    author = {Bassani, G.F. and Liedl, G. and Wyder, P.}\n",
    "    isbn = {9780122276101}\n",
    "    url = {https://www.sciencedirect.com/referencework/9780123694010/encyclopedia-of-condensed-matter-physics}\n",
    "    year = {2005}\n",
    "    publisher = {Elsevier Science}\n",
    "}\n"
   ]
  },
  {
   "cell_type": "markdown",
   "id": "080fe82e",
   "metadata": {},
   "source": [
    "[76]<a id='bib_Josephson_1962'></a>\n",
    "@article{bib_Josephson_1962\n",
    "\n",
    "    title = {Possible new effects in superconductive tunnelling}\n",
    "    journal = {Physics Letters}\n",
    "    volume = {1}\n",
    "    number = {7}\n",
    "    pages = {251-253}\n",
    "    year = {1962}\n",
    "    issn = {0031-9163}\n",
    "    doi = {https://doi.org/10.1016/0031-9163(62)91369-0}\n",
    "    url = {https://www.sciencedirect.com/science/article/pii/0031916362913690}\n",
    "    author = {B.D. Josephson}\n",
    "}\n"
   ]
  },
  {
   "cell_type": "markdown",
   "id": "080fe82e",
   "metadata": {},
   "source": [
    "[77]<a id='bib_scq_Waldram'></a>\n",
    "@article{bib_scq_Waldram\n",
    "\n",
    "    doi = {10.1088/0034-4885/39/8/002}\n",
    "    url = {https://dx.doi.org/10.1088/0034-4885/39/8/002}\n",
    "    year = {1976}\n",
    "    month = {aug}\n",
    "    publisher = {}\n",
    "    volume = {39}\n",
    "    number = {8}\n",
    "    pages = {751}\n",
    "    author = {J R Waldram}\n",
    "    title = {The Josephson effects in weakly coupled superconductors}\n",
    "    journal = {Reports on Progress in Physics}\n",
    "    abstract = {The effects described arise as a consequence of two terms calculated by Josephson in the expression for the electrical current flowing between a pair of weakly coupled superconductors. One of these terms is present at zero voltage and represents a supercurrent which can cross such barriers as thin layers of insulator or normal metal; the other is an extra component of resistive current. The review sets out sufficient theoretical background to allow readers with no previous knowledge of superconductivity to understand the basic physics of the effects. It also caters for those wishing to learn enough to understand devices based on Josephson effects. The article concentrates on fundamentals, and early and recent experimental and theoretical developments in the understanding of Josephson weak links of all types are emphasized.}\n",
    "}\n"
   ]
  },
  {
   "cell_type": "markdown",
   "id": "080fe82e",
   "metadata": {},
   "source": [
    "[78]<a id='bib_scq_10_1063_1_5089550'></a>\n",
    "@article{bib_scq_10_1063_1_5089550\n",
    "\n",
    "    author = {Krantz, P. and Kjaergaard, M. and Yan, F. and Orlando, T. P. and Gustavsson, S. and Oliver, W. D.}\n",
    "    title = {{A quantum engineer's guide to superconducting qubits}}\n",
    "    journal = {Applied Physics Reviews}\n",
    "    volume = {6}\n",
    "    number = {2}\n",
    "    pages = {021318}\n",
    "    year = {2019}\n",
    "    month = {06}\n",
    "    abstract = {{The aim of this review is to provide quantum engineers with an introductory guide to the central concepts and challenges in the rapidly accelerating field of superconducting quantum circuits. Over the past twenty years, the field has matured from a predominantly basic research endeavor to a one that increasingly explores the engineering of larger-scale superconducting quantum systems. Here, we review several foundational elements—qubit design, noise properties, qubit control, and readout techniques—developed during this period, bridging fundamental concepts in circuit quantum electrodynamics and contemporary, state-of-the-art applications in gate-model quantum computation.}}\n",
    "    issn = {1931-9401}\n",
    "    doi = {10.1063/1.5089550}\n",
    "    url = {https://doi.org/10.1063/1.5089550}\n",
    "    eprint = {https://pubs.aip.org/aip/apr/article-pdf/doi/10.1063/1.5089550/16667201/021318\\_1\\_online.pdf}\n",
    "}\n"
   ]
  },
  {
   "cell_type": "markdown",
   "id": "080fe82e",
   "metadata": {},
   "source": [
    "[79]<a id='bib_hardware_intro_progress_and_prospects'></a>\n",
    "@book{bib_hardware_intro_progress_and_prospects\n",
    "\n",
    "    author = {{National Academies of Sciences, Engineering and Medicine}}\n",
    "    editor = {Emily Grumbling and Mark Horowitz}\n",
    "    title = {Quantum Computing: Progress and Prospects}\n",
    "    isbn = {978-0-309-47969-1}\n",
    "    doi = {10.17226/25196}\n",
    "    abstract = {Quantum mechanics, the subfield of physics that describes the behavior of very small (quantum) particles, provides the basis for a new paradigm of computing. First proposed in the 1980s as a way to improve computational modeling of quantum systems, the field of quantum computing has recently garnered significant attention due to progress in building small-scale devices. However, significant technical advances will be required before a large-scale, practical quantum computer can be achieved.\\nQuantum Computing: Progress and Prospects provides an introduction to the field, including the unique characteristics and constraints of the technology, and assesses the feasibility and implications of creating a functional quantum computer capable of addressing real-world problems. This report considers hardware and software requirements, quantum algorithms, drivers of advances in quantum computing and quantum devices, benchmarks associated with relevant use cases, the time and resources required, and how to assess the probability of success.}\n",
    "    url = {https://nap.nationalacademies.org/catalog/25196/quantum-computing-progress-and-prospects}\n",
    "    year = {2019}\n",
    "    publisher = {The National Academies Press}\n",
    "    address = {Washington, DC}\n",
    "}\n"
   ]
  },
  {
   "cell_type": "markdown",
   "id": "080fe82e",
   "metadata": {},
   "source": [
    "[80]<a id='bib_PhysRevLett.75.4714'></a>\n",
    "@article{bib_PhysRevLett.75.4714\n",
    "\n",
    "    title = {Demonstration of a Fundamental Quantum Logic Gate}\n",
    "    author = {Monroe, C. and Meekhof, D. M. and King, B. E. and Itano, W. M. and Wineland, D. J.}\n",
    "    journal = {Phys. Rev. Lett.}\n",
    "    volume = {75}\n",
    "    issue = {25}\n",
    "    pages = {4714--4717}\n",
    "    numpages = {0}\n",
    "    year = {1995}\n",
    "    month = {Dec}\n",
    "    publisher = {American Physical Society}\n",
    "    doi = {10.1103/PhysRevLett.75.4714}\n",
    "    url = {https://link.aps.org/doi/10.1103/PhysRevLett.75.4714}\n",
    "}\n"
   ]
  },
  {
   "cell_type": "markdown",
   "id": "080fe82e",
   "metadata": {},
   "source": [
    "[81]<a id='bib_PhysRevLett.74.4091'></a>\n",
    "@article{bib_PhysRevLett.74.4091\n",
    "\n",
    "    title = {Quantum Computations with Cold Trapped Ions}\n",
    "    author = {Cirac, J. I. and Zoller, P.}\n",
    "    journal = {Phys. Rev. Lett.}\n",
    "    volume = {74}\n",
    "    issue = {20}\n",
    "    pages = {4091--4094}\n",
    "    numpages = {0}\n",
    "    year = {1995}\n",
    "    month = {May}\n",
    "    publisher = {American Physical Society}\n",
    "    doi = {10.1103/PhysRevLett.74.4091}\n",
    "    url = {https://link.aps.org/doi/10.1103/PhysRevLett.74.4091}\n",
    "}\n"
   ]
  },
  {
   "cell_type": "markdown",
   "id": "080fe82e",
   "metadata": {},
   "source": [
    "[82]<a id='bib_hw_QuEra_aquila'></a>\n",
    "@misc{bib_hw_QuEra_aquila\n",
    "\n",
    "    author = {{QuEra}}\n",
    "    title = {Aquila, our 256-qubit quantum processor}\n",
    "    year = {2023}\n",
    "    month = {May}\n",
    "    url = {https://www.quera.com/aquila}\n",
    "}\n"
   ]
  },
  {
   "cell_type": "markdown",
   "id": "080fe82e",
   "metadata": {},
   "source": [
    "[83]<a id='bib_hw_topological_microsoft'></a>\n",
    "@article{bib_hw_topological_microsoft\n",
    "\n",
    "    title = {InAs-Al hybrid devices passing the topological gap protocol}\n",
    "    author = {Aghaee, Morteza and Akkala, Arun and Alam, Zulfi and Ali, Rizwan and Alcaraz Ramirez, Alejandro and Andrzejczuk, Mariusz and Antipov, Andrey E. and Aseev, Pavel and Astafev, Mikhail and Bauer, Bela and Becker, Jonathan and Boddapati, Srini and Boekhout, Frenk and Bommer, Jouri and Bosma, Tom and Bourdet, Leo and Boutin, Samuel and Caroff, Philippe and Casparis, Lucas and Cassidy, Maja and Chatoor, Sohail and Christensen, Anna Wulf and Clay, Noah and Cole, William S. and Corsetti, Fabiano and Cui, Ajuan and Dalampiras, Paschalis and Dokania, Anand and de Lange, Gijs and de Moor, Michiel and Estrada Salda\\~na, Juan Carlos and Fallahi, Saeed and Fathabad, Zahra Heidarnia and Gamble, John and Gardner, Geoff and Govender, Deshan and Griggio, Flavio and Grigoryan, Ruben and Gronin, Sergei and Gukelberger, Jan and Hansen, Esben Bork and Heedt, Sebastian and Herranz Zamorano, Jes\\'us and Ho, Samantha and Holgaard, Ulrik Laurens and Ingerslev, Henrik and Johansson, Linda and Jones, Jeffrey and Kallaher, Ray and Karimi, Farhad and Karzig, Torsten and King, Evelyn and Kloster, Maren Elisabeth and Knapp, Christina and Kocon, Dariusz and Koski, Jonne and Kostamo, Pasi and Krogstrup, Peter and Kumar, Mahesh and Laeven, Tom and Larsen, Thorvald and Li, Kongyi and Lindemann, Tyler and Love, Julie and Lutchyn, Roman and Madsen, Morten Hannibal and Manfra, Michael and Markussen, Signe and Martinez, Esteban and McNeil, Robert and Memisevic, Elvedin and Morgan, Trevor and Mullally, Andrew and Nayak, Chetan and Nielsen, Jens and Nielsen, William Hvidtfelt Padk\\ae{}r and Nijholt, Bas and Nurmohamed, Anne and O'Farrell, Eoin and Otani, Keita and Pauka, Sebastian and Petersson, Karl and Petit, Luca and Pikulin, Dmitry I. and Preiss, Frank and Quintero-Perez, Marina and Rajpalke, Mohana and Rasmussen, Katrine and Razmadze, Davydas and Reentila, Outi and Reilly, David and Rouse, Richard and Sadovskyy, Ivan and Sainiemi, Lauri and Schreppler, Sydney and Sidorkin, Vadim and Singh, Amrita and Singh, Shilpi and Sinha, Sarat and Sohr, Patrick and Stankevi\\ifmmode \\check{c}\\else \\v{c}\\fi{}, Toma\\ifmmode \\check{s}\\else \\v{s}\\fi{} and Stek, Lieuwe and Suominen, Henri and Suter, Judith and Svidenko, Vicky and Teicher, Sam and Temuerhan, Mine and Thiyagarajah, Nivetha and Tholapi, Raj and Thomas, Mason and Toomey, Emily and Upadhyay, Shivendra and Urban, Ivan and Vaitiek\\ifmmode \\dot{e}\\else \\.{e}\\fi{}nas, Saulius and Van Hoogdalem, Kevin and Van Woerkom, David and Viazmitinov, Dmitrii V. and Vogel, Dominik and Waddy, Steven and Watson, John and Weston, Joseph and Winkler, Georg W. and Yang, Chung Kai and Yau, Sean and Yi, Daniel and Yucelen, Emrah and Webster, Alex and Zeisel, Roland and Zhao, Ruichen}\n",
    "    collaboration = {Microsoft Quantum}\n",
    "    journal = {Phys. Rev. B}\n",
    "    volume = {107}\n",
    "    issue = {24}\n",
    "    pages = {245423}\n",
    "    numpages = {54}\n",
    "    year = {2023}\n",
    "    month = {Jun}\n",
    "    publisher = {American Physical Society}\n",
    "    doi = {10.1103/PhysRevB.107.245423}\n",
    "    url = {https://link.aps.org/doi/10.1103/PhysRevB.107.245423}\n",
    "}\n"
   ]
  },
  {
   "cell_type": "markdown",
   "id": "080fe82e",
   "metadata": {},
   "source": [
    "[84]<a id='bib_ions_main'></a>\n",
    "@article{bib_ions_main\n",
    "\n",
    "    doi = {10.1088/1361-6404/ad06be}\n",
    "    url = {https://dx.doi.org/10.1088/1361-6404/ad06be}\n",
    "    year = {2023}\n",
    "    month = {nov}\n",
    "    publisher = {IOP Publishing}\n",
    "    volume = {45}\n",
    "    number = {1}\n",
    "    pages = {013001}\n",
    "    author = {Francesco Bernardini and Abhijit Chakraborty and Carlos R Ordóñez}\n",
    "    title = {Quantum computing with trapped ions: a beginner’s guide}\n",
    "    journal = {European Journal of Physics}\n",
    "    abstract = {This pedagogical article elucidates the fundamentals of trapped-ion quantum computing, which is one of the potential platforms for constructing a scalable quantum computer. The evaluation of a trapped-ion system’s viability for quantum computing is conducted in accordance with DiVincenzo’s criteria.}\n",
    "}\n"
   ]
  },
  {
   "cell_type": "markdown",
   "id": "080fe82e",
   "metadata": {},
   "source": [
    "[85]<a id='bib_Haken1970'></a>\n",
    "@inbook{bib_Haken1970\n",
    "\n",
    "    author = {Haken, H.}\n",
    "    editor = {Genzel, L.}\n",
    "    title = {Laser Theory}\n",
    "    bookTitle = {Light and Matter Ic / Licht und Materie Ic}\n",
    "    year = {1970}\n",
    "    publisher = {Springer Berlin Heidelberg}\n",
    "    address = {Berlin, Heidelberg}\n",
    "    pages = {1--304}\n",
    "    abstract = {Coherent electromagnetic waves can be generated in the radio frequency range both by classical sources (moving charges) and by the maser * principle, but their generation in the optical range is only possible by the laser** principle. The laser represents an extension (proposed by Schawlow and Townes1 in 1958) of the microwave maser. The latter device had been proposed by Basov, Prokhorov2, Townes3 and Weber4. In the present article*** we mainly treat the laser, although the theoretical results can be readily applied to the maser, and many of the results can be exemplified with it.}\n",
    "    isbn = {978-3-662-22091-7}\n",
    "    doi = {10.1007/978-3-662-22091-7_1}\n",
    "    url = {https://doi.org/10.1007/978-3-662-22091-7_1}\n",
    "}\n"
   ]
  },
  {
   "cell_type": "markdown",
   "id": "080fe82e",
   "metadata": {},
   "source": [
    "[86]<a id='bib_Hardware_Wiki_QHO'></a>\n",
    "@misc{bib_Hardware_Wiki_QHO\n",
    "\n",
    "    author = {{Wikipedia contributors}}\n",
    "    title = {Quantum harmonic oscillator --- {Wikipedia}{,} The Free Encyclopedia}\n",
    "    year = {2024}\n",
    "    url = {https://en.wikipedia.org/w/index.php?title=Quantum_harmonic_oscillator&oldid=1242936583}\n",
    "    note = {[Online; accessed 12-September-2024]}\n",
    "}\n"
   ]
  },
  {
   "cell_type": "markdown",
   "id": "080fe82e",
   "metadata": {},
   "source": [
    "[87]<a id='bib_greenberger1990bell'></a>\n",
    "@article{bib_greenberger1990bell\n",
    "\n",
    "    title = {Bell’s theorem without inequalities}\n",
    "    author = {Greenberger, Daniel M and Horne, Michael A and Shimony, Abner and Zeilinger, Anton}\n",
    "    journal = {American Journal of Physics}\n",
    "    volume = {58}\n",
    "    number = {12}\n",
    "    pages = {1131--1143}\n",
    "    year = {1990}\n",
    "    publisher = {American Association of Physics Teachers}\n",
    "}\n"
   ]
  },
  {
   "cell_type": "markdown",
   "id": "080fe82e",
   "metadata": {},
   "source": [
    "[88]<a id='bib_Barenco_Universalidad_CC'></a>\n",
    "@article{bib_Barenco_Universalidad_CC\n",
    "\n",
    "    title = {Elementary gates for quantum computation}\n",
    "    author = {Barenco, Adriano and Bennett, Charles H. and Cleve, Richard and DiVincenzo, David P. and Margolus, Norman and Shor, Peter and Sleator, Tycho and Smolin, John A. and Weinfurter, Harald}\n",
    "    journal = {Phys. Rev. A}\n",
    "    volume = {52}\n",
    "    issue = {5}\n",
    "    pages = {3457--3467}\n",
    "    numpages = {0}\n",
    "    year = {1995}\n",
    "    month = {Nov}\n",
    "    publisher = {American Physical Society}\n",
    "    doi = {10.1103/PhysRevA.52.3457}\n",
    "    url = {https://link.aps.org/doi/10.1103/PhysRevA.52.3457}\n",
    "}\n"
   ]
  },
  {
   "cell_type": "markdown",
   "id": "080fe82e",
   "metadata": {},
   "source": []
  },
  {
   "cell_type": "markdown",
   "id": "68b6b0ce",
   "metadata": {},
   "source": []
  }
 ],
 "metadata": {
  "kernelspec": {
   "display_name": "Python 3 (ipykernel)",
   "language": "python",
   "name": "python3"
  },
  "language_info": {
   "codemirror_mode": {
    "name": "ipython",
    "version": 3
   },
   "file_extension": ".py",
   "mimetype": "text/x-python",
   "name": "python",
   "nbconvert_exporter": "python",
   "pygments_lexer": "ipython3",
   "version": "3.11.7"
  },
  "toc": {
   "base_numbering": 1,
   "nav_menu": {},
   "number_sections": false,
   "sideBar": true,
   "skip_h1_title": true,
   "title_cell": "Table of Contents",
   "title_sidebar": "Contents",
   "toc_cell": false,
   "toc_position": {},
   "toc_section_display": true,
   "toc_window_display": false
  }
 },
 "nbformat": 4,
 "nbformat_minor": 5
}
