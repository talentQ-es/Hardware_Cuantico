{
 "cells": [
  {
   "cell_type": "markdown",
   "id": "8ddaeb38",
   "metadata": {},
   "source": [
    "<img src=\"Figuras/Fig_logo_UMA_scbi.png\" align=center  width=\"2000px\"/>\n",
    "\n",
    "\n",
    "<a href=\"https://www.scbi.uma.es/web/es/computacion-cuantica/\">\n",
    "    <button class=\"rounded\" style=\"float: right;\">\n",
    "    <svg xmlns=\"http://www.w3.org/2000/svg\" width=\"32\" height=\"32\" viewBox=\"0 0 24 24\">\n",
    "        <path fill=\"var(--fill, white)\"\n",
    "        d=\"M18.1 15.3c-.1.1-.3.2-.4.3l-2.4.4l1.7 3.6c.2.4 0 .8-.4\n",
    "            1l-2.8 1.3c-.1.1-.2.1-.3.1c-.3 0-.6-.2-.7-.4L11.2\n",
    "            18l-1.9 1.5c-.1.1-.3.2-.5.2c-.4 0-.8-.3-.8-.8V7.5c0-.5.3-.8.8-.8c.2 0\n",
    "            .4.1.5.2l8.7 7.4c.3.2.4.7.1 1M6 12H4V4h16v8h-1.6l2.2 1.9c.8-.3 1.3-1\n",
    "            1.3-1.9V4c0-1.1-.9-2-2-2H4c-1.1 0-2 .9-2 2v8c0 1.1.9 2 2 2h2z\" />\n",
    "    </svg>\n",
    "    Volver a SCBI - Computación Cuantica\n",
    "    </button>\n",
    "</a>\n",
    "\n",
    "$ \\newcommand{\\bra}[1]{\\langle #1|} $\n",
    "$ \\newcommand{\\ket}[1]{|#1\\rangle} $\n",
    "$ \\newcommand{\\branew}[1]{\\langle #1|} $\n",
    "$ \\newcommand{\\ketnew}[1]{\\langle #1|} $\n",
    "$ \\newcommand{\\braket}[2]{\\langle #1|#2\\rangle} $\n",
    "$ \\newcommand{\\ketbra}[2]{| #1\\rangle \\langle #2 |} $\n",
    "$ \\newcommand{\\i}{{\\color{blue} i}} $ \n",
    "$ \\newcommand{\\Hil}{{\\cal H}} $\n",
    "$ \\newcommand{\\cg}[1]{{\\rm C}#1} $\n",
    "$ \\newcommand{\\lp}{\\left(} $\n",
    "$ \\newcommand{\\rp}{\\right)} $\n",
    "$ \\newcommand{\\lc}{\\left[} $\n",
    "$ \\newcommand{\\rc}{\\right]} $\n",
    "$ \\newcommand{\\lch}{\\left\\{} $\n",
    "$ \\newcommand{\\rch}{\\right\\}} $\n",
    "$ \\newcommand{\\Lp}{\\Bigl(} $\n",
    "$ \\newcommand{\\Rp}{\\Bigr)} $\n",
    "$ \\newcommand{\\Lc}{\\Bigl[} $\n",
    "$ \\newcommand{\\Rc}{\\Bigr]} $\n",
    "$ \\newcommand{\\Lch}{\\Bigl\\{} $\n",
    "$ \\newcommand{\\Rch}{\\Bigr\\}} $\n",
    "$ \\newcommand{\\rqa}{\\quad \\Rightarrow \\quad} $\n",
    "$ \\newcommand{\\bm}{\\boldsymbol}$"
   ]
  },
  {
   "cell_type": "markdown",
   "id": "080fe82e",
   "metadata": {},
   "source": [
    "\n",
    "<a id='sec_ions_laser_cooling'></a>\n",
    "# Enfriamiento de iones por láser \n"
   ]
  },
  {
   "cell_type": "markdown",
   "id": "080fe82e",
   "metadata": {},
   "source": [
    "Como se mencionó en la sección anterior, podemos identificar dos regímenes en el enfriamiento dependiendo de cómo la energía oscilatoria media $\\langle H_{SHO} \\rangle$ se compara con la energía característica del oscilador armónico simple cuántico (QSHO de sus siglas en inglés), $\\hbar \\omega_z$:\n"
   ]
  },
  {
   "cell_type": "markdown",
   "id": "080fe82e",
   "metadata": {},
   "source": [
    "\n",
    " \n- Un régimen clásico, donde el ion puede considerarse un resorte clásico, y los fenómenos cuánticos pueden despreciarse. Se trata de una buena aproximación siempre que $\\langle H_{SHO} \\rangle$ sea mucho mayor que $\\hbar \\omega_z$;\n",
    " \n- Un régimen cuántico, donde por el contrario $\\langle H_{SHO} \\rangle$ es comparable a $\\hbar \\omega_z$, y los efectos cuánticos adquieren importancia.\n",
    "\n"
   ]
  },
  {
   "cell_type": "markdown",
   "id": "080fe82e",
   "metadata": {},
   "source": [
    "Nuestro objetivo es bajar los iones al estado fundamental del QSHO, que puede utilizarse como qubit fiduciales o $\\ket{0}$ sobre el que se pueden realizar cálculos (criterio 2 de la sección 5). Esto suele ser un proceso de dos pasos: (a) enfriar el sistema hasta el punto en el que los grados de libertad (dof) vibracionales del QSHO se activan, y (b) llevar el QSHO a su estado fundamental. En las dos subsecciones siguientes se describen los métodos más utilizados para conseguirlo.\n"
   ]
  },
  {
   "cell_type": "markdown",
   "id": "080fe82e",
   "metadata": {},
   "source": [
    "## Régimen Clásico: enfriamiento de Doppler.\n"
   ]
  },
  {
   "cell_type": "markdown",
   "id": "080fe82e",
   "metadata": {},
   "source": [
    "Un ion se encuentra normalmente en el régimen clásico cuando se produce. El principal método utilizado para enfriarlo hasta el régimen cuántico se conoce como enfriamiento Doppler, que utiliza el desplazamiento Doppler como método de enfriamiento subyacente.\n"
   ]
  },
  {
   "cell_type": "markdown",
   "id": "080fe82e",
   "metadata": {},
   "source": [
    "Como primer paso, se elige una transición resonante entre dos estados atómicos del ion con frecuencia $\\omega_0$ y anchura de línea $\\Gamma$, que representa la anchura de los máximos de absorción en el espacio de frecuencias. $\\Gamma$ suele ser mucho mayor que la frecuencia $\\omega_z$ del QSHO, de modo que los niveles QSHO quedan sin resolver.\n"
   ]
  },
  {
   "cell_type": "markdown",
   "id": "080fe82e",
   "metadata": {},
   "source": [
    "Estos iones se irradian con un láser monocromático con frecuencia sintonizada a un valor ligeramente inferior a la frecuencia de transición: $\\omega_{abs} = \\omega_0 - \\delta \\omega$ y vector de onda $\\vec{k}$ (momento $\\hbar \\vec{k}$).\n"
   ]
  },
  {
   "cell_type": "markdown",
   "id": "080fe82e",
   "metadata": {},
   "source": [
    "Consideremos ahora la dispersión (scattering) de un ion que se mueve con velocidad $\\vec{v}$ en dirección contraria a los fotones del láser. Supongamos que el ion absorbe un fotón pasa a un estado excitado y vuelve a decaer espontáneamente emitiendo un fotón en una dirección aleatoria con la misma energía. Podemos ver este proceso en la Fig.  {numref}`%s <Fig_ions_dopple_cooling>`.\n"
   ]
  },
  {
   "cell_type": "markdown",
   "id": "080fe82e",
   "metadata": {},
   "source": [
    "<figure><center>\n",
    "<img src=\"Figuras/Fig_ions_dopple_cooling.png\" alt=\"\" align=center width='800px'/>\n",
    "<a id='Fig_ions_dopple_cooling'></a>\n",
    "<center>En el proceso de enfriamiento Doppler, a) y b): un ion absorbe un láser desplazado al rojo que viene hacia él y c) lo emite en una dirección aleatoria. El grosor de las flechas representa la magnitud del momento. En la figura b), debido a la absorción de un fotón que se mueve en dirección opuesta, el momento total de la partícula será menor, de ahí que la flecha sea más fina. Tras la emisión isótropa de un fotón en figure c), el momento medio de la partícula no cambia. Fuente [[84]](../../Bibliografia.ipynb#bib_ions_main).</center>\n",
    "</center></figure>\n\n"
   ]
  },
  {
   "cell_type": "markdown",
   "id": "080fe82e",
   "metadata": {},
   "source": [
    "Aplicando las ecuaciones de conservación de energía y momento, puede verse que en este proceso el fotón emitido tiene más energía que el absorbido (en concreto, $- \\hbar \\vec{v} \\cdot \\vec{k}$ más energía, donde este término es positivo pues los vectores tiene sentido contrario).\n"
   ]
  },
  {
   "cell_type": "markdown",
   "id": "080fe82e",
   "metadata": {},
   "source": [
    "<details><summary><p style=\"color:blue\" > >> <i>Demostración</i> </p></summary>\n",
    "Veamos este resultado. Partimos de la ecuación de conservación de energía\n",
    "\\begin{equation} \\label{ec_ions_energy}\n",
    "\\hbar \\omega_{abs} + \\frac{1}{2} M v^2 = \\hbar \\omega_0 + \\frac{1}{2}M{v'}^2\n",
    "\\end{equation}\n",
    "donde a la izquierda tenemos el estado inicial y la derecha el estado final, $M$ es la masa del ión, $v$ la velocidad inicial de ión y $v'$ la velocidad de ión después de la absorción. En concreto, la que tenemos es: energía del fotón + energía cinética del ión antes de la absorción = Energía de transición (ganada por el ión al producirse la transión) + energía cinética después de la absorción.\n",
    "<br>\n",
    "Por otro lado, tenemos la ecuación de conservación del momento:\n",
    "\\begin{equation} \\label{ec_ions_momento}\n",
    "M \\vec{v} + \\hbar \\vec{k} = M \\vec{v'}\n",
    "\\end{equation}\n",
    "<br>\n",
    "Sustituyendo $\\vec{v'}$ de la Ec.  {eq}`%s <ec_ions_energy>` en  {eq}`%s <ec_ions_momento>`, tenemos\n",
    "\\begin{equation}\n",
    "\\omega_0 = \\omega_{abs} - \\vec{v} \\cdot \\vec{k} - \\frac{\\hbar k^2}{2M}\n",
    "\\end{equation}\n",
    "En el lado derecho, el segundo término es el conocido <b>desplazamiento Doppler</b>, y el tercer término se conoce como <b>desplazamiento de retroceso</b>, que suele ser pequeño en comparación con el desplazamiento Doppler a altas velocidades. Despreciando el tercer término e invirtiendo la expresión, obtenemos\n",
    "\\begin{equation}\n",
    "\\omega_{abs} = \\omega_0 + \\vec{v} \\cdot \\vec{k}\n",
    "\\end{equation}\n",
    "Como $\\vec{v}$ y $\\vec{k}$ tiene direcciones opuestas, tenemos que $-\\vec{v} \\cdot \\vec{k} <0$, con lo que $\\omega_{abs} < \\omega_0$. Es decir, cuando el fotón y el ión se mueven en sentido contrario, la energía que tiene que tener el fotón para ser absorbido es <b>menor</b>  que la energía de transición en una cantidad $\\hbar \\vec{v} \\cdot \\vec{k}$.\n",
    "<br>\n",
    "Por otro lado, si consideramos el proceso de emisión y hacer un tratamiento similar llegamos a:\n",
    "\\begin{equation}\n",
    "\\omega_0 = \\omega_{em} - \\vec{v'} \\cdot \\vec{k_{em}} + \\frac{\\hbar k_{em}^2}{2M}\n",
    "\\end{equation}\n",
    "Si nuevamente estamos a altas velocidades, podemos despreciar otra vez el desplazamiento de retroceso y quedarnos con que la frecuencia del fotón emitido es\n",
    "\\begin{equation}\n",
    "\\omega_{em} = \\omega_0 + \\vec{v'} \\cdot \\vec{k_{em}}\n",
    "\\end{equation}\n",
    "Pero en este caso el vector de onda del fotón emitido $\\vec{k_{em}}$ está en una dirección aleatoria. Por lo tanto, promediando sobre un número de procesos de dispersión obtenemos $\\langle \\vec{v'} \\cdot \\vec{k_{em}} = 0 \\rangle$. Entonces, en promedio el cambio de energía del fotón por evento de dispersión es\n",
    "\\begin{equation}\n",
    "\\hbar \\Delta \\omega = \\langle \\hbar (\\omega_{em}-\\omega_{abs} \\rangle = - \\hbar \\vec{v} \\cdot \\vec{k} \\, .\n",
    "\\end{equation}\n",
    "<br>\n",
    "La ganancia de energía del fotón es igual a la perdida de energía cinética del ión ($E_k$), es decir, $\\Delta E_k = \\hbar \\vec{v} \\cdot \\vec{k} < 0$. Si interpretamos temperatura $\\frac{3}{2} k_B T = E_K$, esta pérdida de energía cinética provoca el enfriamiento de los iones que se desplazan hacia el láser.\n",
    "<br>\n",
    "</details>\n\n"
   ]
  },
  {
   "cell_type": "markdown",
   "id": "080fe82e",
   "metadata": {},
   "source": [
    "Este fenómeno en fácil de entender de forma intuitiva. Al estar moviéndose el ión hacia el fotón, por efecto Doppler la energía que tiene que llevar el fotón para ser absorbido es menos (por eso decimos que los fotones tiene freciencia $\\omega_{abs} =  \\omega_0 - \\delta \\omega < \\omega_0$). En concreto, $\\delta \\omega = - \\vec{v} \\cdot \\vec{k}$.\n"
   ]
  },
  {
   "cell_type": "markdown",
   "id": "080fe82e",
   "metadata": {},
   "source": [
    "Este proceso de enfriamiento de los iones no dura indefinidamente, sino que está limitado por el desplazamiento de retroceso (<i>recoil shift</i>). Es decir, este proceso funciona siempre y cuando se cumpla\n",
    "\\begin{equation}\n",
    "-h \\vec{v} \\vec{k} > \\hbar^2 k^2/M\\,, \\quad \\text{con } \\vec{v} \\cdot \\vec{k} < 0 \\,.\n",
    "\\end{equation}\n",
    "Este límite para la temperatura mínima que se puede alcanzar se denomina <b>recoil limit</b>.\n"
   ]
  },
  {
   "cell_type": "markdown",
   "id": "080fe82e",
   "metadata": {},
   "source": [
    "## Régimen Cuántico: sideband cooling\n"
   ]
  },
  {
   "cell_type": "markdown",
   "id": "080fe82e",
   "metadata": {},
   "source": [
    "Una vez que el enfriamiento Doppler alcanza su límite, la energía del ion es lo suficientemente baja como para considerar los grados de libertad vibracionales del QSHO. Por lo general, después del enfriamiento Doppler, el estado medio del número QSHO del ion es $ \\langle n \\rangle \\sim 10$. Sin embargo, como se ha indicado anteriormente, nuestro objetivo es alcanzar el estado fundamental del oscilador armónico, es decir, $\\ket{n}=0$, para inicializar el qubit (ver Fig.  {numref}`%s <Fig_Hardware_Oscilador_Armonico>`). Esto requiere un mayor enfriamiento del sistema, que generalmente se logra mediante un proceso llamado <b>sideband cooling</b>.\n"
   ]
  },
  {
   "cell_type": "markdown",
   "id": "080fe82e",
   "metadata": {},
   "source": [
    "Para el <i>sideband cooling</i>, se elige una transición atómica con un ancho de línea $\\Gamma_s$, ahora pequeño en comparación con $\\omega_z$ (<b>frecuencia del QSHO</b>) para que el pico de absorción pueda distinguir las frecuencias $\\omega_0 \\pm \\omega_z$ de $\\omega_0$ (a diferencia del enfriamiento Doppler en el que $\\Gamma \\gg \\omega_z$). Por esta razón, se elige una transición diferente a la del proceso de enfriamiento Doppler. Llamamos a los niveles inferior y superior de esta transición el estado interno fundamental $\\ket{g}$ y el estado excitado $\\ket{e}$, respectivamente, y denotamos esta <b>frecuencia de transición entre estados atómicos</b> como $\\omega_0$. Es decir:\n"
   ]
  },
  {
   "cell_type": "markdown",
   "id": "080fe82e",
   "metadata": {},
   "source": [
    "<figure><center>\n",
    "<img src=\"Figuras/Fig_Hardware_Oscilador_Armonico.png\" alt=\"\" align=center width='1000px'/>\n",
    "<a id='Fig_Hardware_Oscilador_Armonico'></a>\n",
    "<center>Primeros $8$ estados del oscilador armónico cuántico ($n=0,1, \\dots,7$) en una dimensión ($\\hat{x}$). El eje horizontal representa la posición $x$. Source [[86]](../../Bibliografia.ipynb#bib_Hardware_Wiki_QHO)</center>\n",
    "</center></figure>\n\n"
   ]
  },
  {
   "cell_type": "markdown",
   "id": "080fe82e",
   "metadata": {},
   "source": [
    "\\begin{equation}\n",
    "\\begin{aligned}\n",
    "\\omega_z & \\rightarrow \\text{Frecuencia del QSHO: frecuencia entre los estados } \\ket{n} \\\\\n",
    "\\omega_0 & \\rightarrow \\text{Frecuencia de la transición atómica } \\ket{g} \\rightarrow \\ket{e}\n",
    "\\end{aligned}\n",
    "\\end{equation}\n"
   ]
  },
  {
   "cell_type": "markdown",
   "id": "080fe82e",
   "metadata": {},
   "source": [
    "Inicialmente, el ion se encuentra en el estado $\\ket{g,n}$ con $n \\sim 10$. Aquí, la notación $\\ket{g,n}$ significa que el ion está en estado atómico $\\ket{g}$ y en estado vibracional QSHO $\\ket{n}$. Queremos alcanzar el estado básico $\\ket{g,0}$ para inicializar nuestro qubit operacional. Esto se consigue mediante una repetición de las siguientes transiciones:\n",
    "\\begin{equation}\n",
    "\\ket{g,n} \\rightarrow \\ket{e,n-1} \\rightarrow \\ket{g, n-1} \\rightarrow \\{ \\dots \\}\n",
    "\\end{equation}\n"
   ]
  },
  {
   "cell_type": "markdown",
   "id": "080fe82e",
   "metadata": {},
   "source": [
    "Este conjunto de transiciones se lleva a cabo mediante la interacción de iones con un láser. En concreto, el láser induce transiciones entre el estado fundamental y el estado excitado, pero reduciendo en uno el número de ocupación del QSHO, es decir, $\\ket{g,n} \\rightarrow \\ket{e,n-1}$. Después, las transiciones $\\ket{e,n-1} \\rightarrow \\ket{g, n-1}$ son decaimiento espontáneos. Podemos ver este proceso en la Fig.  {numref}`%s <Fig_ions_sideband_cooling>`.\n"
   ]
  },
  {
   "cell_type": "markdown",
   "id": "080fe82e",
   "metadata": {},
   "source": [
    "Para inducir la transición deseada,  $\\ket{g,n} \\leftrightarrow \\ket{e,n-1}$, este láser se toma con una frecuencia $\\omega = \\omega_0 - \\omega_z$. Esta elección particular de la frecuencia del láser se conoce como <b>red sideband resonance</b>.\n"
   ]
  },
  {
   "cell_type": "markdown",
   "id": "080fe82e",
   "metadata": {},
   "source": [
    "<figure><center>\n",
    "<img src=\"Figuras/Fig_ions_sideband_cooling.png\" alt=\"\" align=center width='700px'/>\n",
    "<a id='Fig_ions_sideband_cooling'></a>\n",
    "<center>La figura muestra el esquema del <i>sideband cooling</i>. Las líneas continuas y discontinuas representan los procesos de absorción estimulada y emisión espontánea, respectivamente. Fuente [[84]](../../Bibliografia.ipynb#bib_ions_main).</center>\n",
    "</center></figure>\n\n"
   ]
  },
  {
   "cell_type": "markdown",
   "id": "8534e04c",
   "metadata": {},
   "source": [
    "<figure><center>\n",
    "<img   src=\"https://quantumspain-project.es/wp-content/uploads/2022/11/Logo_QS_EspanaDigital.png\" align=center  width=\"2000px\"/>\n",
    "</center></figure>\n",
    "\n",
    "<center>\n",
    "<img align=\"left\" src=\"https://quantumspain-project.es/wp-content/uploads/2024/02/Banner-QS_GOB_v2.png\" width=\"1000px\" />\n",
    "</center>"
   ]
  }
 ],
 "metadata": {
  "kernelspec": {
   "display_name": "Python 3 (ipykernel)",
   "language": "python",
   "name": "python3"
  },
  "language_info": {
   "codemirror_mode": {
    "name": "ipython",
    "version": 3
   },
   "file_extension": ".py",
   "mimetype": "text/x-python",
   "name": "python",
   "nbconvert_exporter": "python",
   "pygments_lexer": "ipython3",
   "version": "3.11.7"
  },
  "toc": {
   "base_numbering": 1,
   "nav_menu": {},
   "number_sections": false,
   "sideBar": true,
   "skip_h1_title": true,
   "title_cell": "Table of Contents",
   "title_sidebar": "Contents",
   "toc_cell": false,
   "toc_position": {},
   "toc_section_display": true,
   "toc_window_display": false
  }
 },
 "nbformat": 4,
 "nbformat_minor": 5
}
