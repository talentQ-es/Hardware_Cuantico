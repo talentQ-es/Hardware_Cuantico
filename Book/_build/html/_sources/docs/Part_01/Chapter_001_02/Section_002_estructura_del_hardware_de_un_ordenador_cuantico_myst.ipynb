{
 "cells": [
  {
   "cell_type": "markdown",
   "id": "8ddaeb38",
   "metadata": {},
   "source": [
    "> {sub-ref}`today` | {sub-ref}`wordcount-minutes` min read\n",
    "\n",
    "<img src=\"Figuras/Fig_logo_UMA_scbi.png\" align=center  width=\"2000px\"/>\n",
    "\n",
    "\n",
    "<a href=\"https://www.scbi.uma.es/web/es/computacion-cuantica/\">\n",
    "    <button class=\"rounded\" style=\"float: right;\">\n",
    "    <svg xmlns=\"http://www.w3.org/2000/svg\" width=\"32\" height=\"32\" viewBox=\"0 0 24 24\">\n",
    "        <path fill=\"var(--fill, white)\"\n",
    "        d=\"M18.1 15.3c-.1.1-.3.2-.4.3l-2.4.4l1.7 3.6c.2.4 0 .8-.4\n",
    "            1l-2.8 1.3c-.1.1-.2.1-.3.1c-.3 0-.6-.2-.7-.4L11.2\n",
    "            18l-1.9 1.5c-.1.1-.3.2-.5.2c-.4 0-.8-.3-.8-.8V7.5c0-.5.3-.8.8-.8c.2 0\n",
    "            .4.1.5.2l8.7 7.4c.3.2.4.7.1 1M6 12H4V4h16v8h-1.6l2.2 1.9c.8-.3 1.3-1\n",
    "            1.3-1.9V4c0-1.1-.9-2-2-2H4c-1.1 0-2 .9-2 2v8c0 1.1.9 2 2 2h2z\" />\n",
    "    </svg>\n",
    "    Volver a SCBI - Computación Cuantica\n",
    "    </button>\n",
    "</a>\n",
    "\n",
    "$ \\newcommand{\\bra}[1]{\\langle #1|} $\n",
    "$ \\newcommand{\\ket}[1]{|#1\\rangle} $\n",
    "$ \\newcommand{\\branew}[1]{\\langle #1|} $\n",
    "$ \\newcommand{\\ketnew}[1]{\\langle #1|} $\n",
    "$ \\newcommand{\\braket}[2]{\\langle #1|#2\\rangle} $\n",
    "$ \\newcommand{\\ketbra}[2]{| #1\\rangle \\langle #2 |} $\n",
    "$ \\newcommand{\\i}{{\\color{blue} i}} $ \n",
    "$ \\newcommand{\\Hil}{{\\cal H}} $\n",
    "$ \\newcommand{\\cg}[1]{{\\rm C}#1} $\n",
    "$ \\newcommand{\\lp}{\\left(} $\n",
    "$ \\newcommand{\\rp}{\\right)} $\n",
    "$ \\newcommand{\\lc}{\\left[} $\n",
    "$ \\newcommand{\\rc}{\\right]} $\n",
    "$ \\newcommand{\\lch}{\\left\\{} $\n",
    "$ \\newcommand{\\rch}{\\right\\}} $\n",
    "$ \\newcommand{\\Lp}{\\Bigl(} $\n",
    "$ \\newcommand{\\Rp}{\\Bigr)} $\n",
    "$ \\newcommand{\\Lc}{\\Bigl[} $\n",
    "$ \\newcommand{\\Rc}{\\Bigr]} $\n",
    "$ \\newcommand{\\Lch}{\\Bigl\\{} $\n",
    "$ \\newcommand{\\Rch}{\\Bigr\\}} $\n",
    "$ \\newcommand{\\rqa}{\\quad \\Rightarrow \\quad} $\n",
    "$ \\newcommand{\\bm}{\\boldsymbol}$"
   ]
  },
  {
   "cell_type": "markdown",
   "id": "080fe82e",
   "metadata": {},
   "source": [
    "# Estructura del Hardware de un Ordenador Cuántico\n"
   ]
  },
  {
   "cell_type": "markdown",
   "id": "080fe82e",
   "metadata": {},
   "source": [
    "Dado que un ordenador cuántico debe interactuar con usuarios, datos y redes (tareas en las que destaca la informática convencional), un ordenador cuántico puede aprovechar un <b>ordenador convencional</b> para estas tareas siempre que sea más eficiente hacerlo. Además, los sistemas qubit requieren un control cuidadosamente orquestado para funcionar de forma útil; este control puede gestionarse mediante ordenadores convencionales.\n"
   ]
  },
  {
   "cell_type": "markdown",
   "id": "080fe82e",
   "metadata": {},
   "source": [
    "Para ayudar a conceptualizar los componentes de hardware necesarios para un ordenador cuántico analógico o basado en compuertas, el hardware puede modelarse en cuatro capas abstractas:\n",
    "\n",
    " \n- El \"plano de datos cuánticos\", donde residen los qubits.\n",
    " \n- El \"plano de control y medición\", responsable de realizar operaciones y mediciones en los qubits según sea necesario.\n",
    " \n- El \"plano del procesador de control\", que determina la secuencia de operaciones y mediciones que requiere el algoritmo, utilizando potencialmente los resultados de las mediciones para informar de las operaciones cuánticas posteriores.\n",
    " \n- El \"procesador anfitrión (host)\", un ordenador clásico que gestiona el acceso a redes, grandes matrices de almacenamiento e interfaces de usuario. Este procesador host ejecuta un sistema operativo/interfaz de usuario convencional, que facilita las interacciones de los usuarios, y dispone de una conexión de gran ancho de banda con el procesador de control.\n",
    "\n"
   ]
  },
  {
   "cell_type": "markdown",
   "id": "080fe82e",
   "metadata": {},
   "source": [
    "Esta sección se basa en el capítulo 5 de {cite}`bib_hardware_intro_progress_and_prospects`.\n"
   ]
  },
  {
   "cell_type": "markdown",
   "id": "080fe82e",
   "metadata": {},
   "source": [
    "## Plano de datos cuánticos (Quantum Data Plane)\n"
   ]
  },
  {
   "cell_type": "markdown",
   "id": "080fe82e",
   "metadata": {},
   "source": [
    "El plano de datos cuánticos es el \"corazón\" de un Computador Cuántico. Incluye los <b>qubits físicos</b> y las estructuras necesarias para mantenerlos en su lugar. También debe contener cualquier <b>circuito de apoyo necesario para medir</b> el estado de los qubits y <b>realizar operaciones de puerta</b> en los qubits físicos para un sistema basado en puertas o <b>controlar el Hamiltoniano</b> para un ordenador analógico.  En el caso de los sistemas basados en puertas, como algunas operaciones con qubits requieren dos qubits, el plano de datos cuánticos debe proporcionar una <b>red de \"cableado\" que permita interactuar a dos o más qubits</b>. Los sistemas analógicos suelen requerir una comunicación más rica entre los qubits, que debe ser soportada por esta capa.\n"
   ]
  },
  {
   "cell_type": "markdown",
   "id": "080fe82e",
   "metadata": {},
   "source": [
    "La alta fidelidad de los qubits requiere un fuerte aislamiento del entorno, lo que tiene el efecto de limitar la conectividad (puede que no sea posible que todos los qubits interactúen directamente con todos los demás qubits), por lo que el cálculo debe ajustarse a las restricciones arquitectónicas específicas de esta capa. Estas restricciones significan que tanto la <b>fidelidad</b> de la operación como la <b>conectividad</b> son métricas importantes de la capa de datos cuánticos.\n"
   ]
  },
  {
   "cell_type": "markdown",
   "id": "080fe82e",
   "metadata": {},
   "source": [
    "A diferencia de un ordenador clásico, en el que tanto los componentes del plano de control como los del plano de datos utilizan la misma tecnología de silicio y están integrados en el mismo dispositivo, el control del plano de datos cuántico requiere una tecnología distinta de la de los qubits, y se realiza externamente mediante una capa separada de control y medición.\n"
   ]
  },
  {
   "cell_type": "markdown",
   "id": "080fe82e",
   "metadata": {},
   "source": [
    "La información de control de los qubits, de naturaleza analógica, debe enviarse al qubit (o qubits) correcto. En algunos sistemas, esta información de control se transmite eléctricamente mediante cables, por lo que éstos forman parte del plano de datos cuánticos; en otros, se transmite con radiación óptica o de microondas. La transmisión debe implementarse de manera que tenga una alta especificidad, de modo que afecte sólo al qubit o qubits deseados, sin perturbar a los demás qubits del sistema. Esto resulta cada vez más difícil a medida que aumenta el número de qubits; El número de qubits de un módulo es, por tanto, otro parámetro importante de una capa de datos cuántica.\n"
   ]
  },
  {
   "cell_type": "markdown",
   "id": "080fe82e",
   "metadata": {},
   "source": [
    "Es decir, las propiedades clave que definen la calidad de un plano de datos cuántico son la <b>tasa de error de las puertas de un qubit y de dos qubits</b>, la <b>conectividad</b> interqubit, los <b>tiempos de coherencia</b> de los qubits y el <b>número de qubits</b> que puede contener un módulo.\n"
   ]
  },
  {
   "cell_type": "markdown",
   "id": "080fe82e",
   "metadata": {},
   "source": [
    "## Plano de control y medida\n"
   ]
  },
  {
   "cell_type": "markdown",
   "id": "080fe82e",
   "metadata": {},
   "source": [
    "El plano de control y medición <b>convierte las señales digitales del procesador de control, que indica qué operaciones cuánticas deben realizarse, en las señales de control analógicas necesarias para realizar las operaciones en los qubits del plano de datos cuánticos</b>. También <b>convierte la salida analógica de las mediciones de los qubits</b> en el plano de datos<b> en datos binarios</b> clásicos que el procesador de control puede manejar.\n"
   ]
  },
  {
   "cell_type": "markdown",
   "id": "080fe82e",
   "metadata": {},
   "source": [
    "La generación y transmisión de señales de control es un reto debido a la naturaleza analógica de las puertas cuánticas; pequeños errores en las señales de control, o irregularidades en el diseño físico del qubit, afectarán a los resultados de las operaciones. Los errores asociados a cada operación de puerta se acumulan a medida que la máquina funciona.\n"
   ]
  },
  {
   "cell_type": "markdown",
   "id": "080fe82e",
   "metadata": {},
   "source": [
    "Cualquier imperfección en el aislamiento de estas señales (lo que se denomina interferencia (<b>crosstalk</b>) de señales) hará que aparezcan pequeñas señales de control para qubits que, de otro modo, no deberían dirigirse durante una operación, lo que provocará pequeños errores en su estado de qubit. Cabe señalar que la interferencia puede producirse directamente entre los propios qubits en el plano de datos cuánticos.\n"
   ]
  },
  {
   "cell_type": "markdown",
   "id": "080fe82e",
   "metadata": {},
   "source": [
    "Afortunadamente, tanto los errores de fabricación del qubit como los errores de interferencia de la señal son sistemáticos y cambian lentamente con la configuración mecánica del sistema. Los efectos de estos errores que cambian lentamente pueden minimizarse utilizando formas de impulsos de control que reduzcan la dependencia del qubit de estos factores, y mediante la <b>calibración periódica del sistema</b>, siempre que exista un mecanismo para medir estos errores y un software que ajuste las señales de control para reducir estos errores a cero (calibración del sistema). Dado que cada señal de control puede interactuar potencialmente con cualquier otra señal de control, el número de mediciones y cálculos necesarios para lograr esta calibración se duplica con creces a medida que se duplica el número de qubits del sistema.\n"
   ]
  },
  {
   "cell_type": "markdown",
   "id": "080fe82e",
   "metadata": {},
   "source": [
    "La naturaleza de las señales de control de un ordenador cuántica depende de la tecnología de qubits subyacente. Por ejemplo, los sistemas que utilizan qubits de iones atrapados suelen basarse en señales de microondas u ópticas (formas de radiación electromagnética) transmitidas a través del espacio libre o de guías de ondas y enviadas a la ubicación de los qubits. Los sistemas de qubits superconductores se controlan mediante microondas y señales eléctricas de baja frecuencia, ambas comunicadas a través de cables que se introducen en un aparato de refrigeración para llegar a los qubits dentro del entorno controlado.\n"
   ]
  },
  {
   "cell_type": "markdown",
   "id": "080fe82e",
   "metadata": {},
   "source": [
    "A diferencia de las puertas clásicas, inmunes al ruido y con tasas de error despreciables, las operaciones cuánticas dependen de la precisión con la que se suministran las señales de control y tienen tasas de error no despreciables.\n"
   ]
  },
  {
   "cell_type": "markdown",
   "id": "080fe82e",
   "metadata": {},
   "source": [
    "Como ninguna puerta cuántica puede ser más rápida que el pulso de control que la implementa, aunque el sistema cuántico permita en principio un funcionamiento ultrarrápido, la velocidad de la puerta estará limitada por el tiempo necesario para construir y transmitir un pulso de control extremadamente preciso. Afortunadamente, la velocidad de la tecnología de silicio actual es lo suficientemente rápida como para que <b>la velocidad de la puerta esté limitada por el plano de datos cuánticos</b>, y no por el plano de control y medición. Actualmente, esta velocidad de puerta permite tiempos de aplicación de  decenas a cientos de nanosegundos para los qubits superconductores y de uno a cien microsegundos para los qubits de iones atrapados.\n"
   ]
  },
  {
   "cell_type": "markdown",
   "id": "080fe82e",
   "metadata": {},
   "source": [
    "## Plano del procesador de control\n"
   ]
  },
  {
   "cell_type": "markdown",
   "id": "080fe82e",
   "metadata": {},
   "source": [
    "El plano del procesador de control <b>identifica y activa</b> <b>la secuencia de operaciones y mediciones de las puertas cuánticas</b> o el Hamiltoniano adecuado (que posteriormente son llevadas a cabo por el plano de control y medición en el plano de datos cuánticos). Estas secuencias ejecutan el programa, proporcionado por el procesador anfitrión, para implementar un algoritmo cuántico. Las herramientas de software deben adaptar los programas a las capacidades específicas de la capa cuántica.\n"
   ]
  },
  {
   "cell_type": "markdown",
   "id": "080fe82e",
   "metadata": {},
   "source": [
    "Una de las tareas más importantes y desafiantes del plano del procesador de control será <b>ejecutar el algoritmo cuántico de corrección de errores</b> (si es posible). Se requiere un procesamiento de información clásico significativo para calcular las operaciones cuánticas necesarias para corregir errores basándose en los resultados del síndrome medido, y el tiempo necesario para este procesamiento puede ralentizar el funcionamiento del ordenador cuántico.\n"
   ]
  },
  {
   "cell_type": "markdown",
   "id": "080fe82e",
   "metadata": {},
   "source": [
    "Construir un plano del procesador de control para grandes máquinas cuánticas es un reto y un área activa de investigación. Un enfoque divide el plano en dos partes:\n",
    "\n",
    " \n- La primera es simplemente un procesador clásico que \"ejecuta\" el programa cuántico.\n",
    " \n- La segunda parte es un bloque de hardware personalizado escalable que interactúa directamente con el plano de control y medición, y combina las \"instrucciones\" de nivel superior emitidas por el controlador principal con las mediciones del síndrome (corrección de errores) para calcular las siguientes operaciones que deben realizarse en los qubits.\n",
    "\n",
    "El reto consiste en crear un hardware personalizado escalable que sea lo suficientemente rápido y pueda ampliarse con el tamaño de la máquina, y en crear la abstracción de instrucciones de alto nivel adecuada.\n"
   ]
  },
  {
   "cell_type": "markdown",
   "id": "080fe82e",
   "metadata": {},
   "source": [
    "El plano del procesador de control opera a un bajo nivel de abstracción: convierte el código compilado en órdenes para la capa de control y medición. Como resultado, un usuario no interactuará con (ni necesitará entender) el plano del procesador de control directamente. En su lugar, el usuario interactuará con un <b>ordenador anfitrión (host computer)</b>. Este plano se conectará a ese ordenador y actuará para acelerar la ejecución de algunas aplicaciones.  Estos aceleradores suelen tener una conexión de gran ancho de banda con el procesador anfitrión, normalmente a través de un acceso compartido a parte de la memoria del procesador anfitrión, que puede utilizarse para transferir tanto el programa que debe ejecutar el procesador de control como los datos que debe utilizar durante la ejecución.\n"
   ]
  },
  {
   "cell_type": "markdown",
   "id": "080fe82e",
   "metadata": {},
   "source": [
    "## Plano del procesador anfitrión (host processor)\n"
   ]
  },
  {
   "cell_type": "markdown",
   "id": "080fe82e",
   "metadata": {},
   "source": [
    "El procesador anfitrión es un <b>ordenador clásico, que ejecuta un sistema operativo convencional</b> con bibliotecas de soporte estándar para su propio funcionamiento. Este sistema informático proporciona todas las herramientas de desarrollo de software y los servicios que los usuarios esperan de un sistema informático. Ejecutará las herramientas de desarrollo de software necesarias para crear aplicaciones que se ejecutarán en el procesador de control, que son diferentes de las que se utilizan para controlar los ordenadores clásicos actuales, además de proporcionar los servicios de almacenamiento y redes que una aplicación cuántica pueda necesitar mientras se ejecuta. Adjuntar un procesador cuántico a un ordenador clásico permite utilizar todas sus funciones sin necesidad de empezar completamente de cero.\n"
   ]
  },
  {
   "cell_type": "markdown",
   "id": "080fe82e",
   "metadata": {},
   "source": [
    "::::::{admonition} Nota (QPUs como GPUs en cálculo) \n",
    ":class: note\n",
    "\n",
    "\n",
    "\n",
    "Es bien conocido que las GPUs o tarjetas gráficas, aparte de usarse para renderizar gráficos, se usan también para cálculo (como para entrenar IAs). De esta formas, las GPUs se usan como <b>aceleradores</b>, en el sentido de que un ordenador funcionan usando una CPU normal y delega ciertos cálculos en GPU.\n",
    "\n",
    "El enfoque de los QPUs o procesadores cuánticos es similar. Un ordenador clásico normal con una CPU normal es el que hace todo lo esperable por parte de un ordenador, solo que tiene la opción de mandar algún cálculo concreto a ejecutarse en un QPU, recogiendo los resultados y procesandolos.\n",
    "::::::\n"
   ]
  },
  {
   "cell_type": "markdown",
   "id": "8534e04c",
   "metadata": {},
   "source": [
    "::::{figure} https://quantumspain-project.es/wp-content/uploads/2022/11/Logo_QS_EspanaDigital.png\n",
    ":width: 2000px\n",
    ":align: center\n",
    "::::\n",
    "\n",
    "<center>\n",
    "<img align=\"left\" src=\"https://quantumspain-project.es/wp-content/uploads/2024/02/Banner-QS_GOB_v2.png\" width=\"1000px\" />\n",
    "</center>"
   ]
  }
 ],
 "metadata": {
  "kernelspec": {
   "display_name": "Python 3 (ipykernel)",
   "language": "python",
   "name": "python3"
  },
  "language_info": {
   "codemirror_mode": {
    "name": "ipython",
    "version": 3
   },
   "file_extension": ".py",
   "mimetype": "text/x-python",
   "name": "python",
   "nbconvert_exporter": "python",
   "pygments_lexer": "ipython3",
   "version": "3.11.7"
  },
  "toc": {
   "base_numbering": 1,
   "nav_menu": {},
   "number_sections": false,
   "sideBar": true,
   "skip_h1_title": true,
   "title_cell": "Table of Contents",
   "title_sidebar": "Contents",
   "toc_cell": false,
   "toc_position": {},
   "toc_section_display": true,
   "toc_window_display": false
  }
 },
 "nbformat": 4,
 "nbformat_minor": 5
}
