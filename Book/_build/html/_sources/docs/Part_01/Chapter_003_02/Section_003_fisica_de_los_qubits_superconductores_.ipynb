{
 "cells": [
  {
   "cell_type": "markdown",
   "id": "8ddaeb38",
   "metadata": {},
   "source": [
    "<img src=\"Figuras/Fig_logo_UMA_scbi.png\" align=center  width=\"2000px\"/>\n",
    "\n",
    "\n",
    "<a href=\"https://www.scbi.uma.es/web/es/computacion-cuantica/\">\n",
    "    <button class=\"rounded\" style=\"float: right;\">\n",
    "    <svg xmlns=\"http://www.w3.org/2000/svg\" width=\"32\" height=\"32\" viewBox=\"0 0 24 24\">\n",
    "        <path fill=\"var(--fill, white)\"\n",
    "        d=\"M18.1 15.3c-.1.1-.3.2-.4.3l-2.4.4l1.7 3.6c.2.4 0 .8-.4\n",
    "            1l-2.8 1.3c-.1.1-.2.1-.3.1c-.3 0-.6-.2-.7-.4L11.2\n",
    "            18l-1.9 1.5c-.1.1-.3.2-.5.2c-.4 0-.8-.3-.8-.8V7.5c0-.5.3-.8.8-.8c.2 0\n",
    "            .4.1.5.2l8.7 7.4c.3.2.4.7.1 1M6 12H4V4h16v8h-1.6l2.2 1.9c.8-.3 1.3-1\n",
    "            1.3-1.9V4c0-1.1-.9-2-2-2H4c-1.1 0-2 .9-2 2v8c0 1.1.9 2 2 2h2z\" />\n",
    "    </svg>\n",
    "    Volver a SCBI - Computación Cuantica\n",
    "    </button>\n",
    "</a>\n",
    "\n",
    "$ \\newcommand{\\bra}[1]{\\langle #1|} $\n",
    "$ \\newcommand{\\ket}[1]{|#1\\rangle} $\n",
    "$ \\newcommand{\\branew}[1]{\\langle #1|} $\n",
    "$ \\newcommand{\\ketnew}[1]{\\langle #1|} $\n",
    "$ \\newcommand{\\braket}[2]{\\langle #1|#2\\rangle} $\n",
    "$ \\newcommand{\\ketbra}[2]{| #1\\rangle \\langle #2 |} $\n",
    "$ \\newcommand{\\i}{{\\color{blue} i}} $ \n",
    "$ \\newcommand{\\Hil}{{\\cal H}} $\n",
    "$ \\newcommand{\\cg}[1]{{\\rm C}#1} $\n",
    "$ \\newcommand{\\lp}{\\left(} $\n",
    "$ \\newcommand{\\rp}{\\right)} $\n",
    "$ \\newcommand{\\lc}{\\left[} $\n",
    "$ \\newcommand{\\rc}{\\right]} $\n",
    "$ \\newcommand{\\lch}{\\left\\{} $\n",
    "$ \\newcommand{\\rch}{\\right\\}} $\n",
    "$ \\newcommand{\\Lp}{\\Bigl(} $\n",
    "$ \\newcommand{\\Rp}{\\Bigr)} $\n",
    "$ \\newcommand{\\Lc}{\\Bigl[} $\n",
    "$ \\newcommand{\\Rc}{\\Bigr]} $\n",
    "$ \\newcommand{\\Lch}{\\Bigl\\{} $\n",
    "$ \\newcommand{\\Rch}{\\Bigr\\}} $\n",
    "$ \\newcommand{\\rqa}{\\quad \\Rightarrow \\quad} $\n",
    "$ \\newcommand{\\bm}{\\boldsymbol}$"
   ]
  },
  {
   "cell_type": "markdown",
   "id": "080fe82e",
   "metadata": {},
   "source": [
    "\n",
    "<a id='sec_scq_fisica_de_lo_scq'></a>\n",
    "# Física de los qubits superconductores \n"
   ]
  },
  {
   "cell_type": "markdown",
   "id": "080fe82e",
   "metadata": {},
   "source": [
    "Nos centraremos aquí en los qubits transmones, que son los más comunes, siendo explotados por IBM, Google e IQM.\n"
   ]
  },
  {
   "cell_type": "markdown",
   "id": "080fe82e",
   "metadata": {},
   "source": [
    "Estos qubits son osciladores anarmónicos y, por tanto, no lineales. Su no linealidad procede de la unión Josephson. Esta no linealidad es la que hace que los estados de energía no estén equiespaciados (a la derecha en la Fig.  {numref}`%s <Fig_scq_LC_energy_levels>`), como si sucede cuando tenemos un resonador lineal formado por un condensador y una inductancia (una bobina) (<b>circuito LC</b>, a la izquierda en la Fig.  {numref}`%s <Fig_scq_LC_energy_levels>`). Este circuito LC se comporta como un <b>oscilador armónico</b>. En un oscilador armónico, los niveles de energía están espaciados por igual y son múltiplos del primer nivel de energía ($\\hbar \\omega_r$ en el diagrama). En el transmón, la unión Josephson tiene una inductancia no lineal que crea su anarmonicidad. En ambos casos, la corriente que fluye está cuantizada con niveles de energía discretos correspondientes a las barras horizontales del gráfico de la Fig.  {numref}`%s <Fig_scq_LC_energy_levels>`.\n"
   ]
  },
  {
   "cell_type": "markdown",
   "id": "080fe82e",
   "metadata": {},
   "source": [
    "<div class=\"alert alert-block alert-danger\">\n",
    "<p style=\"color: DarkRed;\">\n",
    "<b>Nota</b>: <i>(El circuito LC)</i>\n",
    "<br>\n",
    "Un Circuito LC, también denominado circuito resonante u oscilador LC, es un circuito eléctrico formado por una bobina, representado por la letra L y un condensador, representado por la letra C, los cuales se encuentran conectados entre sí. El circuito actúa como un resonador eléctrico a la frecuencia de resonancia del circuito.\n",
    "<br>\n",
    "Al estar el condensador y la bobina en paralelo, la energía almacenada por el campo eléctrico del condensador (en forma de cargas electrostáticas), es absorbida por la bobina, que la almacena en su campo magnético, pero a continuación es absorbida y almacenada por el condensador; nuevamente en forma de campo eléctrico; para ser nuevamente absorbida por la bobina, y así sucesivamente.\n",
    "<br>\n",
    "Es decir, tenemos un condensador que almacena energía eléctrica, en el sentido de que un lado del condensador tiene carga positiva y el otro carga negativa. En esta situación, la tendencia del circuito es a equilibrar la carga entre los dos lados del condensador, \"liberando\" la energía almacenada. De esta forma, la carga negativa fluye por el circuito hacía la cara cargada positivamente, generando una corriente.\n",
    "<br>\n",
    "Si el condensador estuviera solo en el circuito, simplemente se descargaría. Sin embargo, la presencia de la bobina (inductancia) hace que al haber una corriente se genere un campo magnético que a su vez genera un campo eléctrico que arranca más electrones de la cara negativa del condensador. El resultado esta vez es que, en vez de alcanzar el equilibrio de carga en el condensador, lo que pasa es que la cara que antes estaba cargada positivamente, ahora está cargada negativamente, y viceversa con la otra cara. Es decir, la carga del condensador se ha invertido. Estamos en la misma situación del principio pero con la carga invertida, así que sucederá lo mismo, pero está vez la corriente irá en sentido inverso.\n",
    "<br>\n",
    "Este ciclo se irá repitiendo, generando una corriente que oscila a una frecuencia determinada por los valores de la inductancia $L$ y del capacitancia $C$.\n",
    "</p></div>\n"
   ]
  },
  {
   "cell_type": "markdown",
   "id": "080fe82e",
   "metadata": {},
   "source": [
    "Estos estados de energía suelen controlarse mediante pulsos de microondas en el régimen de 5 GHz. Estos pulsos se atenúan mucho para dejar pasar muy pocos fotones. Estas interacciones entre qubits superconductores y fotones de microondas forman parte de una rama de la física cuántica denominada <b>electrodinámica cuántica de circuitos</b>, o <b>cQED</b> de sus siglas en inglés.\n"
   ]
  },
  {
   "cell_type": "markdown",
   "id": "080fe82e",
   "metadata": {},
   "source": [
    "Como podemos ver en la derecha en la Fig.  {numref}`%s <Fig_scq_LC_energy_levels>`, la diferencia de energía entre los niveles se va haciendo más pequeña a medida que subimos de nivel. Nosotros para los estados $\\ket{0}$ y $\\ket{1}$ cogemos los dos estados de menor energía del sistema (los dos inferiores). La energía de transición $\\hbar \\omega_{01}$ entre los estados $\\ket{0}$ y $\\ket{1}$ es superior a las energías de transición $\\hbar \\omega_{12}$, $\\hbar \\omega_{23}$, $\\dots$, entre los niveles superiores.\n"
   ]
  },
  {
   "cell_type": "markdown",
   "id": "080fe82e",
   "metadata": {},
   "source": [
    "Si los niveles de energía estuvieran equiespaciados, al enviar un pulso (fotones) con la energía de transición entre los dos estados de nuestro qubit, este pulso podría hacer promocionar el qubit a estados de energía superiores. Al no estar equiespaciados, nuestro pulso solo puede afectar a la transición deseada. Esto es debido a que en física cuántica las transiciones solo se dan sí se le aporta al sistema la energía justa de la transición. Para que se dieran transiciones a estados de energía superiores, tendríamos que aplicar un pulso diferente, con otra energía.\n"
   ]
  },
  {
   "cell_type": "markdown",
   "id": "080fe82e",
   "metadata": {},
   "source": [
    "Los qubits superconductores que se controlan con pulsos en torno a $\\omega_{01} \\approx 5$ GHz, tiene una energía de transición equivalente a una temperatura de unos 250 mK, muy superior a la temperatura de 15 mK utilizada habitualmente. Es decir, si nuestro qubit con $\\omega_{01} \\approx 5$ GHz estuviera a una temperatura 250 mK o superior, la transición entre los estados podría darse de forma espontánea.\n"
   ]
  },
  {
   "cell_type": "markdown",
   "id": "080fe82e",
   "metadata": {},
   "source": [
    "Hay otra razón para hacer funcionar el qubit a unos 15 mK. Se necesita una cierta cantidad de energía para romper los pares de Cooper de un qubit superconductor. En el aluminio, que es el material típico utilizado para crear la unión Josephson y sus alrededores, esta energía corresponde a 90 GHz a 20 mK. Es un orden de magnitud mayor que la diferencia de energía entre los dos niveles de un qubit. Esto significa que el qubit puede ser manipulado con energías más bajas (en el rango de 4-8 GHz) sin que se rompan los pares de Cooper de la corriente superconductora y se altere la coherencia cuántica del qubit.\n"
   ]
  },
  {
   "cell_type": "markdown",
   "id": "080fe82e",
   "metadata": {},
   "source": [
    "El qubit se acopla a una cavidad que contiene un <b>resonador de lectura</b>, generalmente implementado como un resonador de <b>guía de onda coplanar</b> (CPW de sus siglas en inglés) en un circuito superconductor. Su longitud suele corresponder a un cuarto de longitud de onda del resonador. Con una frecuencia de accionamiento de 6 GHz, se convierte en un resonador de 1,25 cm que suele apretarse en un trazado serpenteante. Este resonador se utiliza para <b>medir el estado del qubit</b>. Podemos ver un ejemplo de un chip superconductor de 7 qubits en la Fig.  {numref}`%s <Fig_scq_chip_7_qubits>`\n"
   ]
  },
  {
   "cell_type": "markdown",
   "id": "080fe82e",
   "metadata": {},
   "source": [
    "<figure><center>\n",
    "<img src=\"Figuras/Fig_scq_chip_7_qubits.png\" alt=\"\" align=center width='700px'/>\n",
    "<a id='Fig_scq_chip_7_qubits'></a>\n",
    "<center>Chip superconductor de 7 qubit diseñado por IBM.</center>\n",
    "</center></figure>\n\n"
   ]
  },
  {
   "cell_type": "markdown",
   "id": "8534e04c",
   "metadata": {},
   "source": [
    "<figure><center>\n",
    "<img   src=\"https://quantumspain-project.es/wp-content/uploads/2022/11/Logo_QS_EspanaDigital.png\" align=center  width=\"2000px\"/>\n",
    "</center></figure>\n",
    "\n",
    "<center>\n",
    "<img align=\"left\" src=\"https://quantumspain-project.es/wp-content/uploads/2024/02/Banner-QS_GOB_v2.png\" width=\"1000px\" />\n",
    "</center>"
   ]
  }
 ],
 "metadata": {
  "kernelspec": {
   "display_name": "Python 3 (ipykernel)",
   "language": "python",
   "name": "python3"
  },
  "language_info": {
   "codemirror_mode": {
    "name": "ipython",
    "version": 3
   },
   "file_extension": ".py",
   "mimetype": "text/x-python",
   "name": "python",
   "nbconvert_exporter": "python",
   "pygments_lexer": "ipython3",
   "version": "3.11.7"
  },
  "toc": {
   "base_numbering": 1,
   "nav_menu": {},
   "number_sections": false,
   "sideBar": true,
   "skip_h1_title": true,
   "title_cell": "Table of Contents",
   "title_sidebar": "Contents",
   "toc_cell": false,
   "toc_position": {},
   "toc_section_display": true,
   "toc_window_display": false
  }
 },
 "nbformat": 4,
 "nbformat_minor": 5
}
