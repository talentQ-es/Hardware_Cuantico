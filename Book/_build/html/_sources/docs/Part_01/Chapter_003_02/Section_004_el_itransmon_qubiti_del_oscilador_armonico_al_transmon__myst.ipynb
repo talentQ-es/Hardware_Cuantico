{
 "cells": [
  {
   "cell_type": "markdown",
   "id": "8ddaeb38",
   "metadata": {},
   "source": [
    "> {sub-ref}`today` | {sub-ref}`wordcount-minutes` min read\n",
    "\n",
    "",
    "<a href=\"https://www.talentq.es/es_es/cursos/\">\n",
    "    <button class=\"rounded\" style=\"float: right;\">\n",
    "    <svg xmlns=\"http://www.w3.org/2000/svg\" width=\"32\" height=\"32\" viewBox=\"0 0 24 24\">\n",
    "        <path fill=\"var(--fill, white)\"\n",
    "        d=\"M18.1 15.3c-.1.1-.3.2-.4.3l-2.4.4l1.7 3.6c.2.4 0 .8-.4\n",
    "            1l-2.8 1.3c-.1.1-.2.1-.3.1c-.3 0-.6-.2-.7-.4L11.2\n",
    "            18l-1.9 1.5c-.1.1-.3.2-.5.2c-.4 0-.8-.3-.8-.8V7.5c0-.5.3-.8.8-.8c.2 0\n",
    "            .4.1.5.2l8.7 7.4c.3.2.4.7.1 1M6 12H4V4h16v8h-1.6l2.2 1.9c.8-.3 1.3-1\n",
    "            1.3-1.9V4c0-1.1-.9-2-2-2H4c-1.1 0-2 .9-2 2v8c0 1.1.9 2 2 2h2z\" />\n",
    "    </svg>\n",
    "    Volver a TalentQ\n",
    "    </button>\n",
    "</a>\n",
    "\n",
    "$ \\newcommand{\\bra}[1]{\\langle #1|} $\n",
    "$ \\newcommand{\\ket}[1]{|#1\\rangle} $\n",
    "$ \\newcommand{\\branew}[1]{\\langle #1|} $\n",
    "$ \\newcommand{\\ketnew}[1]{\\langle #1|} $\n",
    "$ \\newcommand{\\braket}[2]{\\langle #1|#2\\rangle} $\n",
    "$ \\newcommand{\\ketbra}[2]{| #1\\rangle \\langle #2 |} $\n",
    "$ \\newcommand{\\i}{{\\color{blue} i}} $ \n",
    "$ \\newcommand{\\Hil}{{\\cal H}} $\n",
    "$ \\newcommand{\\cg}[1]{{\\rm C}#1} $\n",
    "$ \\newcommand{\\lp}{\\left(} $\n",
    "$ \\newcommand{\\rp}{\\right)} $\n",
    "$ \\newcommand{\\lc}{\\left[} $\n",
    "$ \\newcommand{\\rc}{\\right]} $\n",
    "$ \\newcommand{\\lch}{\\left\\{} $\n",
    "$ \\newcommand{\\rch}{\\right\\}} $\n",
    "$ \\newcommand{\\Lp}{\\Bigl(} $\n",
    "$ \\newcommand{\\Rp}{\\Bigr)} $\n",
    "$ \\newcommand{\\Lc}{\\Bigl[} $\n",
    "$ \\newcommand{\\Rc}{\\Bigr]} $\n",
    "$ \\newcommand{\\Lch}{\\Bigl\\{} $\n",
    "$ \\newcommand{\\Rch}{\\Bigr\\}} $\n",
    "$ \\newcommand{\\rqa}{\\quad \\Rightarrow \\quad} $\n",
    "$ \\newcommand{\\bm}{\\boldsymbol}$"
   ]
  },
  {
   "cell_type": "markdown",
   "id": "080fe82e",
   "metadata": {},
   "source": [
    "\n",
    "(sec_sub_scq_qho)= \n",
    "# El <i>Transmon Qubit</i>: Del oscilador armónico al Transmón \n"
   ]
  },
  {
   "cell_type": "markdown",
   "id": "080fe82e",
   "metadata": {},
   "source": [
    "En esta sección vamos a deducir el Hamiltoniano de qubit transmónico (Transmon Qubit, {cite}`bib_transmon_first_paper`). Para ello veremos cual es al Hamiltoniano de un <b>circuito LC</b> clásico (sección  {numref}`%s <sec_scq_circuito_LC_clasico>`), lo cuantizaremos y sustituiremos la inductancia por una inductacia no lineal (una <b>unión Josephson</b>, ver sección  {numref}`%s <sec_scq_circuito_LC_cuantico>`). Finalmente, hablaremos del famoso <b>qubit Transmón</b> (sección  {numref}`%s <sec_scq_transmon_normal>`), viendo antes unos comentarios sobre el <b>qubit de carga</b>.\n"
   ]
  },
  {
   "cell_type": "markdown",
   "id": "080fe82e",
   "metadata": {},
   "source": [
    "Para comprender bien el circuito LC, presentaremos primero las ecuaciones para un Condensador (sección  {numref}`%s <sec_sub_scq_condensador>`) y un Inductor (sección  {numref}`%s <sec_sqc_inductor>`).\n"
   ]
  },
  {
   "cell_type": "markdown",
   "id": "080fe82e",
   "metadata": {},
   "source": [
    "\n",
    "(sec_sub_scq_condensador)= \n",
    "## Condensador \n"
   ]
  },
  {
   "cell_type": "markdown",
   "id": "080fe82e",
   "metadata": {},
   "source": [
    "En electrotecnia, un <b>condensador</b> (\"capacitor\" en inglés) es un dispositivo que almacena <b>energía eléctrica</b> mediante la acumulación de cargas eléctricas en dos superficies muy próximas y aisladas entre sí.\n"
   ]
  },
  {
   "cell_type": "markdown",
   "id": "080fe82e",
   "metadata": {},
   "source": [
    "Un condensador consta de dos conductores separados por una región no conductora. La región no conductora está compuesta por un material dielectrico, es decir, un material no conductor (por ejemplo, el aire es un dieléctrico). De este modo, los conductores mantienen cargas iguales y opuestas en sus superficies enfrentadas, y en el dieléctrico aparece un campo eléctrico.\n"
   ]
  },
  {
   "cell_type": "markdown",
   "id": "080fe82e",
   "metadata": {},
   "source": [
    "Un condensador ideal se caracteriza por una <b>capacitancia</b> constante $C$, en faradios en el sistema de unidades SI, definida como la relación entre la carga positiva o negativa $Q$ de cada conductor y la tensión $V$ entre ellos:\n",
    "```{math}\n",
    ":label: ec_sqc_capacitance \n",
    "\\begin{equation} \n",
    "C = \\frac{Q}{V}\n",
    "\\end{equation} \n",
    "```\n"
   ]
  },
  {
   "cell_type": "markdown",
   "id": "080fe82e",
   "metadata": {},
   "source": [
    "La capacitancia se puede definir también en términos de cambios incrementales:\n",
    "```{math}\n",
    ":label: ec_sqc_d_capacitance \n",
    "\\begin{equation} \n",
    "C = \\frac{dQ}{dV}\n",
    "\\end{equation} \n",
    "```\n"
   ]
  },
  {
   "cell_type": "markdown",
   "id": "080fe82e",
   "metadata": {},
   "source": [
    "Para aumentar la carga y el voltaje en un condensador, el trabajo debe ser realizado por una fuente de energía externa para mover la carga de la placa negativa a la positiva contra la fuerza opuesta del campo eléctrico. Si el voltaje en el condensador es $V$, el trabajo $dW$ necesario para mover un pequeño incremento de carga $dq$ de la placa negativa a la positiva es $dW=Vdq$. La energía se almacena en el aumento del campo eléctrico entre las placas. La energía total $E_C$ almacenada en un condensador (expresada en julios) es igual al trabajo total $W$ realizado para establecer el campo eléctrico a partir de un estado sin carga:\n",
    "```{math}\n",
    ":label: ec_sqc_capacitor_E \n",
    "\\begin{equation} \n",
    "E_C = W = \\int_0^Q V (q) dq = \\int_0^Q \\frac{q}{C} dq = \\frac{1}{2} \\frac{Q^2}{C} = \\frac{1}{2} C V^2\n",
    "\\end{equation} \n",
    "```\n",
    "donde se ha usado la Ec.  {eq}`%s <ec_sqc_capacitance>`, $Q$ es la carga almacenada en el condensador, $V$ es la tensión a través del condensador y $C$ es la capacitancia.\n"
   ]
  },
  {
   "cell_type": "markdown",
   "id": "080fe82e",
   "metadata": {},
   "source": [
    "::::{figure} Figuras/Fig_Types_of_capacitor.png\n",
    ":width: 400px\n",
    ":align: center\n",
    ":name: Fig_Types_of_capacitor.png\n",
    "Representación de un condensador en un circuito\n",
    "::::\n"
   ]
  },
  {
   "cell_type": "markdown",
   "id": "080fe82e",
   "metadata": {},
   "source": [
    "\n",
    "(sec_sqc_inductor)= \n",
    "## Inductor  \n"
   ]
  },
  {
   "cell_type": "markdown",
   "id": "080fe82e",
   "metadata": {},
   "source": [
    "Un <b>inductor</b>, también llamado bobina, estrangulador o reactor, es un componente eléctrico pasivo de dos terminales que almacena energía en un <b>campo magnético</b> cuando una corriente eléctrica fluye a través de él. Un inductor suele consistir en un alambre aislado enrollado en una bobina.\n"
   ]
  },
  {
   "cell_type": "markdown",
   "id": "080fe82e",
   "metadata": {},
   "source": [
    "\n"
   ]
  },
  {
   "cell_type": "markdown",
   "id": "080fe82e",
   "metadata": {},
   "source": [
    "Un inductor está caracterizado por su <b>inductancia</b>, $L$. Una corriente eléctrica que circula por un conductor genera un campo magnético a su alrededor. El enlace de flujo magnético $\\Phi$ generado por una corriente $I$ dada depende de la forma geométrica del circuito. Su relación define la inductancia $L$:\n",
    "```{math}\n",
    ":label: ec_sqc_inductor_L \n",
    "\\begin{equation} \n",
    "L = \\frac{\\Phi_B}{I}\n",
    "\\end{equation} \n",
    "```\n"
   ]
  },
  {
   "cell_type": "markdown",
   "id": "080fe82e",
   "metadata": {},
   "source": [
    "Cualquier cambio en la corriente a través de un inductor crea un flujo cambiante, induciendo un voltaje a través del inductor. Por la ley de inducción de Faraday, el voltaje $\\mathcal {E}$ inducido por cualquier cambio en el flujo magnético a través del circuito viene dado por\n",
    "```{math}\n",
    ":label: ec_sqc_inductor_emf_flux \n",
    "\\begin{equation} \n",
    "\\mathcal{E} = - \\frac{d \\Phi_B}{dt} = - \\frac{d}{dt}(LI)\n",
    "\\rqa\n",
    "\\Phi_B = - \\int_{-\\infty}^t \\mathcal{E}(t')  dt'\n",
    "\\end{equation} \n",
    "```\n",
    "Juntando  {eq}`%s <ec_sqc_inductor_L>` y  {eq}`%s <ec_sqc_inductor_emf_flux>` llegamos a\n",
    "```{math}\n",
    ":label: ec_sqc_inductor_emf_flux \n",
    "\\begin{equation} \n",
    "\\mathcal{E} = - L \\frac{d I}{dt}\n",
    "\\end{equation} \n",
    "```\n",
    "donde se ha tomado que $L$ es independiente del tiempo, la corriente y el flujo magnético.\n"
   ]
  },
  {
   "cell_type": "markdown",
   "id": "080fe82e",
   "metadata": {},
   "source": [
    "La polaridad (dirección) de la tensión inducida viene dada por la <b>ley de Lenz</b>, que establece que la tensión inducida será tal que se oponga al cambio en la corriente. Por ejemplo, si la corriente a través de un inductor aumenta, la diferencia de potencial inducida será positiva en el punto de entrada de la corriente y negativa en el punto de salida, tendiendo a oponerse a la corriente adicional. La energía del circuito externo necesaria para superar esta \"colina\" de potencial se almacena en el campo magnético del inductor. Si la corriente es decreciente, la tensión inducida será negativa en el punto de entrada de la corriente y positiva en el punto de salida, tendiendo a mantener la corriente. En este caso, la energía del campo magnético se devuelve al circuito.\n"
   ]
  },
  {
   "cell_type": "markdown",
   "id": "080fe82e",
   "metadata": {},
   "source": [
    "Dado que la tensión inducida es positiva en el terminal de entrada de la corriente, la relación corriente-tensión del inductor se expresa a menudo sin signo negativo utilizando el terminal de salida de la corriente como punto de referencia para la tensión $V(t)$ en el terminal de entrada de la corriente. La forma derivada de esta relación corriente-tensión es entonces:\n",
    "```{math}\n",
    ":label: ec_sqc_inductor_V_flux \n",
    "\\begin{equation} \n",
    "V(t) = \\frac{d \\Phi_B}{dt} = L \\frac{dI}{dt}\n",
    "\\rqa\n",
    "\\Phi_B = \\int_{-\\infty}^t V(t')  dt'\n",
    "\\end{equation} \n",
    "```\n"
   ]
  },
  {
   "cell_type": "markdown",
   "id": "080fe82e",
   "metadata": {},
   "source": [
    "El trabajo realizado por unidad de carga en las cargas que pasan a través del inductor es $-\\mathcal{E}$. El signo negativo indica que el trabajo se hace en contra de la emf, y no se hace por la emf. La corriente $I$ es la carga por unidad de tiempo que pasa a través del inductor. Por lo tanto, la tasa de trabajo $W$ realizado por las cargas en contra de la emf, que es la tasa de cambio de energía de la corriente, está dada por\n",
    "\\begin{equation}\n",
    "\\frac{dW}{dt} = - \\mathcal{E} I = \\lp L \\frac{dI}{dt} \\rp I\n",
    "\\rqa\n",
    "dW = LI \\cdot dI\n",
    "\\end{equation}\n"
   ]
  },
  {
   "cell_type": "markdown",
   "id": "080fe82e",
   "metadata": {},
   "source": [
    "Sin tener en cuenta las pérdidas, la energía $E_L$ almacenada por un inductor con una corriente $I$ que pasa a través de él es igual a la cantidad de trabajo necesario para establecer la corriente a través del inductor:\n",
    "\\begin{equation}\n",
    "E_L = W = \\int_0^{I} L I^{'} dI^{'} = \\frac{1}{2} L I^2\n",
    "\\end{equation}\n",
    "donde se ha asumido una inductancia constante ($L \\neq L(I^{'})$). Usando la Ec.  {eq}`%s <ec_sqc_inductor_L>` llegamos a\n",
    "```{math}\n",
    ":label: ec_sqc_Inductor_E \n",
    "\\begin{equation} \n",
    "E_L = \\frac{1}{2L} \\Phi_B^2\n",
    "\\end{equation} \n",
    "```\n"
   ]
  },
  {
   "cell_type": "markdown",
   "id": "080fe82e",
   "metadata": {},
   "source": [
    "::::{figure} Figuras/Fig_sqc_inductor.jpg\n",
    ":width: 200px\n",
    ":align: center\n",
    ":name: Fig_sqc_inductor\n",
    "Representación de un inductor en un circuito\n",
    "::::\n"
   ]
  },
  {
   "cell_type": "markdown",
   "id": "080fe82e",
   "metadata": {},
   "source": [
    "\n",
    "(sec_scq_circuito_LC_clasico)= \n",
    "## Circuito LC Clásico \n"
   ]
  },
  {
   "cell_type": "markdown",
   "id": "080fe82e",
   "metadata": {},
   "source": [
    "Un Circuito LC es un circuito eléctrico formado por una inductor, $L$, y un condensador, $C$, conectados en paralelo (Fig.  {numref}`%s <Fig_sqc_circuitos_LC>`a). Como vamos a ver a continuación, este circuito funciona como un orcilador.\n"
   ]
  },
  {
   "cell_type": "markdown",
   "id": "080fe82e",
   "metadata": {},
   "source": [
    "### Explicación cualitativa\n"
   ]
  },
  {
   "cell_type": "markdown",
   "id": "080fe82e",
   "metadata": {},
   "source": [
    "Empecemos viendo una explicación cualitativa del funcionamiento de este circuito.\n"
   ]
  },
  {
   "cell_type": "markdown",
   "id": "080fe82e",
   "metadata": {},
   "source": [
    "Supongamos que partimos de la situación en que no tenemos corriente y tenemos el condensador cargado, en el sentido de que una cara del condensador tiene carga positiva y el otro carga negativa. En este caso, toda la energía del circuito se almacena en el condensador en forma de campo eléctrico. En esta situación, la tendencia del circuito es a equilibrar la carga entre los dos caras del condensador, \"liberando\" la energía almacenada. De esta forma, la carga negativa fluye por el circuito hacía la cara cargada positivamente, generando una corriente.\n"
   ]
  },
  {
   "cell_type": "markdown",
   "id": "080fe82e",
   "metadata": {},
   "source": [
    "Si el condensador estuviera solo en el circuito, simplemente se descargaría. Sin embargo, la presencia de un inductor hace que al haber una corriente se genere un campo magnético. Este a su vez genera un campo eléctrico que arranca más electrones de la cara negativa del condensador. El resultado es que, en vez de alcanzar el equilibrio de carga en el condensador, lo que sucede es que la cara que antes estaba cargada positivamente, ahora está cargada negativamente, y viceversa. Es decir, la carga del condensador se ha invertido. Estamos en la misma situación del principio pero con la carga invertida, por lo que sucederá lo mismo, pero está vez la corriente irá en sentido inverso.\n"
   ]
  },
  {
   "cell_type": "markdown",
   "id": "080fe82e",
   "metadata": {},
   "source": [
    "Este ciclo se irá repitiendo, generando una corriente que oscila a una frecuencia determinada por los valores de la inductancia $L$ y del capacitancia $C$\n",
    "```{math}\n",
    ":label: ec_sqc_LCC_omega \n",
    "\\begin{equation} \n",
    "\\omega = \\sqrt{\\frac{1}{LC}}\n",
    "\\end{equation} \n",
    "```\n",
    "El circuito actúa como un resonador eléctrico a la frecuencia de resonancia del circuito.\n"
   ]
  },
  {
   "cell_type": "markdown",
   "id": "080fe82e",
   "metadata": {},
   "source": [
    "::::{figure} Figuras/Fig_sqc_circuitos_LC.png\n",
    ":width: 600px\n",
    ":align: center\n",
    ":name: Fig_sqc_circuitos_LC\n",
    "(a) Circuito para un oscilador LC paralelo (oscilador armónico cuántico, QHO), con inductancia $L$ en paralelo con capacitancia, $C$. La fase superconductora en la isla se denota como $\\phi$, referenciando la tierra como cero. (b) Potencial energético para el QHO, donde los niveles de energía están equidistantemente espaciados $\\hbar \\omega_r$. (c) Circuito qubit Josephson, en el que la inductancia no lineal $L_J$ (representada por el subcircuito Josephson en el recuadro naranja discontinuo) es derivada por una capacitancia, $C_s$. (d) La inductancia de Josephson transforma el potencial energético cuadrático (rojo discontinuo) en sinusoidal (azul sólido), lo que produce niveles de energía no equidistantes. Esto nos permite aislar los dos niveles de energía más bajos $\\ket{0}$ y $\\ket{1}$, formando un subespacio computacional con una separación energética $\\hbar \\omega_{01}$, que es diferente de $\\hbar \\omega_{1}$. Figura tomada de {cite}`bib_A_quantum_engineers_guide`\n",
    "::::\n"
   ]
  },
  {
   "cell_type": "markdown",
   "id": "080fe82e",
   "metadata": {},
   "source": [
    "### Hamiltoniano del oscilador armónico\n"
   ]
  },
  {
   "cell_type": "markdown",
   "id": "080fe82e",
   "metadata": {},
   "source": [
    "Como acabamos de comentar, en este circuito la corriente oscila cambiando de sentido. En esta sección vamos a escribir el Hamiltoniano del circuito LC y ver que llegamos al Hamiltoniano de un orcilador armónico.\n"
   ]
  },
  {
   "cell_type": "markdown",
   "id": "080fe82e",
   "metadata": {},
   "source": [
    "Cuando se producen estas oscilaciones en el sentido de la corriente, la energía total almacenada en el circuito se mantiene constante. Sin embargo, esta oscila entre la <b>energía eléctrica</b> almacenada en el condensador y la <b>energía magnética</b> almacenada en el inductor.\n"
   ]
  },
  {
   "cell_type": "markdown",
   "id": "080fe82e",
   "metadata": {},
   "source": [
    "En lo sucesivo, asociaremos arbitrariamente:\n",
    "\n",
    " \n- La energía eléctrica a la \"energía cinética\" del oscilador. Teniendo en cuenta la Ec.  {eq}`%s <ec_sqc_capacitor_E>`, vemos que:\n",
    "    ```{math}\n",
    "    :label: ec_scq_LCC_T \n",
    "    \\begin{equation} \n",
    "    T_{LC} = E_C = \\frac{1}{2} C V^2 = \\frac{1}{2} C \\lp \\frac{d \\Phi_B}{dt} \\rp = \\frac{1}{2} C \\dot{\\Phi}_B\n",
    "    \\end{equation} \n",
    "    ```\n",
    "    donde se ha usado la Ec.  {eq}`%s <ec_sqc_inductor_V_flux>`\n",
    " \n- La energía magnética a la \"energía potencial\" del oscilador. Teniendo en cuenta la Ec.  {eq}`%s <ec_sqc_Inductor_E>`, vemos que\n",
    "    ```{math}\n",
    "    :label: ec_scq_LCC_V \n",
    "    \\begin{equation} \n",
    "    V_{LC} = E_L =  \\frac{1}{2L} \\Phi_B^2\n",
    "    \\end{equation} \n",
    "    ```\n",
    "\n",
    "Para derivar el hamiltoniano clásico, vamos a representar el circuito en términos de una de sus coordenadas generalizadas, <b>carga</b> o <b>flujo</b>. Siguiendo la elección anterior de las energías, vamos a elegir el flujo (ver Ec.  {eq}`%s <ec_sqc_inductor_V_flux>`) como coordenada generalizada.\n"
   ]
  },
  {
   "cell_type": "markdown",
   "id": "080fe82e",
   "metadata": {},
   "source": [
    "::::::{admonition} Nota (Flujo como coordenada generalizada) \n",
    ":class: note\n",
    "\n",
    "\n",
    "\n",
    "Vamos a comprobar que nuestras elecciones son coherentes. Comparemos la Ec.  {eq}`%s <ec_scq_LCC_T>` y la Ec.  {eq}`%s <ec_scq_LCC_V>` con la Ec.  {eq}`%s <ec_sqc_oscilador_T_V>`:\n",
    "\\begin{equation}\n",
    "\\left.\n",
    "\\begin{aligned}\n",
    "V_{LC} = \\frac{1}{2L} \\Phi_B^2 \\\\\n",
    "V_{HO} = \\frac{1}{2} k x^2\n",
    "\\end{aligned}\n",
    "\\right\\} \\Rightarrow \\text{Asociamos: } x = \\Phi_B, \\, k = \\frac{1}{L}\n",
    "\\end{equation}\n",
    "\\begin{equation}\n",
    "\\left.\n",
    "\\begin{aligned}\n",
    "T_{LC} = \\frac{1}{2} C \\dot{\\Phi}_B\\\\\n",
    "T_{HO} = \\frac{1}{2} m \\dot{x}^2\n",
    "\\end{aligned}\n",
    "\\right\\} \\Rightarrow \\text{Asociamos: } \\dot{x} = \\dot{\\Phi}_B, \\, m = C\n",
    "\\end{equation}\n",
    "Con estas identificaciones, las expresiones de las frecuencias (Ec.  {eq}`%s <ec_sqc_LCC_omega>` y Ec.  {eq}`%s <ec_sqc_oscilador_omega>`) también coinciden.\n",
    "\n",
    "Es decir, vemos que todo es coherente.\n",
    "::::::\n"
   ]
  },
  {
   "cell_type": "markdown",
   "id": "080fe82e",
   "metadata": {},
   "source": [
    "::::::{admonition} Nota (Carga como coordenada generalizada) \n",
    ":class: note\n",
    "\n",
    "\n",
    "\n",
    "En esta sección hemos tomado el flujo $\\Phi_B$ en la inductancia como coordenada generalizada. Podríamos hacer el mismo análisis tomando la carga $Q$ del condensador como coordenada generalizada.  En este caso, las asociaciones de energías tendrían que ser al revés:\n",
    "\n",
    "\n- La energía eléctrica a la \"energía potencia\" del oscilador.\n",
    "\n- La energía magnética a la \"energía cinética\" del oscilador.\n",
    "\n",
    "Simplemente habría que darle una vuelta a las Ecs.  {eq}`%s <ec_sqc_capacitor_E>` y  {eq}`%s <ec_sqc_Inductor_E>` para escribirlas en función de $Q$ y $\\dot{Q}$.\n",
    "::::::\n"
   ]
  },
  {
   "cell_type": "markdown",
   "id": "080fe82e",
   "metadata": {},
   "source": [
    "Para calcular el Hamiltoniano, seguiremos los mismos pasos que en el ejemplo del oscilador armónico. Teniendo en cuenta la Ec.\n",
    " {eq}`%s <ec_sqc_FLagrangiano_L_T_V>`, el Lagrangiano es de la forma:\n",
    "```{math}\n",
    ":label: ec_sqc_LC_L \n",
    "\\begin{equation} \n",
    "L_{LC} = \\frac{1}{2} C \\dot{\\Phi}_B - \\frac{1}{2L} \\Phi_B^2\n",
    "\\end{equation} \n",
    "```\n"
   ]
  },
  {
   "cell_type": "markdown",
   "id": "080fe82e",
   "metadata": {},
   "source": [
    "Para calcular el Hamiltoniano, calculemos primero el momento  {eq}`%s <ec_sqc_FHamiltoniano_p>`:\n",
    "\\begin{equation}\n",
    "p = \\frac{\\partial L}{\\partial \\dot{\\Phi}_B} = C  \\dot{\\Phi}_B\n",
    "\\end{equation}\n",
    "Volviendo a la ecuación de la capacitancia (Ec.  {eq}`%s <ec_sqc_capacitance>`), vemos que\n",
    "\\begin{equation}\n",
    "Q = C V = C \\frac{d \\Psi_B}{dt} = C \\dot{\\Phi}_B\n",
    "\\end{equation}\n",
    "donde se ha usado la Ec.  {eq}`%s <ec_sqc_inductor_V_flux>`. Vemos que en nuestra analogía con el oscilador armónico, la carga del condensador es equivalente al momento (ver Ec.  {eq}`%s <ec_sqc_oscialdor_p>`).\n"
   ]
  },
  {
   "cell_type": "markdown",
   "id": "080fe82e",
   "metadata": {},
   "source": [
    "Calculemos ahora el Hamiltoniano usando la Ec.  {eq}`%s <ec_sqc_FHamiltoniano_Legendre>`\n",
    "```{math}\n",
    ":label: ec_sqc_LC_H \n",
    "\\begin{equation} \n",
    "H_{LC} = Q - L_{LC} = \\frac{1}{2C} Q^2 + \\frac{1}{2L} \\Phi_B^2\n",
    "\\end{equation} \n",
    "```\n"
   ]
  },
  {
   "cell_type": "markdown",
   "id": "080fe82e",
   "metadata": {},
   "source": [
    "\n",
    "\n",
    "\n",
    "\n",
    "\n",
    "\n"
   ]
  },
  {
   "cell_type": "markdown",
   "id": "080fe82e",
   "metadata": {},
   "source": [
    "\n",
    "(sec_scq_circuito_LC_cuantico)= \n",
    "## Circuito LC Cuántico \n"
   ]
  },
  {
   "cell_type": "markdown",
   "id": "080fe82e",
   "metadata": {},
   "source": [
    "### Cuantización del circuito LC\n"
   ]
  },
  {
   "cell_type": "markdown",
   "id": "080fe82e",
   "metadata": {},
   "source": [
    "Vamos usar la cuantización canónica (sección  {numref}`%s <sec_scq_cuantizacion_canonica>`) para cuantizar el hamiltoniano de la Ec.  {eq}`%s <ec_sqc_LC_H>`. Tenemos ahora pues que\n",
    "```{math}\n",
    ":label: ec_sqc_LC_cuantico_H_1 \n",
    "\\begin{equation} \n",
    "\\hat{H}_{LC} = \\frac{1}{2C} \\hat{Q}^2 + \\frac{1}{2L} \\hat{\\Phi}_B^2\n",
    "\\end{equation} \n",
    "```\n",
    "\\begin{equation}\n",
    "\\lc \\hat{\\Phi}_B, \\hat{Q} \\rc = \\hat{\\Phi}_B \\hat{Q} - \\hat{Q} \\hat{\\Phi}_B = i \\hbar \\, ,\n",
    "\\end{equation}\n"
   ]
  },
  {
   "cell_type": "markdown",
   "id": "080fe82e",
   "metadata": {},
   "source": [
    "\n"
   ]
  },
  {
   "cell_type": "markdown",
   "id": "080fe82e",
   "metadata": {},
   "source": [
    "Definamos el <b>flujo reducido</b>, $\\hat{\\phi}$, y la <b>carga reducida</b>, $\\hat{n}$:\n",
    "\\begin{equation}\n",
    "\\hat{\\phi} \\equiv 2 \\pi \\frac{\\hat{\\Phi}_B}{\\Phi_0}, \\qquad \\text{donde} \\qquad \\Phi_0 = \\frac{h}{2e}\n",
    "\\end{equation}\n",
    "```{math}\n",
    ":label: ec_scq_carga_reducida \n",
    "\\begin{equation} \n",
    "\\hat{n} \\equiv \\frac{\\hat{Q}}{2e}\\, .\n",
    "\\end{equation} \n",
    "```\n",
    "La constante $\\Phi_0$ es el <b>cuanto de flujo magnético superconductor</b>.\n"
   ]
  },
  {
   "cell_type": "markdown",
   "id": "080fe82e",
   "metadata": {},
   "source": [
    "Podemos reescribir ahora el hamiltoniano de la forma\n",
    "```{math}\n",
    ":label: ec_sqc_LC_cuantico_H \n",
    "\\begin{equation} \n",
    "H_{LC} = 4 E_C \\hat{n}^2 + \\frac{1}{2} E_L \\hat{\\phi}^2 \\, ,\n",
    "\\end{equation} \n",
    "```\n",
    "con\n",
    "\\begin{equation}\n",
    "E_C = \\frac{e^2}{2C} \\, ,\n",
    "\\qquad\n",
    "E_L = \\frac{(\\Phi_0/(2 \\pi))^2}{L}\n",
    "\\end{equation}\n",
    "donde $E_C$ es la <b>energía de carga</b> y $E_L$ es la <b>energía inductiva</b>.\n"
   ]
  },
  {
   "cell_type": "markdown",
   "id": "080fe82e",
   "metadata": {},
   "source": [
    "Además, el operador cuántico $\\hat{n}$ es el <b>número en exceso de pares de Cooper en la isla</b>, y $\\hat{\\phi}$ es la <b>fase invariante de gauge</b> a través del inductor.  Estos dos operadores forman un par conjugado canónico que obedece a la relación de conmutación\n",
    "\\begin{equation}\n",
    "\\lc \\hat{\\phi}, \\hat{n} \\rc = i\n",
    "\\end{equation}\n",
    "Observamos que el factor 4 delante de la energía de carga $E_C$ en la Ec.  {eq}`%s <ec_sqc_LC_cuantico_H>` es únicamente un artefacto histórico, a razón de que esta escala de energía se definió primero para sistemas de un solo electrón y luego se adoptó para sistemas de pares de Cooper de dos electrones.\n"
   ]
  },
  {
   "cell_type": "markdown",
   "id": "080fe82e",
   "metadata": {},
   "source": [
    "Como podemos ver, el Hamiltoniano de la Ec.  {eq}`%s <ec_sqc_LC_cuantico_H>` es idéntico al de una partícula moviéndose en un potencial cuadrático unidimensional, es decir, al de un <b>oscilador armónico cuántico</b> (QHO de sus siglas en inglés), formalmente idéntico al clásico de la Ec.  {eq}`%s <ec_sqc_canonica_oscilador_H>`. Podemos tratar $\\hat{\\phi}$ como la coordenada de posición generalizada, de modo que el primer término es la energía cinética y el segundo término es la energía potencial.\n"
   ]
  },
  {
   "cell_type": "markdown",
   "id": "080fe82e",
   "metadata": {},
   "source": [
    "Como ya sabemos, la forma funcional del potencial influencia las soluciones (autovalores y autoestados). En este caso tenemos un potencial cuadrático ($V_{LC} \\propto \\hat{\\phi}^2$), que podemos ver en la Fig.  {numref}`%s <Fig_sqc_circuitos_LC>`(b).\n"
   ]
  },
  {
   "cell_type": "markdown",
   "id": "080fe82e",
   "metadata": {},
   "source": [
    "Como ya vimos en la Ecs.  {eq}`%s <ec_sqc_canonica_QHO_schrodinger>` y  {eq}`%s <ec_sqc_canonica_QHO_E>`, la solución del QHO pasa por una serie de estados $\\ket{k}$ con energías equiespaciadas:\n",
    "\\begin{equation}\n",
    "\\hat{H}_{QHO} \\ket{k} = E_k \\ket{k}\n",
    "\\qquad , \\qquad\n",
    "E_k = \\hbar \\omega \\lp k + \\frac{1}{2} \\rp\n",
    "\\qquad , \\qquad\n",
    "E_{k+1} - E_k = \\hbar \\omega\n",
    "\\end{equation}\n"
   ]
  },
  {
   "cell_type": "markdown",
   "id": "080fe82e",
   "metadata": {},
   "source": [
    "### Circuito LC Cuántico en segunda cuantización\n"
   ]
  },
  {
   "cell_type": "markdown",
   "id": "080fe82e",
   "metadata": {},
   "source": [
    "Como ya vimos en la Ec.  {eq}`%s <ec_sqc_qho_second_quant>`, podemos escribir el QHO en función de los operadores de subida (creación) y de bajada (destrucción). En concreto, tenemos que re-expresar nuestros operadores de $\\hat{n}$ y $\\hat{\\phi}$ de la forma\n",
    "```{math}\n",
    ":label: ec_scq_LC_cuantico_segunda_cuant_variables \n",
    "\\begin{equation} \n",
    "\\hat{n} = n_{zpf} i (\\hat{a} - \\hat{a}^\\dagger)\n",
    "\\qquad , \\qquad\n",
    "\\hat{\\phi} = \\phi_{zpf} (\\hat{a} + \\hat{a}^\\dagger)\n",
    "\\end{equation} \n",
    "```\n",
    "donde\n",
    "\\begin{equation}\n",
    "n_{zpf} = \\lc \\frac{E_L}{32 E_C} \\rc^{\\frac{1}{4}}\n",
    "\\qquad \\text{y} \\qquad\n",
    "\\phi_{zpf} = \\lc \\frac{2E_C}{E_L} \\rc^{\\frac{1}{4}}\n",
    "\\end{equation}\n",
    "son las fluctuaciones a punto cero (zero-point fluctuations) de la carga y la fase respectivamente. Desde el punto de vista de la mecánica cuántica, los estados cuánticos se representan como funciones de onda que, por lo general, se distribuyen en un rango de valores de $\\hat{n}$ y $\\hat{\\phi}$, en consecuencia, las funciones de onda tienen desviaciones estándar distintas de cero. Estas distribuciones de las funciones de onda se denominan <b>fluctuaciones cuánticas</b> y existen incluso en el estado fundamental, donde se denominan fluctuaciones de punto cero.\n"
   ]
  },
  {
   "cell_type": "markdown",
   "id": "080fe82e",
   "metadata": {},
   "source": [
    "::::::{admonition} Nota\n",
    ":class: note\n",
    "\n",
    "\n",
    "\n",
    "A partir de aquí vamos a dejar de usar los gorros ($\\, \\hat{} \\,$) encima de los operadores, pues, como todo es cuántico, ya se sobreentiende.\n",
    "::::::\n"
   ]
  },
  {
   "cell_type": "markdown",
   "id": "080fe82e",
   "metadata": {},
   "source": [
    "### Circuito LC con Unión Josephson (LCJJ)\n"
   ]
  },
  {
   "cell_type": "markdown",
   "id": "080fe82e",
   "metadata": {},
   "source": [
    "Las característica lineal del QHO tienen una limitación natural en sus aplicaciones para el procesamiento de la información cuántica. Antes de poder utilizar el sistema como un qubit, necesitamos poder definir un subespacio computacional que consista en sólo dos estados de energía (normalmente los dos autoestados de menor energía) entre los cuales se puedan inducir transiciones sin excitar también otros niveles del sistema. Dado que muchas operaciones de puertas dependen de la selección de la frecuencia, el espaciado equidistante entre niveles del QHO, ilustrado en la Fig.  {numref}`%s <Fig_sqc_circuitos_LC>`(b), supone una limitación práctica.\n"
   ]
  },
  {
   "cell_type": "markdown",
   "id": "080fe82e",
   "metadata": {},
   "source": [
    "Para mitigar el problema de la dinámica no deseada que implica estados no computacionales, necesitamos añadir <b>anarmonicidad</b> (o no <b>linealidad</b>) a nuestro sistema. En pocas palabras, requerimos que las frecuencias de transición $\\omega_{01}$ y $\\omega_{12}$ sean lo suficientemente diferentes como para ser abordables individualmente. En general, cuanto mayor sea la anarmonicidad, mejor. En la práctica, la cantidad de anarmonicidad establece un límite sobre lo cortos que pueden ser los pulsos utilizados para dirigir el qubit.\n"
   ]
  },
  {
   "cell_type": "markdown",
   "id": "080fe82e",
   "metadata": {},
   "source": [
    "Para introducir la no linealidad necesaria para modificar el potencial armónico, utilizamos la <b>unión Josephson</b> (JJ): un elemento de circuito no lineal y sin disipación que constituye la columna vertebral de los circuitos superconductores. Sustituyendo el inductor lineal del QHO por una unión Josephson, que desempeña el papel de <b>inductor no lineal</b>, podemos modificar la forma funcional de la energía potencial, que toma la forma de la Ec.  {eq}`%s <ec_sqc_jj_E>`: $E(\\phi) = -E_J \\cos \\phi$. De esta forma, el hamiltoniano nos queda como\n",
    "```{math}\n",
    ":label: ec_sqc_LCJJ_H \n",
    "\\begin{equation} \n",
    "H = 4 E_C n^2 - E_J \\cos (\\phi)\n",
    "\\end{equation} \n",
    "```\n",
    "con\n",
    "\\begin{equation}\n",
    "E_C = \\frac{e^2}{2 C_{\\varSigma}}\\,,\n",
    "\\qquad\n",
    "C_{\\varSigma} = C_s + C_J \\, ,\n",
    "\\qquad\n",
    "E_J = \\frac{I_c \\Phi_0}{2 \\pi}\\, ,\n",
    "\\qquad\n",
    "\\Phi_0 = \\frac{h}{2e}\n",
    "\\end{equation}\n",
    "donde\n",
    "\n",
    " \n- $\\phi$: Diferencia de fase en la unión Josephson (lo que llamábamos $\\delta$ en la sección  {numref}`%s <sec_scq_Josephson>`)\n",
    " \n- $E_C$: Energía de carga\n",
    " \n- $C_s$: Capacitancia del condensador\n",
    " \n- $C_J$: Capacitancia de la unión Josephson\n",
    " \n- $C_{\\varSigma}$: Capacitancia total\n",
    " \n- $E_J$: Energía de Josephson (ver Ec.  {eq}`%s <ec_sqc_jj_EJ>`)\n",
    " \n- $I_c$: Corriente crítica de la unión Josephson (ver Ec.  {eq}`%s <ec_scq_jj_I>`)\n",
    " \n- $\\Phi_0$: Cuanto de flujo magnético superconductor\n",
    "\n"
   ]
  },
  {
   "cell_type": "markdown",
   "id": "080fe82e",
   "metadata": {},
   "source": [
    "Tras introducir la unión Josephson en el circuito, la energía potencial ya no adopta una forma manifiestamente parabólica (de la que procede el espectro armónico), sino que presenta una forma de coneso, lo que hace que el espectro energético no sea degenerado. Por lo tanto, la unión Josephson es el ingrediente clave que hace que el oscilador sea anarmónico y, por lo tanto, nos permite quedarnos con los dos niveles de menor energía y tratar el sistema <i>como si fuera un sistema de dos niveles</i>, véase la Fig.  {numref}`%s <Fig_sqc_circuitos_LC>`(d).\n"
   ]
  },
  {
   "cell_type": "markdown",
   "id": "080fe82e",
   "metadata": {},
   "source": [
    "## El qubit de carga: Caja de pares de Cooper.\n"
   ]
  },
  {
   "cell_type": "markdown",
   "id": "080fe82e",
   "metadata": {},
   "source": [
    "Una vez añadida la no linealidad, la dinámica del sistema se rige por la energía dominante en la Ec.  {eq}`%s <ec_sqc_LCJJ_H>`, reflejada en la relación $E_J/E_C$. Las primeras propuestas de qubits superconductores que se hicieron estaban en el régimen de carga ($E_J \\ll E_C$) y eran los denominados <b>qubits de carga</b> o <b>cajas de pares de Cooper</b> (Cooper-pair box).\n"
   ]
  },
  {
   "cell_type": "markdown",
   "id": "080fe82e",
   "metadata": {},
   "source": [
    "Estos consisten en un circuito superconductor con uniones Josephson y un condensadores. La zona que se forma entre las uniones Josephson y el condensador se denomina <b>isla</b>.\n"
   ]
  },
  {
   "cell_type": "markdown",
   "id": "080fe82e",
   "metadata": {},
   "source": [
    "El tipo más simple de esta clase de qubits es el que podemos ver en la Fig.  {numref}`%s <Fig_scq_charge_qubit>`, con una sola unión Josephson.  Este consiste en una pequeña isla superconductora (\"caja\") con $n$ cargas de pares de Cooper en exceso (en relación con algún estado neutro de referencia), conectada mediante una unión Josephson con capacitancia $C_J$ y energía de acoplamiento Josephson $E_J$ a un electrodo superconductor. Una tensión de control $V_g$ se acopla al sistema a través de un condensador de capacitancia $C_g$. En este qubit los estados viene dados por el número $n$ de pares de Cooper en exceso. Estos qubits presentan el problema del <b>ruido de carga</b> (veremos que es en la sección  {numref}`%s <sec_scq_transmon_normal>`.\n"
   ]
  },
  {
   "cell_type": "markdown",
   "id": "080fe82e",
   "metadata": {},
   "source": [
    "::::{figure} Figuras/Fig_scq_charge_qubit.png\n",
    ":width: 500px\n",
    ":align: center\n",
    ":name: Fig_scq_charge_qubit\n",
    "Forma simple de un circuito superconductor para generar un qubit de carga\n",
    "::::\n"
   ]
  },
  {
   "cell_type": "markdown",
   "id": "080fe82e",
   "metadata": {},
   "source": [
    "\n"
   ]
  },
  {
   "cell_type": "markdown",
   "id": "080fe82e",
   "metadata": {},
   "source": [
    "\n"
   ]
  },
  {
   "cell_type": "markdown",
   "id": "080fe82e",
   "metadata": {},
   "source": [
    "\n"
   ]
  },
  {
   "cell_type": "markdown",
   "id": "080fe82e",
   "metadata": {},
   "source": [
    "\n"
   ]
  },
  {
   "cell_type": "markdown",
   "id": "080fe82e",
   "metadata": {},
   "source": [
    "\n",
    "(sec_scq_transmon_normal)= \n",
    "## El transmón: mitigando el ruido de carga   \n"
   ]
  },
  {
   "cell_type": "markdown",
   "id": "080fe82e",
   "metadata": {},
   "source": [
    "Con el tiempo, la comunidad de qubits superconductores ha convergido hacia diseños de circuitos con $E_J \\gg E_C$. En el caso opuesto, cuando $E_J \\ll E_C$, el qubit se vuelve muy sensible al <b>ruido de carga</b>, que ha demostrado ser más difícil de mitigar que el <b>ruido de flujo</b>, lo que hace muy difícil lograr una alta coherencia. Por lo tanto, nos centraremos aquí en las modalidades de qubits que caen en el régimen $E_J \\gg E_C$, es decir, el régimen del <b>qubit transmón</b>.\n"
   ]
  },
  {
   "cell_type": "markdown",
   "id": "080fe82e",
   "metadata": {},
   "source": [
    "Dos magnitudes cruciales para el funcionamiento de un qubit superconductor son la <b>anarmonicidad</b> y la <b>dispersión de carga</b> de los niveles de energía. Por un lado, se necesita una anarmonicidad suficientemente grande para evitar que las operaciones de los qubits exciten otras transiciones en el sistema.\n"
   ]
  },
  {
   "cell_type": "markdown",
   "id": "080fe82e",
   "metadata": {},
   "source": [
    "Por otro lado, la dispersión de carga describe la variación de los niveles de energía con respecto a la <b>carga de offset</b> ambiental y al voltaje de puerta, y determina la sensibilidad del qubit superconductor al <b>ruido de carga</b>: cuanto menor sea la dispersión de carga, menos cambiará la frecuencia del qubit en respuesta a las fluctuaciones de carga. Las magnitudes de la dispersión de carga y la anarmonicidad vienen determinadas por la relación entre la energía Josephson y la energía de carga $E_J/E_C$ . El aumento de esta relación reduce la anarmonicidad (relativa) del nivel de energía (que limita la velocidad de las operaciones del qubit). Sin embargo, también disminuye la dispersión global de la carga y, por tanto, la sensibilidad al ruido de carga.\n"
   ]
  },
  {
   "cell_type": "markdown",
   "id": "080fe82e",
   "metadata": {},
   "source": [
    "El transmón {cite}`bib_transmon_first_paper` explota un hecho notable: la dispersión de la carga se reduce exponencialmente en $E_J/E_C$, mientras que la anarmonicidad sólo disminuye algebraicamente con una ley de potencia lenta en $E_J/E_C$. En consecuencia, operando el transmón a una relación $E_J/E_C$ grande (del orden de decenas o cientos), se puede reducir enormemente la sensibilidad al ruido de carga en el qubit sacrificando sólo una parte de la anarmonicidad. De hecho, la dispersión de carga puede suprimirse tan fuertemente que el qubit se vuelve prácticamente insensible al ruido de carga.\n"
   ]
  },
  {
   "cell_type": "markdown",
   "id": "080fe82e",
   "metadata": {},
   "source": [
    "Veamos esto más en detalle. Primero empecemos comentando que, siendo más precisos, el Hamiltoniano de la Ec.  {eq}`%s <ec_sqc_LCJJ_H>` deberíamos escribirlo como:\n",
    "```{math}\n",
    ":label: ec_sqc_transmon_H_offset \n",
    "\\begin{equation} \n",
    "H = 4 E_C (n-n_g)^2 - E_J \\cos (\\phi)\n",
    "\\end{equation} \n",
    "```\n",
    "El término $n_g$ se denomina <b>carga efectiva de desplazamiento</b> (effective offset charge) (en unidades de $2e$). Esta carga de offset depende tanto del ambiente como del acoplamiento del qubit con una fuente de microondas para su control. Desarrollaremos esto ultimo en la sección  {numref}`%s <sec_scq_puertas_1_qubits>` (ver Fig.  {numref}`%s <Fig_scq_qubit_acoplado_a_fuente>`)\n",
    "\\begin{equation}\n",
    "n_g = \\frac{Q_r}{2e} + \\frac{C_g V_g}{2e}\n",
    "\\end{equation}\n",
    "donde $V_d$ y $C_d$ son el voltaje y la capacitancia de la fuente de microondas (a veces llamados voltaje y capacitancia de puerta), y $Q_r$ representa la carga de offset inducida por el ambiente.\n"
   ]
  },
  {
   "cell_type": "markdown",
   "id": "080fe82e",
   "metadata": {},
   "source": [
    "En la Fig.  {numref}`%s <Fig_sqc_transmon_offset_charge>` podemos ver como varían los niveles de energía con respecto a $n_g$ para diferentes valores de $E_J/E_C$. Vemos que $E_J/E_C=50$, los niveles de energía no varían con $n_g$, haciendo el qubit resistente a errores de carga. Por este motivo, a partir de ahora vamos a seguir usando el Hamiltoniano de la Ec.  {eq}`%s <ec_sqc_LCJJ_H>`, ignorando el termino $n_g$.\n"
   ]
  },
  {
   "cell_type": "markdown",
   "id": "080fe82e",
   "metadata": {},
   "source": [
    "::::{figure} Figuras/Fig_sqc_transmon_offset_charge.png\n",
    ":width: 600px\n",
    ":align: center\n",
    ":name: Fig_sqc_transmon_offset_charge\n",
    "Tres primeros niveles de energías $E_n$ ($n = 0, 1, 2$) del Hamiltoniano del la Ec.  {eq}`%s <ec_sqc_transmon_H_offset>` en función de la carga efectiva de desplazamiento $n_g$ para diferentes relaciones $E_J/E_C$. Las energías se dan en unidades de la energía de transición $E_{01}$, evaluada en el punto de degeneración $n_g = 1/2$. El punto cero de energía se elige como la parte inferior del nivel $n = 0$. Las líneas discontinuas verticales en (a) marcan los puntos óptimos de operación del qubit de carga ($n_g$ semientero). Figura tomada de  {cite}`bib_transmon_first_paper`\n",
    "::::\n"
   ]
  },
  {
   "cell_type": "markdown",
   "id": "080fe82e",
   "metadata": {},
   "source": [
    "La forma preferida de conseguir estos ratios $E_J \\gg E_C$ es haciendo el valor de $E_C$ derivando la unión con un condensador grande, $C_s \\gg C_J$. En este límite, la fase superconductora $\\phi$ es un <b>buen número cuántico</b>, es decir, la dispersión (o fluctuación cuántica) de los valores $\\phi$ representados por la función de onda cuántica es pequeña. Por otro lado, por el principio de indeterminación,  $n$ se vuelve un <b>mal número cuántico</b> (gran dispersión), pues es la variable conjugada de $\\phi$.\n"
   ]
  },
  {
   "cell_type": "markdown",
   "id": "080fe82e",
   "metadata": {},
   "source": [
    "Podemos obtener más información expandiendo el término de potencial de la Ec.  {eq}`%s <ec_sqc_LCJJ_H>` en una serie de potencias (en los casos en los que que $\\phi$ es pequeño, es decir, los dos superconductores tiene fases parecidas), es decir\n",
    "```{math}\n",
    ":label: ec_scq_transmon_potencial_taylor \n",
    "\\begin{equation} \n",
    "E_J \\cos \\phi = \\frac{1}{2} E_J \\phi^2 - \\frac{1}{24} E_J \\phi^2 + \\mathcal{O} (\\phi^2)\n",
    "\\end{equation} \n",
    "```\n"
   ]
  },
  {
   "cell_type": "markdown",
   "id": "080fe82e",
   "metadata": {},
   "source": [
    "El primer término cuadrático de la Ec.  {eq}`%s <ec_scq_transmon_potencial_taylor>` por sí solo dará lugar a un QHO, (ver Ec.  {eq}`%s <ec_sqc_LC_cuantico_H>`). El segundo término, sin embargo, es cuártico, lo que modifica los autoestados y altera la estructura de energía, que de otro modo sería armónica. Nótese que, el coeficiente negativo del término cuártico indica que la <b>anarmonicidad</b>\n",
    "```{math}\n",
    ":label: ec_scq_anarmonicidad \n",
    "\\begin{equation} \n",
    "\\alpha = \\omega_q^{1 \\rightarrow 2} - \\omega_q^{0 \\rightarrow 1}\n",
    "\\end{equation} \n",
    "```\n",
    "es negativa y, por tanto, su límite en magnitud no puede hacerse arbitrariamente grande. Para el caso del transmón, $\\alpha = - E_C$ se suele diseñar para que sea de 100-300 MHz, según se requiera para mantener una frecuencia de qubit deseable\n",
    "\\begin{equation}\n",
    "\\omega_q = (\\sqrt{8 E_J E_C} - E_C)/\\hbar\n",
    "\\end{equation}\n",
    "de entorno a 3-6 GHz, mientras se mantiene una relación de energía suficientemente grande ($E_J/E_C \\geq 50$) para suprimir la sensibilidad de carga.\n"
   ]
  },
  {
   "cell_type": "markdown",
   "id": "080fe82e",
   "metadata": {},
   "source": [
    "Incluyendo los términos hasta el cuarto orden de la Ec.  {eq}`%s <ec_scq_transmon_potencial_taylor>`, podemos reescribir el Hamiltoniano de la Ec.  {eq}`%s <ec_sqc_LCJJ_H>` en segunda cuantización y obtenemos el oscilador de Duffing\n",
    "```{math}\n",
    ":label: ec_sqc_transmon_Duff_H \n",
    "\\begin{equation} \n",
    "H_{\\phi^4} = \\hbar \\omega_q a^\\dagger a + \\hbar \\frac{\\alpha}{2} a^\\dagger a^\\dagger a a\\, .\n",
    "\\end{equation} \n",
    "```\n",
    "Como $|\\alpha| \\ll \\omega_q$, podemos ver que el qubit transmón es básicamente un oscilador débilmente anarmónico. Si la excitación a estados superiores no computacionales se suprime sobre cualquier operación de puerta, ya sea debido a un $|\\alpha|$ suficientemente grande o debido a técnicas de control robustas como el pulso (DRAG), podemos tratar efectivamente el oscilador anarmónico como un <b>sistema cuántico de dos niveles</b> (<b>TLS</b> de sus siglas en inglés), simplificando el Hamiltoniano a\n",
    "```{math}\n",
    ":label: ec_sqc_transmon_TLS_H \n",
    "\\begin{equation} \n",
    "H_{TLS} =\n",
    "\\hbar \\omega_q \\frac{\\sigma_z}{2} =\n",
    "\\lp \\begin{matrix}\n",
    "\\hbar \\omega_q/2 & 0 \\\\\n",
    "0 & -\\hbar \\omega_q /2\n",
    "\\end{matrix} \\rp\n",
    "\\end{equation} \n",
    "```\n",
    "donde $\\sigma_z$ es la matriz de Pauli z. Véase que <b>no estamos diciendo que los Hamiltonianos de la Ec.  {eq}`%s <ec_sqc_transmon_Duff_H>` y de la Ec.  {eq}`%s <ec_sqc_transmon_TLS_H>` sean iguales</b>, sino que estamos diciendo que cuando en el primer caso podemos despreciar los estados de mayor energía y quedarnos con los dos de menos, entonces es cuando podemos describir el sistema como un TLS (Ec.  {eq}`%s <ec_sqc_transmon_TLS_H>`).\n"
   ]
  },
  {
   "cell_type": "markdown",
   "id": "080fe82e",
   "metadata": {},
   "source": [
    "Sin embargo, siempre hay que tener en cuenta que los niveles superiores existen físicamente. Su influencia en la dinámica del sistema debe tenerse en cuenta a la hora de diseñar el sistema y sus procesos de control. De hecho, hay muchos casos en los que los niveles superiores han resultado útiles para aplicar operaciones de puerta más eficientes.\n"
   ]
  },
  {
   "cell_type": "markdown",
   "id": "080fe82e",
   "metadata": {},
   "source": [
    "### Sobre los TLS (sistemas de dos niveles)\n"
   ]
  },
  {
   "cell_type": "markdown",
   "id": "080fe82e",
   "metadata": {},
   "source": [
    "Si tratamos con un TLS, podemos hacer las identificaciones:\n",
    "```{math}\n",
    ":label: ec_scq_TLS_operadores_escalera \n",
    "\\begin{equation} \n",
    "a \\rightarrow \\sigma^{-} = \\lp \\begin{matrix} 0 &1 \\\\ 0 & 0 \\end{matrix} \\rp\n",
    "\\qquad , \\qquad\n",
    "a^\\dagger \\rightarrow \\sigma^{+} = \\lp \\begin{matrix} 0 & 0 \\\\ 1 & 0 \\end{matrix} \\rp\n",
    "\\end{equation} \n",
    "```\n",
    "con lo que podemos escribir:\n",
    "```{math}\n",
    ":label: ec_scq_TLS_matrices_pauli \n",
    "\\begin{equation} \n",
    "\\begin{split}\n",
    "\\sigma_z & = \\lp \\begin{matrix} 1 & 0 \\\\ 0 & -1 \\end{matrix} \\rp  \\\\\n",
    "& = \\sigma^{-}\\sigma^{+} - \\sigma^{+} \\sigma^{-}  \\\\\n",
    "& = \\sigma^{-}\\sigma^{+} - I  \\\\\n",
    "& = I - \\sigma^{+}\\sigma^{-}\n",
    "\\end{split}\n",
    "\\qquad , \\qquad\n",
    "\\sigma_x = \\lp \\begin{matrix} 0 & 1 \\\\ 1 & 0 \\end{matrix} \\rp = \\sigma^{+} + \\sigma^{-}\n",
    "\\qquad , \\qquad\n",
    "\\sigma_y = \\lp \\begin{matrix} 0 & -i \\\\ i & 0 \\end{matrix} \\rp = i(\\sigma^{+} - \\sigma^{-})\n",
    "\\end{equation} \n",
    "```\n"
   ]
  },
  {
   "cell_type": "markdown",
   "id": "080fe82e",
   "metadata": {},
   "source": [
    "::::::{admonition} Nota (un ejemplo de sistema de dos niveles) \n",
    ":class: note\n",
    "\n",
    "\n",
    "\n",
    "El Hamiltoniano de la Ec.  {eq}`%s <ec_sqc_transmon_TLS_H>` es el de un sistema típico de dos niveles con una diferencia de energía entre ellos de $\\hbar \\omega_q$. Por ejemplo, cuando tenemos una partícula de espín 1/2 (un electrón por ejemplo) y tenemos un campo magnético en la dirección $z$, $\\vec{B} = B_0 \\hat{z}$ (donde $\\hat{z}$ no es un operador, sino un vector unitario en la dirección $z$), el Hamiltoniano es de la forma:\n",
    "\\begin{equation}\n",
    "H = - \\vec{\\mu} \\cdot \\vec{B} = - \\gamma \\vec{B} \\cdot \\vec{S} = - \\gamma \\hbar S_z B_0 \\sigma_z\n",
    "= - \\hbar \\omega_0 \\sigma_z\n",
    "\\end{equation}\n",
    "donde\n",
    "\n",
    "\n- $\\gamma = gq/(2m)$ es ratio giromagnético,\n",
    "\n- $\\omega/2 \\pi = \\gamma B_0 $ es la <b>frecuencia de Larmor</b>\n",
    "\n- $\\vec{S} = (S_x,S_y,S_z)$ es un vector formado por los operadores de espín en los tres ejes, $S_i = (\\hbar/2)\\sigma_i$.\n",
    "\n",
    "::::::\n"
   ]
  },
  {
   "cell_type": "markdown",
   "id": "62e589cb",
   "metadata": {},
   "source": [
    "---\n",
    "Autor:\n",
    "\n",
    "David Castaño ([UMA-SCBI](https://www.scbi.uma.es/site/))\n",
    "\n",
    "<img src=\"Figuras/Logo_UMA.jpeg\"  width=\"170px\">\n",
    "\n",
    "\n",
    "---\n",
    "::::{figure} https://quantumspain-project.es/wp-content/uploads/2022/11/Logo_QS_EspanaDigital.png\n",
    ":width: 2000px\n",
    ":align: center\n",
    "::::\n",
    "\n",
    "<center>\n",
    "<a rel=\"license\" href=\"http://creativecommons.org/licenses/by-sa/4.0/\">\n",
    "<img aling=\"left\" alt=\"Licencia Creative Commons\" style=\"border-width:0\" src=\"https://i.creativecommons.org/l/by-sa/4.0/88x31.png\" /></a>\n",
    "</center>\n",
    "\n",
    "License: <a rel=\"license\" href=\"http://creativecommons.org/licenses/by-sa/4.0/\">Licencia Creative Commons Atribución-CompartirIgual 4.0 Internacional</a>.\n",
    "\n",
    "This work has been financially supported by the Ministry for Digital Transformation and of Civil Service of the Spanish Government through the QUANTUM ENIA project call - Quantum Spain project, and by the European Union through the Recovery, Transformation and Resilience Plan - NextGenerationEU within the framework of the Digital Spain 2026 Agenda.\n",
    "\n",
    "<center>\n",
    "<img align=\"left\" src=\"https://quantumspain-project.es/wp-content/uploads/2024/02/Banner-QS_GOB_v2.png\" width=\"1000px\" />\n",
    "</center>"
   ]
  },
  {
   "cell_type": "markdown",
   "id": "a1b0711f",
   "metadata": {},
   "source": []
  }
 ],
 "metadata": {
  "kernelspec": {
   "display_name": "Python 3 (ipykernel)",
   "language": "python",
   "name": "python3"
  },
  "language_info": {
   "codemirror_mode": {
    "name": "ipython",
    "version": 3
   },
   "file_extension": ".py",
   "mimetype": "text/x-python",
   "name": "python",
   "nbconvert_exporter": "python",
   "pygments_lexer": "ipython3",
   "version": "3.11.7"
  },
  "toc": {
   "base_numbering": 1,
   "nav_menu": {},
   "number_sections": false,
   "sideBar": true,
   "skip_h1_title": true,
   "title_cell": "Table of Contents",
   "title_sidebar": "Contents",
   "toc_cell": false,
   "toc_position": {},
   "toc_section_display": true,
   "toc_window_display": false
  }
 },
 "nbformat": 4,
 "nbformat_minor": 5
}
