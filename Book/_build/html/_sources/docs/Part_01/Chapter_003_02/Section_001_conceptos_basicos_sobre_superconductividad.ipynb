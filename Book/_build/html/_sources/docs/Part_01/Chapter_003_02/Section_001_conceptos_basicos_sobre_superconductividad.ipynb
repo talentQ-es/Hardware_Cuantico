{
 "cells": [
  {
   "cell_type": "markdown",
   "id": "8ddaeb38",
   "metadata": {},
   "source": [
    "<img src=\"Figuras/Fig_logo_UMA_scbi.png\" align=center  width=\"2000px\"/>\n",
    "\n",
    "\n",
    "<a href=\"https://www.scbi.uma.es/web/es/computacion-cuantica/\">\n",
    "    <button class=\"rounded\" style=\"float: right;\">\n",
    "    <svg xmlns=\"http://www.w3.org/2000/svg\" width=\"32\" height=\"32\" viewBox=\"0 0 24 24\">\n",
    "        <path fill=\"var(--fill, white)\"\n",
    "        d=\"M18.1 15.3c-.1.1-.3.2-.4.3l-2.4.4l1.7 3.6c.2.4 0 .8-.4\n",
    "            1l-2.8 1.3c-.1.1-.2.1-.3.1c-.3 0-.6-.2-.7-.4L11.2\n",
    "            18l-1.9 1.5c-.1.1-.3.2-.5.2c-.4 0-.8-.3-.8-.8V7.5c0-.5.3-.8.8-.8c.2 0\n",
    "            .4.1.5.2l8.7 7.4c.3.2.4.7.1 1M6 12H4V4h16v8h-1.6l2.2 1.9c.8-.3 1.3-1\n",
    "            1.3-1.9V4c0-1.1-.9-2-2-2H4c-1.1 0-2 .9-2 2v8c0 1.1.9 2 2 2h2z\" />\n",
    "    </svg>\n",
    "    Volver a SCBI - Computación Cuantica\n",
    "    </button>\n",
    "</a>\n",
    "\n",
    "$ \\newcommand{\\bra}[1]{\\langle #1|} $\n",
    "$ \\newcommand{\\ket}[1]{|#1\\rangle} $\n",
    "$ \\newcommand{\\branew}[1]{\\langle #1|} $\n",
    "$ \\newcommand{\\ketnew}[1]{\\langle #1|} $\n",
    "$ \\newcommand{\\braket}[2]{\\langle #1|#2\\rangle} $\n",
    "$ \\newcommand{\\ketbra}[2]{| #1\\rangle \\langle #2 |} $\n",
    "$ \\newcommand{\\i}{{\\color{blue} i}} $ \n",
    "$ \\newcommand{\\Hil}{{\\cal H}} $\n",
    "$ \\newcommand{\\cg}[1]{{\\rm C}#1} $\n",
    "$ \\newcommand{\\lp}{\\left(} $\n",
    "$ \\newcommand{\\rp}{\\right)} $\n",
    "$ \\newcommand{\\lc}{\\left[} $\n",
    "$ \\newcommand{\\rc}{\\right]} $\n",
    "$ \\newcommand{\\lch}{\\left\\{} $\n",
    "$ \\newcommand{\\rch}{\\right\\}} $\n",
    "$ \\newcommand{\\Lp}{\\Bigl(} $\n",
    "$ \\newcommand{\\Rp}{\\Bigr)} $\n",
    "$ \\newcommand{\\Lc}{\\Bigl[} $\n",
    "$ \\newcommand{\\Rc}{\\Bigr]} $\n",
    "$ \\newcommand{\\Lch}{\\Bigl\\{} $\n",
    "$ \\newcommand{\\Rch}{\\Bigr\\}} $\n",
    "$ \\newcommand{\\rqa}{\\quad \\Rightarrow \\quad} $\n",
    "$ \\newcommand{\\bm}{\\boldsymbol}$"
   ]
  },
  {
   "cell_type": "markdown",
   "id": "080fe82e",
   "metadata": {},
   "source": [
    "# Conceptos básicos sobre Superconductividad.\n"
   ]
  },
  {
   "cell_type": "markdown",
   "id": "080fe82e",
   "metadata": {},
   "source": [
    "En esta sección vamos a ver una sería de conceptos que necesitaremos para poder entender como funciona un qubit superconductor. Estos conceptos incluyen que son un superconductor, un par de Cooper y la unión Josephson.\n"
   ]
  },
  {
   "cell_type": "markdown",
   "id": "080fe82e",
   "metadata": {},
   "source": [
    "## Superconductividad\n"
   ]
  },
  {
   "cell_type": "markdown",
   "id": "080fe82e",
   "metadata": {},
   "source": [
    "A temperaturas que la mayoría de la gente considera \"normales\", todos los materiales presentan cierta resistencia eléctrica. Esto significa que resisten el flujo de electricidad del mismo modo que una tubería estrecha resiste el flujo de agua. Debido a la resistencia, parte de la energía se pierde en forma de calor. En la mayoría de los materiales, esta resistencia se mantiene aunque el material se enfríe a temperaturas muy bajas. La excepción son los materiales superconductores.\n"
   ]
  },
  {
   "cell_type": "markdown",
   "id": "080fe82e",
   "metadata": {},
   "source": [
    "En 1911, mientras estudiaban las propiedades de la materia a muy baja temperatura, el físico holandés Heike Kamerlingh Onnes y su equipo descubrieron que la resistencia eléctrica del mercurio llega a cero por debajo de 4,2 K (-269 °C).  Fue la primera observación del fenómeno de la superconductividad.\n"
   ]
  },
  {
   "cell_type": "markdown",
   "id": "080fe82e",
   "metadata": {},
   "source": [
    "Por debajo de cierta <b>temperatura crítica</b>, ciertos materiales pasan al estado superconductor, caracterizado por dos propiedades básicas: en primer lugar, <b>no ofrecen resistencia al paso de la corriente eléctrica</b>. Cuando la resistencia cae a cero, una corriente puede circular por el interior del material sin disipación de energía. En segundo lugar, siempre que sean suficientemente débiles, los campos magnéticos externos no penetran en el superconductor, sino que permanecen en su superficie. Este fenómeno de expulsión del campo se conoce como <b>efecto Meissner</b>, en honor al físico que lo observó por primera vez en 1933.\n"
   ]
  },
  {
   "cell_type": "markdown",
   "id": "080fe82e",
   "metadata": {},
   "source": [
    "La física convencional no explica adecuadamente el estado superconductor, como tampoco lo hace la teoría cuántica elemental del estado sólido, que trata el comportamiento de los electrones por separado del de los iones en la red cristalina. No fue hasta 1957 cuando tres investigadores estadounidenses (John Bardeen, Leon Cooper y John Schrieffer) establecieron la teoría microscópica de la superconductividad.  Según su <b>teoría BCS</b>, los electrones se agrupan en pares mediante la interacción con las vibraciones de la red (los llamados fonones), formando así <b>pares de Cooper</b> que se desplazan por el interior del sólido sin fricción. El sólido puede verse como una red de iones positivos inmersos en una nube de electrones. Cuando un electrón atraviesa esta red, los iones se mueven ligeramente atraídos por la carga negativa del electrón. Este movimiento genera una zona eléctricamente positiva que, a su vez, atrae a otro electrón. La energía de la interacción de los electrones es bastante débil y los pares pueden romperse fácilmente por efecto de la energía térmica; por eso la superconductividad suele darse a muy baja temperatura. Sin embargo, la teoría BCS no explica la existencia de superconductores de alta temperatura a partir de 80 K (-193 °C), para los que hay que recurrir a otros mecanismos de acoplamiento de electrones.\n"
   ]
  },
  {
   "cell_type": "markdown",
   "id": "080fe82e",
   "metadata": {},
   "source": [
    "## Unión de Josephson (Josephson Junction)\n"
   ]
  },
  {
   "cell_type": "markdown",
   "id": "080fe82e",
   "metadata": {},
   "source": [
    "Cuando dos superconductores están bien separados, son bastante independientes y pueden ser tratados por separado. Cuando entre ellos hay un contacto superconductor sustancial, estos forman un único superconductor: se dice que están <i>fuertemente ligados</i> (<b>strongly linked</b>).\n"
   ]
  },
  {
   "cell_type": "markdown",
   "id": "080fe82e",
   "metadata": {},
   "source": [
    "Sin embargo, tenemos casos intermedios en los que los electrones (pares de Cooper) pueden fluir de un superconductor a otro, pero de forma tan débil que cada superconductor puede ser visto como esencialmente en equilibro estático. Esto sucede, por ejemplo, cuando los superconductores están separados por una fina capa de un óxido el cual puede ser atravesado por los electrones mediante efecto túnel. También puede ser una fina capa de un metal normal o semiconductor, o un pequeño puente de material superconductor. A este tipo de uniones entre superconductores se las denomina <b>uniones Josephson</b> (<b>JJ</b> de sus siglas en inglés), y fueros descubiertas en 1962 por Brian Josephson [[76]](../../Bibliografia.ipynb#bib_Josephson_1962).\n"
   ]
  },
  {
   "cell_type": "markdown",
   "id": "080fe82e",
   "metadata": {},
   "source": [
    "Supongamos que conectamos los superconductores a los polos de una batería, de forma que aplicamos una diferencia de potencial $V$ en la unión, supongamos que podemos jugar con la batería para hacer variar esta diferencia de potencial. Es decir, la diferencia de potencial es función del tiempo: $V(t)$ . Es estas situaciones tenemos una corriente entre los dos superconductores que está descrita por las <b>ecuaciones de Josephson</b>\n",
    "\\begin{equation} \\label{ec_scq_jj}\n",
    "\\begin{aligned}\n",
    "J &= J_0 \\sin \\delta \\\\\n",
    "\\frac{d \\delta}{dt} &= \\frac{2eV(t)}{\\hbar} \\, ,\n",
    "\\end{aligned}\n",
    "\\end{equation}\n",
    "donde $J$ es la densidad de corriente, $e$ es la carga del electrón y $\\delta$ es la diferencia de fase entre los dos superconductores $\\delta = \\theta_1 - \\theta_2$.\n"
   ]
  },
  {
   "cell_type": "markdown",
   "id": "080fe82e",
   "metadata": {},
   "source": [
    "<div class=\"alert alert-block alert-danger\">\n",
    "<p style=\"color: DarkRed;\">\n",
    "<b>Nota</b>: <i>(modelo simple de Feynman)</i>\n",
    "<br>\n",
    "Las ecuaciones  {eq}`%s <ec_scq_jj>` pueden derivarse siguiendo un modelo simple del efecto Josephson descrito por Feynman en sus Lectures [[74]](../../Bibliografia.ipynb#bib_scq_Feynman_lectures). En concreto, puede encontrase online [aquí](https://www.feynmanlectures.caltech.edu/III_21.html#Ch21-S9) o verse en el capítulo \"Superconductivity: Tunneling\" del libro [[75]](../../Bibliografia.ipynb#bib_scq_encyclopedia_of_cmp).\n",
    "</p></div>\n"
   ]
  },
  {
   "cell_type": "markdown",
   "id": "080fe82e",
   "metadata": {},
   "source": [
    "Suponiendo una densidad de corriente uniforme a través del área $A$ de la unión, la corriente total es $I = AJ$, con lo que\n",
    "\\begin{equation}\n",
    "\\boxed{I = I_0 \\sin \\delta} \\, .\n",
    "\\end{equation}\n",
    "Además, integrando la segunda ecuación de la Ec.  {eq}`%s <ec_scq_jj>` tenemos\n",
    "\\begin{equation}\n",
    "\\boxed{\\delta(t) = \\delta_0 + \\frac{2e}{\\hbar} \\int V(t)dt} \\,.\n",
    "\\end{equation}\n"
   ]
  },
  {
   "cell_type": "markdown",
   "id": "080fe82e",
   "metadata": {},
   "source": [
    "Aunque la unión Josephson produce varios efectos, vamos a centrarnos en los dos que nos interesan (pueden verse más en [[77]](../../Bibliografia.ipynb#bib_scq_Waldram)):\n",
    "\n",
    " \n- <b>Efecto Josephson de Corriente Continua (DC Josephson effect)</b>: Si tenemos $V(t)=0$, entonces\n",
    "    \\begin{equation}\n",
    "    \\delta = \\delta_0 \\rqa I = I_0 \\sin \\delta_0\n",
    "    \\end{equation}\n",
    "    Es decir, cuando no hay diferencia de voltaje en la unión tenemos una <b>corriente continua</b> entre $-I_0$ y $I_0$.\n",
    " \n- <b>Efecto Josephson de Corriente Alterna (AC Josephson effect)</b>: Si tenemos $V(t) = V_0$ constante, entonces\n",
    "    \\begin{equation}\n",
    "    \\delta = \\delta_0 + \\frac{2eV_0}{\\hbar} t \\rqa I = I_0 \\sin \\lp \\delta_0 + \\frac{2eV_0}{\\hbar} t  \\rp\n",
    "    \\end{equation}\n",
    "    Es decir, al aplicar una diferencia de pontecial constante en la unión, aparece una <b>corriente alterna</b> de frecuencia proporcional a la diferencia de potencial.\n",
    "\n"
   ]
  },
  {
   "cell_type": "markdown",
   "id": "8534e04c",
   "metadata": {},
   "source": [
    "<figure><center>\n",
    "<img   src=\"https://quantumspain-project.es/wp-content/uploads/2022/11/Logo_QS_EspanaDigital.png\" align=center  width=\"2000px\"/>\n",
    "</center></figure>\n",
    "\n",
    "<center>\n",
    "<img align=\"left\" src=\"https://quantumspain-project.es/wp-content/uploads/2024/02/Banner-QS_GOB_v2.png\" width=\"1000px\" />\n",
    "</center>"
   ]
  }
 ],
 "metadata": {
  "kernelspec": {
   "display_name": "Python 3 (ipykernel)",
   "language": "python",
   "name": "python3"
  },
  "language_info": {
   "codemirror_mode": {
    "name": "ipython",
    "version": 3
   },
   "file_extension": ".py",
   "mimetype": "text/x-python",
   "name": "python",
   "nbconvert_exporter": "python",
   "pygments_lexer": "ipython3",
   "version": "3.11.7"
  },
  "toc": {
   "base_numbering": 1,
   "nav_menu": {},
   "number_sections": false,
   "sideBar": true,
   "skip_h1_title": true,
   "title_cell": "Table of Contents",
   "title_sidebar": "Contents",
   "toc_cell": false,
   "toc_position": {},
   "toc_section_display": true,
   "toc_window_display": false
  }
 },
 "nbformat": 4,
 "nbformat_minor": 5
}
