{
 "cells": [
  {
   "cell_type": "markdown",
   "id": "8ddaeb38",
   "metadata": {},
   "source": [
    "> {sub-ref}`today` | {sub-ref}`wordcount-minutes` min read\n",
    "\n",
    "",
    "<a href=\"https://www.talentq.es/es_es/cursos/\">\n",
    "    <button class=\"rounded\" style=\"float: right;\">\n",
    "    <svg xmlns=\"http://www.w3.org/2000/svg\" width=\"32\" height=\"32\" viewBox=\"0 0 24 24\">\n",
    "        <path fill=\"var(--fill, white)\"\n",
    "        d=\"M18.1 15.3c-.1.1-.3.2-.4.3l-2.4.4l1.7 3.6c.2.4 0 .8-.4\n",
    "            1l-2.8 1.3c-.1.1-.2.1-.3.1c-.3 0-.6-.2-.7-.4L11.2\n",
    "            18l-1.9 1.5c-.1.1-.3.2-.5.2c-.4 0-.8-.3-.8-.8V7.5c0-.5.3-.8.8-.8c.2 0\n",
    "            .4.1.5.2l8.7 7.4c.3.2.4.7.1 1M6 12H4V4h16v8h-1.6l2.2 1.9c.8-.3 1.3-1\n",
    "            1.3-1.9V4c0-1.1-.9-2-2-2H4c-1.1 0-2 .9-2 2v8c0 1.1.9 2 2 2h2z\" />\n",
    "    </svg>\n",
    "    Volver a TalentQ\n",
    "    </button>\n",
    "</a>\n",
    "\n",
    "$ \\newcommand{\\bra}[1]{\\langle #1|} $\n",
    "$ \\newcommand{\\ket}[1]{|#1\\rangle} $\n",
    "$ \\newcommand{\\branew}[1]{\\langle #1|} $\n",
    "$ \\newcommand{\\ketnew}[1]{\\langle #1|} $\n",
    "$ \\newcommand{\\braket}[2]{\\langle #1|#2\\rangle} $\n",
    "$ \\newcommand{\\ketbra}[2]{| #1\\rangle \\langle #2 |} $\n",
    "$ \\newcommand{\\i}{{\\color{blue} i}} $ \n",
    "$ \\newcommand{\\Hil}{{\\cal H}} $\n",
    "$ \\newcommand{\\cg}[1]{{\\rm C}#1} $\n",
    "$ \\newcommand{\\lp}{\\left(} $\n",
    "$ \\newcommand{\\rp}{\\right)} $\n",
    "$ \\newcommand{\\lc}{\\left[} $\n",
    "$ \\newcommand{\\rc}{\\right]} $\n",
    "$ \\newcommand{\\lch}{\\left\\{} $\n",
    "$ \\newcommand{\\rch}{\\right\\}} $\n",
    "$ \\newcommand{\\Lp}{\\Bigl(} $\n",
    "$ \\newcommand{\\Rp}{\\Bigr)} $\n",
    "$ \\newcommand{\\Lc}{\\Bigl[} $\n",
    "$ \\newcommand{\\Rc}{\\Bigr]} $\n",
    "$ \\newcommand{\\Lch}{\\Bigl\\{} $\n",
    "$ \\newcommand{\\Rch}{\\Bigr\\}} $\n",
    "$ \\newcommand{\\rqa}{\\quad \\Rightarrow \\quad} $\n",
    "$ \\newcommand{\\bm}{\\boldsymbol}$"
   ]
  },
  {
   "cell_type": "markdown",
   "id": "080fe82e",
   "metadata": {},
   "source": [
    "\n",
    "(sec_scq_flux_qubits_y_fluxonium)= \n",
    "# El <i>Flux Qubit</i> y el <i>Fluxonium</i>: Hacia una mayor anarmonicidad \n"
   ]
  },
  {
   "cell_type": "markdown",
   "id": "080fe82e",
   "metadata": {},
   "source": [
    "Vemos que los qubits \"split transmon\", sean simétricos o no, siguen compartiendo la misma topología que la versión de unión simple, dando lugar a un potencial sinusoidal. Por lo tanto, el grado en que se pueden manipular las propiedades de estos qubits no ha cambiado fundamentalmente. En concreto, la limitada anarmonicidad de los qubits de tipo transmón provoca intrínsecamente una importante excitación residual hacia estados de mayor energía, lo que socava el rendimiento de las operaciones de puerta. Para ir más allá, es necesario introducir complejidad adicional en el circuito.\n"
   ]
  },
  {
   "cell_type": "markdown",
   "id": "080fe82e",
   "metadata": {},
   "source": [
    "\n",
    "(sec_scq_flux_qubits)= \n",
    "## Qubit de Flujo (Flux Qubit) \n"
   ]
  },
  {
   "cell_type": "markdown",
   "id": "080fe82e",
   "metadata": {},
   "source": [
    "Un avance destacado en este sentido es la invención del <b>qubit de flujo</b>, en el que el bucle  está interrumpido por tres (o cuatro) uniones, véase la Fig.  {numref}`%s <Fig_scq_split_transmon_main>`(e). En una rama hay una unión más pequeña; en la otra rama hay dos uniones idénticas, ambas de un tamaño un factor $\\gamma$ mayor en comparación con la unión pequeña. La adición de una unión más en comparación con el \"split transmon\" no es trivial, ya que cambia la topología del circuito y remodela el perfil de energía potencial.\n"
   ]
  },
  {
   "cell_type": "markdown",
   "id": "080fe82e",
   "metadata": {},
   "source": [
    "Cada unión está asociada a una variable de fase, y la condición de cuantización del flujo nos permite de nuevo eliminar un grado de libertad. En consecuencia, tenemos un potencial bidimensional, que en comparación con la topología más simple del transmón, complica el problema tanto conceptual como computacionalmente. Afortunadamente, bajo el supuesto de que las uniones en serie son de mayor tamaño ($\\gamma > 1$), suele ser una buena aproximación tratar el problema como una partícula que se mueve en un potencial cuasi-1D, lo que también nos ayuda a obtener más información e intuición sobre el sistema y a extraer conclusiones cualitativas. El Hamiltoniano bajo esta \"aproximación cuasi-1D\" es el siguiente\n",
    "```{math}\n",
    ":label: ec_scq_flux_qubit_H \n",
    "\\begin{equation} \n",
    "H \\approx 4 E_C n^2 - E_J \\cos (\\phi + \\varphi_e) - 2 \\gamma E_J \\cos (\\phi/2)\n",
    "\\end{equation} \n",
    "```\n",
    "donde $\\phi = (\\varphi_1 + \\varphi_2)$ es la suma de la fase en la rama de las uniones en serie (asumiendo la misma dirección de la corriente a través de $\\varphi_1$ y $\\varphi_2$). Como siempre, $\\varphi_e = 2 \\pi \\Phi_{ext}/\\Phi_0$.\n"
   ]
  },
  {
   "cell_type": "markdown",
   "id": "080fe82e",
   "metadata": {},
   "source": [
    "El segundo término de la Ec.  {eq}`%s <ec_scq_flux_qubit_H>` es aportado por la unión pequeña con energía Josephson $E_J$, mientras que el tercer término tiene en cuenta las dos uniones en serie, con energía Josephson $2 \\gamma E_J$. Claramente, la suma de estos dos términos ya no tiene las características de un coseno simple, y el perfil de potencial final, así como los estados propios correspondientes, dependen tanto del flujo externo como de la relación de área de la unión $\\gamma$.\n"
   ]
  },
  {
   "cell_type": "markdown",
   "id": "080fe82e",
   "metadata": {},
   "source": [
    "El punto de trabajo más común para este sistema es cuando $\\varphi_e = \\pi + 2 \\pi k$, donde $k$ es un entero, es decir, cuando medio cuanto de flujo superconductor atraviesa el bucle del qubit. En este punto, el espectro del qubit alcanza su mínimo, y la frecuencia del qubit es insensible en primer orden al ruido de flujo, véase la Fig.  {numref}`%s <Fig_scq_split_transmon_main>`(f). Este punto suele denominarse \"punto de degeneración del flujo\", en el que los qubits de flujo tienden a tener el tiempo de coherencia óptimo.\n"
   ]
  },
  {
   "cell_type": "markdown",
   "id": "080fe82e",
   "metadata": {},
   "source": [
    "En este punto de operación, la energía potencial puede adoptar un perfil de pozo único ($\\gamma \\geq 2$) o de pozo doble ($\\gamma < 2$).\n"
   ]
  },
  {
   "cell_type": "markdown",
   "id": "080fe82e",
   "metadata": {},
   "source": [
    "\n",
    "(sec_scq_fluxonium_qubit)= \n",
    "## Qubit Fluxonio (Fluxonium Qubit) \n"
   ]
  },
  {
   "cell_type": "markdown",
   "id": "080fe82e",
   "metadata": {},
   "source": [
    "El qubit de flujo es un ejemplo sorprendente que ilustra cómo se pueden diseñar drásticamente las propiedades del qubit mediante la elección de diversos parámetros del circuito. Una extensión de esta idea es el <b>\"Fluxonium Qubit\"</b>.\n"
   ]
  },
  {
   "cell_type": "markdown",
   "id": "080fe82e",
   "metadata": {},
   "source": [
    "En comparación con los qubits de flujo, que normalmente contienen dos o tres uniones en serie, el número de uniones en serie en el \"Fluxonium Qubit\" aumenta drásticamente, en algunos casos, hasta el orden de 100, véase la Fig.  {numref}`%s <Fig_scq_split_transmon_main>`(g). Siguiendo la misma aproximación cuasi-1D, el último término de la Ec.  {eq}`%s <ec_scq_flux_qubit_H>` se convierte en $N \\gamma E_J \\cos (\\phi/N)$, donde $N$ denota el número de uniones en serie. Para $N$ grande, el argumento en el término coseno $\\phi/N$ se vuelve suficientemente pequeño como para que una expansión de segundo orden sea una buena aproximación. Esto da como resultado el Hamiltoniano\n",
    "```{math}\n",
    ":label: ec_scq_fluxonium_qubit_H \n",
    "\\begin{equation} \n",
    "H \\approx 4 E_C n^2 - E_J \\cos (\\phi + \\varphi_e) + \\frac{1}{2} E_L \\phi^2\\,,\n",
    "\\end{equation} \n",
    "```\n",
    "donde $E_L = (\\gamma/N)E_J$ es la energía inductiva de la inductancia efectiva de las uniones en serie. A este conjunto de uniones en serie se las denomina <b>superinductor</b>, como podemos ver en morado en la Fig.  {numref}`%s <Fig_scq_superinductor>`.\n"
   ]
  },
  {
   "cell_type": "markdown",
   "id": "080fe82e",
   "metadata": {},
   "source": [
    "Viendo la Ec.  {eq}`%s <ec_scq_fluxonium_qubit_H>` vemos que podemos tratar la energía potencial como un término cuadrático modulado por un término sinusoidal.\n"
   ]
  },
  {
   "cell_type": "markdown",
   "id": "080fe82e",
   "metadata": {},
   "source": [
    "::::{figure} Figuras/Fig_scq_superinductor.png\n",
    ":width: 1000px\n",
    ":align: center\n",
    ":name: Fig_scq_superinductor\n",
    "(A) Esquema de una unión Josephson pequeña derivada por un conjunto de uniones de mayor superficie. (B) Primer plano de la pequeña región de unión, que muestra los electrodos de unión superior e inferior (grises) y su fina capa de óxido (verde). El área de las uniones en serie es aproximadamente un orden de magnitud mayor y están espaciadas tan estrechamente como lo permite la resolución de la litografía de haz electrónico, lo que minimiza las parásitas de microondas. (C) Representación en circuito eléctrico del bucle formado por la unión pequeña (negro), con inductancia Josephson $L_J$ y capacitancia $C_J$, derivada por las uniones en serie más grandes (púrpura), con la inductancia $L_{JA}$ y capacitancia $C_{JA}$ correspondientes. Las islas formadas entre las uniones de la matriz tienen una pequeña capacitancia a tierra $C_g$. (D) Modelo de circuito simplificado del qubit fluxonium, que consta de tres secciones: (i) el circuito equivalente a una caja de pares de Cooper, donde la pequeña unión con capacitancia $C_J$ e inductancia Josephson no lineal $L_J$ está acoplada capacitivamente (con capacitancia $C_c$) a la sonda (negro sólido), de modo que $(L_J/C_J)^{1/2} > \\hbar/(2e)^2$; (ii) inductancia gigante $L_A \\gg  L_J$ proporcionada por el conjunto de uniones (morado); (iii) una combinación paralela de $C_R$ y $L_R$ de modo que $(L_R/C_R)^{1/2} \\approx 50 \\Omega \\ll  \\hbar/(2e)^2$, que es el modelo de circuito para el resonador de línea de transmisión distribuida (gris). Figura tomada de  {cite}`bib_sqc_superinductor_paper`.\n",
    "::::\n"
   ]
  },
  {
   "cell_type": "markdown",
   "id": "62e589cb",
   "metadata": {},
   "source": [
    "---\n",
    "Autor:\n",
    "\n",
    "David Castaño ([UMA-SCBI](https://www.scbi.uma.es/site/))\n",
    "\n",
    "<img src=\"Figuras/Logo_UMA.jpeg\"  width=\"170px\">\n",
    "\n",
    "\n",
    "---\n",
    "::::{figure} https://quantumspain-project.es/wp-content/uploads/2022/11/Logo_QS_EspanaDigital.png\n",
    ":width: 2000px\n",
    ":align: center\n",
    "::::\n",
    "\n",
    "<center>\n",
    "<a rel=\"license\" href=\"http://creativecommons.org/licenses/by-sa/4.0/\">\n",
    "<img aling=\"left\" alt=\"Licencia Creative Commons\" style=\"border-width:0\" src=\"https://i.creativecommons.org/l/by-sa/4.0/88x31.png\" /></a>\n",
    "</center>\n",
    "\n",
    "License: <a rel=\"license\" href=\"http://creativecommons.org/licenses/by-sa/4.0/\">Licencia Creative Commons Atribución-CompartirIgual 4.0 Internacional</a>.\n",
    "\n",
    "This work has been financially supported by the Ministry for Digital Transformation and of Civil Service of the Spanish Government through the QUANTUM ENIA project call - Quantum Spain project, and by the European Union through the Recovery, Transformation and Resilience Plan - NextGenerationEU within the framework of the Digital Spain 2026 Agenda.\n",
    "\n",
    "<center>\n",
    "<img align=\"left\" src=\"https://quantumspain-project.es/wp-content/uploads/2024/02/Banner-QS_GOB_v2.png\" width=\"1000px\" />\n",
    "</center>"
   ]
  },
  {
   "cell_type": "markdown",
   "id": "a1b0711f",
   "metadata": {},
   "source": []
  }
 ],
 "metadata": {
  "kernelspec": {
   "display_name": "Python 3 (ipykernel)",
   "language": "python",
   "name": "python3"
  },
  "language_info": {
   "codemirror_mode": {
    "name": "ipython",
    "version": 3
   },
   "file_extension": ".py",
   "mimetype": "text/x-python",
   "name": "python",
   "nbconvert_exporter": "python",
   "pygments_lexer": "ipython3",
   "version": "3.11.7"
  },
  "toc": {
   "base_numbering": 1,
   "nav_menu": {},
   "number_sections": false,
   "sideBar": true,
   "skip_h1_title": true,
   "title_cell": "Table of Contents",
   "title_sidebar": "Contents",
   "toc_cell": false,
   "toc_position": {},
   "toc_section_display": true,
   "toc_window_display": false
  }
 },
 "nbformat": 4,
 "nbformat_minor": 5
}
