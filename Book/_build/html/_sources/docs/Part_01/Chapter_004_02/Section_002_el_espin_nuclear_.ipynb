{
 "cells": [
  {
   "cell_type": "markdown",
   "id": "8ddaeb38",
   "metadata": {},
   "source": [
    "<img src=\"Figuras/Fig_logo_UMA_scbi.png\" align=center  width=\"2000px\"/>\n",
    "\n",
    "\n",
    "<a href=\"https://www.scbi.uma.es/web/es/computacion-cuantica/\">\n",
    "    <button class=\"rounded\" style=\"float: right;\">\n",
    "    <svg xmlns=\"http://www.w3.org/2000/svg\" width=\"32\" height=\"32\" viewBox=\"0 0 24 24\">\n",
    "        <path fill=\"var(--fill, white)\"\n",
    "        d=\"M18.1 15.3c-.1.1-.3.2-.4.3l-2.4.4l1.7 3.6c.2.4 0 .8-.4\n",
    "            1l-2.8 1.3c-.1.1-.2.1-.3.1c-.3 0-.6-.2-.7-.4L11.2\n",
    "            18l-1.9 1.5c-.1.1-.3.2-.5.2c-.4 0-.8-.3-.8-.8V7.5c0-.5.3-.8.8-.8c.2 0\n",
    "            .4.1.5.2l8.7 7.4c.3.2.4.7.1 1M6 12H4V4h16v8h-1.6l2.2 1.9c.8-.3 1.3-1\n",
    "            1.3-1.9V4c0-1.1-.9-2-2-2H4c-1.1 0-2 .9-2 2v8c0 1.1.9 2 2 2h2z\" />\n",
    "    </svg>\n",
    "    Volver a SCBI - Computación Cuantica\n",
    "    </button>\n",
    "</a>\n",
    "\n",
    "$ \\newcommand{\\bra}[1]{\\langle #1|} $\n",
    "$ \\newcommand{\\ket}[1]{|#1\\rangle} $\n",
    "$ \\newcommand{\\branew}[1]{\\langle #1|} $\n",
    "$ \\newcommand{\\ketnew}[1]{\\langle #1|} $\n",
    "$ \\newcommand{\\braket}[2]{\\langle #1|#2\\rangle} $\n",
    "$ \\newcommand{\\ketbra}[2]{| #1\\rangle \\langle #2 |} $\n",
    "$ \\newcommand{\\i}{{\\color{blue} i}} $ \n",
    "$ \\newcommand{\\Hil}{{\\cal H}} $\n",
    "$ \\newcommand{\\cg}[1]{{\\rm C}#1} $\n",
    "$ \\newcommand{\\lp}{\\left(} $\n",
    "$ \\newcommand{\\rp}{\\right)} $\n",
    "$ \\newcommand{\\lc}{\\left[} $\n",
    "$ \\newcommand{\\rc}{\\right]} $\n",
    "$ \\newcommand{\\lch}{\\left\\{} $\n",
    "$ \\newcommand{\\rch}{\\right\\}} $\n",
    "$ \\newcommand{\\Lp}{\\Bigl(} $\n",
    "$ \\newcommand{\\Rp}{\\Bigr)} $\n",
    "$ \\newcommand{\\Lc}{\\Bigl[} $\n",
    "$ \\newcommand{\\Rc}{\\Bigr]} $\n",
    "$ \\newcommand{\\Lch}{\\Bigl\\{} $\n",
    "$ \\newcommand{\\Rch}{\\Bigr\\}} $\n",
    "$ \\newcommand{\\rqa}{\\quad \\Rightarrow \\quad} $\n",
    "$ \\newcommand{\\bm}{\\boldsymbol}$"
   ]
  },
  {
   "cell_type": "markdown",
   "id": "080fe82e",
   "metadata": {},
   "source": [
    "\n",
    "<a id='sec_sub_Harware_NMR_espin'></a>\n",
    "# El espín nuclear \n"
   ]
  },
  {
   "cell_type": "markdown",
   "id": "080fe82e",
   "metadata": {},
   "source": [
    "En el núcleo, cada nucleón (protones o neutrones) posee un momento angular orbital y un momento angular intrínseco o espín. Al igual que el electrón, los nucleones son fermiones de espín $\\hbar/2$.\n"
   ]
  },
  {
   "cell_type": "markdown",
   "id": "080fe82e",
   "metadata": {},
   "source": [
    "A cada <b>estado nuclear</b> se asigna un único número cuántico de espín $I$, representando el <b>momento angular total</b> (orbital más intrínseco) de todos los nucleones en el núcleo. El vector $\\vec{I}$ puede considerarse como la suma de las contribuciones orbital y intrínseca (espín intrínseco de protones y neutrones) de los momento angulares de los nucleones\n",
    "\\begin{equation} \\label{ec_Hardware_NMR_I}\n",
    "\\begin{aligned}\n",
    "\\vec{I} ~ & =  ~ \\, \\sum_{i=1}^A (\\vec{l_i} +  \\vec{s_i}) \\nonumber \\\\\n",
    "& = ~ \\,  \\vec{L} + \\vec{S}  \\\\\n",
    "& = ~ \\, \\sum_{i=1}^A \\vec{j_i} \\nonumber\n",
    "\\end{aligned}\n",
    "\\end{equation}\n",
    "donde $A$ es el <b>número másico</b>\n",
    "\\begin{equation}\n",
    "A = Z + N\n",
    "\\end{equation}\n",
    "donde $Z$ es el <b>número de protones</b> y $N$ el <b>número de neutrones</b>.\n"
   ]
  },
  {
   "cell_type": "markdown",
   "id": "080fe82e",
   "metadata": {},
   "source": [
    "El <i>número cuántico</i> $I$ tiene la conexión  usual con el <i>vector</i> $\\vec{I}$:\n",
    "\\begin{equation}\n",
    "\\begin{aligned}\n",
    "| \\vec{I} | ~ = & ~\\,  \\sqrt{I(I+1)} \\hbar \\\\\n",
    "I_i ~ = & ~\\, m_i \\hbar \\qquad (m_i = I, I-1, \\dots, -I +1, -I)\n",
    "\\end{aligned}\n",
    "\\end{equation}\n",
    "Al vector $\\vec{I}$ se lo denomina <b>espín nuclear</b>.\n"
   ]
  },
  {
   "cell_type": "markdown",
   "id": "080fe82e",
   "metadata": {},
   "source": [
    "<div class=\"alert alert-block alert-danger\">\n",
    "<p style=\"color: DarkRed;\">\n",
    "<b>Nota</b>: <i>($S_z$ e $I_Z$)</i>\n",
    "<br>\n",
    "Aunque aquí hayamos decidido usar una notación difenciadora para el spín de una partícula\n",
    "y un núcleo ($\\vec{S}$ y $\\vec{I}$), a partir de aquí <b>usaremos $\\vec{S}$ para todo</b>.\n",
    "</p></div>\n"
   ]
  },
  {
   "cell_type": "markdown",
   "id": "080fe82e",
   "metadata": {},
   "source": [
    "<div class=\"alert alert-block alert-danger\">\n",
    "<p style=\"color: DarkRed;\">\n",
    "<b>Nota</b>: <i>(Operador de espín para partículas de espín 1/2)</i>\n",
    "<br>\n",
    "En física cuántica todos los observables son operadores (matrices hermíticas). Ya hemos visto\n",
    "el vector de espín, $\\vec{S}$ (o $\\vec{I}$, pero ya comentamos que abandonamos esta notación),\n",
    "ahora nos falta ver el <b>operador espín</b>,$\\hat{S}$ o simplemente $S$. Para partículas de\n",
    "espín 1/2, este toma la forma\n",
    "\\begin{equation} \\label{ec_Hardware_NMR_operador_S_sigma_vec}\n",
    "\\boxed{S = \\frac{\\hbar}{2} \\vec{\\sigma}}\n",
    "\\end{equation}\n",
    "donde $\\vec{\\sigma}$ es el vector de matrices de Pauli $(\\sigma_x, \\sigma_y, \\sigma_z)$.\n",
    "También podemos escribirlo pues como\n",
    "\\begin{equation} \\label{ec_Hardware_NMR_operador_S_vec_Sx-Sy-Sz}\n",
    "S = (S_x, S_y, S_z)\n",
    "\\end{equation}\n",
    "donde\n",
    "\\begin{equation} \\label{ec_Hardware_NMR_Sx-Sy-Sz}\n",
    "\\boxed{S_x = \\frac{\\hbar}{2} \\sigma_x} \\, , \\hspace{2cm}\n",
    "\\boxed{S_y = \\frac{\\hbar}{2} \\sigma_y} \\, , \\hspace{2cm}\n",
    "\\boxed{S_z = \\frac{\\hbar}{2} \\sigma_z} \\, .\n",
    "\\end{equation}\n",
    "</p></div>\n"
   ]
  },
  {
   "cell_type": "markdown",
   "id": "080fe82e",
   "metadata": {},
   "source": [
    "<div class=\"alert alert-block alert-danger\">\n",
    "<p style=\"color: DarkRed;\">\n",
    "<b>Nota</b>: <i>(Operador momento angular)</i>\n",
    "<br>\n",
    "Es común en física que se usen la notación $I = (I_x, I_y, I_z)$ para hablar del\n",
    "<b>operador de momento angular</b>. No confundirlo con el espín nuclear que vimos\n",
    "antes. Este operador es simplemente el operador de espín  {eq}`%s <ec_Hardware_NMR_operador_S_sigma_vec>`\n",
    "pero sin el factor $\\hbar$, es decir,\n",
    "\\begin{equation}\n",
    "I = \\frac{1}{2} \\vec{\\sigma}\n",
    "\\end{equation}\n",
    "Por ejemplo, en el paper de referencia de esta sección [[6]](../../Bibliografia.ipynb#bib_NMR_hardware) se usa esta notación.\n",
    "</p></div>\n"
   ]
  },
  {
   "cell_type": "markdown",
   "id": "080fe82e",
   "metadata": {},
   "source": [
    "La Ec.  {eq}`%s <ec_Hardware_NMR_I>` representa lo que en principio podría ser un acoplamiento muy complicado de muchos vectores para dar un solo resultado, y puede que no sea evidente por qué podemos despreciar esta estructura interna y tratar el núcleo como si fuera un momento angular una \"partícula\". Esto es posible porque las interacciones a las que sometemos el núcleo, como los campos electromagnéticos, no son suficientemente fuertes como para cambiar la estructura interna o romper los acoplamientos de los nucleones que son responsables de la Ec.  {eq}`%s <ec_Hardware_NMR_I>`.\n"
   ]
  },
  {
   "cell_type": "markdown",
   "id": "080fe82e",
   "metadata": {},
   "source": [
    "El valor del espín nuclear depende del valor del número másico:\n",
    "\\begin{align*}\n",
    "& \\text{Núcleos con }A \\text{ impar:} ~ \\longrightarrow \\text{Espín nuclear, } I \\text{, semientero}   \\\\\n",
    "& \\text{Núcleos con }A \\text{ par:} ~~~ \\,\\, \\, \\longrightarrow \\text{Espín nuclear, } I \\text{, entero}\n",
    "\\end{align*}\n",
    "Esto es debido a que los nucleones tienden a acoplarse en parejas de iguales (pp y nn) con el mismo momento angular orbital pero con los espines opuestos, situación consistente con el principio de exclusión de Pauli y que minimiza la energía potencial del sistema permitiendo un mayor solapamiento de las funciones de onda de los nucleones. Teniendo esto en cuenta, es de esperar que usualmente las propiedades magnéticas nucleares estén determinadas por el último nucleón desapareado (si existe), por el acoplamiento de la última pareja de nucleones, ó por el acoplamiento del espín del nucleón desapareado con el espín del core nuclear residual (bastante similar a lo que ocurre con los electrones más externos de los átomos).\n"
   ]
  },
  {
   "cell_type": "markdown",
   "id": "080fe82e",
   "metadata": {},
   "source": [
    "Todos los núcleos que se conocen (estables e inestables) con $Z$ par y $N$ par tienen espín cero en el estado fundamental. Lo cual es una evidencia de que la interacción fuerte manifiesta una especie de fuerza de apareamiento tal que existe una tendencia a mantener los nucleones apareados. Como consecuencia, resulta que el espín del estado fundamental de un núcleo con $A$ impar debe ser igual al $\\vec{j_i} = \\vec{s_i} + \\vec{l_i}$ del protón o neutrón desapareado.\n"
   ]
  },
  {
   "cell_type": "markdown",
   "id": "8534e04c",
   "metadata": {},
   "source": [
    "<figure><center>\n",
    "<img   src=\"https://quantumspain-project.es/wp-content/uploads/2022/11/Logo_QS_EspanaDigital.png\" align=center  width=\"2000px\"/>\n",
    "</center></figure>\n",
    "\n",
    "<center>\n",
    "<img align=\"left\" src=\"https://quantumspain-project.es/wp-content/uploads/2024/02/Banner-QS_GOB_v2.png\" width=\"1000px\" />\n",
    "</center>"
   ]
  }
 ],
 "metadata": {
  "kernelspec": {
   "display_name": "Python 3 (ipykernel)",
   "language": "python",
   "name": "python3"
  },
  "language_info": {
   "codemirror_mode": {
    "name": "ipython",
    "version": 3
   },
   "file_extension": ".py",
   "mimetype": "text/x-python",
   "name": "python",
   "nbconvert_exporter": "python",
   "pygments_lexer": "ipython3",
   "version": "3.11.7"
  },
  "toc": {
   "base_numbering": 1,
   "nav_menu": {},
   "number_sections": false,
   "sideBar": true,
   "skip_h1_title": true,
   "title_cell": "Table of Contents",
   "title_sidebar": "Contents",
   "toc_cell": false,
   "toc_position": {},
   "toc_section_display": true,
   "toc_window_display": false
  }
 },
 "nbformat": 4,
 "nbformat_minor": 5
}
