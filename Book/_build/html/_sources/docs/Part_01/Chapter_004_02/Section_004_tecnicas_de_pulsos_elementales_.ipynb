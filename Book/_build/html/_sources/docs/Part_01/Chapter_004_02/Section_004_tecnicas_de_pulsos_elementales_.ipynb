{
 "cells": [
  {
   "cell_type": "markdown",
   "id": "8ddaeb38",
   "metadata": {},
   "source": [
    "<img src=\"Figuras/Fig_logo_UMA_scbi.png\" align=center  width=\"2000px\"/>\n",
    "\n",
    "\n",
    "<a href=\"https://www.scbi.uma.es/web/es/computacion-cuantica/\">\n",
    "    <button class=\"rounded\" style=\"float: right;\">\n",
    "    <svg xmlns=\"http://www.w3.org/2000/svg\" width=\"32\" height=\"32\" viewBox=\"0 0 24 24\">\n",
    "        <path fill=\"var(--fill, white)\"\n",
    "        d=\"M18.1 15.3c-.1.1-.3.2-.4.3l-2.4.4l1.7 3.6c.2.4 0 .8-.4\n",
    "            1l-2.8 1.3c-.1.1-.2.1-.3.1c-.3 0-.6-.2-.7-.4L11.2\n",
    "            18l-1.9 1.5c-.1.1-.3.2-.5.2c-.4 0-.8-.3-.8-.8V7.5c0-.5.3-.8.8-.8c.2 0\n",
    "            .4.1.5.2l8.7 7.4c.3.2.4.7.1 1M6 12H4V4h16v8h-1.6l2.2 1.9c.8-.3 1.3-1\n",
    "            1.3-1.9V4c0-1.1-.9-2-2-2H4c-1.1 0-2 .9-2 2v8c0 1.1.9 2 2 2h2z\" />\n",
    "    </svg>\n",
    "    Volver a SCBI - Computación Cuantica\n",
    "    </button>\n",
    "</a>\n",
    "\n",
    "$ \\newcommand{\\bra}[1]{\\langle #1|} $\n",
    "$ \\newcommand{\\ket}[1]{|#1\\rangle} $\n",
    "$ \\newcommand{\\branew}[1]{\\langle #1|} $\n",
    "$ \\newcommand{\\ketnew}[1]{\\langle #1|} $\n",
    "$ \\newcommand{\\braket}[2]{\\langle #1|#2\\rangle} $\n",
    "$ \\newcommand{\\ketbra}[2]{| #1\\rangle \\langle #2 |} $\n",
    "$ \\newcommand{\\i}{{\\color{blue} i}} $ \n",
    "$ \\newcommand{\\Hil}{{\\cal H}} $\n",
    "$ \\newcommand{\\cg}[1]{{\\rm C}#1} $\n",
    "$ \\newcommand{\\lp}{\\left(} $\n",
    "$ \\newcommand{\\rp}{\\right)} $\n",
    "$ \\newcommand{\\lc}{\\left[} $\n",
    "$ \\newcommand{\\rc}{\\right]} $\n",
    "$ \\newcommand{\\lch}{\\left\\{} $\n",
    "$ \\newcommand{\\rch}{\\right\\}} $\n",
    "$ \\newcommand{\\Lp}{\\Bigl(} $\n",
    "$ \\newcommand{\\Rp}{\\Bigr)} $\n",
    "$ \\newcommand{\\Lc}{\\Bigl[} $\n",
    "$ \\newcommand{\\Rc}{\\Bigr]} $\n",
    "$ \\newcommand{\\Lch}{\\Bigl\\{} $\n",
    "$ \\newcommand{\\Rch}{\\Bigr\\}} $\n",
    "$ \\newcommand{\\rqa}{\\quad \\Rightarrow \\quad} $\n",
    "$ \\newcommand{\\bm}{\\boldsymbol}$"
   ]
  },
  {
   "cell_type": "markdown",
   "id": "080fe82e",
   "metadata": {},
   "source": [
    "\n",
    "<a id='sec_sub_Harware_NMR_pulsos'></a>\n",
    "# Técnicas de pulsos elementales. \n"
   ]
  },
  {
   "cell_type": "markdown",
   "id": "080fe82e",
   "metadata": {},
   "source": [
    "Esta sección inicia nuestra discusión del tema principal de este artículo, una revisión de las <b>técnicas de control</b> desarrolladas en la computación cuántica de RMN para sistemas cuánticos acoplados de dos niveles. Comenzamos con una rápida visión general del lenguaje de los circuitos cuánticos y sus importantes teoremas de universalidad, luego lo conectamos con el lenguaje de las secuencias de pulsos tal y como se utiliza en la RMN, e indicamos cómo se pueden simplificar las secuencias de pulsos. Las principales aproximaciones empleadas en esta sección son que los pulsos pueden ser <b>fuertes</b> comparados con el Hamiltoniano del sistema mientras se dirigen selectivamente a <b>un solo qubit</b> a la vez, y pueden ser perfectamente implementados.\n"
   ]
  },
  {
   "cell_type": "markdown",
   "id": "080fe82e",
   "metadata": {},
   "source": [
    "## Control cuántico, circuitos y pulsos\n"
   ]
  },
  {
   "cell_type": "markdown",
   "id": "080fe82e",
   "metadata": {},
   "source": [
    "El objetivo del control cuántico, en el contexto de la computación cuántica, es la implementación de una <b>transformación unitaria</b> $U$, especificada en términos de una secuencia $U = U_k U_{k-1} \\dots U_2 U_1$ de puertas cuánticas estándar $U_i$, que actúan localmente (normalmente sobre uno o dos qubits) y son sencillas de implementar. Como es habitual en las operaciones unitarias, las $U_i$ se ordenan en el tiempo de derecha a izquierda.\n"
   ]
  },
  {
   "cell_type": "markdown",
   "id": "080fe82e",
   "metadata": {},
   "source": [
    "### Puertas cuánticas y circuitos\n"
   ]
  },
  {
   "cell_type": "markdown",
   "id": "080fe82e",
   "metadata": {},
   "source": [
    "La rotación básica de un qubit simple son las rotaciones de la forma  {eq}`%s <ec_puertas_simples_Rn>`, es decir\n",
    "\\begin{equation}\n",
    "R_{\\hat{n}} (\\theta) = \\exp \\lc - \\frac{i \\theta \\hat{n} \\cdot \\vec{\\sigma}}{2} \\rc\n",
    "\\end{equation}\n"
   ]
  },
  {
   "cell_type": "markdown",
   "id": "080fe82e",
   "metadata": {},
   "source": [
    "Como ya hemos comentado en la sección  {numref}`%s <sec_subsub_puertas_euler>`, usando la <b>parametrización de Euler</b>  podemos general cualquier rotación sobre la esfera de Bloch usando tres rotaciones sobre dos ejes (Ec.  {eq}`%s <ec_puertas_simples_rotacion_1>`). En esa sección elegimos las rotaciones en $\\hat{z}$ y $\\hat{y}$, pero en esta vamos a usar las siguientes:\n",
    "\\begin{equation}\n",
    "U = e^{i \\alpha} R_x(\\beta) R_y (\\gamma) R_x (\\delta)\n",
    "\\end{equation}\n"
   ]
  },
  {
   "cell_type": "markdown",
   "id": "080fe82e",
   "metadata": {},
   "source": [
    "Como también comentamos, la puerta básica de dos qubits es la CNOT (Ec.  {eq}`%s <ec_multiqubit_CNOT>`).\n"
   ]
  },
  {
   "cell_type": "markdown",
   "id": "080fe82e",
   "metadata": {},
   "source": [
    "Un teorema básico de la computación cuántica es que salvo una fase global irrelevante, cualquier $U$ que actúe sobre $n$ qubits puede componerse a partir de puertas $U_{CNOT}$ y $R_{\\hat{n}}(\\theta)$ [[8]](../../Bibliografia.ipynb#bib_nielsen_chuang_2010) . Así, el problema del control cuántico puede reducirse a la implementación de $U_{CNOT}$ y rotaciones de qubits simples, donde se requieren al menos dos rotaciones no triviales (veremos esto en detalle en la sección  {numref}`%s <sec_elementos_universalidad>`). Se conocen otros conjuntos de puertas universales de este tipo, pero éste es el que se ha empleado en la RMN.\n"
   ]
  },
  {
   "cell_type": "markdown",
   "id": "080fe82e",
   "metadata": {},
   "source": [
    "### Implementación de puertas de un qubit.\n"
   ]
  },
  {
   "cell_type": "markdown",
   "id": "080fe82e",
   "metadata": {},
   "source": [
    "Las rotaciones en qubits individuales pueden implementarse directamente en el sistema de referencia rotante utilizando pulsos de RF. Del Hamiltoniano de control, Ec.  {eq}`%s <ec_Hardware_NMR_H_sys_control_final_multi_rot>`, se deduce que cuando se aplica un campo de RF de amplitud $\\omega_1$ a un sistema de un único espín con $\\omega_{rf} = \\omega_0$, el espín evoluciona bajo la transformación\n",
    "\\begin{equation} \\label{ec_Hardware_NMR_U_arbitrario}\n",
    "U = e^{i \\frac{\\mathcal{H}_{control}}{\\hbar}} = \\exp \\Lc i \\omega_1 \\lp  \\cos \\phi S_x + \\sin \\phi S_y \\rp \\frac{t_{p \\omega}}{\\hbar} \\Rc\n",
    "\\end{equation}\n",
    "donde $t_{p \\omega}$ es la <b>anchura del pulso</b> (o longitud), la duración temporal del pulso de RF. $U$ describe una rotación en la esfera de Bloch de un ángulo $\\theta$ proporcional al producto de $t_{p\\omega}$ y $\\omega_1 = \\gamma B_1$, y al rededor de un eje en el plano $\\hat{x}-\\hat{y}$ determinado por una fase $\\phi$.\n"
   ]
  },
  {
   "cell_type": "markdown",
   "id": "080fe82e",
   "metadata": {},
   "source": [
    "\n",
    " \n- Así, un pulso con fase $\\phi = \\pi$ y $\\omega_1 t_{p\\omega} = \\pi/2$ realizará $R_x(90)$ (ver Ec.  {eq}`%s <ec_puertas_simples_Rn>`), que es una rotación $90$º sobre $\\hat{x}$, denotada para abreviar como $\\sqrt{X}$.\n",
    " \n- Un pulso similar pero dos veces más largo realiza una rotación $R_x(180) =  X$.\n",
    " \n- Cambiando la fase del pulso RF a $\\phi = -\\pi/2$, pueden implementarse de forma similar $\\sqrt{Y}$ e $Y$\n",
    " \n- Para $\\phi = 0$ y $\\omega_1 t_{p\\omega} = \\pi/2$, se obtiene una rotación negativa alrededor de $\\hat{x}$: $R_x (-90) = \\sqrt{X^\\dagger}$.\n",
    " \n- De forma similar $\\phi = \\pi/2$ y $\\omega_1 t_{p\\omega} = \\pi/2$ da $\\sqrt{Y^\\dagger}$.\n",
    "\n",
    "Para sistemas multiqubit, se utilizan subíndices para indicar sobre qué qubit actúa la operación, por ejemplo, $Z^\\dagger_3$ es una rotación de $180$º del qubit 3 alrededor de $- \\hat{z}$.\n"
   ]
  },
  {
   "cell_type": "markdown",
   "id": "080fe82e",
   "metadata": {},
   "source": [
    "Por tanto, no es necesario aplicar el campo de RF a lo largo de diferentes ejes espaciales en el marco del laboratorio para realizar rotaciones $\\hat{x}$ y $\\hat{y}$. Más bien, la fase del campo de RF determina el eje de nutación en el marco de rotación. Además, nótese que sólo importa la fase relativa entre pulsos aplicados al mismo espín. La fase absoluta del primer impulso en un espín determinado no tiene importancia en sí misma. Sólo establece una referencia de fase con la que deben compararse las fases de todos los pulsos posteriores en ese mismo espín, así como la lectura de ese espín.\n"
   ]
  },
  {
   "cell_type": "markdown",
   "id": "080fe82e",
   "metadata": {},
   "source": [
    "Anteriormente señalamos que la capacidad de implementar rotaciones arbitrarias sobre $\\ket{x}$ y $\\ket{y}$ es suficiente para realizar rotaciones arbitrarias de un solo qubit (Ec.  {eq}`%s <ec_Hardware_NMR_U_arbitrario>`). Dado que las rotaciones $\\hat{z}$ son muy comunes, existen dos descomposiciones explícitas útiles de $R_z(\\theta)$ en términos de las rotaciones $\\hat{x}$ y $\\hat{y}$:\n",
    "\\begin{equation}\n",
    "R_z (\\theta) = \\sqrt{X} R_y (\\theta) \\sqrt{X^\\dagger} = \\sqrt{Y} R_x(-\\theta) \\sqrt{Y^\\dagger}\n",
    "\\end{equation}\n"
   ]
  },
  {
   "cell_type": "markdown",
   "id": "080fe82e",
   "metadata": {},
   "source": [
    "### Implementación de puertas a dos qubits\n"
   ]
  },
  {
   "cell_type": "markdown",
   "id": "080fe82e",
   "metadata": {},
   "source": [
    "La puerta de dos qubits más natural es la generada directamente por el Hamiltoniano de acoplamiento espín-espín. Para espines nucleares en una molécula en solución líquida, el Hamiltoniano de acoplamiento viene dado por la Ec.  {eq}`%s <ec_Hardware_NMR_J_coupling>`  (tanto en el sistema  laboratorio como en el sistema de rotación), a partir de la cual obtenemos el operador de evolución temporal $U_J(t) = \\exp \\lc - i 2\\pi J S_z^1 S_z^2 t /\\hbar^2 \\rc$, o en forma matricial\n",
    "\\begin{equation} \\label{ec_Hardware_NMR_UJ}\n",
    "U_J (t) =\n",
    "\\begin{bmatrix}\n",
    "e^{-i \\pi Jt/2} & 0 & 0 & 0 \\\\\n",
    "0 & e^{+i \\pi Jt/2} & 0 & 0 \\\\\n",
    "0 & 0 & e^{+i \\pi Jt/2} & 0 \\\\\n",
    "0 & 0 & 0 & e^{-i \\pi Jt/2}\n",
    "\\end{bmatrix}\n",
    "\\end{equation}\n",
    "Si se permite que esta evolución ocurra durante un tiempo $t = 1/2J$ se obtiene una transformación conocida como <b>puerta de fase controlada</b>, salvo un desplazamiento de fase de 90º en cada qubit y una fase global (y por tanto irrelevante):\n",
    "\\begin{equation}\n",
    "U_{CPHASE} = \\sqrt{-i} \\sqrt{Z^\\dagger_1} \\sqrt{Z^\\dagger_2} U_J (1/2J) =\n",
    "\\begin{bmatrix}\n",
    "1 & 0 & 0  & 0 \\\\\n",
    "0 & 1 & 0  & 0 \\\\\n",
    "0 & 0 & 1 & 0 \\\\\n",
    "0 & 0 & 0  & -1\n",
    "\\end{bmatrix}\n",
    "\\end{equation}\n",
    "Esta puerta es equivalente a la conocida puerta CNOT salvo un cambio de base del qubit objetivo y un desplazamiento de fase en el qubit de control:\n",
    "\\begin{equation} \\label{ec_Hardware_NMR_implementacion_CNOT}\n",
    "\\begin{aligned}\n",
    "U_{CNOT} = & \\, i Z_1 \\sqrt{Y^\\dagger_2} U_{CPHASE} \\sqrt{Y_2} \\nonumber \\\\\n",
    "= & \\, i Z_1 \\sqrt{Y^\\dagger_2} \\Lc \\sqrt{-i} \\sqrt{Z^\\dagger_1} \\sqrt{Z^\\dagger_2} U_J (1/2J)  \\Rc \\sqrt{Y_2} \\nonumber \\\\\n",
    "= & \\, \\sqrt{i} \\sqrt{Z_1} \\sqrt{Z_2^\\dagger} \\sqrt{X_2} U_j (1/2J) \\sqrt{Y_2}  \\nonumber \\\\\n",
    "= & \\,\n",
    "\\begin{bmatrix}\n",
    "1 & 0 & 0  & 0 \\\\\n",
    "0 & 1 & 0  & 0 \\\\\n",
    "0 & 0 & 0 & 1 \\\\\n",
    "0 & 0 & 1  & 0\n",
    "\\end{bmatrix}\n",
    "\\end{aligned}\n",
    "\\end{equation}\n"
   ]
  },
  {
   "cell_type": "markdown",
   "id": "080fe82e",
   "metadata": {},
   "source": [
    "El núcleo de esta secuencia, $\\sqrt{X_2} U_j (1/2J) \\sqrt{Y_2}$, puede entenderse gráficamente mediante la Fig.  {numref}`%s <Fig_Harware_NMR_implementacion_CNOT>`, suponiendo que los espines comienzan a lo largo de $\\pm \\hat{z}$. Primero, un pulso en el espín 2 que lo rota de $\\hat{z}$ a $\\hat{y}$. A continuación, se deja que el sistema de espín evolucione libremente durante $1/2J_{12}$ segundos. Como <b>la frecuencia de precesión del espín 2 se desplaza $\\pm J_{12}/2$ dependiendo de si el espín 1 está en $\\ket{1}$ o $\\ket{0}$</b> (ver Fig.  {numref}`%s <Fig_Harware_NMR_diagrama>`), el espín 2 llegará en $1/2J_{12}$ segundos a $+\\hat{y}$ o $- \\hat{y}$, dependiendo del estado del espín 1. Finalmente, un pulso de 90º sobre el espín 2 alrededor del eje $\\hat{x}$ hace girar el espín 2 de nuevo a $+\\hat{z}$ si el espín 1 está en $\\ket {0}$, o a $-\\hat{z}$ si el espín 1 está en $\\ket{1}$.\n"
   ]
  },
  {
   "cell_type": "markdown",
   "id": "080fe82e",
   "metadata": {},
   "source": [
    "<figure><center>\n",
    "<img src=\"Figuras/Fig_Harware_NMR_implementacion_CNOT.png\" alt=\"\" align=center width='700px'/>\n",
    "<a id='Fig_Harware_NMR_implementacion_CNOT'></a>\n",
    "<center>Representación en esfera de Bloch del funcionamiento de la puerta CNOT$_{12}$ entre dos qubits 1 y 2 acoplados por $2 \\pi J S_z^1S_z^2/\\hbar$ . Aquí se reprensenta el estado del qubit 2 (el qubit objetivo de la CNOT), que comienza en $\\ket{0}$ (a lo largo de $\\hat{z}$) y se representa en un marco de referencia que gira alrededor de $\\hat{z}$ a $\\omega_0^2/2 \\pi$. Las flechas continuas y discontinuas corresponden al caso en que el qúibit 1 (de controlo) está en $\\ket{0}$ y $\\ket{1}$ respectivamente. Figura tomada de [[6]](../../Bibliografia.ipynb#bib_NMR_hardware).</center>\n",
    "</center></figure>\n\n"
   ]
  },
  {
   "cell_type": "markdown",
   "id": "080fe82e",
   "metadata": {},
   "source": [
    "<div class=\"alert alert-block alert-success\">\n",
    "<p style=\"color: DarkGreen;\">\n",
    "<b>Ejercicio</b>:\n",
    "Vamos a verificar el paso de la esfera 2 a la 3 de la Fig.  {numref}`%s <Fig_Harware_NMR_implementacion_CNOT>`. Multiplica la matriz de la Ec.  {eq}`%s <ec_Hardware_NMR_UJ>` por los dos estados de la segunda esfera de la Fig.  {numref}`%s <Fig_Harware_NMR_implementacion_CNOT>`. Toma $t=1/2J$ y escribe los estados resultantes de la forma  {eq}`%s <ec_qubit_caso_general>` (recuerda que las fases globales no son importantes)\n",
    "</p></div>\n",
    "\n\n"
   ]
  },
  {
   "cell_type": "markdown",
   "id": "080fe82e",
   "metadata": {},
   "source": [
    "El resultado neto es que el espín 2 se invierte si y sólo si el espín 1 está en $\\ket{1}$, lo que corresponde exactamente a la tabla de verdad clásica para la CNOT. Las rotaciones $\\hat{z}$ adicionales de la Ec.  {eq}`%s <ec_Hardware_NMR_implementacion_CNOT>` son necesarias para dar a todos los elementos de $U_{CNOT}$ la misma fase, por lo que la secuencia también funciona para estados de entrada en superposición.\n"
   ]
  },
  {
   "cell_type": "markdown",
   "id": "080fe82e",
   "metadata": {},
   "source": [
    "Si el Hamiltoniano de interacción espín-espín no es de la forma $S_z^i S_z^j$ sino que contiene también componentes transversales (como en las Ec.  {eq}`%s <ec_Hardware_NMR_H_dipolo-dipolo>`), se necesitan otras secuencias de pulsos más complicadas para realizar las puertas CPHASE y CNOT.\n"
   ]
  },
  {
   "cell_type": "markdown",
   "id": "080fe82e",
   "metadata": {},
   "source": [
    "Si dos espines no están directamente acoplados entre sí, todavía es posible realizar una puerta CNOT entre ellos, siempre y cuando exista una red de acoplamientos que conecte los dos qubits. Por ejemplo, supongamos que queremos realizar una puerta CNOT con el qubit 1 como control y el qubit 3 como objetivo, CNOT$_{13}$, pero 1 y 3 no están acoplados entre sí. Si ambos están acoplados al qubit 2, como en la red de acoplamiento de la Fig.  {numref}`%s <Fig_Harware_NMR_posible_couplings>`b, podemos primero intercambiar el estado de los qubits 1 y 2 (mediante la secuencia CNOT$_{12}$ CNOT$_{21}$ CNOT$_{12}$, es decir, una puerta SWAP como la de la Fig.  {numref}`%s <Fig_elementos_Equiv_CNOTs>`), luego realizar un CNOT$_{23}$, y finalmente intercambiar de nuevo los qubits 1 y 2. El efecto neto es CNOT$_{13}$. Por extensión, se requieren como máximo $O(n)$ operaciones de intercambio para realizar una CNOT entre cualquier par de qubits en una cadena de $n$ espines con sólo acoplamientos de vecino más cercano (Fig.  {numref}`%s <Fig_Harware_NMR_posible_couplings>`b). Las operaciones SWAP también se pueden utilizar para realizar puertas de dos qubits entre dos qubits cualesquiera que estén acoplados a un qubit \"bus\" común (Fig.  {numref}`%s <Fig_Harware_NMR_posible_couplings>`c).\n"
   ]
  },
  {
   "cell_type": "markdown",
   "id": "080fe82e",
   "metadata": {},
   "source": [
    "Por el contrario, si un qubit está acoplado a muchos otros qubits (Fig.  {numref}`%s <Fig_Harware_NMR_posible_couplings>`a) y queremos realizar una CNOT entre sólo dos de ellos, debemos <b>eliminar el efecto de los acoplamientos restantes</b>. Esto se puede lograr utilizando la técnica de <b>reenfoque</b>, que ha sido ampliamente adoptada en una variedad de experimentos de RMN.\n"
   ]
  },
  {
   "cell_type": "markdown",
   "id": "080fe82e",
   "metadata": {},
   "source": [
    "<figure><center>\n",
    "<img src=\"Figuras/Fig_Harware_NMR_posible_couplings.png\" alt=\"\" align=center width='650px'/>\n",
    "<a id='Fig_Harware_NMR_posible_couplings'></a>\n",
    "<center>Tres posibles redes de acoplamiento entre cinco qubits. a) Una red de acoplamiento completa. En la práctica, estas redes siempre tendrán un tamaño limitado, ya que las interacciones físicas tienden a disminuir con la distancia. b) Una red de acoplamiento de vecino más próximo. Este tipo de cadenas lineales con acoplamientos de vecino más próximo, o variantes bidimensionales, se utilizan en muchas propuestas de estado sólido. c) Acoplamiento a través de un \"bus\". Es el caso, por ejemplo, de los esquemas de trampas de iones. Al igual que en el caso a), el grado de libertad del bus sólo se acoplará bien a un número finito de qubits. Figura tomada de [[6]](../../Bibliografia.ipynb#bib_NMR_hardware)</center>\n",
    "</center></figure>\n\n"
   ]
  },
  {
   "cell_type": "markdown",
   "id": "080fe82e",
   "metadata": {},
   "source": [
    "### Reenfoque (refocusing): apagando las interacciones $S_z^i S_z^j$ indeseadas\n"
   ]
  },
  {
   "cell_type": "markdown",
   "id": "080fe82e",
   "metadata": {},
   "source": [
    "Ya hemos visto que al estar los espines acoplados, estos evolucionan con el tiempo siguiendo la Ec.  {eq}`%s <ec_Hardware_NMR_UJ>`. Si queremos que esta evolución la sientan solo unos ciertos qubits, tenemos que eliminar el efecto de los términos de acoplamiento no deseados. Este es el caso, por ejemplo, de la CNOT. Como ya vimos, el paso intermedio de la CNOT es una evolución libre que solo deben de experimentar los dos qubits implicados en la CNOT.\n"
   ]
  },
  {
   "cell_type": "markdown",
   "id": "080fe82e",
   "metadata": {},
   "source": [
    "El efecto de los términos de acoplamiento durante un intervalo de tiempo de evolución libre puede eliminarse mediante las denominadas técnicas de <b>reenfoque</b>.  Para hamiltonianos de acoplamiento de la forma $S_z^i S_z^j$, como suele ocurrir en los experimentos de RMN de líquidos, el mecanismo de reenfoque puede entenderse a un nivel muy intuitivo.\n"
   ]
  },
  {
   "cell_type": "markdown",
   "id": "080fe82e",
   "metadata": {},
   "source": [
    "Veamos primero dos formas de deshacer $S_z^i S_z^j$ en un sistema de dos qubits. En la Fig.  {numref}`%s <Fig_Harware_NMR_refocusing>`a, la evolución del qubit 1 en el primer intervalo de tiempo $\\tau$ se invierte en el segundo intervalo de tiempo, debido al pulso de 180º en el qubit 2. En la Fig.  {numref}`%s <Fig_Harware_NMR_refocusing>`b, el qubit 1 continúa evolucionando en la misma dirección todo el tiempo, pero el primer pulso de 180º hace que los dos componentes del qubit 1 se reenfoquen al final del segundo intervalo de tiempo. El segundo pulso de 180º garantiza que ambos qubits vuelvan siempre a su estado inicial.\n"
   ]
  },
  {
   "cell_type": "markdown",
   "id": "080fe82e",
   "metadata": {},
   "source": [
    "Matemáticamente, podemos ver cómo funciona el reenfoque de los acoplamientos $J$ utilizando\n",
    "\\begin{equation}\n",
    "X_1 \\, U_J(\\tau) \\, X_1 = U_J (- \\tau) = X_2 \\, U_J \\, X_2 \\, ,\n",
    "\\end{equation}\n",
    "que nos lleva a\n",
    "\\begin{equation}\n",
    "X_1 \\, U_J(\\tau) \\, X_1 \\, U_J(\\tau) = I =  X_2 \\, U_J(\\tau) \\, X_2 \\, U_J(\\tau)\n",
    "\\end{equation}\n"
   ]
  },
  {
   "cell_type": "markdown",
   "id": "080fe82e",
   "metadata": {},
   "source": [
    "<div class=\"alert alert-block alert-success\">\n",
    "<p style=\"color: DarkGreen;\">\n",
    "<b>Ejercicio</b>:\n",
    "Partiendo de los estados de las primeras esferas de Bloch de las figuras   {numref}`%s <Fig_Harware_NMR_refocusing>`a y  {numref}`%s <Fig_Harware_NMR_refocusing>`b, (sería el estado $\\ket{y-}$ de la Ec.     {eq}`%s <ec_qubit_y+>`), aplica una a una las puertas de las figuras, comprobando que estas son correctas. (Nota: no hace falta darle un valor a $\\tau$, simplemente dejarlo como parámetro libre)\n",
    "</p></div>\n",
    "\n\n"
   ]
  },
  {
   "cell_type": "markdown",
   "id": "080fe82e",
   "metadata": {},
   "source": [
    "<figure><center>\n",
    "<img src=\"Figuras/Fig_Harware_NMR_refocusing.png\" alt=\"\" align=center width='700px'/>\n",
    "<a id='Fig_Harware_NMR_refocusing'></a>\n",
    "<center>Representación en esfera de Bloch del funcionamiento de dos esquemas sencillos para reenfocar el acoplamiento entre dos qubits acoplados. El diagrama muestra la evolución del <b>qubit 1</b> (en el sistema rotante) inicialmente a lo largo de $- \\hat{y}$, cuando el qubit 2 está en $\\ket{0}$ (sólido) o en $\\ket{1}$ (discontinuo). Los pulsos de reenfoque puede aplicarse tanto al  qubit 2 (a) como al qubit 1 (b).</center>\n",
    "</center></figure>\n\n"
   ]
  },
  {
   "cell_type": "markdown",
   "id": "080fe82e",
   "metadata": {},
   "source": [
    "Reemplazando todas las $X_i$ por $Y_i$, las secuencias funcionan igual. Sin embargo, si utilizamos unas veces $X_i$ y otras $Y_i$, obtendremos la matriz identidad salvo algunos desplazamientos de fase. Además, si aplicáramos pulsos en ambos qubits simultáneamente, por ejemplo $X_1X_2 U_J(\\tau)X_1 X_2 U_J(\\tau)$, el acoplamiento no se eliminaría.\n"
   ]
  },
  {
   "cell_type": "markdown",
   "id": "080fe82e",
   "metadata": {},
   "source": [
    "La Fig.  {numref}`%s <Fig_Harware_NMR_refocuse_1>` da una idea de las técnicas de reenfoque en un sistema multi-qubit. Específicamente, este esquema preserva el efecto de $J_{12}$, mientras que inactiva efectivamente todos los demás acoplamientos. La idea subyacente es que un acoplamiento entre los espines $i$ y $j$ actúa \"hacia delante\" durante los intervalos en los que ambos espines tienen el mismo signo en el diagrama, y actúa \"a la inversa\" siempre que los espines tienen signos opuestos. Cuando un acoplamiento actúa hacia delante y hacia atrás durante el mismo tiempo, no tiene ningún efecto neto.\n"
   ]
  },
  {
   "cell_type": "markdown",
   "id": "080fe82e",
   "metadata": {},
   "source": [
    "<figure><center>\n",
    "<img src=\"Figuras/Fig_Harware_NMR_refocuse_1.png\" alt=\"\" align=center width='500px'/>\n",
    "<a id='Fig_Harware_NMR_refocuse_1'></a>\n",
    "<center>Esquema de reenfoque para un sistema de 4 espines, diseñado para preservar el efecto de la interacción $J_{12}$ todo el tiempo pero neutralizando el efecto del resto de las $J_{ij}$. El intervalo está dividido en segmentos de igual duración, y los signos \"$+$\" y \"$-$\" indican si un espín está en suposición original o del revés. Los rectángulos negros representan pulsos de 180º, que dan la vuelta al correspondiente espín.</center>\n",
    "</center></figure>\n\n"
   ]
  },
  {
   "cell_type": "markdown",
   "id": "080fe82e",
   "metadata": {},
   "source": [
    "Se han desarrollado métodos sistemáticos para diseñar esquemas de reenfoque para sistemas multi-qubit específicamente con el propósito de la computación cuántica. El esquema más compacto se basa en matrices de Hadamard [[15]](../../Bibliografia.ipynb#bib_Hardware_NMR_reenfoque_Hadammard_1)-[[16]](../../Bibliografia.ipynb#bib_Hardware_NMR_reenfoque_Hadammard_2). Una matriz de Hadamard de orden $n$, denotada por $H(n)$, es una matriz $n \\times n$ con entradas $\\pm 1$, tal que\n",
    "\\begin{equation}\n",
    "H(n) \\, H(n)^T = n I\n",
    "\\end{equation}\n",
    "Las filas son, por tanto, ortogonales por pares, y dos filas cualesquiera coinciden exactamente en la mitad de las entradas. Identificando $+1$ y $-1$ con $+$ y $-$ como en el diagrama de la Fig.  {numref}`%s <Fig_Harware_NMR_refocuse_1>`, vemos que $H(n)$ da un esquema de desacoplamiento válido para $n$ espines utilizando sólo $n$ intervalos de tiempo. Un ejemplo de $H(12)$ es\n",
    "\\begin{equation}\n",
    "\\begin{bmatrix}\n",
    "+ & + & + & + & + & + &  + & + & + & + & + & + \\\\\n",
    "+&+&+&-&-&+&-&-&+&-&-&+\\\\\n",
    "+&+&+&+&-&-&-&+&-&+&-&-\\\\\n",
    "+&-&+&+&+&-&-&-&+&-&+&-\\\\\n",
    "+&-&-&+&+&+&-&-&-&+&-&+\\\\\n",
    "+&+&-&-&+&+&-&+&-&-&+&-\\\\\n",
    "+&-&-&-&-&-&-&+&+&+&+&+\\\\\n",
    "+&-&+&-&-&+&+&-&-&+&+&-\\\\\n",
    "+&+&-&+&-&-&+&-&-&-&+&+\\\\\n",
    "+&-&+&-&+&-&+&+&-&-&-&+\\\\\n",
    "+&-&-&+&-&+&+&+&+&-&-&-\\\\\n",
    "+&+&-&-&+&-&+&-&+&+&-&-\\\\\n",
    "\\end{bmatrix}\n",
    "\\end{equation}\n"
   ]
  },
  {
   "cell_type": "markdown",
   "id": "080fe82e",
   "metadata": {},
   "source": [
    "Si queremos que el acoplamiento entre un par de qubits permanezca activo mientras se elimina el efecto de todos los demás acoplamientos, podemos simplemente utilizar la misma fila de $H(n)$ para esos dos qubits.\n"
   ]
  },
  {
   "cell_type": "markdown",
   "id": "080fe82e",
   "metadata": {},
   "source": [
    "$H(n)$ no existe para todos los $n$, pero siempre podemos encontrar una secuencia de desacoplamiento para $n$ qubits tomando las primeras $n$ filas de $H(\\bar{n})$, siendo $\\bar{n}$ el menor número entero que satisfaga $\\bar{n} \\geq n $ con $H(\\bar{n})$ conocida. A partir de las propiedades de las matrices de Hadamard, podemos demostrar que $\\bar{n}/n$ es siempre próximo a 1 (ver [[15]](../../Bibliografia.ipynb#bib_Hardware_NMR_reenfoque_Hadammard_1)). Así que los esquemas de desacoplamiento para $n$ espines requieren $\\bar{n}$ intervalos de tiempo y no más de $\\bar{n}n$ pulsos de 180º.\n"
   ]
  },
  {
   "cell_type": "markdown",
   "id": "080fe82e",
   "metadata": {},
   "source": [
    "Terminamos esta subsección con tres observaciones adicionales.\n",
    "En primer lugar, cada qubit estará generalmente acoplado a no más de un número fijo de otros qubits, ya que las intensidades de acoplamiento tienden a disminuir con la distancia. En este caso, todos los esquemas de reenfoque pueden simplificarse enormemente.\n"
   ]
  },
  {
   "cell_type": "markdown",
   "id": "080fe82e",
   "metadata": {},
   "source": [
    "En segundo lugar, si las evoluciones hacia delante y hacia atrás bajo\n",
    "$J_{ij}$ no son iguales en duración, se produce una evolución neta acoplada correspondiente al exceso de evolución hacia delante o hacia atrás. En principio, por tanto, podemos organizar cualquier esquema de reenfoque de forma que incorpore cualquier cantidad deseada de evolución acoplada para cada par de qubits.\n"
   ]
  },
  {
   "cell_type": "markdown",
   "id": "080fe82e",
   "metadata": {},
   "source": [
    "En tercer lugar, las secuencias de reenfoque también pueden utilizarse para eliminar el efecto de los términos $S_{z}^i$ en el Hamiltoniano. Por supuesto, estos términos desaparecen en principio si trabajamos en el marco de rotación múltiple (véase la Ec.  {eq}`%s <ec_Hardware_NMR_H_sys_control_final_multi_rot>`). Sin embargo, puede haber cierta dispersión en las frecuencias de Larmor, por ejemplo debido a inhomogeneidades del campo magnético. Este efecto puede invertirse utilizando pulsos de reenfoque.\n"
   ]
  },
  {
   "cell_type": "markdown",
   "id": "8534e04c",
   "metadata": {},
   "source": [
    "<figure><center>\n",
    "<img   src=\"https://quantumspain-project.es/wp-content/uploads/2022/11/Logo_QS_EspanaDigital.png\" align=center  width=\"2000px\"/>\n",
    "</center></figure>\n",
    "\n",
    "<center>\n",
    "<img align=\"left\" src=\"https://quantumspain-project.es/wp-content/uploads/2024/02/Banner-QS_GOB_v2.png\" width=\"1000px\" />\n",
    "</center>"
   ]
  }
 ],
 "metadata": {
  "kernelspec": {
   "display_name": "Python 3 (ipykernel)",
   "language": "python",
   "name": "python3"
  },
  "language_info": {
   "codemirror_mode": {
    "name": "ipython",
    "version": 3
   },
   "file_extension": ".py",
   "mimetype": "text/x-python",
   "name": "python",
   "nbconvert_exporter": "python",
   "pygments_lexer": "ipython3",
   "version": "3.11.7"
  },
  "toc": {
   "base_numbering": 1,
   "nav_menu": {},
   "number_sections": false,
   "sideBar": true,
   "skip_h1_title": true,
   "title_cell": "Table of Contents",
   "title_sidebar": "Contents",
   "toc_cell": false,
   "toc_position": {},
   "toc_section_display": true,
   "toc_window_display": false
  }
 },
 "nbformat": 4,
 "nbformat_minor": 5
}
