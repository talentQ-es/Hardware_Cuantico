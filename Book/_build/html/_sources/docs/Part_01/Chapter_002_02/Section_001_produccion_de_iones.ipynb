{
 "cells": [
  {
   "cell_type": "markdown",
   "id": "8ddaeb38",
   "metadata": {},
   "source": [
    "<img src=\"Figuras/Fig_logo_UMA_scbi.png\" align=center  width=\"2000px\"/>\n",
    "\n",
    "\n",
    "<a href=\"https://www.scbi.uma.es/web/es/computacion-cuantica/\">\n",
    "    <button class=\"rounded\" style=\"float: right;\">\n",
    "    <svg xmlns=\"http://www.w3.org/2000/svg\" width=\"32\" height=\"32\" viewBox=\"0 0 24 24\">\n",
    "        <path fill=\"var(--fill, white)\"\n",
    "        d=\"M18.1 15.3c-.1.1-.3.2-.4.3l-2.4.4l1.7 3.6c.2.4 0 .8-.4\n",
    "            1l-2.8 1.3c-.1.1-.2.1-.3.1c-.3 0-.6-.2-.7-.4L11.2\n",
    "            18l-1.9 1.5c-.1.1-.3.2-.5.2c-.4 0-.8-.3-.8-.8V7.5c0-.5.3-.8.8-.8c.2 0\n",
    "            .4.1.5.2l8.7 7.4c.3.2.4.7.1 1M6 12H4V4h16v8h-1.6l2.2 1.9c.8-.3 1.3-1\n",
    "            1.3-1.9V4c0-1.1-.9-2-2-2H4c-1.1 0-2 .9-2 2v8c0 1.1.9 2 2 2h2z\" />\n",
    "    </svg>\n",
    "    Volver a SCBI - Computación Cuantica\n",
    "    </button>\n",
    "</a>\n",
    "\n",
    "$ \\newcommand{\\bra}[1]{\\langle #1|} $\n",
    "$ \\newcommand{\\ket}[1]{|#1\\rangle} $\n",
    "$ \\newcommand{\\branew}[1]{\\langle #1|} $\n",
    "$ \\newcommand{\\ketnew}[1]{\\langle #1|} $\n",
    "$ \\newcommand{\\braket}[2]{\\langle #1|#2\\rangle} $\n",
    "$ \\newcommand{\\ketbra}[2]{| #1\\rangle \\langle #2 |} $\n",
    "$ \\newcommand{\\i}{{\\color{blue} i}} $ \n",
    "$ \\newcommand{\\Hil}{{\\cal H}} $\n",
    "$ \\newcommand{\\cg}[1]{{\\rm C}#1} $\n",
    "$ \\newcommand{\\lp}{\\left(} $\n",
    "$ \\newcommand{\\rp}{\\right)} $\n",
    "$ \\newcommand{\\lc}{\\left[} $\n",
    "$ \\newcommand{\\rc}{\\right]} $\n",
    "$ \\newcommand{\\lch}{\\left\\{} $\n",
    "$ \\newcommand{\\rch}{\\right\\}} $\n",
    "$ \\newcommand{\\Lp}{\\Bigl(} $\n",
    "$ \\newcommand{\\Rp}{\\Bigr)} $\n",
    "$ \\newcommand{\\Lc}{\\Bigl[} $\n",
    "$ \\newcommand{\\Rc}{\\Bigr]} $\n",
    "$ \\newcommand{\\Lch}{\\Bigl\\{} $\n",
    "$ \\newcommand{\\Rch}{\\Bigr\\}} $\n",
    "$ \\newcommand{\\rqa}{\\quad \\Rightarrow \\quad} $\n",
    "$ \\newcommand{\\bm}{\\boldsymbol}$"
   ]
  },
  {
   "cell_type": "markdown",
   "id": "080fe82e",
   "metadata": {},
   "source": [
    "# Producción de iones.\n"
   ]
  },
  {
   "cell_type": "markdown",
   "id": "080fe82e",
   "metadata": {},
   "source": [
    "Antes de empezar, veamos que es un ion:\n"
   ]
  },
  {
   "cell_type": "markdown",
   "id": "080fe82e",
   "metadata": {},
   "source": [
    "<div class=\"alert alert-block alert-info\">\n",
    "<p style=\"color: navy;\">\n",
    "<b>Definición</b>:\n",
    "Un <b>ion</b> es un núcleo o una molécula cuya nube de electrones ha sido privada (cationes) o aumentada (aniones) en una unidad, por lo que el sistema total <i>no es eléctricamente neutrono</i>.\n",
    "</p></div>\n",
    "\n\n"
   ]
  },
  {
   "cell_type": "markdown",
   "id": "080fe82e",
   "metadata": {},
   "source": [
    "Entre las diversas técnicas disponibles para ionizar (positivamente) un átomo, mencionaremos brevemente la <b>fotoionización</b>. Consiste en golpear el átomo neutro con luz sintonizada a una longitud de onda adecuada, capaz de excitar un electrón externo y proporcionarle la energía suficiente para abandonar el orbital atómico. Inmediatamente después de la ionización, los iones recién creados se trasladan a un entorno protegido que retrasa la reabsorción de electrones, durante un tiempo suficiente para realizar todas las actividades experimentales requeridas.\n"
   ]
  },
  {
   "cell_type": "markdown",
   "id": "080fe82e",
   "metadata": {},
   "source": [
    "Para las aplicaciones de computación cuántica, la elección del elemento a ionizar depende principalmente de la estructura atómica y de la energía de ionización. Elementos pertenecientes a los grupos IIA y IIB de la tabla periódica:\n",
    "\\begin{equation*}\n",
    "\\text{Be, Mg, Ca, Sr, Ba, Zn, Cd, Hg, Yb}\n",
    "\\end{equation*}\n",
    "son los más favorables en este sentido y, por tanto, los más utilizadas.\n"
   ]
  },
  {
   "cell_type": "markdown",
   "id": "080fe82e",
   "metadata": {},
   "source": [
    "Después de la ionización, estos elementos presentan un espectro de energía tipo Hidrógeno, con estados (<b>atómicos</b>) $\\ket{a_i}$, $i \\in N$, caracterizados por unos niveles de energía $E_a$, autoestados del Hamiltoniano atómico $H_a$. Dos de estos estos, que llamaremos $\\ket{g}$  y $\\ket{e}$ ($g$ de <i>ground state</i> -estado fundamental- y $e$ de <i>excited</i> -excitado-), se identificarán con los estados $\\ket{0}$ y $\\ket{1}$. (No exactamente, pues falta comentar los estados vibracionales).\n"
   ]
  },
  {
   "cell_type": "markdown",
   "id": "080fe82e",
   "metadata": {},
   "source": [
    "<div class=\"alert alert-block alert-danger\">\n",
    "<p style=\"color: DarkRed;\">\n",
    "<b>Nota</b>: <i>(estados atómicos y vibracionales)</i>\n",
    "<br>\n",
    "Destacamos aquí que estos estados los denominamos <b>atómicos</b> para diferenciarlos de los estados <b>vibracionales</b> que veremos más adelante.\n",
    "<br>\n",
    "Estos estados atómicos son los de los electrones en torno al núcleo (promociones de electrones a orbitales más externos).\n",
    "</p></div>\n"
   ]
  },
  {
   "cell_type": "markdown",
   "id": "080fe82e",
   "metadata": {},
   "source": [
    "La transición $\\ket{g} \\rightarrow \\ket{e}$ puede elegirse en el rango <b>óptico</b> o en el <b>hiperfino</b> seleccionando adecuadamente el estado fundamental y excitado de los orbitales iónicos. Los qubits correspondientes se denominan qubits ópticos y hiperfinos, respectivamente. Véase la Tabla  {numref}`%s <Tab_ions_opticos_hiperfinos>` para una comparación entre ambos. Como podemos ver, los tiempos de vida (y, por tanto, los tiempos de coherencia) de los qubits hiperfinos son mucho mayores que los qubits ópticos, lo que normalmente los convierte en la opción preferida para la computación cuántica, junto con el hecho de que también son más fáciles de manipular.\n"
   ]
  },
  {
   "cell_type": "markdown",
   "id": "080fe82e",
   "metadata": {},
   "source": [
    "El estado actual de las técnicas de manipulación de iones permite tasas de operación de cientos de kHz, lo que significa que las operaciones básicas sobre qubits pueden realizarse en tiempos mucho menores que los tiempos de vida típicos de los qubits ópticos o de hiperfinos. Por lo tanto, los qubits ópticos y hiperfinos proporcionan una plataforma estable, bien caracterizada y rápidamente manipulable, satisfaciendo así los criterios 1a y 3 mencionados en la sección  {numref}`%s <sec_criterio_divicenzo>`.\n"
   ]
  },
  {
   "cell_type": "markdown",
   "id": "080fe82e",
   "metadata": {},
   "source": [
    "``````{list-table} Diferencias entre qubits ópticos e hiperfinos con iones.\n",
    ":widths: auto \n",
    ":header-rows: 1 \n",
    ":name: Tab_ions_opticos_hiperfinos\n",
    "* - Propiedades\n",
    "  - Qubits opticos\n",
    "  - Qubits hiperfinos\n",
    "* - Rango\n",
    "  - Visible, 405-790 THz\n",
    "  - Microondas, 1-100 GHz\n",
    "* - Tiempo de Vida\n",
    "  - $\\approx$ 1 s\n",
    "  - $\\approx$ 10 min\n",
    "* - Estados\n",
    "  - Nivel $S$ y un estados metaestables\n",
    "  - Dos niveles  hiperfinos\n",
    "* - Ejemplos\n",
    "  - $6S_{1/2} \\equiv \\ket{g}$ y $5D_{5/2} \\equiv \\ket{e}$ del Ba${}^+$\n",
    "  - ${}^2S_{1/2} (F=1,m_F=0) = \\ket{g}$ y\n",
    "* - \n",
    "  - \n",
    "  - ${}^2S_{1/2} (F=0,m_F=0) \\equiv \\ket{e}$ de Cd${}^+$\n",
    "``````\n\n"
   ]
  },
  {
   "cell_type": "markdown",
   "id": "8534e04c",
   "metadata": {},
   "source": [
    "<figure><center>\n",
    "<img   src=\"https://quantumspain-project.es/wp-content/uploads/2022/11/Logo_QS_EspanaDigital.png\" align=center  width=\"2000px\"/>\n",
    "</center></figure>\n",
    "\n",
    "<center>\n",
    "<img align=\"left\" src=\"https://quantumspain-project.es/wp-content/uploads/2024/02/Banner-QS_GOB_v2.png\" width=\"1000px\" />\n",
    "</center>"
   ]
  }
 ],
 "metadata": {
  "kernelspec": {
   "display_name": "Python 3 (ipykernel)",
   "language": "python",
   "name": "python3"
  },
  "language_info": {
   "codemirror_mode": {
    "name": "ipython",
    "version": 3
   },
   "file_extension": ".py",
   "mimetype": "text/x-python",
   "name": "python",
   "nbconvert_exporter": "python",
   "pygments_lexer": "ipython3",
   "version": "3.11.7"
  },
  "toc": {
   "base_numbering": 1,
   "nav_menu": {},
   "number_sections": false,
   "sideBar": true,
   "skip_h1_title": true,
   "title_cell": "Table of Contents",
   "title_sidebar": "Contents",
   "toc_cell": false,
   "toc_position": {},
   "toc_section_display": true,
   "toc_window_display": false
  }
 },
 "nbformat": 4,
 "nbformat_minor": 5
}
