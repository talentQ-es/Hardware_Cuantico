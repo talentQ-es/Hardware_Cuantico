{
 "cells": [
  {
   "cell_type": "markdown",
   "id": "8ddaeb38",
   "metadata": {},
   "source": [
    "<img src=\"Figuras/Fig_logo_UMA_scbi.png\" align=center  width=\"2000px\"/>\n",
    "\n",
    "\n",
    "<a href=\"https://www.scbi.uma.es/web/es/computacion-cuantica/\">\n",
    "    <button class=\"rounded\" style=\"float: right;\">\n",
    "    <svg xmlns=\"http://www.w3.org/2000/svg\" width=\"32\" height=\"32\" viewBox=\"0 0 24 24\">\n",
    "        <path fill=\"var(--fill, white)\"\n",
    "        d=\"M18.1 15.3c-.1.1-.3.2-.4.3l-2.4.4l1.7 3.6c.2.4 0 .8-.4\n",
    "            1l-2.8 1.3c-.1.1-.2.1-.3.1c-.3 0-.6-.2-.7-.4L11.2\n",
    "            18l-1.9 1.5c-.1.1-.3.2-.5.2c-.4 0-.8-.3-.8-.8V7.5c0-.5.3-.8.8-.8c.2 0\n",
    "            .4.1.5.2l8.7 7.4c.3.2.4.7.1 1M6 12H4V4h16v8h-1.6l2.2 1.9c.8-.3 1.3-1\n",
    "            1.3-1.9V4c0-1.1-.9-2-2-2H4c-1.1 0-2 .9-2 2v8c0 1.1.9 2 2 2h2z\" />\n",
    "    </svg>\n",
    "    Volver a SCBI - Computación Cuantica\n",
    "    </button>\n",
    "</a>\n",
    "\n",
    "$ \\newcommand{\\bra}[1]{\\langle #1|} $\n",
    "$ \\newcommand{\\ket}[1]{|#1\\rangle} $\n",
    "$ \\newcommand{\\branew}[1]{\\langle #1|} $\n",
    "$ \\newcommand{\\ketnew}[1]{\\langle #1|} $\n",
    "$ \\newcommand{\\braket}[2]{\\langle #1|#2\\rangle} $\n",
    "$ \\newcommand{\\ketbra}[2]{| #1\\rangle \\langle #2 |} $\n",
    "$ \\newcommand{\\i}{{\\color{blue} i}} $ \n",
    "$ \\newcommand{\\Hil}{{\\cal H}} $\n",
    "$ \\newcommand{\\cg}[1]{{\\rm C}#1} $\n",
    "$ \\newcommand{\\lp}{\\left(} $\n",
    "$ \\newcommand{\\rp}{\\right)} $\n",
    "$ \\newcommand{\\lc}{\\left[} $\n",
    "$ \\newcommand{\\rc}{\\right]} $\n",
    "$ \\newcommand{\\lch}{\\left\\{} $\n",
    "$ \\newcommand{\\rch}{\\right\\}} $\n",
    "$ \\newcommand{\\Lp}{\\Bigl(} $\n",
    "$ \\newcommand{\\Rp}{\\Bigr)} $\n",
    "$ \\newcommand{\\Lc}{\\Bigl[} $\n",
    "$ \\newcommand{\\Rc}{\\Bigr]} $\n",
    "$ \\newcommand{\\Lch}{\\Bigl\\{} $\n",
    "$ \\newcommand{\\Rch}{\\Bigr\\}} $\n",
    "$ \\newcommand{\\rqa}{\\quad \\Rightarrow \\quad} $\n",
    "$ \\newcommand{\\bm}{\\boldsymbol}$"
   ]
  },
  {
   "cell_type": "markdown",
   "id": "080fe82e",
   "metadata": {},
   "source": [
    "# Lectura del estado de los iones\n"
   ]
  },
  {
   "cell_type": "markdown",
   "id": "080fe82e",
   "metadata": {},
   "source": [
    "Una vez preparado un qubit, el criterio 5 de la sección  {numref}`%s <sec_criterio_divicenzo>` requiere la capacidad de leer de forma fiable su estado. Sabemos que no podemos tener una descripción exhaustiva de un sistema cuántico, ya que una medición lo colapsará inevitablemente a un estado propio del observable. Por tanto, sólo podemos adoptar un enfoque probabilístico.\n"
   ]
  },
  {
   "cell_type": "markdown",
   "id": "080fe82e",
   "metadata": {},
   "source": [
    "Una forma estándar de sondear iones implica la selección de un estado excitado auxiliar $\\ket{e'}$, que es distinto tanto del estado fundamental $\\ket{g}$ como del estado excitado $\\ket{e}$ dentro de la resolución de frecuencia de los instrumentos. Además, dicho estado debe ser de corta duración, es decir, decaer rápidamente de nuevo al estado fundamental $\\ket{g}$.\n"
   ]
  },
  {
   "cell_type": "markdown",
   "id": "080fe82e",
   "metadata": {},
   "source": [
    "El procedimiento de lectura es el siguiente. Dirigimos un láser sintonizado con la transición $\\ket{g} \\rightarrow \\ket{e'}$ sobre un ion. Absorberá fotones (y los emitirá rápidamente) si el qubit del ion tiene un componente en el estado fundamental. Esta radiación puede ser detectada por fotodetectores (<b>estado brillante</b>). En cambio, un ion en estado excitado será transparente a la radiación (<b>estado oscuro</b>) y los fotodetectores no detectarán ninguna radiación. La Fig.  {numref}`%s <Fig_ions_readout>` resume estos conceptos.\n"
   ]
  },
  {
   "cell_type": "markdown",
   "id": "080fe82e",
   "metadata": {},
   "source": [
    "<figure><center>\n",
    "<img src=\"Figuras/Fig_ions_readout.png\" alt=\"\" align=center width='700px'/>\n",
    "<a id='Fig_ions_readout'></a>\n",
    "<center>Los iones que interaccionan con el láser emiten fluorescencia (si están en estado fundamental) o permanecen inertes (si están en estado excitado). La radiación emitida es recogida por el fotodetector y dará lugar a un punto brillante en la superficie del detector. Fuente [[84]](../../Bibliografia.ipynb#bib_ions_main)</center>\n",
    "</center></figure>\n\n"
   ]
  },
  {
   "cell_type": "markdown",
   "id": "080fe82e",
   "metadata": {},
   "source": [
    "Dirigir el láser a un ion equivale a medir su estado. Así, podemos expresar el proceso como el colapso de un estado objetivo\n",
    "\\begin{equation}\n",
    "\\ket{\\Psi} = \\alpha_{\\text{brillo}} \\ket{g} + \\alpha_{\\text{oscuro}} \\ket{e}\n",
    "\\end{equation}\n",
    "al estado fundamental o al excitado, con probabilidades $P_{\\text{brillo}} = |\\alpha_{\\text{brillo}}|^2$ y $P_{\\text{oscuro}} = |\\alpha_{\\text{oscuro}}|^2$. Para estimar $P_{\\text{brillo}}$ y $P_{\\text{ocuro}}$, la preparación y la medición del estado deben repetirse un número suficientemente grande de veces. Las técnicas mencionadas pueden alcanzar una precisión del 99,99\\% y superior.\n"
   ]
  },
  {
   "cell_type": "markdown",
   "id": "8534e04c",
   "metadata": {},
   "source": [
    "<figure><center>\n",
    "<img   src=\"https://quantumspain-project.es/wp-content/uploads/2022/11/Logo_QS_EspanaDigital.png\" align=center  width=\"2000px\"/>\n",
    "</center></figure>\n",
    "\n",
    "<center>\n",
    "<img align=\"left\" src=\"https://quantumspain-project.es/wp-content/uploads/2024/02/Banner-QS_GOB_v2.png\" width=\"1000px\" />\n",
    "</center>"
   ]
  }
 ],
 "metadata": {
  "kernelspec": {
   "display_name": "Python 3 (ipykernel)",
   "language": "python",
   "name": "python3"
  },
  "language_info": {
   "codemirror_mode": {
    "name": "ipython",
    "version": 3
   },
   "file_extension": ".py",
   "mimetype": "text/x-python",
   "name": "python",
   "nbconvert_exporter": "python",
   "pygments_lexer": "ipython3",
   "version": "3.11.7"
  },
  "toc": {
   "base_numbering": 1,
   "nav_menu": {},
   "number_sections": false,
   "sideBar": true,
   "skip_h1_title": true,
   "title_cell": "Table of Contents",
   "title_sidebar": "Contents",
   "toc_cell": false,
   "toc_position": {},
   "toc_section_display": true,
   "toc_window_display": false
  }
 },
 "nbformat": 4,
 "nbformat_minor": 5
}
