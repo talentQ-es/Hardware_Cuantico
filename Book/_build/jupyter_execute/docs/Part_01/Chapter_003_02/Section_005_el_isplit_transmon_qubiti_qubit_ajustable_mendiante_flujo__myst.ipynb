{
 "cells": [
  {
   "cell_type": "markdown",
   "id": "8ddaeb38",
   "metadata": {},
   "source": [
    "> {sub-ref}`today` | {sub-ref}`wordcount-minutes` min read\n",
    "\n",
    "<a href=\"https://www.talentq.es/es_es/cursos/\">\n",
    "    <button class=\"rounded\" style=\"float: right;\">\n",
    "    <svg xmlns=\"http://www.w3.org/2000/svg\" width=\"32\" height=\"32\" viewBox=\"0 0 24 24\">\n",
    "        <path fill=\"var(--fill, white)\"\n",
    "        d=\"M18.1 15.3c-.1.1-.3.2-.4.3l-2.4.4l1.7 3.6c.2.4 0 .8-.4\n",
    "            1l-2.8 1.3c-.1.1-.2.1-.3.1c-.3 0-.6-.2-.7-.4L11.2\n",
    "            18l-1.9 1.5c-.1.1-.3.2-.5.2c-.4 0-.8-.3-.8-.8V7.5c0-.5.3-.8.8-.8c.2 0\n",
    "            .4.1.5.2l8.7 7.4c.3.2.4.7.1 1M6 12H4V4h16v8h-1.6l2.2 1.9c.8-.3 1.3-1\n",
    "            1.3-1.9V4c0-1.1-.9-2-2-2H4c-1.1 0-2 .9-2 2v8c0 1.1.9 2 2 2h2z\" />\n",
    "    </svg>\n",
    "    Volver a TalentQ\n",
    "    </button>\n",
    "</a>\n",
    "\n",
    "$ \\newcommand{\\bra}[1]{\\langle #1|} $\n",
    "$ \\newcommand{\\ket}[1]{|#1\\rangle} $\n",
    "$ \\newcommand{\\branew}[1]{\\langle #1|} $\n",
    "$ \\newcommand{\\ketnew}[1]{\\langle #1|} $\n",
    "$ \\newcommand{\\braket}[2]{\\langle #1|#2\\rangle} $\n",
    "$ \\newcommand{\\ketbra}[2]{| #1\\rangle \\langle #2 |} $\n",
    "$ \\newcommand{\\i}{{\\color{blue} i}} $ \n",
    "$ \\newcommand{\\Hil}{{\\cal H}} $\n",
    "$ \\newcommand{\\cg}[1]{{\\rm C}#1} $\n",
    "$ \\newcommand{\\lp}{\\left(} $\n",
    "$ \\newcommand{\\rp}{\\right)} $\n",
    "$ \\newcommand{\\lc}{\\left[} $\n",
    "$ \\newcommand{\\rc}{\\right]} $\n",
    "$ \\newcommand{\\lch}{\\left\\{} $\n",
    "$ \\newcommand{\\rch}{\\right\\}} $\n",
    "$ \\newcommand{\\Lp}{\\Bigl(} $\n",
    "$ \\newcommand{\\Rp}{\\Bigr)} $\n",
    "$ \\newcommand{\\Lc}{\\Bigl[} $\n",
    "$ \\newcommand{\\Rc}{\\Bigr]} $\n",
    "$ \\newcommand{\\Lch}{\\Bigl\\{} $\n",
    "$ \\newcommand{\\Rch}{\\Bigr\\}} $\n",
    "$ \\newcommand{\\rqa}{\\quad \\Rightarrow \\quad} $\n",
    "$ \\newcommand{\\bm}{\\boldsymbol}$"
   ]
  },
  {
   "cell_type": "markdown",
   "id": "080fe82e",
   "metadata": {},
   "source": [
    "\n",
    "(sec_scq_split_transmon)= \n",
    "# El <i>Split Transmon Qubit</i> (qubit ajustable mendiante flujo) \n"
   ]
  },
  {
   "cell_type": "markdown",
   "id": "f67e2270",
   "metadata": {},
   "source": [
    "## Split Transmon Qubit simétrico\n"
   ]
  },
  {
   "cell_type": "markdown",
   "id": "c46a7bde",
   "metadata": {},
   "source": [
    "Para llevar a cabo operaciones rápidas de puerta con alta fidelidad, muchas (aunque no todas) de las arquitecturas de procesadores cuánticos implementadas hoy en día cuentan con <b>frecuencias de qubit ajustables</b>. Por ejemplo, en algunos casos, necesitamos que dos qubits entren en resonancia para intercambiar (swap) energía, mientras que también necesitamos la capacidad de separarlos durante los periodos de inactividad para minimizar sus interacciones. Para ello, necesitamos un parámetro externo que nos permita acceder a uno de los grados de libertad del sistema de forma controlable.\n"
   ]
  },
  {
   "cell_type": "markdown",
   "id": "3a22559d",
   "metadata": {},
   "source": [
    "Una técnica ampliamente utilizada consiste en sustituir la unión Josephson única por un bucle interrumpido por <b>dos uniones idénticas</b>, formando un dispositivo superconductor de interferencia cuántica de corriente continua (<b>DC-SQUID</b>). A este tipo de qubits se los denomina <b>\"split transmon\" simétrico</b>. Podemos ver el circuito de este qubit en la Fig.  {numref}`%s <Fig_scq_split_transmon_main>`(a) y en la Fig.  {numref}`%s <Fig_scq_split_transmon>`, mientras que en la Fig.  {numref}`%s <Fig_scq_split_transmon_real>` podemos ver una imagen realista de como sería este tipo de qubits.\n"
   ]
  },
  {
   "cell_type": "markdown",
   "id": "f6cd99a5",
   "metadata": {},
   "source": [
    "Debido a la interferencia entre los dos brazos del SQUID, la corriente crítica efectiva de las dos uniones paralelas puede disminuirse aplicando un flujo magnético que atraviese el bucle, véase la Fig.  {numref}`%s <Fig_scq_split_transmon_main>`(b).\n"
   ]
  },
  {
   "cell_type": "markdown",
   "id": "ff3d56b3",
   "metadata": {},
   "source": [
    "Debido a la condición de cuantización del flujo, la suma algebraica del flujo de rama de todos los elementos inductivos a lo largo del bucle más el flujo aplicado externamente es igual a un número entero de cuantos de flujo superconductor, es decir\n",
    "\\begin{equation}\n",
    "\\varphi_1 - \\varphi_2 + 2 \\varphi_e = 2 \\pi k\n",
    "\\end{equation}\n",
    "donde $\\varphi_e = \\pi \\Phi_{ext}/\\Phi_0$ (es decir, los flujos los damos en unidades del cuanto de flujo $\\Phi_0$). Utilizando esta condición, podemos eliminar un grado de libertad y tratar el bucle SQUID como una única unión, pero con la importante modificación de que $E_J$ es ajustable (a través de la corriente crítica SQUID) mediante el flujo externo $\\Phi_{ext}$. El Hamiltoniano efectivo del llamado <b>\"split transmon\" simétrico</b> (ignorando la constante) es\n",
    "```{math}\n",
    ":label: ec_scq_split_transmon_sym_H \n",
    "\\begin{equation} \n",
    "H_{SST} = 4 E_C n^2 - 2 E_J | \\cos (\\varphi_e) | \\cos (\\phi)\n",
    "\\end{equation} \n",
    "```\n"
   ]
  },
  {
   "cell_type": "markdown",
   "id": "6ce49746",
   "metadata": {},
   "source": [
    "Podemos ver que la Ec.  {eq}`%s <ec_scq_split_transmon_sym_H>` es análoga a la Ec.  {eq}`%s <ec_sqc_LCJJ_H>`, con $E_J$ reemplazada por\n",
    "\\begin{equation}\n",
    "E^{'}_J (\\varphi_e) = 2 E_J |\\cos (\\varphi_e)|\n",
    "\\end{equation}\n",
    "La magnitud de la energía Josephson efectiva $E^{'}_J$ tiene un período de $\\Phi_0$ en el flujo aplicado y toma valores entre 0 y $2E_J$. Por lo tanto, la frecuencia del qubit puede sintonizarse periódicamente con $\\Phi_{ext}$ (ver Fig.  {numref}`%s <Fig_scq_split_transmon_main>`(b)).\n"
   ]
  },
  {
   "cell_type": "markdown",
   "id": "7a52af09",
   "metadata": {},
   "source": [
    "::::{figure} Figuras/Fig_scq_split_transmon_main.png\n",
    ":width: 1000px\n",
    ":align: center\n",
    ":name: Fig_scq_split_transmon_main\n",
    "Representaciones de circuitos qubit modulares para modalidades qubit en derivación capacitiva [recuadro naranja de la Fig.  {numref}`%s <Fig_sqc_circuitos_LC>`(c)] y las correspondientes frecuencias de transición qubit para los dos estados de energía más bajos en función del flujo magnético aplicado en unidades de $\\Phi_0$. (a) y (b) <b>Qubit transmón simétrico</b>, con energía Josephson $E_J$ derivada con un condensador que produce una energía de carga $E_C$. (c) y (d) <b>Qubit transmón asimétrico</b>, con asimetría de unión $\\gamma = E_{J2}/E_{J1}=2.5$ (e) y (f) <b>Qubit de flujo</b> derivado capacitivamente, en el que una pequeña unión principal (roja) está derivada con dos uniones mayores (naranja). Los parámetros son los mismos que Yan et al.62 (g) y (h) <b>Qubit fluxonium</b>, en el que la pequeña unión se deriva inductivamente con un gran conjunto de $N$ uniones. Figura tomada de  {cite}`bib_A_quantum_engineers_guide`\n",
    "::::\n"
   ]
  },
  {
   "cell_type": "markdown",
   "id": "f6614956",
   "metadata": {},
   "source": [
    "::::{figure} Figuras/Fig_scq_split_transmon.png\n",
    ":width: 1000px\n",
    ":align: center\n",
    ":name: Fig_scq_split_transmon\n",
    "Los esquemas de circuito para la evolución de un CPB a un transmón: el (a) CPB, (b) CPB dividido, y (c) \"split transmon\". El simbolo \"X\" solo represneta una unión Josephson. En el simbolo \"X\" en una caja se ha absorvido la capacitancia $C_J$.  Figura tomada de [[93]](../../Bibliografia.ipynb#Bib_scq_transmon_qubit_for_electromagnetic_engineers)\n",
    "::::\n"
   ]
  },
  {
   "cell_type": "markdown",
   "id": "3680531c",
   "metadata": {},
   "source": [
    "::::{figure} Figuras/Fig_scq_split_transmon_real.png\n",
    ":width: 1000px\n",
    ":align: center\n",
    ":name: Fig_scq_split_transmon_real\n",
    "Imágenes de un qubit de (\"split\") transmón ajustable en frecuencia: (a) el transmón completo formado por una gran capacitancia (la forma \"+\") en paralelo con un SQUID a tierra, (b) un acercamiento del SQUID, y (c) una única unión Josephson. Figura tomada de [[93]](../../Bibliografia.ipynb#Bib_scq_transmon_qubit_for_electromagnetic_engineers)\n",
    "::::\n"
   ]
  },
  {
   "cell_type": "markdown",
   "id": "bc4853a3",
   "metadata": {},
   "source": [
    "## Split Transmon Qubit asimétrico\n"
   ]
  },
  {
   "cell_type": "markdown",
   "id": "1d0e6f52",
   "metadata": {},
   "source": [
    "Aunque el \"split transmon\" permite el ajuste de la frecuencia mediante el campo magnético aplicado externamente, también introduce sensibilidad a las fluctuaciones aleatorias del flujo, conocidas como <b>ruido de flujo</b>. En cualquier punto de trabajo, la pendiente del espectro del qubit, $\\partial \\omega_q/\\partial \\Phi_{ext}$, indica en primer orden la intensidad con la que este ruido de flujo afecta a la frecuencia del qubit. La sensibilidad suele ser distinta de cero, excepto en múltiplos del cuanto de flujo, $\\Phi_{ext} = k \\Phi_0$, siendo $k$ un entero, donde $\\partial \\omega_q/\\partial \\Phi_{ext}$ = 0.\n"
   ]
  },
  {
   "cell_type": "markdown",
   "id": "c0ee4337",
   "metadata": {},
   "source": [
    "Para reducir la sensibilidad del qubit al ruido de flujo, manteniendo al mismo tiempo un ajuste suficiente para operar nuestras puertas cuánticas. La idea es hacer un <b>\"split transmon\" asimétrico</b>, donde una unión tiene un $E_J$ mayor que el de la otra (véase la Fig.  {numref}`%s <Fig_scq_split_transmon_main>`(c)). Esto produce el siguiente Hamiltoniano\n",
    "\\begin{equation}\n",
    "H = 4 E_C n^2 - \\underbrace{E_{J \\varSigma} \\sqrt{\\cos^2(\\varphi_e) + d^2 \\sin^2(\\varphi_e)}}_{E'_J(\\varphi_e)} \\cos(\\phi),\n",
    "\\end{equation}\n",
    "donde\n",
    "```{math}\n",
    ":label: ec_scq_split_transmon_asym_H \n",
    "\\begin{equation} \n",
    "E_{J\\varSigma} = E_{J1} + E_{J2}\n",
    "\\qquad \\text{y} \\qquad d = (\\gamma - 1)/(\\gamma + 1)\n",
    "\\qquad \\text{con} \\qquad \\gamma=E_{J2}/E_{J1}\n",
    "\\end{equation} \n",
    "```\n",
    "donde $d$ es  el parámetro de asimetría de la unión.\n"
   ]
  },
  {
   "cell_type": "markdown",
   "id": "027267b2",
   "metadata": {},
   "source": [
    "De nuevo, podemos tratar las dos uniones como un transmón de unión única, con una energía Josephson efectiva $E'_J(\\varphi_e)$. En particular, podemos reconocer los dos casos especiales; para $d=0$, el Hamiltoniano en la Ec.  {eq}`%s <ec_scq_split_transmon_asym_H>` se reduce al caso simétrico con $E'_J(\\varphi_e) = E_{J\\varSigma} |\\cos (\\phi_e)$| con $E_{J\\varSigma} = 2E_J$, como en la Ec.  {eq}`%s <ec_scq_split_transmon_sym_H>`. En el otro límite, cuando $|d| \\rightarrow 1$, $E'_J(\\varphi_e) \\rightarrow E_{J\\Sigma}$ y el ajuste mediante flujo de la energía Josephson desaparece, lo que equivale al caso de una sola unión, (ver Ec.  {eq}`%s <ec_sqc_LCJJ_H>`).\n"
   ]
  },
  {
   "cell_type": "markdown",
   "id": "06ff268a",
   "metadata": {},
   "source": [
    "De la discusión anterior se desprende que pasar de transmones simétricos a asimétricos no cambia la topología del circuito. Sin embargo, esta modificación aparentemente trivial tiene profundas repercusiones en las aplicaciones prácticas. Como podemos ver en los espectros del qubit, Fig.  {numref}`%s <Fig_scq_split_transmon_main>`(d), la sensibilidad de flujo se suprime en todo el rango de frecuencias ajustables.\n"
   ]
  },
  {
   "cell_type": "markdown",
   "id": "8dfe85df",
   "metadata": {},
   "source": [
    "Por lo tanto, mediante el uso de un transmón asimétrico, se introduce un pequeño rango de ajuste de frecuencia que es suficiente para compensar las variaciones de fabricación, sin introducir una gran susceptibilidad innecesaria al ruido de flujo y manteniendo así una alta coherencia. Por ejemplo, un esquema de \"surface code\" basado en la puerta de fase controlada adiabática (CPHASE) requiere una configuración de frecuencia específica entre los qubits para evitar problemas de aglomeración de frecuencias, y los transmones asimétricos se ajustan bien a su gama de frecuencias bien definida.\n"
   ]
  },
  {
   "cell_type": "markdown",
   "id": "db543779",
   "metadata": {},
   "source": [
    "\\clearpage\n"
   ]
  },
  {
   "cell_type": "markdown",
   "id": "62e589cb",
   "metadata": {},
   "source": [
    "---\n",
    "Autor:\n",
    "\n",
    "David Castaño ([UMA-SCBI](https://www.scbi.uma.es/site/))\n",
    "\n",
    "<img src=\"Figuras/Logo_UMA.jpeg\"  width=\"170px\">\n",
    "\n",
    "\n",
    "---\n",
    "::::{figure} https://quantumspain-project.es/wp-content/uploads/2022/11/Logo_QS_EspanaDigital.png\n",
    ":width: 2000px\n",
    ":align: center\n",
    "::::\n",
    "\n",
    "<center>\n",
    "<a rel=\"license\" href=\"http://creativecommons.org/licenses/by-sa/4.0/\">\n",
    "<img aling=\"left\" alt=\"Licencia Creative Commons\" style=\"border-width:0\" src=\"https://i.creativecommons.org/l/by-sa/4.0/88x31.png\" /></a>\n",
    "</center>\n",
    "\n",
    "License: <a rel=\"license\" href=\"http://creativecommons.org/licenses/by-sa/4.0/\">Licencia Creative Commons Atribución-CompartirIgual 4.0 Internacional</a>.\n",
    "\n",
    "This work has been financially supported by the Ministry for Digital Transformation and of Civil Service of the Spanish Government through the QUANTUM ENIA project call - Quantum Spain project, and by the European Union through the Recovery, Transformation and Resilience Plan - NextGenerationEU within the framework of the Digital Spain 2026 Agenda.\n",
    "\n",
    "<center>\n",
    "<img align=\"left\" src=\"https://quantumspain-project.es/wp-content/uploads/2024/02/Banner-QS_GOB_v2.png\" width=\"1000px\" />\n",
    "</center>"
   ]
  },
  {
   "cell_type": "markdown",
   "id": "a1b0711f",
   "metadata": {},
   "source": []
  }
 ],
 "metadata": {
  "kernelspec": {
   "display_name": "Python 3 (ipykernel)",
   "language": "python",
   "name": "python3"
  },
  "language_info": {
   "codemirror_mode": {
    "name": "ipython",
    "version": 3
   },
   "file_extension": ".py",
   "mimetype": "text/x-python",
   "name": "python",
   "nbconvert_exporter": "python",
   "pygments_lexer": "ipython3",
   "version": "3.11.7"
  },
  "toc": {
   "base_numbering": 1,
   "nav_menu": {},
   "number_sections": false,
   "sideBar": true,
   "skip_h1_title": true,
   "title_cell": "Table of Contents",
   "title_sidebar": "Contents",
   "toc_cell": false,
   "toc_position": {},
   "toc_section_display": true,
   "toc_window_display": false
  }
 },
 "nbformat": 4,
 "nbformat_minor": 5
}