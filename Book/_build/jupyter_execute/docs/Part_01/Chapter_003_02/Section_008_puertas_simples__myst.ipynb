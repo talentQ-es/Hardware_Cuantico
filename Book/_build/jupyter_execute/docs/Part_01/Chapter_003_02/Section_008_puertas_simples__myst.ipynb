{
 "cells": [
  {
   "cell_type": "markdown",
   "id": "8ddaeb38",
   "metadata": {},
   "source": [
    "> {sub-ref}`today` | {sub-ref}`wordcount-minutes` min read\n",
    "\n",
    "<a href=\"https://www.talentq.es/es_es/cursos/\">\n",
    "    <button class=\"rounded\" style=\"float: right;\">\n",
    "    <svg xmlns=\"http://www.w3.org/2000/svg\" width=\"32\" height=\"32\" viewBox=\"0 0 24 24\">\n",
    "        <path fill=\"var(--fill, white)\"\n",
    "        d=\"M18.1 15.3c-.1.1-.3.2-.4.3l-2.4.4l1.7 3.6c.2.4 0 .8-.4\n",
    "            1l-2.8 1.3c-.1.1-.2.1-.3.1c-.3 0-.6-.2-.7-.4L11.2\n",
    "            18l-1.9 1.5c-.1.1-.3.2-.5.2c-.4 0-.8-.3-.8-.8V7.5c0-.5.3-.8.8-.8c.2 0\n",
    "            .4.1.5.2l8.7 7.4c.3.2.4.7.1 1M6 12H4V4h16v8h-1.6l2.2 1.9c.8-.3 1.3-1\n",
    "            1.3-1.9V4c0-1.1-.9-2-2-2H4c-1.1 0-2 .9-2 2v8c0 1.1.9 2 2 2h2z\" />\n",
    "    </svg>\n",
    "    Volver a TalentQ\n",
    "    </button>\n",
    "</a>\n",
    "\n",
    "$ \\newcommand{\\bra}[1]{\\langle #1|} $\n",
    "$ \\newcommand{\\ket}[1]{|#1\\rangle} $\n",
    "$ \\newcommand{\\branew}[1]{\\langle #1|} $\n",
    "$ \\newcommand{\\ketnew}[1]{\\langle #1|} $\n",
    "$ \\newcommand{\\braket}[2]{\\langle #1|#2\\rangle} $\n",
    "$ \\newcommand{\\ketbra}[2]{| #1\\rangle \\langle #2 |} $\n",
    "$ \\newcommand{\\i}{{\\color{blue} i}} $ \n",
    "$ \\newcommand{\\Hil}{{\\cal H}} $\n",
    "$ \\newcommand{\\cg}[1]{{\\rm C}#1} $\n",
    "$ \\newcommand{\\lp}{\\left(} $\n",
    "$ \\newcommand{\\rp}{\\right)} $\n",
    "$ \\newcommand{\\lc}{\\left[} $\n",
    "$ \\newcommand{\\rc}{\\right]} $\n",
    "$ \\newcommand{\\lch}{\\left\\{} $\n",
    "$ \\newcommand{\\rch}{\\right\\}} $\n",
    "$ \\newcommand{\\Lp}{\\Bigl(} $\n",
    "$ \\newcommand{\\Rp}{\\Bigr)} $\n",
    "$ \\newcommand{\\Lc}{\\Bigl[} $\n",
    "$ \\newcommand{\\Rc}{\\Bigr]} $\n",
    "$ \\newcommand{\\Lch}{\\Bigl\\{} $\n",
    "$ \\newcommand{\\Rch}{\\Bigr\\}} $\n",
    "$ \\newcommand{\\rqa}{\\quad \\Rightarrow \\quad} $\n",
    "$ \\newcommand{\\bm}{\\boldsymbol}$"
   ]
  },
  {
   "cell_type": "markdown",
   "id": "080fe82e",
   "metadata": {},
   "source": [
    "\n",
    "(sec_scq_puertas_1_qubits)= \n",
    "# Puertas simples \n"
   ]
  },
  {
   "cell_type": "markdown",
   "id": "c2237dbf",
   "metadata": {},
   "source": [
    "En esta sección, revisaremos los pasos necesarios para demostrar que el acoplamiento capacitivo de microondas a un circuito superconductor puede utilizarse para accionar puertas de un solo qubit. Para ello, consideraremos el acoplamiento de un qubit superconductor a una fuente de microondas (a veces denominado \"qubit drive\") como se muestra en la Fig.  {numref}`%s <Fig_scq_qubit_acoplado_a_fuente>`. Un análisis completo del circuito de la Fig.  {numref}`%s <Fig_scq_qubit_acoplado_a_fuente>` está fuera del alcance de esta revisión, por lo que aquí nos conformamos con resaltar los pasos que elucidan la física del acoplamiento de la fuente con el qubit.\n"
   ]
  },
  {
   "cell_type": "markdown",
   "id": "8fe6d781",
   "metadata": {},
   "source": [
    "::::{figure} Figuras/Fig_scq_qubit_acoplado_a_fuente.png\n",
    ":width: 600px\n",
    ":align: center\n",
    ":name: Fig_scq_qubit_acoplado_a_fuente\n",
    "Diagrama del circuito de acoplamiento capacitivo de una línea de accionamiento de microondas (microwave drive line) [caracterizada por un voltaje $V_d(t)$ dependiente del tiempo] a un qubit superconductor transmónico genérico. Figura tomada de {cite}`bib_A_quantum_engineers_guide`\n",
    "::::\n"
   ]
  },
  {
   "cell_type": "markdown",
   "id": "a867b66a",
   "metadata": {},
   "source": [
    "\n",
    "\n",
    "## Acoplamiento capacitivo para las puertas $X$ e $Y$ \n"
   ]
  },
  {
   "cell_type": "markdown",
   "id": "79edf9fb",
   "metadata": {},
   "source": [
    "### Modelado del circuito de la Fig.  {numref}`%s <Fig_scq_qubit_acoplado_a_fuente>`.\n"
   ]
  },
  {
   "cell_type": "markdown",
   "id": "6508d6eb",
   "metadata": {},
   "source": [
    "Comenzamos modelando el qubit como un oscilador armónico, para el que el Hamiltoniano del circuito (clásico) puede calcularse mediante técnicas de cuantización de circuitos, partiendo de las leyes de Kirchoffs (no lo veremos en detalle), y viene dado por\n",
    "\\begin{equation}\n",
    "H = \\frac{\\tilde{Q}(t)^2}{2 C_\\varSigma} + \\frac{\\Phi^2}{2L} + \\frac{C_d}{C_\\varSigma} V_d(t) \\tilde{Q}\n",
    "\\end{equation}\n",
    "con\n",
    "\\begin{equation}\n",
    "C_{\\varSigma} = C + C_d\n",
    "\\qquad , \\qquad\n",
    "\\tilde{Q} = C_\\varSigma \\dot{\\Phi} - C_d V_d(t)\n",
    "\\end{equation}\n",
    "donde $C_\\varSigma$  capacitancia total a tierra y $\\tilde{Q}$ es una variable de carga renormalizada para el circuito. Ahora podemos promover las variables de flujo y carga a operadores cuánticos y suponer un acoplamiento débil a la linea de control (\"drive line\"), de modo que\n",
    "\\begin{equation}\n",
    "\\tilde{Q} \\approx \\hat{Q}\\,,\n",
    "\\end{equation}\n",
    "y llegamos a\n",
    "\\begin{equation}\n",
    "H = H_{LC} + \\frac{C_d}{C_\\varSigma} V_d(t) \\hat{Q}\n",
    "\\end{equation}\n",
    "donde $H_{LC}$ es la forma de ls Ec.  {eq}`%s <ec_sqc_LC_cuantico_H_1>` y hemos mantenido sólo los términos que se acoplan a las variables dinámicas. Siguiendo un poco lo mismo que hicimos en la Ec.  {eq}`%s <ec_scq_LC_cuantico_segunda_cuant_variables>`, podemos reescribir el operador de carga de la forma:\n",
    "\\begin{equation}\n",
    "\\hat{Q} = -i Q_{zpf} (a - a^\\dagger)\n",
    "\\end{equation}\n",
    "donde $Q_{zpf} = \\sqrt{\\hbar/2Z}$ es la fluctuación de carga de punto cero y $Z=\\sqrt{L/C}$ es la impedancia del circuito a tierra. Así, el oscilador LC acoplado capacitivamente a una \"drive line\" puede escribirse como\n",
    "```{math}\n",
    ":label: ec_scq_drive_no_TLS \n",
    "\\begin{equation} \n",
    "H = \\hbar \\omega \\lp a^\\dagger a + \\frac{1}{2} \\rp - \\frac{C_d}{C_\\varSigma} V_d(t) i Q_{zpf} (a-a^\\dagger)\\, ,\n",
    "\\end{equation} \n",
    "```\n",
    "donde vemos que el primer término es de la forma de la Ec.  {eq}`%s <ec_sqc_qho_second_quant>`. Finalmente, truncando a la transición más baja del oscilador, podemos hacer la sustitución $a \\rightarrow \\sigma^{-}$ y $a^\\dagger \\rightarrow \\sigma^{+}$ (ver las Ec.  {eq}`%s <ec_scq_TLS_operadores_escalera>`) en todo y llegar a\n",
    "```{math}\n",
    ":label: ec_scq_drive_H \n",
    "\\begin{equation} \n",
    "H = - \\underbrace{\\frac{\\hbar \\omega_q}{2} \\sigma_z}_{H_{\\mathrm{TLS}}} + \\underbrace{\\Omega V_d (t) \\sigma_y}_{H_d}\\,\n",
    "\\end{equation} \n",
    "```\n",
    "donde $\\Omega = (C_d/C_{\\varSigma}) Q_{zpf}$, $\\omega_q = (E_1 - E_0)/\\hbar$ y donde $H_{TLS}$ es el hamiltoniano de un sistema de dos niveles (ver Ec.  {eq}`%s <ec_sqc_transmon_TLS_H>`). Nuevamente, al truncar y quedarnos con los dos niveles de menos energía estamos quedandonos con un TLS.\n"
   ]
  },
  {
   "cell_type": "markdown",
   "id": "f4bae3d0",
   "metadata": {},
   "source": [
    "### Imagen de rotación (o de interacción)\n"
   ]
  },
  {
   "cell_type": "markdown",
   "id": "8fadd89e",
   "metadata": {},
   "source": [
    "Para entender mejor la acción de la fuente sobre el circuito, vamos a movernos a la denominada <b>imagen de rotación</b> (\"rotating frame\" o \"interacting frame\"). En este caso no es nada más que un cambio de variables en el nos movemos a sistema de referencia que rota con el qubit a frecuencia $\\omega_q$. El operador de cambio de variable que nos lleva a este sistema de referencia es\n",
    "```{math}\n",
    ":label: ec_scq_rotating_frame_U \n",
    "\\begin{equation} \n",
    "U_{\\mathrm{rf}} = e^{i H_0 t/\\hbar} = U_{H_0}^\\dagger \\,.\n",
    "\\end{equation} \n",
    "```\n",
    "Vemos que este operador es el hemítico conjugado del operador de evolución temporal para el Hamiltoniano $H_0$. Los estados en este sistema de referencia toman la forma\n",
    "\\begin{equation}\n",
    "\\ket{\\psi_{\\mathrm{rf}}(t)} = U_{\\mathrm{rf}} \\ket{\\psi_0} \\, .\n",
    "\\end{equation}\n"
   ]
  },
  {
   "cell_type": "markdown",
   "id": "bad640d3",
   "metadata": {},
   "source": [
    "La evolución temporal en esta nueva imagen se obtiene de nuevo a partir de la ecuación de Schrödinger.\n",
    "```{math}\n",
    ":label: ec_scq_rotating_frame_H_transform \n",
    "\\begin{equation} \n",
    "\\begin{split}\n",
    "i \\frac{\\partial }{\\partial t} \\ket{\\psi_{\\mathrm{rf}}(t)} = i  \\frac{\\partial }{\\partial t} \\lp   U_{\\mathrm{rf}} \\ket{\\psi_0} \\rp\n",
    "& = i \\lp \\frac{\\partial }{\\partial t} U_{\\mathrm{rf}} \\rp \\underbrace{\\ket{\\psi_0}}_{U_{\\mathrm{rf}}^\\dagger \\ket{\\psi_{\\mathrm{rf}}}} + i U_{\\mathrm{rf}} \\underbrace{\\lp \\frac{\\partial }{\\partial t} \\ket {\\psi_0}  \\rp}_{H\\ket{\\psi_0}} \\\\\n",
    "& = \\underbrace{\\lp i \\dot{U}_{\\mathrm{rf}} U_{\\mathrm{rf}}^\\dagger + U_{\\mathrm{rf}} H U_{\\mathrm{rf}}^\\dagger \\rp}_{\\tilde{H}} \\ket{\\psi_{\\mathrm{rf}}}\n",
    "\\end{split}\n",
    "\\end{equation} \n",
    "```\n"
   ]
  },
  {
   "cell_type": "markdown",
   "id": "9883fae2",
   "metadata": {},
   "source": [
    "Podemos pensar en el término $\\tilde{H}$ en paréntesis en la Ec.  {eq}`%s <ec_scq_rotating_frame_H_transform>` como la expresión de $H$ en la imagen de rotación.\n"
   ]
  },
  {
   "cell_type": "markdown",
   "id": "c54c9cf2",
   "metadata": {},
   "source": [
    "Si nos ponemos en el caso simple en que $H = H_{TLS}$, podemos ver de forma simple que  $\\tilde{H}_{TLS} = 0$ como se esperaba, pues la transformación de la Ec.  {eq}`%s <ec_scq_rotating_frame_H_transform>` está pensada para eliminar la dependencia temporal en este caso.\n"
   ]
  },
  {
   "cell_type": "markdown",
   "id": "ae4ca533",
   "metadata": {},
   "source": [
    "Volviendo a la Ec.  {eq}`%s <ec_scq_drive_H>`, vemos que el Hamiltoniano en la imagen de rotación nos queda:\n",
    "```{math}\n",
    ":label: ec_scq_rf_Hd_1 \n",
    "\\begin{equation} \n",
    "\\tilde{H} = \\tilde{H}_d = U_{\\mathrm{rf}} H_d U_{\\mathrm{rf}}^\\dagger\n",
    "\\end{equation} \n",
    "```\n",
    "Haciendo cálculos llegamos a\n",
    "```{math}\n",
    ":label: ec_scq_rf_Hd \n",
    "\\begin{equation} \n",
    "\\tilde{H}_d = \\Omega V_d(t) \\lc \\cos (\\omega_q t)\\sigma_y - \\sin(\\omega_q t) \\sigma_x \\rc \\,.\n",
    "\\end{equation} \n",
    "```\n"
   ]
  },
  {
   "cell_type": "markdown",
   "id": "c68762aa",
   "metadata": {},
   "source": [
    "::::::{admonition} Ejercicio\n",
    ":class: tip\n",
    "\n",
    "\n",
    "a) Verifica que $\\tilde{H}_{TLS} = 0$. b) Obtén la expresión de la Ec.  {eq}`%s <ec_scq_rf_Hd>`. Para ello usa la Ec.  {eq}`%s <ec_scq_rf_Hd_1>`, ten en cuanta la expresión de la exponencial de las metrices de Pauli y las expresiones del seno y el coseno del ángulo doble.\n",
    "::::::\n",
    "\n",
    "\n"
   ]
  },
  {
   "cell_type": "markdown",
   "id": "7e64ac1a",
   "metadata": {},
   "source": [
    "### Componentes \"in-phase\" y \"out-of-phase\".\n"
   ]
  },
  {
   "cell_type": "markdown",
   "id": "7dd6c027",
   "metadata": {},
   "source": [
    "En general, podemos suponer que la parte de la tensión que depende del tiempo $(V_d(t) = V_0 v(t))$ tiene una forma genérica\n",
    "\\begin{equation}\n",
    "\\begin{aligned}\n",
    "v(t) & = s(t) \\sin (\\omega_d t + \\phi ) \\\\\n",
    "& = s(t) (\\cos (\\phi) \\sin (w_d t) + \\sin (\\phi) \\cos (\\omega_d t))\\, ,\n",
    "\\end{aligned}\n",
    "\\end{equation}\n",
    "donde $s(t)$ es una función adimensional denominada <b>envolvente</b>, de modo que la amplitud del impulso está fijada por $V_0 s(t)$. (Puede verse más sobre modulación de señales en la Fig.  {numref}`%s <Fig_scq_modulacion>`). Adoptando las definiciones\n",
    "\\begin{equation}\n",
    "\\begin{aligned}\n",
    "I = & \\cos (\\phi) \\qquad \\text{(la componente \"in-phase\")} \\, ,  \\\\\n",
    "Q = & \\sin (\\phi) \\qquad \\text{(la componente \"out-of-phase\" o cuadratura)} \\, ,\n",
    "\\end{aligned}\n",
    "\\end{equation}\n",
    "el Hamiltoniano de control en el marco de rotación toma la forma\n",
    "```{math}\n",
    ":label: ec_scq_Hd_QI_1 \n",
    "\\begin{equation} \n",
    "\\begin{aligned}\n",
    "\\tilde{H}_d  = & \\Omega V_0 s(t) \\lc I \\sin (\\omega_d t) + Q \\cos (\\omega_d t) \\rc \\\\\n",
    "& \\times \\lc \\cos (\\omega_q t)\\sigma_y - \\sin(\\omega_qt) \\sigma_x \\rc\n",
    "\\end{aligned}\n",
    "\\end{equation} \n",
    "```\n"
   ]
  },
  {
   "cell_type": "markdown",
   "id": "1a515433",
   "metadata": {},
   "source": [
    "::::{figure} Figuras/Fig_scq_modulacion.jpg\n",
    ":width: 400px\n",
    ":align: center\n",
    ":name: Fig_scq_modulacion\n",
    "Ejemplos de ondas moduladas, tanto en amplitud (lo que se usa en control de qubits y en la radio AM), como en frecuencia (lo que usa en las radios FM). Como vemos tenemos dos ondas, la <b>portadora</b> y la <b>moduladora</b>. La gracia aquí es que la información que se quiere transmitir está en la onda moduladora. Esta puede ser, por ejemplo, la onda del sonido que tiene que emitir la rádio del coche. La onda portadora se usa para transmitir la información de la moduladora.\n",
    "::::\n"
   ]
  },
  {
   "cell_type": "markdown",
   "id": "8b2e0be2",
   "metadata": {},
   "source": [
    "::::::{admonition} Nota (errata en [[89]](../../Bibliografia.ipynb#bib_A_quantum_engineers_guide) \n",
    ":class: note\n",
    "\n",
    "\n",
    "\n",
    "Haciendo cálculos, llego a la conclusión de que en el paper {cite}`bib_A_quantum_engineers_guide` hay algunas inconsistencias con los signos. Se invita al lector a repasar la veracidad de los mismos.\n",
    "::::::\n"
   ]
  },
  {
   "cell_type": "markdown",
   "id": "bd9f348f",
   "metadata": {},
   "source": [
    "Vamos a reescribir la Ec.  {eq}`%s <ec_scq_Hd_QI_1>`:\n",
    "```{math}\n",
    ":label: ec_scq_Hd_QI_2 \n",
    "\\begin{equation} \n",
    "\\begin{aligned}\n",
    "\\tilde{H}_d  =  \\Omega V_0 s(t) & [ (- I \\sin (\\omega_d t)\\sin(\\omega_qt)  - Q \\cos (\\omega_d t)\\sin(\\omega_qt))   \\sigma_x\\\\\n",
    "& +  (I \\sin (\\omega_d t)\\cos (\\omega_q t) + Q \\cos (\\omega_d t)\\cos (\\omega_q t) ) \\sigma_y ]\n",
    "\\end{aligned}\n",
    "\\end{equation} \n",
    "```\n"
   ]
  },
  {
   "cell_type": "markdown",
   "id": "caf05361",
   "metadata": {},
   "source": [
    "::::::{admonition} Nota (relaciones trigonométricas del ángulo suma y resta) \n",
    ":class: note\n",
    "\n",
    "\n",
    "\n",
    "Tenemos las dos relaciones:\n",
    "\\begin{equation}\n",
    "\\begin{aligned}\n",
    "\\sin(x\\pm y) &= \\sin(x)\\cos(y) \\pm \\cos(x)\\sin(y) \\\\\n",
    "\\cos(x \\pm y) &= \\cos(x) \\cos(y) \\mp \\sin(x) \\sin(y)\n",
    "\\end{aligned}\n",
    "\\end{equation}\n",
    "de las cuales podemos deducir:\n",
    "```{math}\n",
    ":label: ec_scq_relaciones_trig \n",
    "\\begin{equation} \n",
    "\\begin{aligned}\n",
    "2 \\sin(x)\\cos(y) &= \\sin(x + y) + \\sin(x - y) \\\\\n",
    "2 \\cos(x)\\sin(y) &= \\sin(x + y) - \\sin(x - y) \\\\\n",
    "2 \\cos(x)\\cos(y) &= \\cos(x + y) + \\cos(x - y) \\\\\n",
    "2 \\sin(x)\\sin(y) &= \\cos(x - y) - \\cos(x + y)\n",
    "\\end{aligned}\n",
    "\\end{equation} \n",
    "```\n",
    "::::::\n"
   ]
  },
  {
   "cell_type": "markdown",
   "id": "e6486d19",
   "metadata": {},
   "source": [
    "Usando las relaciones de la Ec.  {eq}`%s <ec_scq_relaciones_trig>`, podemos reescribir la Ec.  {eq}`%s <ec_scq_Hd_QI_2>`\n",
    "```{math}\n",
    ":label: ec_scq_Hd_QI_3 \n",
    "\\begin{equation} \n",
    "\\begin{aligned}\n",
    "\\tilde{H}_d  = \\frac{1}{2} \\Omega V_0 s(t) & [ (- I \\cos((\\omega_d - \\omega_q)t)  + Q \\sin((\\omega_d - \\omega_q)t))  \\sigma_x \\\\\n",
    "&  +  (I \\sin((\\omega_d - \\omega_q)t) + Q \\cos((\\omega_d - \\omega_q)t)) \\sigma_y ]\n",
    "\\end{aligned}\n",
    "\\end{equation} \n",
    "```\n",
    "donde se han despreciado los términos de rotación rápida que promediarán a cero (es decir, términos con $\\omega_d + \\omega_q$), conocida como aproximación de onda rotatoria (RWA). Tomando $\\delta \\omega = \\omega_q - \\omega_d$ llegamos a\n",
    "```{math}\n",
    ":label: ec_scq_Hd_QI_4 \n",
    "\\begin{equation} \n",
    "\\begin{aligned}\n",
    "\\tilde{H}_d  = \\frac{1}{2} \\Omega V_0 s(t) &   [(-I \\cos(\\delta \\omega t)  - Q \\sin(\\delta \\omega  t)) \\sigma_x \\\\\n",
    "&  + (- I \\sin(\\delta \\omega t) + Q \\cos(\\delta \\omega t)) \\sigma_y ]\n",
    "\\end{aligned}\n",
    "\\end{equation} \n",
    "```\n"
   ]
  },
  {
   "cell_type": "markdown",
   "id": "3c087028",
   "metadata": {},
   "source": [
    "Como ejemplo concreto, supongamos que aplicamos un pulso a la frecuencia del qubit, de forma que $\\delta \\omega = 0$, entonces\n",
    "\\begin{equation}\n",
    "\\tilde{H}_d = - \\frac{\\Omega}{2} V_0 s(t) (I \\sigma_x - Q \\sigma_y)\n",
    "\\end{equation}\n",
    "mostrando que un pulso \"en fase\" ($ \\phi = 0$, es decir, el componente $I$) corresponde a rotaciones alrededor del eje $x$, mientras que un pulso fuera de fase ($\\phi = \\pi/2$, es decir, el componente $Q$), corresponde a rotaciones alrededor del eje $y$.\n"
   ]
  },
  {
   "cell_type": "markdown",
   "id": "55b32572",
   "metadata": {},
   "source": [
    "### Ejemplo de pulso \"in-phase\".\n"
   ]
  },
  {
   "cell_type": "markdown",
   "id": "3cc21910",
   "metadata": {},
   "source": [
    "Como ejemplo concreto de pulso en fase, si se escribe el operador unitario se obtiene\n",
    "```{math}\n",
    ":label: ec_scq_rabi \n",
    "\\begin{equation} \n",
    "U_{\\mathrm{rf,d}}^{\\phi = 0} = \\exp \\lp \\lc  \\frac{i}{2} \\Omega V_0 \\int_0^t s(t') dt' \\rc \\sigma_x \\rp\n",
    "\\end{equation} \n",
    "```\n",
    "que depende únicamente de los parámetros macroscópicos de diseño del circuito, así como de la envolvente del pulso $s(t)$ y de la amplitud $V_0$, que pueden controlarse utilizando <b>generadores de forma de onda arbitraria (AWG)</b>. La ecuación  se conoce como \"Rabi driving\". Definimos\n",
    "\\begin{equation}\n",
    "\\Theta(t) =  - \\Omega V_0 \\int_0^t s(t') dt'\\,,\n",
    "\\end{equation}\n",
    "que es el ángulo de rotación de un estado dados los acoplamientos capacitivos, la impedancia del circuito, la magnitud $V_0$ y la forma de onda envolvente, $s(t)$. Esto significa que para implementar un pulso $\\pi$ en el eje $x$, habría que resolver la ecuación $\\Theta (t) = \\pi$ y emitir la senal \"in-phase\" correspondiente. En este lenguaje, una secuencia de pulsos [ver Fig.  {numref}`%s <Fig_scq_pulsos_1_2>`(a)] $\\Theta_k$, $\\Theta_{k-1}$, $\\dots \\Theta_0$  se convierte en una secuencia de puertas operando sobre un qubit como\n",
    "```{math}\n",
    ":label: ec_scq_pulse_secuence_one_qubit \n",
    "\\begin{equation} \n",
    "U_k U_{k-1} \\cdots U_0 = \\mathcal{T} \\prod_{n=0}^k e^{- \\frac{i}{2} \\Theta_n(t) (I_n \\sigma_x - Q_n \\sigma_y)} \\, ,\n",
    "\\end{equation} \n",
    "```\n",
    "donde $\\mathcal{T}$ es un operador que garantiza que los impulsos se generan en la secuencia ordenada en el tiempo correspondiente a $U_k U_{k-1} \\cdots U_0 $.\n"
   ]
  },
  {
   "cell_type": "markdown",
   "id": "58dfd877",
   "metadata": {},
   "source": [
    "En la Fig.  {numref}`%s <Fig_scq_pulsos_1_2>` se esboza la configuración típica de modulación en fase y cuadratura (IQ) utilizada para generar los pulsos. La Figura   {numref}`%s <Fig_scq_pulsos_1_2>`(a) muestra como un pulso a frecuencia $\\omega_d$ es generado usando un generador de microondas de bajo ruido de fase [típicamente denotado \"<b>oscilador local (LO)</b>\"], mientras que el pulso es formado combinando la señal LO en un <b>mezclador IQ</b> con pulsos generados en un <b>AWG</b>. Para permitir la multiplexación de frecuencias, la señal AWG se generará normalmente con un componente de baja frecuencia, $\\omega_{\\mathrm{AWG}}$, de forma que la señal del LO se desplazará tal que $\\omega_{LO} + \\omega_{AWS} = \\omega_d$. Mezclando en más de una frecuencia $\\omega_{\\mathrm{AWG1}}$, $\\omega_{\\mathrm{AWG2}}$, ... es posible abordar múltiples qubits (o resonadores de lectura) simultáneamente, mediante la superposición de controles individuales.\n"
   ]
  },
  {
   "cell_type": "markdown",
   "id": "b392391c",
   "metadata": {},
   "source": [
    "En la Fig.  {numref}`%s <Fig_scq_pulsos_1_2>`(b) mostramos esquemáticamente la comparación entre las puertas $XY$ en un circuito cuántico y las formas de onda correspondientes generadas en el AWG (omitiendo para mayor claridad el componente de frecuencia $\\omega_{AWG}$).\n"
   ]
  },
  {
   "cell_type": "markdown",
   "id": "d180b1ff",
   "metadata": {},
   "source": [
    "::::{figure} Figuras/Fig_scq_pulsos_1.png\n",
    ":width: 1000px\n",
    ":align: center\n",
    ":name: Fig_scq_pulsos_1_2\n",
    "a) Esquema de una configuración típica de control de un qubits. Una fuente de microondas suministra una señal de alta frecuencia ($\\omega_{LO}$), mientras que un generador de onda arbitrarios (AWG de sus siglas en inglés) suministra una envolvente del pulso ($s(t)$), a veces con un componente de baja frecuencia, $\\omega_{AWG}$. El mezclador $IQ$ combina las dos señales para generar una forma de onda $V_d(t)$ con una frecuencia $\\omega_d = \\omega_{LO} \\pm \\omega_{AWG}$, normalmente resonante con el qubit. b) Ejemplo de cómo una secuencia de puerta se traduce en una forma de onda generada por el AWG. Los colores indican los componentes $I$ y $Q$. c) La acción de un pulso $X_{\\pi/2}$ sobre un estado $\\ket{0}$ para producir el estado $\\ket{-i} = \\frac{1}{\\sqrt{2}} (\\ket{0} - i\\ket{1})$. Figura tomada de {cite}`bib_scq_ezratty2023perspective`\n",
    "::::\n"
   ]
  },
  {
   "cell_type": "markdown",
   "id": "d1589c2c",
   "metadata": {},
   "source": [
    "::::::{admonition} Nota (resumen) \n",
    ":class: note\n",
    "\n",
    "\n",
    "\n",
    "Si nos fiamos podemos ver que la conclusión es la siguiente: la <b>amplitud</b> del pulso de microondas controla el <b>ángulo de rotación</b> y su <b>fase</b> el <b>eje</b> de rotación. Esto se traduce en que la fase $\\phi$ que ajustamos con las ondas $IQ$ controla el eje, mientras que la envolvente $s(t)$ que aplicamos al pulso controla la rotación.\n",
    "::::::\n"
   ]
  },
  {
   "cell_type": "markdown",
   "id": "12af7c3b",
   "metadata": {},
   "source": [
    "## Puerta $Z$ virtual\n"
   ]
  },
  {
   "cell_type": "markdown",
   "id": "44d2db2c",
   "metadata": {},
   "source": [
    "Como vimos en la Sección  {eq}`%s <ec_scq_puertas_XY>`, la distinción entre las rotaciones $x$ e $y$ no es más que una elección de fase en las señales de microondas, y el ángulo a rotar viene dado por $\\Theta (t)$, ambas generadas mediante un AWG. Dado que la elección de la fase $\\phi$ tiene un punto de partida arbitrario, podríamos considerar $\\phi \\rightarrow \\phi + \\pi/2$. Esto daría lugar a $I \\rightarrow Q$ y $Q \\rightarrow -I$. Por lo tanto, al cambiar la fase, las rotaciones alrededor de $x$ se convierten en rotaciones alrededor de $y$ (y viceversa, con un cambio de signo). Esto recuerda al resultado de aplicar una rotación $Z_{\\pi}$, donde\n",
    "\\begin{equation}\n",
    "Z_{\\pi} X_{\\pi} = i Y_{\\pi}\n",
    "\\qquad , \\qquad\n",
    "Z_{\\pi} Y_{\\pi} = -i X_{\\pi}\n",
    "\\end{equation}\n"
   ]
  },
  {
   "cell_type": "markdown",
   "id": "c11e0505",
   "metadata": {},
   "source": [
    "::::::{admonition} Nota\n",
    ":class: note\n",
    "\n",
    "\n",
    "\n",
    "Véase que a lo que llamamos puertas $X$, $Y$ e $Z$, son rotaciones de ángulo $\\pi$, con lo que $X = X_{\\pi}$, $Y = Y_{\\pi}$ e $Z = Z_{\\pi}$.\n",
    "::::::\n"
   ]
  },
  {
   "cell_type": "markdown",
   "id": "c6dcc770",
   "metadata": {},
   "source": [
    "Esta analogía entre el cambio de fase de una señal generada por AWG y la aplicación de rotaciones $Z$ puede utilizarse para implementar puertas $Z$ \"virtuales\". Esta intuición puede formalizarse mediante el siguiente ejemplo: consideremos el caso de aplicar un pulso con un ángulo $\\theta$ en el canal $I$ (es decir, un $X_\\theta$) seguido de otro pulso $\\theta$ en el canal $I$, pero con una fase $\\phi_\\theta$ respecto al primer pulso (denotado $X_\\theta^{(\\phi_0)}$, donde $X$ indica que seguimos utilizando el canal $I$, pero el eje de rotación está ahora a un ángulo $\\phi_0$ del eje $x$). Usando la Ec.  {eq}`%s <ec_scq_pulse_secuence_one_qubit>` corresponde a una secuencia de pulsos\n",
    "```{math}\n",
    ":label: ec_scq_virtual_x_gate_ejemplo \n",
    "\\begin{equation} \n",
    "\\begin{aligned}\n",
    "X_\\theta^{(\\phi_0)} X_\\theta & = e^{-i \\frac{\\theta}{2} \\lp \\cos(\\phi_0) \\sigma_x - \\sin(\\phi_0) \\sigma_y \\rp } X_\\theta \\\\\n",
    "& = Z_{-\\phi_0} X_\\theta Z_{\\phi_0} X_\\theta \\, ,\n",
    "\\end{aligned}\n",
    "\\end{equation} \n",
    "```\n"
   ]
  },
  {
   "cell_type": "markdown",
   "id": "428a48c1",
   "metadata": {},
   "source": [
    "de donde vemos que el efecto de la fase $\\phi_0$ es aplicar $Z_{\\phi_0}$. El $Z_{-\\phi_0}$ final se debe a que la rotación se produce en el marco de referencia del qubit. Sin embargo, dado que la lectura se realiza a lo largo del eje $z$, una rotación de fase final alrededor de $z$ no cambiará el resultado de la medición. Por lo tanto, si se desea implementar la secuencia de puerta de la Fig.  {numref}`%s <Fig_scq_vZ_gate_sequence_1>`\n",
    "::::{figure} Figuras/Fig_scq_vZ_gate_sequence_1.png\n",
    ":width: 500px\n",
    ":align: center\n",
    ":name: Fig_scq_vZ_gate_sequence_1\n",
    "Ejemplo de secuencia de puertas donde se incluyen puertas $Z$. Figura tomada de  {cite}`bib_sqc_superinductor_paper`.\n",
    "::::\n",
    "donde las $U_i$'s son puertas arbitrarias, esto se puede hacer mediante la revisión de la secuencia de puertas (en el software de control para el AWG) y el cambio de la fase de los pulsos posteriores. El resultado lo vemos en la Fig.  {numref}`%s <Fig_scq_vZ_gate_sequence_2>`\n",
    "::::{figure} Figuras/Fig_scq_vZ_gate_sequence_2.png\n",
    ":width: 500px\n",
    ":align: center\n",
    ":name: Fig_scq_vZ_gate_sequence_2\n",
    "Ejemplo de secuencia de puertas donde se han absorbido las puertas $Z$ de la Fig.  {numref}`%s <Fig_scq_vZ_gate_sequence_1>` como fases en las otras puertas. Figura tomada de  {cite}`bib_sqc_superinductor_paper`.\n",
    "::::\n"
   ]
  },
  {
   "cell_type": "markdown",
   "id": "77fa5e64",
   "metadata": {},
   "source": [
    "lo que reduce el número total de puertas. Además, las puertas virtuales-Z son \"perfectas\", en el sentido de que no requieren pulsos adicionales, y la puerta tarda \"tiempo cero\", por lo que la fidelidad de la compuerta es nominalmente unidad.\n"
   ]
  },
  {
   "cell_type": "markdown",
   "id": "4b2a0463",
   "metadata": {},
   "source": [
    "::::::{admonition} Ejercicio\n",
    ":class: tip\n",
    "\n",
    "\n",
    "Verifica la veracidad de la Ec.  {eq}`%s <ec_scq_virtual_x_gate_ejemplo>`. Es decir, comprueba que\n",
    "\\begin{equation}\n",
    "Z_{-\\phi_0} X_\\theta Z_{\\phi_0} = e^{-i \\frac{\\theta}{2} \\lp \\cos(\\phi_0) \\sigma_x - \\sin(\\phi_0) \\sigma_y \\rp}\n",
    "\\end{equation}\n",
    "Para ello ten en cuenta que (ver Ec.  {eq}`%s <ec_puertas_simples_Rz_Ry_Rx>` y Ec.  {eq}`%s <ec_puertas_simples_Rn>`)\n",
    "\\begin{equation}\n",
    "\\begin{aligned}\n",
    "X_\\theta & = e^{-i \\frac{\\theta}{2} \\sigma_x} = \\mathbb{I} \\cos \\lp \\frac{\\theta}{2} \\rp -i \\sigma_x \\sin \\lp \\frac{\\theta}{2} \\rp \\\\\n",
    "Z_\\theta & = e^{-i \\frac{\\theta}{2} \\sigma_z} = \\mathbb{I} \\cos \\lp \\frac{\\theta}{2} \\rp -i \\sigma_z \\sin \\lp \\frac{\\theta}{2} \\rp\n",
    "\\end{aligned}\n",
    "\\end{equation}\n",
    "\n",
    "No desarrolles las matrices!!! Trabaja con las matrices de Pauli y sus propiedades de multiplicación  (ver Ec.  {eq}`%s <ec_qubit_pauli_sigma_ijk>`).\n",
    "\\begin{equation}\n",
    "\\sigma_i \\sigma_j = \\delta_{ij} I + i \\sum_{k=1}^3 \\varepsilon_{ijk} \\sigma_k,\n",
    "\\qquad \\qquad\n",
    "\\left\\{ \\begin{aligned}\n",
    "&\\varepsilon_{123}=\\varepsilon_{231}=\\varepsilon_{312} = 1 \\\\\n",
    "&\\varepsilon_{213}=\\varepsilon_{132}=\\varepsilon_{312} = -1 \\\\\n",
    "&\\text{y el resto cero}\n",
    "\\end{aligned} \\right.\n",
    "\\end{equation}\n",
    "::::::\n",
    "\n",
    "\n"
   ]
  },
  {
   "cell_type": "markdown",
   "id": "8de05f09",
   "metadata": {},
   "source": [
    "Por último, mencionamos una característica más destacada de las puertas virtuales $Z$: cualquier operación de un solo qubit (salvo una fase global) puede escribirse como\n",
    "```{math}\n",
    ":label: ec_scq_single_gates_from_ZXZXZ \n",
    "\\begin{equation} \n",
    "U (\\theta, \\phi, \\lambda) = Z_{\\phi - \\frac{\\pi}{2}} X_{\\frac{\\pi}{2}} Z_{\\pi - \\theta} X_{\\frac{\\pi}{2}} Z_{\\lambda - \\frac{\\pi}{2}} \\, ,\n",
    "\\end{equation} \n",
    "```\n",
    "para una elección adecuada de los ángulos $\\theta, \\phi, \\lambda$. Esto significa que el acceso a una única $X_{\\frac{\\pi}{2}}$ físico combinado con la $Z$ virtual da acceso a un conjunto completo de puertas de un solo qubit! Un ejemplo explícito de la Ec.  {eq}`%s <ec_scq_single_gates_from_ZXZXZ>` en acción es la puerta Hadamard, que puede escribirse como $H = Z_{\\pi/2} X_{\\pi/2} Z_{\\pi/2}$, pero como las $Z$'s pueden ser virtuales, es posible implementar Hadamards como una operación efectiva de un solo pulso en qubits superconductores.\n"
   ]
  },
  {
   "cell_type": "markdown",
   "id": "ac0fd1cb",
   "metadata": {},
   "source": [
    "## El sistema DRAG\n"
   ]
  },
  {
   "cell_type": "markdown",
   "id": "cc500a27",
   "metadata": {},
   "source": [
    "Al pasar de la Ec.  {eq}`%s <ec_scq_drive_no_TLS>` a la Ec.  {eq}`%s <ec_scq_drive_H>`, asumimos que podíamos ignorar los niveles superiores del qubit. Sin embargo, para qubits débilmente anarmónicos, como el transmón normal (ver Sección  {numref}`%s <sec_scq_transmon_normal>`), esta suposición puede no estar justificada, ya que $\\omega_q^{1 \\rightarrow 2}$ sólo difiere de $\\omega_q (=\\omega_q^{0 \\rightarrow 1}$) por la anarmonicidad, $\\alpha = \\omega_q^{1 \\rightarrow 2} - \\omega_q$ (ver Ec.  {eq}`%s <ec_scq_anarmonicidad>`), que para este caso es negativa y suele estar en torno a 200 o 300 MHz.\n"
   ]
  },
  {
   "cell_type": "markdown",
   "id": "7433f024",
   "metadata": {},
   "source": [
    "Esta situación se esboza en las Figs.  {numref}`%s <Fig_scq_drag_scheme_3>`(a)- {numref}`%s <Fig_scq_drag_scheme_3>`(c), donde ilustramos cómo los pulsos gaussianos con desviaciones estándar $\\sigma = {1,2,5}$ ns tienen un contenido espectral que conduce a solapamientos no nulos con la frecuencia $\\omega_q^{1 \\rightarrow 2} = \\omega_q - |\\alpha|$. Esto conduce a dos efectos perjudiciales: (1) errores de fuga que sacan al qubit del subespacio computacional, y (2) errores de fase.\n"
   ]
  },
  {
   "cell_type": "markdown",
   "id": "162d7c2a",
   "metadata": {},
   "source": [
    "El efecto 2 se produce porque la presencia del pulso provoca una repulsión entre los niveles $\\ket{1}$ y $\\ket{2}$, cambiando a su vez $\\omega_q^{0 \\rightarrow 1}$ a medida que se aplica el pulso. Esto conduce a la acumulación de una fase relativa entre $\\ket{0}$ y $\\ket{1}$.\n"
   ]
  },
  {
   "cell_type": "markdown",
   "id": "8060b68e",
   "metadata": {},
   "source": [
    "El procedimiento denominado <b>DRAG</b> (<b>Derivative Reduction by Adiabatic Gate</b>) trata de combatir estos dos efectos aplicando una señal adicional en la componente \"out-of-phase\". El truco consiste en modificar la envolvente de la forma de onda $s(t)$ según\n",
    "```{math}\n",
    ":label: ec_scq_DRAG_pulse \n",
    "\\begin{equation} \n",
    "s(t) \\rightarrow s'(t) =\n",
    "\\left\\{\n",
    "\\begin{matrix}\n",
    "s(t) & \\text{en} & I \\\\\n",
    "\\lambda \\frac{\\dot{s}(t)}{\\alpha} & \\text{en} & Q\\,,\n",
    "\\end{matrix}\n",
    "\\right.\n",
    "\\end{equation} \n",
    "```\n",
    "donde $\\lambda$ es un parámetro de escala adimensional, y $\\lambda = 0$ corresponde a no aplicar un pulso DRAG y $\\dot{s}(t)$ es la derivada temporal de $s(t)$. La elección teóricamente óptima para reducir el error de desfase es $\\lambda = 0,5$ y una elección óptima para reducir el error de fuga es $\\lambda = 1$. Intercambiar $I$ y $Q$ en la Ec.  {eq}`%s <ec_scq_DRAG_pulse>` corresponde al pulso DRAG para la componente $Q$.\n"
   ]
  },
  {
   "cell_type": "markdown",
   "id": "e47682b2",
   "metadata": {},
   "source": [
    "En la práctica, puede haber una desviación de estos dos valores óptimos, a menudo debido a distorsiones del pulso en las líneas que conducen a los qubits. Normalmente, para determinar el valor óptimo de $\\lambda$ se utilizan experimentos benchmarking aleatorios combinados con mediciones de un solo shot del estado $\\ket{2}$. Sin embargo, ampliando la implementación original del pulso DRAG, es posible reducir ambos errores simultáneamente. Introduciendo un parámetro de desfase de frecuencia $\\delta f$ en la forma de la onda (definida de forma que $\\delta f = 0$ corresponda a la frecuencia del qubit), es decir\n",
    "\\begin{equation}\n",
    "s'_{\\delta f} (t) = s'(t) e^{i 2 \\pi \\delta f t}\n",
    "\\end{equation}\n",
    "y eligiendo $\\lambda$ para minimizar los errores de fuga, entonces los errores de fase pueden reducirse simultáneamente. De forma similar, mediante un uso sensato de la puerta virtual $Z$, también es posible reducir los errores de fase en combinación con el pulso DRAG para reducir las fugas. Las puertas modernas de un solo qubit que utilizan pulsos DRAG alcanzan ahora fidelidades rutinarias de $F_{1qb} \\geq 0.99$\n"
   ]
  },
  {
   "cell_type": "markdown",
   "id": "b8a06d15",
   "metadata": {},
   "source": [
    "::::{figure} Figuras/Fig_scq_drag_scheme_3.png\n",
    ":width: 1000px\n",
    ":align: center\n",
    ":name: Fig_scq_drag_scheme_3\n",
    "(a) Diagrama esquemático de niveles de un qubit transmón débilmente anarmónico sometido a un pulso a la frecuencia de transición $\\omega_d = \\omega_q$. (b) Forma de onda gaussiana con desviación estandar $\\sigma$. (c) Transformada de Fourier de (b) que muestra cómo las longitudes de pulso cortas conducen a un solapamiento significativo con la transición $\\omega_q^{1 \\rightarrow 2}$, separada de $\\omega_q$ por la anarmonicidad $\\alpha$. (d) Forma de onda de un pulso $X_\\pi$ sin modulación DRAG. (e) Efecto de la forma de onda de (d) sobre un qubit inicializado en el estado $\\ket{0}$ con a $\\alpha = - 200$ MHz y $\\omega_q =  4$ GHz. El error de desfase es visible como una desviación del $\\ket{1}$ tras el pulso. (f) Forma de onda de un pulso $X_\\pi$ con modulación DRAG para un qubit con anarmonicidad $\\alpha = - 200$ MHz y parámetro DRAG $\\lambda = 0.5$ para cancelar los errores de desfase (véase el texto para más detalles). (g) Efecto de la forma de onda de (f) sobre el mismo qubit que (e). Calculado utilizando mesolve en el paquete de software QuTiP {cite}`bib_scq_JOHANSSON20131234`. Figura tomada de {cite}`bib_A_quantum_engineers_guide`.\n",
    "::::\n"
   ]
  },
  {
   "cell_type": "markdown",
   "id": "62e589cb",
   "metadata": {},
   "source": [
    "---\n",
    "Autor:\n",
    "\n",
    "David Castaño ([UMA-SCBI](https://www.scbi.uma.es/site/))\n",
    "\n",
    "<img src=\"Figuras/Logo_UMA.jpeg\"  width=\"170px\">\n",
    "\n",
    "\n",
    "---\n",
    "::::{figure} https://quantumspain-project.es/wp-content/uploads/2022/11/Logo_QS_EspanaDigital.png\n",
    ":width: 2000px\n",
    ":align: center\n",
    "::::\n",
    "\n",
    "<center>\n",
    "<a rel=\"license\" href=\"http://creativecommons.org/licenses/by-sa/4.0/\">\n",
    "<img aling=\"left\" alt=\"Licencia Creative Commons\" style=\"border-width:0\" src=\"https://i.creativecommons.org/l/by-sa/4.0/88x31.png\" /></a>\n",
    "</center>\n",
    "\n",
    "License: <a rel=\"license\" href=\"http://creativecommons.org/licenses/by-sa/4.0/\">Licencia Creative Commons Atribución-CompartirIgual 4.0 Internacional</a>.\n",
    "\n",
    "This work has been financially supported by the Ministry for Digital Transformation and of Civil Service of the Spanish Government through the QUANTUM ENIA project call - Quantum Spain project, and by the European Union through the Recovery, Transformation and Resilience Plan - NextGenerationEU within the framework of the Digital Spain 2026 Agenda.\n",
    "\n",
    "<center>\n",
    "<img align=\"left\" src=\"https://quantumspain-project.es/wp-content/uploads/2024/02/Banner-QS_GOB_v2.png\" width=\"1000px\" />\n",
    "</center>"
   ]
  },
  {
   "cell_type": "markdown",
   "id": "a1b0711f",
   "metadata": {},
   "source": []
  }
 ],
 "metadata": {
  "kernelspec": {
   "display_name": "Python 3 (ipykernel)",
   "language": "python",
   "name": "python3"
  },
  "language_info": {
   "codemirror_mode": {
    "name": "ipython",
    "version": 3
   },
   "file_extension": ".py",
   "mimetype": "text/x-python",
   "name": "python",
   "nbconvert_exporter": "python",
   "pygments_lexer": "ipython3",
   "version": "3.11.7"
  },
  "toc": {
   "base_numbering": 1,
   "nav_menu": {},
   "number_sections": false,
   "sideBar": true,
   "skip_h1_title": true,
   "title_cell": "Table of Contents",
   "title_sidebar": "Contents",
   "toc_cell": false,
   "toc_position": {},
   "toc_section_display": true,
   "toc_window_display": false
  }
 },
 "nbformat": 4,
 "nbformat_minor": 5
}