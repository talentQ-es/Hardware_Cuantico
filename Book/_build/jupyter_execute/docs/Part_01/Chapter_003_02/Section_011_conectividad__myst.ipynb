{
 "cells": [
  {
   "cell_type": "markdown",
   "id": "8ddaeb38",
   "metadata": {},
   "source": [
    "> {sub-ref}`today` | {sub-ref}`wordcount-minutes` min read\n",
    "\n",
    "<a href=\"https://www.talentq.es/es_es/cursos/\">\n",
    "    <button class=\"rounded\" style=\"float: right;\">\n",
    "    <svg xmlns=\"http://www.w3.org/2000/svg\" width=\"32\" height=\"32\" viewBox=\"0 0 24 24\">\n",
    "        <path fill=\"var(--fill, white)\"\n",
    "        d=\"M18.1 15.3c-.1.1-.3.2-.4.3l-2.4.4l1.7 3.6c.2.4 0 .8-.4\n",
    "            1l-2.8 1.3c-.1.1-.2.1-.3.1c-.3 0-.6-.2-.7-.4L11.2\n",
    "            18l-1.9 1.5c-.1.1-.3.2-.5.2c-.4 0-.8-.3-.8-.8V7.5c0-.5.3-.8.8-.8c.2 0\n",
    "            .4.1.5.2l8.7 7.4c.3.2.4.7.1 1M6 12H4V4h16v8h-1.6l2.2 1.9c.8-.3 1.3-1\n",
    "            1.3-1.9V4c0-1.1-.9-2-2-2H4c-1.1 0-2 .9-2 2v8c0 1.1.9 2 2 2h2z\" />\n",
    "    </svg>\n",
    "    Volver a TalentQ\n",
    "    </button>\n",
    "</a>\n",
    "\n",
    "$ \\newcommand{\\bra}[1]{\\langle #1|} $\n",
    "$ \\newcommand{\\ket}[1]{|#1\\rangle} $\n",
    "$ \\newcommand{\\branew}[1]{\\langle #1|} $\n",
    "$ \\newcommand{\\ketnew}[1]{\\langle #1|} $\n",
    "$ \\newcommand{\\braket}[2]{\\langle #1|#2\\rangle} $\n",
    "$ \\newcommand{\\ketbra}[2]{| #1\\rangle \\langle #2 |} $\n",
    "$ \\newcommand{\\i}{{\\color{blue} i}} $ \n",
    "$ \\newcommand{\\Hil}{{\\cal H}} $\n",
    "$ \\newcommand{\\cg}[1]{{\\rm C}#1} $\n",
    "$ \\newcommand{\\lp}{\\left(} $\n",
    "$ \\newcommand{\\rp}{\\right)} $\n",
    "$ \\newcommand{\\lc}{\\left[} $\n",
    "$ \\newcommand{\\rc}{\\right]} $\n",
    "$ \\newcommand{\\lch}{\\left\\{} $\n",
    "$ \\newcommand{\\rch}{\\right\\}} $\n",
    "$ \\newcommand{\\Lp}{\\Bigl(} $\n",
    "$ \\newcommand{\\Rp}{\\Bigr)} $\n",
    "$ \\newcommand{\\Lc}{\\Bigl[} $\n",
    "$ \\newcommand{\\Rc}{\\Bigr]} $\n",
    "$ \\newcommand{\\Lch}{\\Bigl\\{} $\n",
    "$ \\newcommand{\\Rch}{\\Bigr\\}} $\n",
    "$ \\newcommand{\\rqa}{\\quad \\Rightarrow \\quad} $\n",
    "$ \\newcommand{\\bm}{\\boldsymbol}$"
   ]
  },
  {
   "cell_type": "markdown",
   "id": "080fe82e",
   "metadata": {},
   "source": [
    "\n",
    "(sec_scq_conectividad)= \n",
    "# Conectividad. \n"
   ]
  },
  {
   "cell_type": "markdown",
   "id": "4240a515",
   "metadata": {},
   "source": [
    "La conectividad es una característica importante de un procesador cuántico. Cuantos más qubits estén conectados entre sí, menos puertas SWAP habrá que ejecutar para entrelazarlos lógicamente.\n"
   ]
  },
  {
   "cell_type": "markdown",
   "id": "6cbba3bc",
   "metadata": {},
   "source": [
    "Con las estructuras 2D, uno de los problemas a resolver radica en las conexiones internas del chipset. Estas topologías consisten en una única capa de metal sobre la oblea de qubits y una placa de circuito impreso. Aunque este esquema funciona bien para topologías en anillo (aquellas en las que los qubits están dispuestos en un anillo), se rompe si hay qubits en el centro del anillo porque no hay forma forma de enviarles señales de microondas.\n"
   ]
  },
  {
   "cell_type": "markdown",
   "id": "f3ea3407",
   "metadata": {},
   "source": [
    "También tenemos la arquitectura 3D con dos capas. Esta consiste en dos chips separados, cada uno con una capa de metal estampado, unidos por uniones superconductoras: una capa para la lectura de qubits (oblea intercalada) y otra para las operaciones con qubits. Este esquema permite llevar las señales de microondas al centro del chip de qubits, \"rompiendo el plano\".\n"
   ]
  },
  {
   "cell_type": "markdown",
   "id": "4b902750",
   "metadata": {},
   "source": [
    "::::::{admonition} Nota (Los proceadores Falcon y Hummingbird de IBM) \n",
    ":class: note\n",
    "\n",
    "\n",
    "\n",
    "Esta fue la piedra angular de los procesadores como el <b>Falcon</b> (27 qubits) y el Hummingbird (65 qubits) de IBM. Sin embargo, según [IBM](https://www.ibm.com/quantum/blog/eagle-quantum-processor-performance): (esta topología) requería que todas las líneas de control y lectura de los qubits se dirigieran a la periferia del chip, y que las capas metálicas no estuvieran aisladas entre sí.\n",
    "\n",
    "::::::\n"
   ]
  },
  {
   "cell_type": "markdown",
   "id": "91319dfb",
   "metadata": {},
   "source": [
    "Aun así, la conectividad de la topología de los qubits es, en el mejor de los casos, de cuatro vecinos más cercanos, como en el Sycamore de Google. IBM utiliza una conectividad de \"heavy hex lattice\" desde 2021 (ver Fig.  {numref}`%s <Fig_scq_hhl>`). Esta, utilizando celdas unitarias hexagonales de 12 qubits con conectividad 1 a 2 y 1 a 3, genera mejores fidelidades de puerta de qubit y permite la implementación de códigos de corrección de errores. Podemos ver varios chips con esta conectividad en la Fig.  {numref}`%s <Fig_scq_topologías_IBM>`\n"
   ]
  },
  {
   "cell_type": "markdown",
   "id": "56dfb5a0",
   "metadata": {},
   "source": [
    "::::{figure} Figuras/Fig_scq_hhl.png\n",
    ":width: 450px\n",
    ":align: center\n",
    ":name: Fig_scq_hhl\n",
    "Topología \"heavy hex lattice\"\n",
    "::::\n"
   ]
  },
  {
   "cell_type": "markdown",
   "id": "3e73e3eb",
   "metadata": {},
   "source": [
    "::::{figure} Figuras/Fig_scq_topologías_IBM.png\n",
    ":width: 1000px\n",
    ":align: center\n",
    ":name: Fig_scq_topologías_IBM\n",
    "Topología de red para diferentes chips de IBM donde se usa la \"heavy hex lattice\". \n",
    "::::\n"
   ]
  },
  {
   "cell_type": "markdown",
   "id": "afa2ad72",
   "metadata": {},
   "source": [
    "Un nuevo enfoque consiste en utilizar chipsets de conectividad de múltiples capas que se conectan al chipset de qubits con conectores verticales TSV (through-silicon vias). Los diseños más recientes de IBM y los laboratorios Lincoln del MIT tienen entre tres y siete capas metálicas.\n"
   ]
  },
  {
   "cell_type": "markdown",
   "id": "b3ec570a",
   "metadata": {},
   "source": [
    "::::::{admonition} Nota (Los proceadores Falcon y Humminbird de IBM) \n",
    ":class: note\n",
    "\n",
    "\n",
    "\n",
    "IBM utilizó por primera vez este tipo de arquitectura multicapa en el procesador <b>Eagle</b> de 127 qubits (ver Fig  {numref}`%s <Fig_scq_eagle_127>`).  Para el procesador Eagle, como antes, se usó una oblea de qubits unida a una oblea intercalada. Sin embargo, en este procesador se añadió un <b>cableado multicapa</b> (<b>MLW</b>, de sus siglas en inglés) dentro del intercalador. Las señales de control y lectura se dirigen en esta capa adicional, que está bien aislada del propio dispositivo cuántico y permite enviar señales a gran profundidad en chips de gran tamaño.  El nivel MLW consta de tres capas metálicas, un dieléctrico planarizado entre cada nivel y unas conexiones cortas llamadas vías que conectan los niveles metálicos. Juntos, estos niveles permiten crear líneas de transmisión totalmente aisladas entre sí y del dispositivo cuántico. También se añadieron vías a través del sustrato a los chips de qubits e intercalador.\n",
    "::::::\n"
   ]
  },
  {
   "cell_type": "markdown",
   "id": "164bd60c",
   "metadata": {},
   "source": [
    "::::{figure} Figuras/Fig_scq_MLW.png\n",
    ":width: 1000px\n",
    ":align: center\n",
    ":name: Fig_scq_MLW\n",
    "Arquitecturas con una, dos y varias capas de chips de IBM.\n",
    "::::\n"
   ]
  },
  {
   "cell_type": "markdown",
   "id": "3ec81a8f",
   "metadata": {},
   "source": [
    "::::{figure} Figuras/Fig_scq_eagle_127.jpeg\n",
    ":width: 1000px\n",
    ":align: center\n",
    ":name: Fig_scq_eagle_127\n",
    "Procesador Eagle de 127 qubits de IBM\n",
    "::::\n"
   ]
  },
  {
   "cell_type": "markdown",
   "id": "62e589cb",
   "metadata": {},
   "source": [
    "---\n",
    "Autor:\n",
    "\n",
    "David Castaño ([UMA-SCBI](https://www.scbi.uma.es/site/))\n",
    "\n",
    "<img src=\"Figuras/Logo_UMA.jpeg\"  width=\"170px\">\n",
    "\n",
    "\n",
    "---\n",
    "::::{figure} https://quantumspain-project.es/wp-content/uploads/2022/11/Logo_QS_EspanaDigital.png\n",
    ":width: 2000px\n",
    ":align: center\n",
    "::::\n",
    "\n",
    "<center>\n",
    "<a rel=\"license\" href=\"http://creativecommons.org/licenses/by-sa/4.0/\">\n",
    "<img aling=\"left\" alt=\"Licencia Creative Commons\" style=\"border-width:0\" src=\"https://i.creativecommons.org/l/by-sa/4.0/88x31.png\" /></a>\n",
    "</center>\n",
    "\n",
    "License: <a rel=\"license\" href=\"http://creativecommons.org/licenses/by-sa/4.0/\">Licencia Creative Commons Atribución-CompartirIgual 4.0 Internacional</a>.\n",
    "\n",
    "This work has been financially supported by the Ministry for Digital Transformation and of Civil Service of the Spanish Government through the QUANTUM ENIA project call - Quantum Spain project, and by the European Union through the Recovery, Transformation and Resilience Plan - NextGenerationEU within the framework of the Digital Spain 2026 Agenda.\n",
    "\n",
    "<center>\n",
    "<img align=\"left\" src=\"https://quantumspain-project.es/wp-content/uploads/2024/02/Banner-QS_GOB_v2.png\" width=\"1000px\" />\n",
    "</center>"
   ]
  },
  {
   "cell_type": "markdown",
   "id": "a1b0711f",
   "metadata": {},
   "source": []
  }
 ],
 "metadata": {
  "kernelspec": {
   "display_name": "Python 3 (ipykernel)",
   "language": "python",
   "name": "python3"
  },
  "language_info": {
   "codemirror_mode": {
    "name": "ipython",
    "version": 3
   },
   "file_extension": ".py",
   "mimetype": "text/x-python",
   "name": "python",
   "nbconvert_exporter": "python",
   "pygments_lexer": "ipython3",
   "version": "3.11.7"
  },
  "toc": {
   "base_numbering": 1,
   "nav_menu": {},
   "number_sections": false,
   "sideBar": true,
   "skip_h1_title": true,
   "title_cell": "Table of Contents",
   "title_sidebar": "Contents",
   "toc_cell": false,
   "toc_position": {},
   "toc_section_display": true,
   "toc_window_display": false
  }
 },
 "nbformat": 4,
 "nbformat_minor": 5
}