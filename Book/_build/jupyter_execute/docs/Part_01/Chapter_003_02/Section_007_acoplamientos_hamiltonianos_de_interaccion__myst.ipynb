{
 "cells": [
  {
   "cell_type": "markdown",
   "id": "8ddaeb38",
   "metadata": {},
   "source": [
    "> {sub-ref}`today` | {sub-ref}`wordcount-minutes` min read\n",
    "\n",
    "<a href=\"https://www.talentq.es/es_es/cursos/\">\n",
    "    <button class=\"rounded\" style=\"float: right;\">\n",
    "    <svg xmlns=\"http://www.w3.org/2000/svg\" width=\"32\" height=\"32\" viewBox=\"0 0 24 24\">\n",
    "        <path fill=\"var(--fill, white)\"\n",
    "        d=\"M18.1 15.3c-.1.1-.3.2-.4.3l-2.4.4l1.7 3.6c.2.4 0 .8-.4\n",
    "            1l-2.8 1.3c-.1.1-.2.1-.3.1c-.3 0-.6-.2-.7-.4L11.2\n",
    "            18l-1.9 1.5c-.1.1-.3.2-.5.2c-.4 0-.8-.3-.8-.8V7.5c0-.5.3-.8.8-.8c.2 0\n",
    "            .4.1.5.2l8.7 7.4c.3.2.4.7.1 1M6 12H4V4h16v8h-1.6l2.2 1.9c.8-.3 1.3-1\n",
    "            1.3-1.9V4c0-1.1-.9-2-2-2H4c-1.1 0-2 .9-2 2v8c0 1.1.9 2 2 2h2z\" />\n",
    "    </svg>\n",
    "    Volver a TalentQ\n",
    "    </button>\n",
    "</a>\n",
    "\n",
    "$ \\newcommand{\\bra}[1]{\\langle #1|} $\n",
    "$ \\newcommand{\\ket}[1]{|#1\\rangle} $\n",
    "$ \\newcommand{\\branew}[1]{\\langle #1|} $\n",
    "$ \\newcommand{\\ketnew}[1]{\\langle #1|} $\n",
    "$ \\newcommand{\\braket}[2]{\\langle #1|#2\\rangle} $\n",
    "$ \\newcommand{\\ketbra}[2]{| #1\\rangle \\langle #2 |} $\n",
    "$ \\newcommand{\\i}{{\\color{blue} i}} $ \n",
    "$ \\newcommand{\\Hil}{{\\cal H}} $\n",
    "$ \\newcommand{\\cg}[1]{{\\rm C}#1} $\n",
    "$ \\newcommand{\\lp}{\\left(} $\n",
    "$ \\newcommand{\\rp}{\\right)} $\n",
    "$ \\newcommand{\\lc}{\\left[} $\n",
    "$ \\newcommand{\\rc}{\\right]} $\n",
    "$ \\newcommand{\\lch}{\\left\\{} $\n",
    "$ \\newcommand{\\rch}{\\right\\}} $\n",
    "$ \\newcommand{\\Lp}{\\Bigl(} $\n",
    "$ \\newcommand{\\Rp}{\\Bigr)} $\n",
    "$ \\newcommand{\\Lc}{\\Bigl[} $\n",
    "$ \\newcommand{\\Rc}{\\Bigr]} $\n",
    "$ \\newcommand{\\Lch}{\\Bigl\\{} $\n",
    "$ \\newcommand{\\Rch}{\\Bigr\\}} $\n",
    "$ \\newcommand{\\rqa}{\\quad \\Rightarrow \\quad} $\n",
    "$ \\newcommand{\\bm}{\\boldsymbol}$"
   ]
  },
  {
   "cell_type": "markdown",
   "id": "080fe82e",
   "metadata": {},
   "source": [
    "\n",
    "(sec_scq_acoplamiento)= \n",
    "# Acoplamientos: Hamiltonianos de interacción \n"
   ]
  },
  {
   "cell_type": "markdown",
   "id": "18d63969",
   "metadata": {},
   "source": [
    "Para generar entrelazamiento entre sistemas cuánticos individuales, es necesario diseñar un Hamiltoniano de interacción que conecte los grados de libertad de esos sistemas individuales. En esta sección se analiza el mecanismo físico de acoplamiento y su representación en la base propia de los qubits. El uso del acoplamiento para formar puertas de 2 qubits se discute en la Sección  {numref}`%s <sec_scq_puertas_2_qubits>`.\n"
   ]
  },
  {
   "cell_type": "markdown",
   "id": "9c7cd6c3",
   "metadata": {},
   "source": [
    "El Hamiltoniano de dos sistemas acoplados toma una forma genérica\n",
    "\\begin{equation}\n",
    "H = H_1 + H_2 + H_{int}\n",
    "\\end{equation}\n",
    "donde $H_1$ y $H_2$ denotan los Hamiltonianos de los sistemas cuánticos individuales. El último término, $H_{int}$, es el Hamiltoniano de interacción, que acopla las variables de ambos sistemas. En los circuitos superconductores, la forma física de la energía de acoplamiento es un campo eléctrico o magnético (o una combinación de ambos).\n"
   ]
  },
  {
   "cell_type": "markdown",
   "id": "ccbe5816",
   "metadata": {},
   "source": [
    "::::{figure} Figuras/Fig_scq_coupling.png\n",
    ":width: 1000px\n",
    ":align: center\n",
    ":name: Fig_scq_coupling\n",
    "Esquema de los esquemas de acoplamiento capacitivo e inductivo entre dos qubits superconductores, etiquetados como 1 y 2. (a) Acoplamiento capacitivo directo, donde los nodos de tensión de dos qubits $V_1$ y $V_2$ están conectados por una capacitancia $C_g$. (b) Acoplamiento capacitivo mediante un acoplador en forma de resonador lineal. (c) Acoplamiento inductivo directo, en el que los dos qubits están acoplados a través de una inductancia mutua, $M_{12}$. (d) Acoplamiento inductivo mediante inductancias mutuas $M_{1C}$ y $M_{2C}$ a un acoplador de frecuencia ajustable.  Figura tomada de  {cite}`bib_sqc_superinductor_paper`.\n",
    "::::\n"
   ]
  },
  {
   "cell_type": "markdown",
   "id": "7d9b6a15",
   "metadata": {},
   "source": [
    "## Acoplamiento Capacitivo\n"
   ]
  },
  {
   "cell_type": "markdown",
   "id": "c1928806",
   "metadata": {},
   "source": [
    "Para lograr el <b>acoplamiento capacitivo</b>, se coloca un condensador entre los nodos de tensión de los dos circuitos participantes, lo que produce un Hamiltoniano de interacción $H_{int}$ de la forma\n",
    "\\begin{equation}\n",
    "H_{int} = C_g V_1 V_2\n",
    "\\end{equation}\n",
    "donde $C_g$ es la <b>capacitancia del acoplamiento</b>, mientras que $V_1$ y $V_2$ son los operadores de tensión de los correspondientes nodos que están conectados mediante el condensador. La Fig.  {numref}`%s <Fig_scq_coupling>`(a) ilustra un ejemplo realista de acoplamiento capacitivo directo entre los nodos superiores de dos qubits transmón. La cuantización del circuito en el límite de $C_g \\ll C_1, C_2$ da como resultado\n",
    "\\begin{equation}\n",
    "H = \\sum_{i=1,2} \\lc 4 E_{C,i} n_i^2 - E{J,i} \\cos (\\phi_i) \\rc + C_g V_1 V_2 \\,\n",
    "\\end{equation}\n",
    "donde las expresiones entre paréntesis son los dos Hamiltonianos de los qubits individuales, [véase la Ec.  {eq}`%s <ec_sqc_LCJJ_H>`]. Si ahora tenemos en cuenta la Ec.  {eq}`%s <ec_sqc_capacitance>` y la Ec.  {eq}`%s <ec_scq_carga_reducida>`, vemos que podemos escribir $V_i = (2e/C_i)/n_i$, con lo que tenemos:\n",
    "```{math}\n",
    ":label: ec_scq_acoplamiento_C_H \n",
    "\\begin{equation} \n",
    "H = \\sum_{i=1,2} \\lc 4 E_{C,i} n_i^2 - E{J,i} \\cos (\\phi_i) \\rc + 4 e^2 \\frac{C_g}{C_1 C_2} n_1 n_2 \\,\n",
    "\\end{equation} \n",
    "```\n",
    "Para aplicar la capacitancia de acoplamiento, basta con acercar las placas del condensador. La capacitancia de acoplamiento viene determinada por la geometría plana del condensador y el entorno, como la constante dieléctrica del sustrato.\n"
   ]
  },
  {
   "cell_type": "markdown",
   "id": "45ba1af1",
   "metadata": {},
   "source": [
    "## Acoplamiento Inductivo\n"
   ]
  },
  {
   "cell_type": "markdown",
   "id": "f1260dcb",
   "metadata": {},
   "source": [
    "En el caso del <b>acoplamiento inductivo</b>, el mecanismo de acoplamiento es una inductancia mutua compartida, dando lugar a un Hamiltoniano de interacción de la forma\n",
    "\\begin{equation}\n",
    "H_{int} = M_{12} I_1 I_2\n",
    "\\end{equation}\n",
    "donde $M_{12}$ denota la <b>inductancia mutua</b>, mientras que $I_1$ e $I_2$ son los operadores de corriente en los dos bucles. Un ejemplo típico son dos qubits de flujo (tipo rf-SQUID) situados muy cerca, como se ilustra en la Fig.  {numref}`%s <Fig_scq_coupling>`(c). El Hamiltoniano del sistema puede expresarse como\n",
    "\\begin{equation}\n",
    "H = \\sum_{i=1,2} \\lc 4 E_{C,i} n_i^2 + \\frac{1}{2} E_{L,i} \\phi_i^2 - E_{J,i} \\cos (\\phi_i)  \\rc\n",
    "+ M_{12} I_{c1} \\sin(\\phi_1) I_{c2} \\sin(\\phi_2)\n",
    "\\end{equation}\n",
    "donde el término entre corchetes son los hamiltonianos individuales de los qubits (idénticos al del fluxonium de la Ec.  {eq}`%s <ec_scq_fluxonium_qubit_H>`), y los operadores de corriente, $I_i = I_{ci} \\sin(\\phi_i)$ con $i \\in 1,2$, es la conocida relación DC-Josephson para cada unión, véase la Ec.  {eq}`%s <ec_scq_jj_I>`.\n"
   ]
  },
  {
   "cell_type": "markdown",
   "id": "efa126f4",
   "metadata": {},
   "source": [
    "Para realizar una inductancia mutua, dos circuitos se acercan uno al otro por la parte de la inductancia, o, para hacerlos más fuertes, se superponen el uno al otro e incluso pueden compartir el mismo cable o inductor de unión Josephson.\n"
   ]
  },
  {
   "cell_type": "markdown",
   "id": "62e589cb",
   "metadata": {},
   "source": [
    "---\n",
    "Autor:\n",
    "\n",
    "David Castaño ([UMA-SCBI](https://www.scbi.uma.es/site/))\n",
    "\n",
    "<img src=\"Figuras/Logo_UMA.jpeg\"  width=\"170px\">\n",
    "\n",
    "\n",
    "---\n",
    "::::{figure} https://quantumspain-project.es/wp-content/uploads/2022/11/Logo_QS_EspanaDigital.png\n",
    ":width: 2000px\n",
    ":align: center\n",
    "::::\n",
    "\n",
    "<center>\n",
    "<a rel=\"license\" href=\"http://creativecommons.org/licenses/by-sa/4.0/\">\n",
    "<img aling=\"left\" alt=\"Licencia Creative Commons\" style=\"border-width:0\" src=\"https://i.creativecommons.org/l/by-sa/4.0/88x31.png\" /></a>\n",
    "</center>\n",
    "\n",
    "License: <a rel=\"license\" href=\"http://creativecommons.org/licenses/by-sa/4.0/\">Licencia Creative Commons Atribución-CompartirIgual 4.0 Internacional</a>.\n",
    "\n",
    "This work has been financially supported by the Ministry for Digital Transformation and of Civil Service of the Spanish Government through the QUANTUM ENIA project call - Quantum Spain project, and by the European Union through the Recovery, Transformation and Resilience Plan - NextGenerationEU within the framework of the Digital Spain 2026 Agenda.\n",
    "\n",
    "<center>\n",
    "<img align=\"left\" src=\"https://quantumspain-project.es/wp-content/uploads/2024/02/Banner-QS_GOB_v2.png\" width=\"1000px\" />\n",
    "</center>"
   ]
  },
  {
   "cell_type": "markdown",
   "id": "a1b0711f",
   "metadata": {},
   "source": []
  }
 ],
 "metadata": {
  "kernelspec": {
   "display_name": "Python 3 (ipykernel)",
   "language": "python",
   "name": "python3"
  },
  "language_info": {
   "codemirror_mode": {
    "name": "ipython",
    "version": 3
   },
   "file_extension": ".py",
   "mimetype": "text/x-python",
   "name": "python",
   "nbconvert_exporter": "python",
   "pygments_lexer": "ipython3",
   "version": "3.11.7"
  },
  "toc": {
   "base_numbering": 1,
   "nav_menu": {},
   "number_sections": false,
   "sideBar": true,
   "skip_h1_title": true,
   "title_cell": "Table of Contents",
   "title_sidebar": "Contents",
   "toc_cell": false,
   "toc_position": {},
   "toc_section_display": true,
   "toc_window_display": false
  }
 },
 "nbformat": 4,
 "nbformat_minor": 5
}