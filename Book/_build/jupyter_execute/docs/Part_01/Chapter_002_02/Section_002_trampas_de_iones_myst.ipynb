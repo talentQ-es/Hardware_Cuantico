{
 "cells": [
  {
   "cell_type": "markdown",
   "id": "8ddaeb38",
   "metadata": {},
   "source": [
    "> {sub-ref}`today` | {sub-ref}`wordcount-minutes` min read\n",
    "\n",
    "<a href=\"https://www.talentq.es/es_es/cursos/\">\n",
    "    <button class=\"rounded\" style=\"float: right;\">\n",
    "    <svg xmlns=\"http://www.w3.org/2000/svg\" width=\"32\" height=\"32\" viewBox=\"0 0 24 24\">\n",
    "        <path fill=\"var(--fill, white)\"\n",
    "        d=\"M18.1 15.3c-.1.1-.3.2-.4.3l-2.4.4l1.7 3.6c.2.4 0 .8-.4\n",
    "            1l-2.8 1.3c-.1.1-.2.1-.3.1c-.3 0-.6-.2-.7-.4L11.2\n",
    "            18l-1.9 1.5c-.1.1-.3.2-.5.2c-.4 0-.8-.3-.8-.8V7.5c0-.5.3-.8.8-.8c.2 0\n",
    "            .4.1.5.2l8.7 7.4c.3.2.4.7.1 1M6 12H4V4h16v8h-1.6l2.2 1.9c.8-.3 1.3-1\n",
    "            1.3-1.9V4c0-1.1-.9-2-2-2H4c-1.1 0-2 .9-2 2v8c0 1.1.9 2 2 2h2z\" />\n",
    "    </svg>\n",
    "    Volver a TalentQ\n",
    "    </button>\n",
    "</a>\n",
    "\n",
    "$ \\newcommand{\\bra}[1]{\\langle #1|} $\n",
    "$ \\newcommand{\\ket}[1]{|#1\\rangle} $\n",
    "$ \\newcommand{\\branew}[1]{\\langle #1|} $\n",
    "$ \\newcommand{\\ketnew}[1]{\\langle #1|} $\n",
    "$ \\newcommand{\\braket}[2]{\\langle #1|#2\\rangle} $\n",
    "$ \\newcommand{\\ketbra}[2]{| #1\\rangle \\langle #2 |} $\n",
    "$ \\newcommand{\\i}{{\\color{blue} i}} $ \n",
    "$ \\newcommand{\\Hil}{{\\cal H}} $\n",
    "$ \\newcommand{\\cg}[1]{{\\rm C}#1} $\n",
    "$ \\newcommand{\\lp}{\\left(} $\n",
    "$ \\newcommand{\\rp}{\\right)} $\n",
    "$ \\newcommand{\\lc}{\\left[} $\n",
    "$ \\newcommand{\\rc}{\\right]} $\n",
    "$ \\newcommand{\\lch}{\\left\\{} $\n",
    "$ \\newcommand{\\rch}{\\right\\}} $\n",
    "$ \\newcommand{\\Lp}{\\Bigl(} $\n",
    "$ \\newcommand{\\Rp}{\\Bigr)} $\n",
    "$ \\newcommand{\\Lc}{\\Bigl[} $\n",
    "$ \\newcommand{\\Rc}{\\Bigr]} $\n",
    "$ \\newcommand{\\Lch}{\\Bigl\\{} $\n",
    "$ \\newcommand{\\Rch}{\\Bigr\\}} $\n",
    "$ \\newcommand{\\rqa}{\\quad \\Rightarrow \\quad} $\n",
    "$ \\newcommand{\\bm}{\\boldsymbol}$"
   ]
  },
  {
   "cell_type": "markdown",
   "id": "080fe82e",
   "metadata": {},
   "source": [
    "# Trampas de iones\n"
   ]
  },
  {
   "cell_type": "markdown",
   "id": "99da367e",
   "metadata": {},
   "source": [
    "Un ion fotoionizado recién nacido tiene típicamente una energía de $\\sim$1 keV, lo que corresponde a una velocidad de $\\sim$1 m s${}^{-1}$ para un ion como el 40Ca${}^+$. A tales energías, el ion puede considerarse un sistema clásico desde el punto de vista del movimiento. Por tanto, para construir un sistema completamente cuántico necesitamos restringir su movimiento tanto en el espacio (atraparlo) como en velocidad (enfriarlo).\n"
   ]
  },
  {
   "cell_type": "markdown",
   "id": "331c0639",
   "metadata": {},
   "source": [
    "Una <b>trampa de iones</b> es un dispositivo cuya finalidad es mantener los iones confinados en una estrecha región del espacio. Una condición necesaria para que esto ocurra es que el ion sienta un <b>mínimo</b> de la energía potencial $V(x)$ (el centro de la trampa) en algún punto dentro de la región de atrapamiento.\n"
   ]
  },
  {
   "cell_type": "markdown",
   "id": "892432c8",
   "metadata": {},
   "source": [
    "::::::{admonition} Nota (Energía potencial) \n",
    ":class: note\n",
    "\n",
    "\n",
    "\n",
    "Una buena forma de explicar los mínimos de la energía potencial es usando la energía potencial gravitatoria, es decir, la generada por la fuerza de la gravedad.\n",
    "\n",
    "En el caso de la energía potencial gravitatoria, esta crece a medida que nos alejamos del centro de la Tierra. Es decir, una pelota en lo alto de un edificio tiene <b>más</b> energía potencial gravitatoria que a la altura de la calle. Por ese motivo, si soltamos la pelota desde lo alto, esta caerá  (hacía la zona con menos energía potencial). A medida que vaya cayendo, la pelota <b>perderá</b> energía potencial y <b>ganará</b> energía cinética (velocidad), conservándose la cantidad total de energía.\n",
    "\n",
    "El resumen es que, cuando tenemos una fuerza central (como la gravitatoria o la eléctrica) esta trae consigo un potencial. Los objetos que sienten estas fuerzas se mueven hacia zonas de menos potencial.\n",
    "::::::\n"
   ]
  },
  {
   "cell_type": "markdown",
   "id": "6da313c3",
   "metadata": {},
   "source": [
    "Aprovechando la naturaleza cargada de los iones, se puede crear un potencial de atrapamiento utilizando una combinación adecuada de potenciales eléctricos y/o magnéticos. Existen dos paradigmas para el diseño de dicho potencial de atrapamiento:\n"
   ]
  },
  {
   "cell_type": "markdown",
   "id": "3fa361da",
   "metadata": {},
   "source": [
    "\n",
    " \n",
    "- La trampa de Penning, en la que se utilizan potenciales eléctricos y magnéticos <b>estáticos</b>.\n",
    " \n",
    "- La trampa de Paul, en la que se utilizan campos eléctricos <b>estáticos y oscilantes</b>.\n",
    "\n"
   ]
  },
  {
   "cell_type": "markdown",
   "id": "a601f1d5",
   "metadata": {},
   "source": [
    "Aunque ambos son en principio adecuados para aplicaciones de computación cuántica, la trampa de Paul es actualmente el método más utilizado en entornos académicos e industriales.\n"
   ]
  },
  {
   "cell_type": "markdown",
   "id": "fb7c0ff9",
   "metadata": {},
   "source": [
    "Suficientemente cerca del centro de la trampa (del mínimo del potencial), cualquier potencial puede aproximarse bien mediante una función cuadrática de las coordenadas, es decir, un ion atrapado se comportará como un oscilador armónico simple (SHO) en tres dimensiones.\n"
   ]
  },
  {
   "cell_type": "markdown",
   "id": "6c07afe0",
   "metadata": {},
   "source": [
    "Los sistemas de captura más utilizados en aplicaciones de computación cuántica son las <b>trampas lineales</b>: la fuerza de captura en dos de las tres dimensiones es mucho mayor que la de la tercera (por ejemplo, una trampa Paul muy fuerte en las direcciones $x$ e $y$ y un par de electrodos relativamente más débiles en la dirección $z$, como en la Fig.  {numref}`%s <Fig_ions_linear_trap>`), por lo que el único movimiento relevante será un <b>movimiento armónico simple</b> en (digamos) la dirección $\\hat{z}$, caracterizado por una frecuencia $\\omega_z$ y por la masa $M$ del ion.\n"
   ]
  },
  {
   "cell_type": "markdown",
   "id": "beeb97d4",
   "metadata": {},
   "source": [
    "::::{figure} Figuras/Fig_ions_linear_trap.png\n",
    ":width: 600px\n",
    ":align: center\n",
    ":name: Fig_ions_linear_trap\n",
    "Iones fuertemente atrapados por una trampa Paul en el plano $xy$, y a los que sólo se permite moverse en la dirección $z$. Un par de electrodos impiden que los iones se repelan fuera de la trampa. Fuente {cite}`bib_ions_main`.\n",
    "::::\n"
   ]
  },
  {
   "cell_type": "markdown",
   "id": "8ba52f91",
   "metadata": {},
   "source": [
    "Para que la aproximación armónica se mantenga, el ion no debe alejarse apreciablemente del centro de la trampa. Si esto ocurre, ya no podemos garantizar que las fuerzas que actúan sobre el ion se dirijan hacia el centro de la trampa, y en algún momento podríamos incluso hallarlo fuera de la trampa.\n"
   ]
  },
  {
   "cell_type": "markdown",
   "id": "21434444",
   "metadata": {},
   "source": [
    "Por la razón anterior, es importante que el ion se mueva lentamente, por lo que queremos disminuir su energía cinética. Con un ligero abuso del lenguaje llamamos a esta etapa \"enfriamiento\" asociando una temperatura a la energía cinética, aunque el ion no esté en equilibrio térmico. En la sección  {numref}`%s <sec_ions_laser_cooling>` describiremos dos ejemplos de enfriamiento por láser, válidos en los regímenes clásico y cuántico, respectivamente. Utilizando láseres convenientemente sintonizados, es posible impartir una fuerza de amortiguación efectiva sobre los iones, que los ralentiza.\n"
   ]
  },
  {
   "cell_type": "markdown",
   "id": "ed4f4090",
   "metadata": {},
   "source": [
    "Por último, las colisiones con otras partículas también son perjudiciales para el procedimiento de atrapamiento, ya que pueden inducir cambios bruscos en la energía cinética, lo que puede provocar el escape de iones de la trampa. Para minimizar tales interacciones, se crea un <b>vacío ultraalto</b> a presiones de unos $10^{-11}$ Torr ($\\sim 1,3 \\times 10^{-9}$ Pa) en la región donde se colocará la trampa.\n"
   ]
  },
  {
   "cell_type": "markdown",
   "id": "62e589cb",
   "metadata": {},
   "source": [
    "---\n",
    "Autor:\n",
    "\n",
    "David Castaño ([UMA-SCBI](https://www.scbi.uma.es/site/))\n",
    "\n",
    "<img src=\"Figuras/Logo_UMA.jpeg\"  width=\"170px\">\n",
    "\n",
    "\n",
    "---\n",
    "::::{figure} https://quantumspain-project.es/wp-content/uploads/2022/11/Logo_QS_EspanaDigital.png\n",
    ":width: 2000px\n",
    ":align: center\n",
    "::::\n",
    "\n",
    "<center>\n",
    "<a rel=\"license\" href=\"http://creativecommons.org/licenses/by-sa/4.0/\">\n",
    "<img aling=\"left\" alt=\"Licencia Creative Commons\" style=\"border-width:0\" src=\"https://i.creativecommons.org/l/by-sa/4.0/88x31.png\" /></a>\n",
    "</center>\n",
    "\n",
    "License: <a rel=\"license\" href=\"http://creativecommons.org/licenses/by-sa/4.0/\">Licencia Creative Commons Atribución-CompartirIgual 4.0 Internacional</a>.\n",
    "\n",
    "This work has been financially supported by the Ministry for Digital Transformation and of Civil Service of the Spanish Government through the QUANTUM ENIA project call - Quantum Spain project, and by the European Union through the Recovery, Transformation and Resilience Plan - NextGenerationEU within the framework of the Digital Spain 2026 Agenda.\n",
    "\n",
    "<center>\n",
    "<img align=\"left\" src=\"https://quantumspain-project.es/wp-content/uploads/2024/02/Banner-QS_GOB_v2.png\" width=\"1000px\" />\n",
    "</center>"
   ]
  },
  {
   "cell_type": "markdown",
   "id": "a1b0711f",
   "metadata": {},
   "source": []
  }
 ],
 "metadata": {
  "kernelspec": {
   "display_name": "Python 3 (ipykernel)",
   "language": "python",
   "name": "python3"
  },
  "language_info": {
   "codemirror_mode": {
    "name": "ipython",
    "version": 3
   },
   "file_extension": ".py",
   "mimetype": "text/x-python",
   "name": "python",
   "nbconvert_exporter": "python",
   "pygments_lexer": "ipython3",
   "version": "3.11.7"
  },
  "toc": {
   "base_numbering": 1,
   "nav_menu": {},
   "number_sections": false,
   "sideBar": true,
   "skip_h1_title": true,
   "title_cell": "Table of Contents",
   "title_sidebar": "Contents",
   "toc_cell": false,
   "toc_position": {},
   "toc_section_display": true,
   "toc_window_display": false
  }
 },
 "nbformat": 4,
 "nbformat_minor": 5
}