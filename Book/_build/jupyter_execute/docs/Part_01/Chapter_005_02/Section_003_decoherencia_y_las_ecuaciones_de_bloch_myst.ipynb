{
 "cells": [
  {
   "cell_type": "markdown",
   "id": "8ddaeb38",
   "metadata": {},
   "source": [
    "> {sub-ref}`today` | {sub-ref}`wordcount-minutes` min read\n",
    "\n",
    "<a href=\"https://www.talentq.es/es_es/cursos/\">\n",
    "    <button class=\"rounded\" style=\"float: right;\">\n",
    "    <svg xmlns=\"http://www.w3.org/2000/svg\" width=\"32\" height=\"32\" viewBox=\"0 0 24 24\">\n",
    "        <path fill=\"var(--fill, white)\"\n",
    "        d=\"M18.1 15.3c-.1.1-.3.2-.4.3l-2.4.4l1.7 3.6c.2.4 0 .8-.4\n",
    "            1l-2.8 1.3c-.1.1-.2.1-.3.1c-.3 0-.6-.2-.7-.4L11.2\n",
    "            18l-1.9 1.5c-.1.1-.3.2-.5.2c-.4 0-.8-.3-.8-.8V7.5c0-.5.3-.8.8-.8c.2 0\n",
    "            .4.1.5.2l8.7 7.4c.3.2.4.7.1 1M6 12H4V4h16v8h-1.6l2.2 1.9c.8-.3 1.3-1\n",
    "            1.3-1.9V4c0-1.1-.9-2-2-2H4c-1.1 0-2 .9-2 2v8c0 1.1.9 2 2 2h2z\" />\n",
    "    </svg>\n",
    "    Volver a TalentQ\n",
    "    </button>\n",
    "</a>\n",
    "\n",
    "$ \\newcommand{\\bra}[1]{\\langle #1|} $\n",
    "$ \\newcommand{\\ket}[1]{|#1\\rangle} $\n",
    "$ \\newcommand{\\branew}[1]{\\langle #1|} $\n",
    "$ \\newcommand{\\ketnew}[1]{\\langle #1|} $\n",
    "$ \\newcommand{\\braket}[2]{\\langle #1|#2\\rangle} $\n",
    "$ \\newcommand{\\ketbra}[2]{| #1\\rangle \\langle #2 |} $\n",
    "$ \\newcommand{\\i}{{\\color{blue} i}} $ \n",
    "$ \\newcommand{\\Hil}{{\\cal H}} $\n",
    "$ \\newcommand{\\cg}[1]{{\\rm C}#1} $\n",
    "$ \\newcommand{\\lp}{\\left(} $\n",
    "$ \\newcommand{\\rp}{\\right)} $\n",
    "$ \\newcommand{\\lc}{\\left[} $\n",
    "$ \\newcommand{\\rc}{\\right]} $\n",
    "$ \\newcommand{\\lch}{\\left\\{} $\n",
    "$ \\newcommand{\\rch}{\\right\\}} $\n",
    "$ \\newcommand{\\Lp}{\\Bigl(} $\n",
    "$ \\newcommand{\\Rp}{\\Bigr)} $\n",
    "$ \\newcommand{\\Lc}{\\Bigl[} $\n",
    "$ \\newcommand{\\Rc}{\\Bigr]} $\n",
    "$ \\newcommand{\\Lch}{\\Bigl\\{} $\n",
    "$ \\newcommand{\\Rch}{\\Bigr\\}} $\n",
    "$ \\newcommand{\\rqa}{\\quad \\Rightarrow \\quad} $\n",
    "$ \\newcommand{\\bm}{\\boldsymbol}$"
   ]
  },
  {
   "cell_type": "markdown",
   "id": "080fe82e",
   "metadata": {},
   "source": [
    "# Decoherencia y las ecuaciones de Bloch.\n"
   ]
  },
  {
   "cell_type": "markdown",
   "id": "82719901",
   "metadata": {},
   "source": [
    "En esta sección vamos a seguir el artículo recopilatorio {cite}`bib_Decoherence_and_dephasing`.\n"
   ]
  },
  {
   "cell_type": "markdown",
   "id": "818f5d91",
   "metadata": {},
   "source": [
    "Dado que la decoherencia se produce en el dominio del tiempo, es natural utilizar escalas temporales para describir la fuerza de un canal de decoherencia y la intensidad con que la decoherencia afecta a una variable dinámica concreta. Si nos limitamos a un TLS simple, el problema de describir fenomenológicamente el efecto del acoplamiento débil a grados de libertad externos sobre la evolución temporal de este TLS contiene sólo unos pocos parámetros.\n"
   ]
  },
  {
   "cell_type": "markdown",
   "id": "b7f79f38",
   "metadata": {},
   "source": [
    "En particular, dos escalas de tiempo de relajación, $T_1$ y $T_2$, se introdujeron y utilizaron ampliamente en el campo de la RMN, y después se utilizaron también de forma natural en la ESR y en la óptica cuántica. En estas disciplinas, o bien el campo magnético estático aplicado (que causa el desdoblamiento de Zeeman a lo largo de la dirección del campo) o bien los TLS naturales (por ejemplo, para fotones, donde la polarización longitudinal y transversal se produce de forma natural) definen una dirección longitudinal y otra transversal. $T_1$ y $T_2$ son entonces, respectivamente, los tiempos de relajación longitudinal y transversal para magnetizaciones en RMN y ESR, o la diferencia de población y polarización en óptica cuántica. Nótese que el uso de $T_1$ y $T_2$ para caracterizar la decoherencia sólo se aplica a la dinámica TLS.\n"
   ]
  },
  {
   "cell_type": "markdown",
   "id": "212c7cdf",
   "metadata": {},
   "source": [
    "La definición de $T_1$ y $T_2$ es bastante específica del sistema; de hecho, la definición estricta de $T_1$ y $T_2$ se aplica específicamente a las mediciones por resonancia magnética. Un fenómeno de decoherencia arbitrario puede requerir más o menos parámetros para describir el proceso de desfase. En general, en ausencia de campo magnético y en sistemas isótropos, $T_1 = T_2$. También hay que señalar que $T_1$ y $T_2$ son parámetros puramente fenomenológicos (que caracterizan la relajación longitudinal y transversal respectivamente), a los que podrían contribuir, en principio, muchos mecanismos de decoherencia diferentes. En general, dos parámetros pueden no ser adecuados para describir completamente la decoherencia TLS, pero la experiencia (particularmente en RMN, ESR y experimentos de bombeo óptico) sugiere que $T_1$ y $T_2$ son a menudo suficientes para caracterizar la decoherencia TLS en muchas situaciones diversas y son por tanto parámetros TLS extremadamente importantes.\n"
   ]
  },
  {
   "cell_type": "markdown",
   "id": "b2d3d494",
   "metadata": {},
   "source": [
    "Primero discutimos cómo se introducen $T_1$ y $T_2$ para un TLS particular: un espín de electrón en un campo magnético externo. Ya hemos visto en la Ec.  {eq}`%s <ec_Hardware_NMR_H_lab_single>` como es el Hamiltoniano para un partícula de espín 1/2 (como es el electrón) en un campo externo $\\vec{B}_0 = B_0 \\hat{z}$ a la que se aplica un campo $\\vec{B}_1(t)$ de control que gira en el plano $\\hat{x}- \\hat{y}$ a una frecuencia $\\omega_{rf}$. Teniendo en cuenta las expresiones de $S_z$, $S_y$ y $S_z$ de  {eq}`%s <ec_Hardware_NMR_Sx-Sy-Sz>`, el Hamiltoniano en forma de matriz nos queda:\n",
    "```{math}\n",
    ":label: ec_decoherencia_H_electron \n",
    "\\begin{equation} \n",
    "\\mathcal{H} = - \\omega_0 S_z - \\omega_1 \\Lc \\cos (\\omega_{rf} t+ \\phi) S_x + \\sin (\\omega_{rf} + \\phi) S_y \\Rc\n",
    "= - \\frac{\\hbar}{2} \\begin{bmatrix}\n",
    "\\omega_0                               &  \\omega_1 e^{-i (\\omega_{rf} t + \\phi)} \\\\\n",
    "\\omega_1 e^{i (\\omega_{rf} t + \\phi)}  &  -\\omega_0\n",
    "\\end{bmatrix}\n",
    "\\end{equation} \n",
    "```\n",
    "donde $\\omega_0 = \\gamma B_0$ y $\\omega_1 = \\gamma B_1$. La dinámica de espín bajo el Hamiltoniano  {eq}`%s <ec_decoherencia_H_electron>` está gobernada por la <b>Ecuación de von Neumann</b> para la matriz densidad\n",
    "\\begin{equation}\n",
    "i \\hbar \\frac{\\partial \\rho}{\\partial t} = \\lc \\mathcal{H}, \\rho \\rc\n",
    "\\end{equation}\n"
   ]
  },
  {
   "cell_type": "markdown",
   "id": "559e6f82",
   "metadata": {},
   "source": [
    "::::::{admonition} Nota (Ecuación de von Neumann) \n",
    ":class: note\n",
    "\n",
    "\n",
    "\n",
    "Así como la ecuación de Schrödinger describe cómo evolucionan los estados puros en el tiempo, la\n",
    "ecuación de von Neumann (también conocida como ecuación de Liouville-von Neumann) describe cómo\n",
    "evoluciona un operador de densidad en el tiempo. Las dos ecuaciones son equivalentes, en el\n",
    "sentido de que cualquiera puede derivarse de la otra. La ecuación de von Neumann estable\n",
    "\\begin{equation}\n",
    "i \\hbar \\frac{\\partial \\rho}{\\partial t} = \\lc \\mathcal{H}, \\rho \\rc\n",
    "\\end{equation}\n",
    "donde los corchetes denotan el <b>conmutador</b>, es decir,\n",
    "\\begin{equation}\n",
    "\\lc \\mathcal{H}, \\rho \\rc = \\mathcal{H} \\rho - \\rho \\mathcal{H}\n",
    "\\end{equation}\n",
    "::::::\n"
   ]
  },
  {
   "cell_type": "markdown",
   "id": "451e63eb",
   "metadata": {},
   "source": [
    "Como también vimos, podemos eliminar la dependencia temporal de $\\mathcal{H}$ yendo a un sistema de referencia rotante a una frecuencia $\\omega_{rf}$. En este sistema, el Hamiltoniano toma la forma de la Ec.  {eq}`%s <ec_Hardware_NMR_H_rot_single>`. En forma matricial:\n",
    "\\begin{equation}\n",
    "\\mathcal{H}^{rot} = - (\\omega_0 - \\omega_{rf}) S_z - \\omega_1 \\lc \\cos (\\phi) S_x + \\sin (\\phi) S_y \\rc =\n",
    "- \\frac{\\hbar}{2} \\begin{bmatrix}\n",
    "(\\omega_0 - \\omega_{rf})  &  \\omega_1 e^{-i \\phi} \\\\\n",
    "\\omega_1 e^{i \\phi}          &  - (\\omega_0 - \\omega_{rf})\n",
    "\\end{bmatrix}\n",
    "\\end{equation}\n",
    "Además, tenemos dos restricciones en la matriz densidad:\n",
    "\\begin{equation*}\n",
    "\\rho =\n",
    "\\begin{bmatrix}\n",
    "\\rho_{\\uparrow \\uparrow} & \\rho_{\\uparrow \\downarrow} \\\\\n",
    "\\rho_{\\downarrow \\uparrow} & \\rho_{\\downarrow \\downarrow}\n",
    "\\end{bmatrix}\n",
    "\\rqa\n",
    "\\begin{matrix}\n",
    "\\rho_{\\uparrow \\uparrow} + \\rho_{\\downarrow \\downarrow}  = 1 &\\\\\n",
    "\\rho_{\\uparrow \\downarrow}  = \\rho^{*}_{\\downarrow \\uparrow} &\n",
    "\\end{matrix}\n",
    "\\end{equation*}\n",
    "Con lo cual, solo nos interesan dos de las cuatro ecuaciones, una para $\\rho_{\\uparrow \\uparrow}$ y otra para $\\rho_{\\uparrow \\downarrow}$\n",
    "```{math}\n",
    ":label: ec_decoherencia_rho_up-up_up-down \n",
    "\\begin{equation} \n",
    "\\begin{aligned}\n",
    "i \\hbar \\frac{\\partial \\rho_{\\uparrow \\uparrow}}{\\partial t} & = \\frac{\\hbar}{2} \\lp \\rho_{\\uparrow \\downarrow} e^{-i \\phi} - \\rho_{\\downarrow \\uparrow} e^{i \\phi} \\rp \\\\\n",
    "i \\hbar \\frac{\\partial \\rho_{\\uparrow \\downarrow}}{\\partial t} & =\n",
    "- \\frac{\\hbar}{2} \\Lc 2 \\Delta \\omega \\rho_{\\uparrow \\downarrow} +\n",
    "\\omega_1 e^{-i \\phi} (\\rho_{\\uparrow \\uparrow} - \\rho_{\\downarrow \\downarrow}) \\Rc\n",
    "\\end{aligned}\n",
    "\\end{equation} \n",
    "```\n",
    "donde $\\Delta \\omega = (\\omega_0 - \\omega_{rf})$.\n"
   ]
  },
  {
   "cell_type": "markdown",
   "id": "6d490aac",
   "metadata": {},
   "source": [
    "::::::{admonition} Nota (Derivación de  {eq}`%s <ec_decoherencia_rho_up-up_up-down>`) \n",
    ":class: note\n",
    "\n",
    "\n",
    "\n",
    "\\begin{align*}\n",
    "\\frac{2}{\\hbar}\\lc \\mathcal{H} , \\rho \\rc & = -\n",
    "\\begin{bmatrix}\n",
    "\\Delta \\omega & \\omega_1 e^{-i \\phi} \\\\\n",
    "\\omega_1 e^{i \\phi} & - \\Delta \\omega\n",
    "\\end{bmatrix}\n",
    "\\begin{bmatrix}\n",
    "\\rho_{\\uparrow \\uparrow} & \\rho_{\\uparrow \\downarrow} \\\\\n",
    "\\rho_{\\downarrow \\uparrow} & \\rho_{\\downarrow \\downarrow}\n",
    "\\end{bmatrix}\n",
    "+\n",
    "\\begin{bmatrix}\n",
    "\\rho_{\\uparrow \\uparrow} & \\rho_{\\uparrow \\downarrow} \\\\\n",
    "\\rho_{\\downarrow \\uparrow} & \\rho_{\\downarrow \\downarrow}\n",
    "\\end{bmatrix}\n",
    "\\begin{bmatrix}\n",
    "\\Delta \\omega & \\omega_1 e^{-i \\phi} \\\\\n",
    "\\omega_1 e^{i \\phi} & - \\Delta \\omega\n",
    "\\end{bmatrix}  \\\\\n",
    "& = -  \\begin{bmatrix}\n",
    "\\Delta \\omega \\rho_{\\uparrow \\uparrow} +\n",
    "\\omega_1 \\rho_{\\downarrow \\uparrow} e^{-i \\phi}\n",
    "& \\Delta \\omega \\rho{\\uparrow \\downarrow} + \\omega_1 \\rho_{\\downarrow \\downarrow} e^{-i \\phi} \\\\\n",
    "\\vdots & \\vdots\n",
    "\\end{bmatrix}\n",
    "+  \\begin{bmatrix}\n",
    "\\Delta \\omega \\rho_{\\uparrow \\uparrow} + \\omega_1 \\rho_{\\uparrow \\downarrow} e^{i \\phi} & \\omega_1 \\rho_1 e^{-i \\omega} - \\Delta \\omega \\rho_2 \\\\\n",
    "\\vdots & \\vdots\n",
    "\\end{bmatrix} \\\\\n",
    "& = - \\begin{bmatrix}\n",
    "\\omega_1 \\lp \\rho_{\\uparrow \\downarrow} e^{i \\phi} - \\rho^{*}_{\\uparrow \\downarrow} e^{-i \\phi} \\rp &\n",
    "2 \\Delta \\omega \\rho_{\\uparrow \\downarrow} + \\omega_1 e^{-i \\phi} \\lp \\rho_{\\uparrow \\uparrow} - \\rho_{\\downarrow \\downarrow} \\rp \\\\\n",
    "\\vdots & \\vdots\n",
    "\\end{bmatrix}\n",
    "\\end{align*}\n",
    "::::::\n"
   ]
  },
  {
   "cell_type": "markdown",
   "id": "50d35ce7",
   "metadata": {},
   "source": [
    "La evolución de este espín de electrón giratorio o en precesión es unitaria ya que hasta ahora estamos considerando un único espín aislado sin desfase ni decoherencia. La coherencia cuántica se mantiene siempre. Sin embargo, <b>el espín de un electrón nunca está aislado</b>. Se acopla a los grados de libertad orbitales del electrón a través del acoplamiento espín-órbita, a los espines nucleares a través de la interacción hiperfina y la interacción dipolar, a la red cristalina (y por tanto a los fonones) a través del acoplamiento espín-órbita, a cualquier impureza magnética del entorno a través del acoplamiento directo espín-dipolo, y a otros espines de electrones a través del acoplamiento dipolar y de intercambio.\n"
   ]
  },
  {
   "cell_type": "markdown",
   "id": "c9d50637",
   "metadata": {},
   "source": [
    "Con todos estos grados de libertad \"ambientales\" presentes en principio, las simples ecuaciones libres de decoherencia para la matriz de densidad de espín  {eq}`%s <ec_decoherencia_rho_up-up_up-down>` son obviamente una idealización. Para determinar cómo de fuertes son estas influencias \"externas\", necesitamos incluirlas en el Hamiltoniano de partida, y luego emplear aproximaciones para lograr una comprensión cuantitativa de cómo evoluciona el sistema y cómo el espín que nos ocupa pierde su coherencia debido a su acoplamiento al \"entorno\". Obviamente, se trata de un problema muy complicado (de hecho, un problema irresoluble, ya que nunca podremos estar seguros de conocer con precisión todos los grados de libertad posibles del entorno).\n"
   ]
  },
  {
   "cell_type": "markdown",
   "id": "99203603",
   "metadata": {},
   "source": [
    "Un enfoque sencillo para abordar este problema consiste en añadir términos de decaimiento exponencial a los lados derechos de las dos Ecs.  {eq}`%s <ec_decoherencia_rho_up-up_up-down>`  anteriores:\n",
    "```{math}\n",
    ":label: ec_decoherencia_rho_up-up_up-down_ficcion \n",
    "\\begin{equation} \n",
    "\\begin{aligned}\n",
    "i \\hbar \\frac{\\partial \\rho_{\\uparrow \\uparrow}}{\\partial t} & = \\frac{\\hbar}{2} \\lp \\rho_{\\uparrow \\downarrow} e^{-i \\phi} - \\rho_{\\downarrow \\uparrow} e^{i \\phi} \\rp - \\frac{i \\hbar}{T_1} \\rho_{\\uparrow \\uparrow} \\, , \\\\\n",
    "i \\hbar \\frac{\\partial \\rho_{\\uparrow \\downarrow}}{\\partial t} & =\n",
    "- \\frac{\\hbar}{2} \\Lc 2 \\Delta \\omega \\rho_{\\uparrow \\downarrow} +\n",
    "\\omega_1 e^{-i \\phi} (\\rho_{\\uparrow \\uparrow} - \\rho_{\\downarrow \\downarrow}) \\Rc - \\frac{i \\hbar}{T_2}  \\rho_{\\uparrow \\downarrow} \\, ,\n",
    "\\end{aligned}\n",
    "\\end{equation} \n",
    "```\n",
    "para imitar el comportamiento observado fenomenológicamente de la decoherencia. Esto es simular a añadir un término de fricción proporcional a la velocidad en la ecuación de newton clásica. Las dos constantes pueden calcularse en determinadas condiciones si se dispone de suficiente información sobre el entorno. Este sencillo enfoque fenomenológico resulta ser bastante exitoso en la descripción de muchos experimentos, que van desde la RMN y la ESR hasta la óptica cuántica, aunque los cálculos explícitos reales de $T_1$ y $T_2$ suelen ser bastante difíciles. Quizás sea más fructífero considerar $T_1$ y $T_2$ como parámetros puramente fenomenológicos (que caracterizan las relajaciones longitudinal y transversal respectivamente en la dinámica TLS) que deben obtenerse a partir de medidas experimentales.\n"
   ]
  },
  {
   "cell_type": "markdown",
   "id": "07870349",
   "metadata": {},
   "source": [
    "Recordemos que el vector unitario de magnetización está relacionado con el espín mediante\n",
    "\\begin{equation}\n",
    "\\vec{M} = \\text{Tr} \\lp \\rho \\vec{\\sigma} \\rp\n",
    "\\end{equation}\n",
    "con lo que\n",
    "\\begin{equation}\n",
    "M_x = 2 \\text{Re} (\\rho_{\\uparrow \\downarrow})\\, , \\hspace{2cm}\n",
    "M_y = -2 \\text{Im}(\\rho_{\\uparrow \\downarrow}) \\, , \\hspace{2cm}\n",
    "M_z = (\\rho_{\\uparrow \\uparrow} - \\rho_{\\downarrow \\downarrow}) \\,.\n",
    "\\end{equation}\n",
    "Podemos ahora reescribir las Eqs.  {eq}`%s <ec_decoherencia_rho_up-up_up-down_ficcion>` con respecto a las componentes del vector real $\\vec{M}$, obteniendo las <b>ecuaciones de Bloch</b> en el sistema de referencia rotante:\n",
    "\\begin{equation}\n",
    "\\begin{aligned}\n",
    "\\frac{\\partial M_x}{\\partial t} & = - \\frac{1}{T_2} M_x - \\Delta\\omega M_y \\, , \\\\\n",
    "\\frac{\\partial M_y}{\\partial t} & = \\Delta\\omega - \\frac{1}{T_2} M_y - \\omega_1 M_z\\, , \\\\\n",
    "\\frac{\\partial M_z}{\\partial t} & = \\omega_1 M_y - \\frac{1}{T_1} (M_z +1) \\, .\n",
    "\\end{aligned}\n",
    "\\end{equation}\n",
    "Vemos fácilmente que $T_2$ <b>es el tiempo de relajación para la magnetización $xy$ (transversal) de los electrones, mientras que $T_1$ es el tiempo de decaimiento para la magnetización en dirección $z$ (longitudinal)</b>.\n"
   ]
  },
  {
   "cell_type": "markdown",
   "id": "15e83f2a",
   "metadata": {},
   "source": [
    "Para describir un conjunto de espines, que en general pueden poseer diferentes desdoblamientos Zeeman $\\hbar \\omega$ (por ejemplo, en virtud de inhomogeneidades en el campo magnético aplicado y/o en el factor $g$ del electrón) y por lo tanto tener diferentes valor de $\\Delta\\omega$, es necesario realizar un promedio adicional del conjunto. Este promediado conduce a una constante de tiempo $T^{*}_2$ $(\\leq T_2)$ diferente para describir la anchura de la señal de resonancia magnética (el ensanchamiento no homogéneo), pero no afecta a la dirección longitudinal. Obsérvese que $T_2$ (o $T^{*}_2$) describe el proceso de desfase ($T_2$ suele denominarse <b>tiempo de desfase</b>), y $T_1$ $(\\geq  T_2)$ es el <b>tiempo de relajación inelástica de inversión de espín (spin-flip)</b>. A menudo $T_2$ también se denomina <b>tiempo de relajación espín-espín</b> por razones que se discutirán más adelante.\n"
   ]
  },
  {
   "cell_type": "markdown",
   "id": "e2131487",
   "metadata": {},
   "source": [
    "Las ecuaciones de Bloch describen con éxito fenómenos de desfase y relajación en átomos, óptica cuántica, espines nucleares y espines de electrones en semiconductores, aunque microscópicamente bien puede darse el caso de que sólo dos escalas de tiempo no sean suficientes para describir la dinámica.\n"
   ]
  },
  {
   "cell_type": "markdown",
   "id": "e4228f72",
   "metadata": {},
   "source": [
    "En cuanto a la decoherencia de un solo espín, observamos que los procesos de inversión de espín (spin-flip) causan tanto la relajación de la población como el desfase, contribuyendo a ambas tasas $1/T_1$ y $1/T_2$. Sin embargo, en un sistema físico real las direcciones longitudinal y transversal suelen verse afectadas de forma diferente por el entorno. De hecho, existen procesos de desfase puros que afectan sólo a $T_2$ pero no a $T_1$. Un ejemplo son las moléculas que colisionan en un medio gaseoso ópticamente activo, donde las moléculas sufren constantemente colisiones entre sí, algunas de ellas inelásticas, pero la mayoría elásticas.\n"
   ]
  },
  {
   "cell_type": "markdown",
   "id": "cbe0c08e",
   "metadata": {},
   "source": [
    "Otro ejemplo bien conocido de desfase puro es la interacción dipolar espín-espín en RMN, que produce fluctuaciones efectivas del campo magnético local y, por tanto, contribuye esencialmente sólo a $T_2$ (el efecto correspondiente sobre $T_1$ es extremadamente pequeño). Lo que es importante para el desfase es que debe producirse algún cambio en el estado del entorno debido a su interacción con el sistema- el desfase no requiere necesariamente un proceso de dispersión inelástica explícito para el sistema, aunque todas las dispersiones inelásticas producen necesariamente desfase. De hecho, como se ha mencionado antes, $T_2$ en el contexto de la ESR y la RMN se denomina a menudo tiempo de relajación espín-espín porque el efecto intrínseco más importante que contribuye a $1/T_2$ es la interacción dipolar entre varios espines del sistema, que, aunque transfiere energía entre los propios espines, no conduce a una relajación energética global del sistema de espín total. Por el contrario, las interacciones espín-red conducen a la relajación de la energía (a través de procesos de spin-flip) desde el sistema de espín a la red, y por lo tanto contribuyen a $1/T_1$, la tasa de relajación espín-red. En este contexto, observamos que $T_2$ establece la escala de tiempo para que el sistema de espín alcance el equilibrio dentro de sí mismo, mientras que $T_1$ establece la escala de tiempo para el equilibrio termodinámico global entre el sistema de espín y la red.\n"
   ]
  },
  {
   "cell_type": "markdown",
   "id": "f25a8e8b",
   "metadata": {},
   "source": [
    "En resumen: <b>todos los procesos inelásticos que contribuyen a $T_1$ también conducen automáticamente al desfase, pero en muchas circunstancias puede haber procesos de desfase adicionales</b> (por ejemplo, el acoplamiento dipolar espín-espín en RMN y ESR) que contribuyen sólo a $T_2$ (y no a $T_1$), y por lo tanto $\\bm{T_1 \\geq T_2}$ en general.\n"
   ]
  },
  {
   "cell_type": "markdown",
   "id": "62e589cb",
   "metadata": {},
   "source": [
    "---\n",
    "Autor:\n",
    "\n",
    "David Castaño ([UMA-SCBI](https://www.scbi.uma.es/site/))\n",
    "\n",
    "<img src=\"Figuras/Logo_UMA.jpeg\"  width=\"170px\">\n",
    "\n",
    "\n",
    "---\n",
    "::::{figure} https://quantumspain-project.es/wp-content/uploads/2022/11/Logo_QS_EspanaDigital.png\n",
    ":width: 2000px\n",
    ":align: center\n",
    "::::\n",
    "\n",
    "<center>\n",
    "<a rel=\"license\" href=\"http://creativecommons.org/licenses/by-sa/4.0/\">\n",
    "<img aling=\"left\" alt=\"Licencia Creative Commons\" style=\"border-width:0\" src=\"https://i.creativecommons.org/l/by-sa/4.0/88x31.png\" /></a>\n",
    "</center>\n",
    "\n",
    "License: <a rel=\"license\" href=\"http://creativecommons.org/licenses/by-sa/4.0/\">Licencia Creative Commons Atribución-CompartirIgual 4.0 Internacional</a>.\n",
    "\n",
    "This work has been financially supported by the Ministry for Digital Transformation and of Civil Service of the Spanish Government through the QUANTUM ENIA project call - Quantum Spain project, and by the European Union through the Recovery, Transformation and Resilience Plan - NextGenerationEU within the framework of the Digital Spain 2026 Agenda.\n",
    "\n",
    "<center>\n",
    "<img align=\"left\" src=\"https://quantumspain-project.es/wp-content/uploads/2024/02/Banner-QS_GOB_v2.png\" width=\"1000px\" />\n",
    "</center>"
   ]
  },
  {
   "cell_type": "markdown",
   "id": "a1b0711f",
   "metadata": {},
   "source": []
  }
 ],
 "metadata": {
  "kernelspec": {
   "display_name": "Python 3 (ipykernel)",
   "language": "python",
   "name": "python3"
  },
  "language_info": {
   "codemirror_mode": {
    "name": "ipython",
    "version": 3
   },
   "file_extension": ".py",
   "mimetype": "text/x-python",
   "name": "python",
   "nbconvert_exporter": "python",
   "pygments_lexer": "ipython3",
   "version": "3.11.7"
  },
  "toc": {
   "base_numbering": 1,
   "nav_menu": {},
   "number_sections": false,
   "sideBar": true,
   "skip_h1_title": true,
   "title_cell": "Table of Contents",
   "title_sidebar": "Contents",
   "toc_cell": false,
   "toc_position": {},
   "toc_section_display": true,
   "toc_window_display": false
  }
 },
 "nbformat": 4,
 "nbformat_minor": 5
}