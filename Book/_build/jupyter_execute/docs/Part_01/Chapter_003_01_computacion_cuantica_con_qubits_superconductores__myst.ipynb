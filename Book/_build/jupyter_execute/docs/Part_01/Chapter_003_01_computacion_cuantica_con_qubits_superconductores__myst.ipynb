{
 "cells": [
  {
   "cell_type": "markdown",
   "id": "8ddaeb38",
   "metadata": {},
   "source": [
    "> {sub-ref}`today` | {sub-ref}`wordcount-minutes` min read\n",
    "\n",
    "<a href=\"https://www.talentq.es/es_es/cursos/\">\n",
    "    <button class=\"rounded\" style=\"float: right;\">\n",
    "    <svg xmlns=\"http://www.w3.org/2000/svg\" width=\"32\" height=\"32\" viewBox=\"0 0 24 24\">\n",
    "        <path fill=\"var(--fill, white)\"\n",
    "        d=\"M18.1 15.3c-.1.1-.3.2-.4.3l-2.4.4l1.7 3.6c.2.4 0 .8-.4\n",
    "            1l-2.8 1.3c-.1.1-.2.1-.3.1c-.3 0-.6-.2-.7-.4L11.2\n",
    "            18l-1.9 1.5c-.1.1-.3.2-.5.2c-.4 0-.8-.3-.8-.8V7.5c0-.5.3-.8.8-.8c.2 0\n",
    "            .4.1.5.2l8.7 7.4c.3.2.4.7.1 1M6 12H4V4h16v8h-1.6l2.2 1.9c.8-.3 1.3-1\n",
    "            1.3-1.9V4c0-1.1-.9-2-2-2H4c-1.1 0-2 .9-2 2v8c0 1.1.9 2 2 2h2z\" />\n",
    "    </svg>\n",
    "    Volver a TalentQ\n",
    "    </button>\n",
    "</a>\n",
    "\n",
    "$ \\newcommand{\\bra}[1]{\\langle #1|} $\n",
    "$ \\newcommand{\\ket}[1]{|#1\\rangle} $\n",
    "$ \\newcommand{\\branew}[1]{\\langle #1|} $\n",
    "$ \\newcommand{\\ketnew}[1]{\\langle #1|} $\n",
    "$ \\newcommand{\\braket}[2]{\\langle #1|#2\\rangle} $\n",
    "$ \\newcommand{\\ketbra}[2]{| #1\\rangle \\langle #2 |} $\n",
    "$ \\newcommand{\\i}{{\\color{blue} i}} $ \n",
    "$ \\newcommand{\\Hil}{{\\cal H}} $\n",
    "$ \\newcommand{\\cg}[1]{{\\rm C}#1} $\n",
    "$ \\newcommand{\\lp}{\\left(} $\n",
    "$ \\newcommand{\\rp}{\\right)} $\n",
    "$ \\newcommand{\\lc}{\\left[} $\n",
    "$ \\newcommand{\\rc}{\\right]} $\n",
    "$ \\newcommand{\\lch}{\\left\\{} $\n",
    "$ \\newcommand{\\rch}{\\right\\}} $\n",
    "$ \\newcommand{\\Lp}{\\Bigl(} $\n",
    "$ \\newcommand{\\Rp}{\\Bigr)} $\n",
    "$ \\newcommand{\\Lc}{\\Bigl[} $\n",
    "$ \\newcommand{\\Rc}{\\Bigr]} $\n",
    "$ \\newcommand{\\Lch}{\\Bigl\\{} $\n",
    "$ \\newcommand{\\Rch}{\\Bigr\\}} $\n",
    "$ \\newcommand{\\rqa}{\\quad \\Rightarrow \\quad} $\n",
    "$ \\newcommand{\\bm}{\\boldsymbol}$"
   ]
  },
  {
   "cell_type": "markdown",
   "id": "080fe82e",
   "metadata": {},
   "source": [
    "\n",
    "(sec_chapter_hw_scq)= \n",
    "# Computación Cuántica con qubits Superconductores \n"
   ]
  },
  {
   "cell_type": "markdown",
   "id": "ddc8d60b",
   "metadata": {},
   "source": [
    "Los qubits superconductores son actualmente la tecnología líder en el espacio comercial de la computación cuántica, siendo explotada o elegida por IBM, Google, Rigetti, Amazon, Alibaba, Baidu, así como por muchas startups como IQM (Finlandia), OQC (Reino Unido), Anyon Systems (Canadá), Alice{\\&}Bob (Francia), Nord Quantique (Canadá) y otras. Actualmente es la mejor arquitectura escalable en el modelo basado en puertas, con un récord de 1.121  qubits de IBM (lanzado en diciembre de 2023), aunque, hasta ahora, la calidad de estos qubits sigue siendo insuficiente para que sean útiles en la práctica.\n"
   ]
  },
  {
   "cell_type": "markdown",
   "id": "8a4d02a8",
   "metadata": {},
   "source": [
    "Los qubits superconductores se cimientan en el uso de la <b>unión de Josephson</b> para construir un circuito superconductor que simula un átomo con niveles de energía controlables con precisión. Una característica destacable de los qubits superconductores es que sus espectros de niveles de energía se rigen por los parámetros de los elementos del circuito y, por tanto, son <b>ajustables</b>; pueden diseñarse para que presenten espectros de energía \"atómicos\" con las propiedades deseadas. Es decir, ofrecen un rico espacio de parámetros de posibles propiedades y regímenes de funcionamiento de los qubits, con un rendimiento predecible en términos de frecuencias de transición, anarmonicidad y complejidad. Este es el motivo por el que los qubits superconductores también suelen denominarse <b>átomos artificiales</b>.\n"
   ]
  },
  {
   "cell_type": "markdown",
   "id": "05788517",
   "metadata": {},
   "source": [
    "Empezaremos este capítulo con tres secciones donde introduciremos conceptos necesarios para entender el formalismo de los qubits superconductores de las subsiguientes secciones. Veremos conceptos básicos sobre <b>Superconductividad</b> (sección  {numref}`%s <sec_scq_conceptos_superconductividad>`), sobre <b>Mecánica Clásica</b> (sección  {numref}`%s <sec_scq_conceptos_mecanica>`) y sobre <b>cuantización</b> de una teoría clásica (sección  {numref}`%s <sec_scq_conceptos_cuantizacion>`).\n"
   ]
  },
  {
   "cell_type": "markdown",
   "id": "afec7681",
   "metadata": {},
   "source": [
    "Pasando ya a materia, veremos cuatro tipos de qubits superconductores (todos tipo transmón): <b>Transmon qubits</b> simples (sección  {numref}`%s <sec_sub_scq_qho>`), <b>split transmon qubit</b> (sección  {numref}`%s <sec_scq_split_transmon>`), <b>flux qubit</b> y <b>fluxonium</b> (sección  {numref}`%s <sec_scq_flux_qubits_y_fluxonium>`)\n"
   ]
  },
  {
   "cell_type": "markdown",
   "id": "963c20d4",
   "metadata": {},
   "source": [
    "Veremos además como hacer para <b>acoplar</b> qubits (sección  {numref}`%s <sec_scq_acoplamiento>`), como aplicar <b>puertas simple</b> (sección  {numref}`%s <sec_scq_puertas_1_qubits>`) y veremos algunos ejemplos de topologías de <b>conectividad</b> en chips de varios qubits (sección  {numref}`%s <sec_scq_conectividad>`).\n"
   ]
  },
  {
   "cell_type": "markdown",
   "id": "2f75df35",
   "metadata": {},
   "source": [
    "Este capítulo se basa principalmente en {cite}`bib_A_quantum_engineers_guide`, con alguna cosa de {cite}`bib_scq_ezratty2023perspective`.\n"
   ]
  },
  {
   "cell_type": "markdown",
   "id": "62e589cb",
   "metadata": {},
   "source": [
    "---\n",
    "Autor:\n",
    "\n",
    "David Castaño ([UMA-SCBI](https://www.scbi.uma.es/site/))\n",
    "\n",
    "<img src=\"Figuras/Logo_UMA.jpeg\"  width=\"170px\">\n",
    "\n",
    "\n",
    "---\n",
    "::::{figure} https://quantumspain-project.es/wp-content/uploads/2022/11/Logo_QS_EspanaDigital.png\n",
    ":width: 2000px\n",
    ":align: center\n",
    "::::\n",
    "\n",
    "<center>\n",
    "<a rel=\"license\" href=\"http://creativecommons.org/licenses/by-sa/4.0/\">\n",
    "<img aling=\"left\" alt=\"Licencia Creative Commons\" style=\"border-width:0\" src=\"https://i.creativecommons.org/l/by-sa/4.0/88x31.png\" /></a>\n",
    "</center>\n",
    "\n",
    "License: <a rel=\"license\" href=\"http://creativecommons.org/licenses/by-sa/4.0/\">Licencia Creative Commons Atribución-CompartirIgual 4.0 Internacional</a>.\n",
    "\n",
    "This work has been financially supported by the Ministry for Digital Transformation and of Civil Service of the Spanish Government through the QUANTUM ENIA project call - Quantum Spain project, and by the European Union through the Recovery, Transformation and Resilience Plan - NextGenerationEU within the framework of the Digital Spain 2026 Agenda.\n",
    "\n",
    "<center>\n",
    "<img align=\"left\" src=\"https://quantumspain-project.es/wp-content/uploads/2024/02/Banner-QS_GOB_v2.png\" width=\"1000px\" />\n",
    "</center>"
   ]
  },
  {
   "cell_type": "markdown",
   "id": "a1b0711f",
   "metadata": {},
   "source": []
  }
 ],
 "metadata": {
  "kernelspec": {
   "display_name": "Python 3 (ipykernel)",
   "language": "python",
   "name": "python3"
  },
  "language_info": {
   "codemirror_mode": {
    "name": "ipython",
    "version": 3
   },
   "file_extension": ".py",
   "mimetype": "text/x-python",
   "name": "python",
   "nbconvert_exporter": "python",
   "pygments_lexer": "ipython3",
   "version": "3.11.7"
  },
  "toc": {
   "base_numbering": 1,
   "nav_menu": {},
   "number_sections": false,
   "sideBar": true,
   "skip_h1_title": true,
   "title_cell": "Table of Contents",
   "title_sidebar": "Contents",
   "toc_cell": false,
   "toc_position": {},
   "toc_section_display": true,
   "toc_window_display": false
  }
 },
 "nbformat": 4,
 "nbformat_minor": 5
}