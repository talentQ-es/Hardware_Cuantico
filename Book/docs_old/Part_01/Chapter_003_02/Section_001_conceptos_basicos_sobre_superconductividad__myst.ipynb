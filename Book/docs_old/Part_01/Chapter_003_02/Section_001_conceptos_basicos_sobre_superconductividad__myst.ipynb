{
 "cells": [
  {
   "cell_type": "markdown",
   "id": "8ddaeb38",
   "metadata": {},
   "source": [
    "> {sub-ref}`today` | {sub-ref}`wordcount-minutes` min read\n",
    "\n",
    "",
    "<a href=\"https://www.talentq.es/es_es/cursos/\">\n",
    "    <button class=\"rounded\" style=\"float: right;\">\n",
    "    <svg xmlns=\"http://www.w3.org/2000/svg\" width=\"32\" height=\"32\" viewBox=\"0 0 24 24\">\n",
    "        <path fill=\"var(--fill, white)\"\n",
    "        d=\"M18.1 15.3c-.1.1-.3.2-.4.3l-2.4.4l1.7 3.6c.2.4 0 .8-.4\n",
    "            1l-2.8 1.3c-.1.1-.2.1-.3.1c-.3 0-.6-.2-.7-.4L11.2\n",
    "            18l-1.9 1.5c-.1.1-.3.2-.5.2c-.4 0-.8-.3-.8-.8V7.5c0-.5.3-.8.8-.8c.2 0\n",
    "            .4.1.5.2l8.7 7.4c.3.2.4.7.1 1M6 12H4V4h16v8h-1.6l2.2 1.9c.8-.3 1.3-1\n",
    "            1.3-1.9V4c0-1.1-.9-2-2-2H4c-1.1 0-2 .9-2 2v8c0 1.1.9 2 2 2h2z\" />\n",
    "    </svg>\n",
    "    Volver a TalentQ\n",
    "    </button>\n",
    "</a>\n",
    "\n",
    "$ \\newcommand{\\bra}[1]{\\langle #1|} $\n",
    "$ \\newcommand{\\ket}[1]{|#1\\rangle} $\n",
    "$ \\newcommand{\\branew}[1]{\\langle #1|} $\n",
    "$ \\newcommand{\\ketnew}[1]{\\langle #1|} $\n",
    "$ \\newcommand{\\braket}[2]{\\langle #1|#2\\rangle} $\n",
    "$ \\newcommand{\\ketbra}[2]{| #1\\rangle \\langle #2 |} $\n",
    "$ \\newcommand{\\i}{{\\color{blue} i}} $ \n",
    "$ \\newcommand{\\Hil}{{\\cal H}} $\n",
    "$ \\newcommand{\\cg}[1]{{\\rm C}#1} $\n",
    "$ \\newcommand{\\lp}{\\left(} $\n",
    "$ \\newcommand{\\rp}{\\right)} $\n",
    "$ \\newcommand{\\lc}{\\left[} $\n",
    "$ \\newcommand{\\rc}{\\right]} $\n",
    "$ \\newcommand{\\lch}{\\left\\{} $\n",
    "$ \\newcommand{\\rch}{\\right\\}} $\n",
    "$ \\newcommand{\\Lp}{\\Bigl(} $\n",
    "$ \\newcommand{\\Rp}{\\Bigr)} $\n",
    "$ \\newcommand{\\Lc}{\\Bigl[} $\n",
    "$ \\newcommand{\\Rc}{\\Bigr]} $\n",
    "$ \\newcommand{\\Lch}{\\Bigl\\{} $\n",
    "$ \\newcommand{\\Rch}{\\Bigr\\}} $\n",
    "$ \\newcommand{\\rqa}{\\quad \\Rightarrow \\quad} $\n",
    "$ \\newcommand{\\bm}{\\boldsymbol}$"
   ]
  },
  {
   "cell_type": "markdown",
   "id": "080fe82e",
   "metadata": {},
   "source": [
    "\n",
    "(sec_scq_conceptos_superconductividad)= \n",
    "# Conceptos básicos sobre Superconductividad. \n"
   ]
  },
  {
   "cell_type": "markdown",
   "id": "080fe82e",
   "metadata": {},
   "source": [
    "## Superconductividad\n"
   ]
  },
  {
   "cell_type": "markdown",
   "id": "080fe82e",
   "metadata": {},
   "source": [
    "A temperaturas que la mayoría de la gente considera \"normales\", todos los materiales (conocidos) presentan cierta resistencia eléctrica. Esto significa muestran una resistencia al flujo de corriente eléctrica. Debido a esta resistencia, parte de la energía se pierde en forma de calor. En la mayoría de los materiales, esta resistencia se mantiene aunque el material se enfríe a temperaturas muy bajas. La excepción son los materiales <b>superconductores</b>.\n"
   ]
  },
  {
   "cell_type": "markdown",
   "id": "080fe82e",
   "metadata": {},
   "source": [
    "En 1911, mientras estudiaban las propiedades de la materia a muy baja temperatura, el físico holandés Heike Kamerlingh Onnes y su equipo descubrieron que la resistencia eléctrica del mercurio llega a cero por debajo de 4,2 K ($\\approx$ -269 °C).  Fue la primera observación del fenómeno de la superconductividad.\n"
   ]
  },
  {
   "cell_type": "markdown",
   "id": "080fe82e",
   "metadata": {},
   "source": [
    "Por debajo de cierta <b>temperatura crítica</b>, ciertos materiales pasan al <b>estado superconductor</b>, caracterizado por dos propiedades básicas: En primer lugar, <b>no ofrecen resistencia al paso de la corriente eléctrica</b>. Cuando la resistencia cae a cero, una corriente puede circular por el interior del material sin disipación de energía. En segundo lugar, siempre que sean suficientemente débiles, <b>los campos magnéticos externos no penetran en el superconductor</b>, sino que permanecen en su superficie. Este fenómeno de expulsión del campo se conoce como <b>efecto Meissner</b>, en honor al físico que lo observó por primera vez en 1933.\n"
   ]
  },
  {
   "cell_type": "markdown",
   "id": "080fe82e",
   "metadata": {},
   "source": [
    "La física convencional no explica adecuadamente el estado superconductor, como tampoco lo hace la teoría cuántica elemental del estado sólido. No fue hasta 1957 cuando tres investigadores estadounidenses (John Bardeen, Leon Cooper y John Schrieffer) establecieron la teoría microscópica de la superconductividad. Según su <b>teoría BCS</b>, los electrones se agrupan en pares mediante la interacción con las vibraciones de la red (los llamados fonones), formando así <b>pares de Cooper</b> que se desplazan por el interior del sólido <b>sin fricción</b>. El sólido puede verse como una red de iones positivos inmersos en una nube de electrones. La energía de la interacción de los electrones es bastante débil y los pares pueden romperse fácilmente por efecto de la energía térmica; por eso la superconductividad suele darse a muy baja temperatura.\n"
   ]
  },
  {
   "cell_type": "markdown",
   "id": "080fe82e",
   "metadata": {},
   "source": [
    "Cuando un electrón atraviesa esta red, los iones se mueven ligeramente atraídos por la carga negativa del electrón. Este movimiento genera una zona eléctricamente positiva que, a su vez, atrae a otro electrón (ver sección  {numref}`%s <sec_scq_descrip_macro_superconductividad>`).\n"
   ]
  },
  {
   "cell_type": "markdown",
   "id": "080fe82e",
   "metadata": {},
   "source": [
    "Sin embargo, la teoría BCS no explica la existencia de superconductores de alta temperatura a partir de 80 K (-193 °C), para los que hay que recurrir a otros mecanismos de acoplamiento de electrones.\n"
   ]
  },
  {
   "cell_type": "markdown",
   "id": "080fe82e",
   "metadata": {},
   "source": [
    "\n",
    "(sec_scq_descrip_macro_superconductividad)= \n",
    "## Descripción cuántica macroscópica de la superconductividad \n"
   ]
  },
  {
   "cell_type": "markdown",
   "id": "080fe82e",
   "metadata": {},
   "source": [
    "La mayoría de las propiedades distintivas de la superconductividad se explican mediante la descripción cuántica macroscópica de la superconductividad. El punto de partida de esta descripción es que todos los electrones superconductores pueden representarse cuánticamente mediante una única función de onda $\\Psi(\\vec{r})$. Aunque la forma exacta de la función de onda procede de la teoría de BCS, la mayor parte de la física de la superconductividad se deduce de la existencia de una función de onda macroscópica, independientemente de la forma exacta de la mima.\n"
   ]
  },
  {
   "cell_type": "markdown",
   "id": "080fe82e",
   "metadata": {},
   "source": [
    "El mecanismo físico de la superconductividad reside en el emparejamiento de las partículas de Fermi para formar un gas de Bose de cuasipartículas emparejadas. El mecanismo de este emparejamiento en los superconductores convencionales es el acoplamiento <b>electrón-fonón</b>.\n"
   ]
  },
  {
   "cell_type": "markdown",
   "id": "080fe82e",
   "metadata": {},
   "source": [
    "A grandes rasgos, la base física de la atracción entre dos electrones a través de la interacción electrón-fonón se ve en siguiente imagen: Un electrón que se desplaza por un conductor atrae las cargas positivas cercanas de la red. Esta deformación de la red hace que otro electrón, con espín opuesto, se desplace a la región de mayor densidad de cargas positivas. Los dos electrones se correlacionan. Como hay muchos pares de electrones de este tipo en un superconductor, estos pares se solapan muy fuertemente y forman un <b>condensado</b> muy colectivo. En este estado \"condensado\", la ruptura de un par cambiará la energía de todo el condensado, no sólo de un electrón o de un par. Por tanto, la energía necesaria para romper un par está relacionada con la energía necesaria para romper todos los pares.\n"
   ]
  },
  {
   "cell_type": "markdown",
   "id": "080fe82e",
   "metadata": {},
   "source": [
    "Dado que el emparejamiento aumenta esta barrera de energía, las vibraciones de los átomos oscilantes en el conductor (que son pequeñas a temperaturas suficientemente bajas) no son suficientes para afectar al condensado en su conjunto, o a cualquier \"par miembro\" individual dentro del condensado. De este modo, los electrones permanecen emparejados y resisten todas las sacudidas, y el flujo de electrones en su conjunto (la corriente a través del superconductor) no experimentará resistencia. Así pues, el comportamiento colectivo del condensado es un ingrediente crucial necesario para la superconductividad. Podemos ver este comportamiento en la Fig.  {numref}`%s <Fig_superconductors_BCS>`\n"
   ]
  },
  {
   "cell_type": "markdown",
   "id": "080fe82e",
   "metadata": {},
   "source": [
    "::::{figure} Figuras/Fig_superconductors_BCS.jpg\n",
    ":width: 1000px\n",
    ":align: center\n",
    ":name: Fig_superconductors_BCS\n",
    "Formación de pares de Cooper\n",
    "::::\n"
   ]
  },
  {
   "cell_type": "markdown",
   "id": "080fe82e",
   "metadata": {},
   "source": [
    "El mecanismo de acoplamiento electrón-fonón para la superconductividad explica por qué los superconductores de mayor temperatura crítica ($T_c$) suelen ser metales con la mayor resistencia en estado normal, ya que el mismo mecanismo que produce la superconductividad (la interacción electrón-fonón) también da lugar a la dispersión de portadores en metales en estado normal. La vinculación experimental del mecanismo de superconductividad con la interacción electrón-fonón se produjo a través de la observación del efecto isótopo, que demostró que para los distintos isótopos del mercurio $T_c \\propto M^{-1/2}$, donde $M$ es la masa iónica de cada isótopo.\n"
   ]
  },
  {
   "cell_type": "markdown",
   "id": "080fe82e",
   "metadata": {},
   "source": [
    "El par de Cooper se forma por la interacción electrón-fonón entre estados con vectores de onda $\\vec{k}$ y $-\\vec{k}$ y con espines opuestos para maximizar la probabilidad de que los electrones estén próximos.\n"
   ]
  },
  {
   "cell_type": "markdown",
   "id": "080fe82e",
   "metadata": {},
   "source": [
    "Ginzburg y Landau observaron que todos los pares de Cooper se encuentran en el mismo estado de dos electrones y, por tanto, una única función de onda compleja puede denotar el <b>parámetro de orden</b> del estado superconductor. Con esta interpretación de $\\Psi(\\vec{r})$ como un parámetro de orden complejo para un par Cooper, entonces $\\Psi(\\vec{r})$ puede escribirse en términos de una amplitud y una fase\n",
    "\\begin{equation}\n",
    "\\Psi(\\vec{r}) = \\| \\Psi(\\vec{r}) e^{i \\theta (\\vec{r})} \\| = \\sqrt{n_s^*} e^{i \\theta (\\vec{r})}\n",
    "\\end{equation}\n",
    "donde no hemos considerado explícitamente la dependencia temporal de $\\Psi(\\vec{r})$. El termino $n_s^*$ se refiere a la densidad de pared de Cooper, que es la mitad de la densidad de electrones superconductores $n_s$. Es decir, $2n_s^* = n_s$, ya que dos electrones con vectores de onda $\\vec{k}$ y $-\\vec{k}$ están unidos en un par de Cooper. Aquí suponemos que la variación espacial significativa de la función de onda es a través de la fase $\\theta (\\vec{r})$, de modo que la densidad de pares de Cooper es esencialmente independiente de la posición y el tiempo. $\\theta (\\vec{r})$ es la <b>fáse del superconductor</b>.\n"
   ]
  },
  {
   "cell_type": "markdown",
   "id": "080fe82e",
   "metadata": {},
   "source": [
    "::::::{admonition} Nota (Parámetro de orden) \n",
    ":class: note\n",
    "\n",
    "\n",
    "\n",
    "Un parámetro de orden es una medida del grado de orden a través de los límites en un sistema de transición de fase; normalmente oscila entre cero en una fase (normalmente por encima del punto crítico) y distinto de cero en la otra. En el punto crítico, la susceptibilidad del parámetro de orden suele divergir.\n",
    "\n",
    "Un ejemplo de parámetro de orden es la magnetización neta en un sistema ferromagnético que experimenta una transición de fase. Para transiciones líquido/gas, el parámetro de orden es la diferencia de las densidades.\n",
    "\n",
    "Algunas transiciones de fase, como la superconductora y la ferromagnética, pueden tener parámetros de orden para más de un grado de libertad. En tales fases, el parámetro de orden puede adoptar la forma de un número complejo, un vector o incluso un tensor, cuya magnitud llega a cero en la transición de fase.\n",
    "::::::\n"
   ]
  },
  {
   "cell_type": "markdown",
   "id": "080fe82e",
   "metadata": {},
   "source": [
    "\n",
    "(sec_scq_Josephson)= \n",
    "## Unión de Josephson (<i>Josephson Junction</i>) \n"
   ]
  },
  {
   "cell_type": "markdown",
   "id": "080fe82e",
   "metadata": {},
   "source": [
    "Cuando dos superconductores están bien separados, son bastante independientes y pueden ser tratados por separado. Cuando entre ellos hay un contacto superconductor sustancial, estos forman un único superconductor: se dice que están <i>fuertemente ligados</i> (<b>strongly linked</b>).\n"
   ]
  },
  {
   "cell_type": "markdown",
   "id": "080fe82e",
   "metadata": {},
   "source": [
    "Sin embargo, tenemos casos intermedios en los que los electrones (pares de Cooper) pueden fluir de un superconductor a otro, pero de forma tan débil que cada superconductor puede ser visto como esencialmente en equilibro estático. Esto sucede, por ejemplo, cuando los superconductores están separados por una fina capa de un óxido el cual puede ser atravesado por los electrones mediante efecto túnel. También puede ser una fina capa de un metal normal o semiconductor, o un pequeño puente de material superconductor. A este tipo de uniones entre superconductores se las denomina <b>uniones Josephson</b> (<b>JJ</b> de sus siglas en inglés), y fueros descubiertas en 1962 por Brian Josephson {cite}`bib_Josephson_1962`.\n"
   ]
  },
  {
   "cell_type": "markdown",
   "id": "080fe82e",
   "metadata": {},
   "source": [
    "### Ecuaciones de Josephson\n"
   ]
  },
  {
   "cell_type": "markdown",
   "id": "080fe82e",
   "metadata": {},
   "source": [
    "Supongamos que conectamos los superconductores a los polos de una batería, de forma que aplicamos una diferencia de potencial $V$ en la unión, supongamos que podemos jugar con la batería para hacer variar esta diferencia de potencial. Es decir, la diferencia de potencial es función del tiempo: $V(t)$ . Es estas situaciones tenemos una corriente entre los dos superconductores que está descrita por las <b>ecuaciones de Josephson</b>\n",
    "```{math}\n",
    ":label: ec_scq_jj \n",
    "\\begin{equation} \n",
    "\\begin{aligned}\n",
    "J &= J_c \\sin \\delta \\\\\n",
    "\\frac{d \\delta}{dt} &= \\frac{2eV(t)}{\\hbar} \\, ,\n",
    "\\end{aligned}\n",
    "\\end{equation} \n",
    "```\n",
    "donde $J$ es la densidad de corriente, $J_c$ es la densidad de corriente crítica, $e$ es la carga del electrón y $\\delta$ es la diferencia de fase entre los dos superconductores $\\delta = \\theta_1 - \\theta_2$.\n"
   ]
  },
  {
   "cell_type": "markdown",
   "id": "080fe82e",
   "metadata": {},
   "source": [
    "::::::{admonition} Nota (modelo simple de Feynman) \n",
    ":class: note\n",
    "\n",
    "\n",
    "\n",
    "Las ecuaciones  {eq}`%s <ec_scq_jj>` pueden derivarse siguiendo un modelo simple del efecto Josephson descrito por Feynman en sus Lectures {cite}`bib_scq_Feynman_lectures`. En concreto, puede encontrase online [aquí](https://www.feynmanlectures.caltech.edu/III_21.html#Ch21-S9) o verse en el capítulo \"Superconductivity: Tunneling\" del libro {cite}`bib_scq_encyclopedia_of_cmp`.\n",
    "::::::\n"
   ]
  },
  {
   "cell_type": "markdown",
   "id": "080fe82e",
   "metadata": {},
   "source": [
    "Suponiendo una densidad de corriente uniforme a través del área $A$ de la unión, la corriente total es $I = AJ$, con lo que\n",
    "```{math}\n",
    ":label: ec_scq_jj_I \n",
    "\\begin{equation} \n",
    "\\boxed{I = I_c \\sin \\delta} \\, .\n",
    "\\end{equation} \n",
    "```\n",
    "donde $I_c$ es la corriente crítica. Además, integrando la segunda ecuación de la Ec.  {eq}`%s <ec_scq_jj>` tenemos\n",
    "\\begin{equation}\n",
    "\\boxed{\\delta(t) = \\delta_0 + \\frac{2e}{\\hbar} \\int V(t)dt} \\,.\n",
    "\\end{equation}\n"
   ]
  },
  {
   "cell_type": "markdown",
   "id": "080fe82e",
   "metadata": {},
   "source": [
    "### Inductancia de la unión Josephson\n"
   ]
  },
  {
   "cell_type": "markdown",
   "id": "080fe82e",
   "metadata": {},
   "source": [
    "En la sección  {numref}`%s <sec_sqc_inductor>` veremos más en detalle que es un <b>inductor</b> y que es la <b>inductancia</b>. Por ahora nos quedamos simplemente con que la unión Josephson se comporta como un <b>inductor no lineal</b> y que la inductancia es un parámetro que describe los inductores. Podemos ver este parámetro en la Ec.  {eq}`%s <ec_sqc_inductor_V_flux>`. Vamos a jugar con las ecuaciones de Josephson para llegar a una expresión de esta forma y calcular así la inductancia.\n"
   ]
  },
  {
   "cell_type": "markdown",
   "id": "080fe82e",
   "metadata": {},
   "source": [
    "Reescribiendo la Ec.  {eq}`%s <ec_scq_jj_I>`\n",
    "\\begin{equation}\n",
    "\\frac{\\partial I }{\\partial \\delta} = I_c \\cos \\delta\n",
    "\\end{equation}\n",
    "Aplicando la regla de la cena y teniendo en cuenta la Ec.  {eq}`%s <ec_scq_jj>`\n",
    "\\begin{equation}\n",
    "\\frac{\\partial I}{\\partial t} = \\frac{\\partial I}{\\partial \\delta} \\frac{\\partial \\delta}{\\partial t} = I_c \\cos \\delta \\cdot \\frac{2e}{\\hbar} V \\,.\n",
    "\\end{equation}\n",
    "Reescribiendo la ecuación anterior llegamos a:\n",
    "\\begin{equation}\n",
    "V = \\frac{\\hbar}{2 e I_c \\cos \\delta}  \\frac{\\partial I}{\\partial t} = L(\\delta) \\frac{\\partial I}{\\partial t}\n",
    "\\rqa\n",
    "\\boxed{L(\\delta) = \\frac{\\hbar}{2 e I_c \\cos \\delta}}\n",
    "\\end{equation}\n",
    "donde se ha tenido en cuenta la Ec.  {eq}`%s <ec_sqc_inductor_V_flux>`.\n"
   ]
  },
  {
   "cell_type": "markdown",
   "id": "080fe82e",
   "metadata": {},
   "source": [
    "### Energía de Josephson\n"
   ]
  },
  {
   "cell_type": "markdown",
   "id": "080fe82e",
   "metadata": {},
   "source": [
    "Basándose en la similitud de la unión Josephson con un inductor no lineal, se puede calcular la energía almacenada en una unión Josephson cuando una supercorriente fluye a través de ella.\n"
   ]
  },
  {
   "cell_type": "markdown",
   "id": "080fe82e",
   "metadata": {},
   "source": [
    "Asumimos que a tiempo $t_1$, la fase de Josephson es $\\delta_1$; A tiempo $t_2$, la fase de Josephson evoluciona a $\\delta_2$. El aumento de energía en la unión es igual al trabajo realizado en la unión:\n",
    "\\begin{equation}\n",
    "\\Delta E\n",
    "= \\int_{t_1}^{t_2} IV \\, dt\n",
    "= \\int_{\\delta_1}^{\\delta_2} I \\frac{\\hbar}{2e} d \\delta^{'}\n",
    "= \\frac{\\hbar}{2e} \\int_{\\delta_1}^{\\delta_2} I_c \\sin \\delta \\cdot d \\delta^{'}\n",
    "= - \\frac{\\hbar}{2e} I_c \\lc \\cos \\delta_2 - \\cos \\delta_1 \\rc\n",
    "\\end{equation}\n",
    "Esto demuestra que el cambio de energía en la unión Josephson depende sólo del estado inicial y final de la unión y no de la trayectoria. Por lo tanto, la energía almacenada en una unión Josephson es una función de estado, que se puede definir como:\n",
    "```{math}\n",
    ":label: ec_sqc_jj_E \n",
    "\\begin{equation} \n",
    "\\boxed{E (\\delta) = \\frac{\\hbar I_c}{2e} \\cos \\delta = - E_J \\cos \\delta }\n",
    "\\end{equation} \n",
    "```\n",
    "donde\n",
    "```{math}\n",
    ":label: ec_sqc_jj_EJ \n",
    "\\begin{equation} \n",
    "E_J = \\left| E(0) \\right| = \\hbar I_c/(2e)\n",
    "\\end{equation} \n",
    "```\n",
    "es un parámetro característico de la unión Josephson, denominado <b>energía Josephson</b>.\n"
   ]
  },
  {
   "cell_type": "markdown",
   "id": "080fe82e",
   "metadata": {},
   "source": [
    "### Algunos efectos Josephson\n"
   ]
  },
  {
   "cell_type": "markdown",
   "id": "080fe82e",
   "metadata": {},
   "source": [
    "Aunque la unión Josephson produce varios efectos, vamos a centrarnos en los dos más simples (pueden verse más en {cite}`bib_scq_Waldram`):\n",
    "\n",
    " \n- <b>Efecto Josephson de Corriente Continua (DC Josephson effect)</b>: Si tenemos $V(t)=0$, entonces\n",
    "    \\begin{equation}\n",
    "    \\delta = \\delta_0 \\rqa I = I_c \\sin \\delta_0\n",
    "    \\end{equation}\n",
    "    Es decir, cuando no hay diferencia de voltaje en la unión tenemos una <b>corriente continua</b> entre $-I_c$ y $I_c$.\n",
    " \n- <b>Efecto Josephson de Corriente Alterna (AC Josephson effect)</b>: Si tenemos $V(t) = V_0$ constante, entonces\n",
    "    \\begin{equation}\n",
    "    \\delta = \\delta_0 + \\frac{2eV_0}{\\hbar} t \\rqa I = I_c \\sin \\lp \\delta_0 + \\frac{2eV_0}{\\hbar} t  \\rp\n",
    "    \\end{equation}\n",
    "    Es decir, al aplicar una diferencia de pontecial constante en la unión, aparece una <b>corriente alterna</b> de frecuencia proporcional a la diferencia de potencial.\n",
    "\n"
   ]
  },
  {
   "cell_type": "markdown",
   "id": "62e589cb",
   "metadata": {},
   "source": [
    "---\n",
    "Autor:\n",
    "\n",
    "David Castaño ([UMA-SCBI](https://www.scbi.uma.es/site/))\n",
    "\n",
    "<img src=\"Figuras/Logo_UMA.jpeg\"  width=\"170px\">\n",
    "\n",
    "\n",
    "---\n",
    "::::{figure} https://quantumspain-project.es/wp-content/uploads/2022/11/Logo_QS_EspanaDigital.png\n",
    ":width: 2000px\n",
    ":align: center\n",
    "::::\n",
    "\n",
    "<center>\n",
    "<a rel=\"license\" href=\"http://creativecommons.org/licenses/by-sa/4.0/\">\n",
    "<img aling=\"left\" alt=\"Licencia Creative Commons\" style=\"border-width:0\" src=\"https://i.creativecommons.org/l/by-sa/4.0/88x31.png\" /></a>\n",
    "</center>\n",
    "\n",
    "License: <a rel=\"license\" href=\"http://creativecommons.org/licenses/by-sa/4.0/\">Licencia Creative Commons Atribución-CompartirIgual 4.0 Internacional</a>.\n",
    "\n",
    "This work has been financially supported by the Ministry for Digital Transformation and of Civil Service of the Spanish Government through the QUANTUM ENIA project call - Quantum Spain project, and by the European Union through the Recovery, Transformation and Resilience Plan - NextGenerationEU within the framework of the Digital Spain 2026 Agenda.\n",
    "\n",
    "<center>\n",
    "<img align=\"left\" src=\"https://quantumspain-project.es/wp-content/uploads/2024/02/Banner-QS_GOB_v2.png\" width=\"1000px\" />\n",
    "</center>"
   ]
  },
  {
   "cell_type": "markdown",
   "id": "a1b0711f",
   "metadata": {},
   "source": []
  }
 ],
 "metadata": {
  "kernelspec": {
   "display_name": "Python 3 (ipykernel)",
   "language": "python",
   "name": "python3"
  },
  "language_info": {
   "codemirror_mode": {
    "name": "ipython",
    "version": 3
   },
   "file_extension": ".py",
   "mimetype": "text/x-python",
   "name": "python",
   "nbconvert_exporter": "python",
   "pygments_lexer": "ipython3",
   "version": "3.11.7"
  },
  "toc": {
   "base_numbering": 1,
   "nav_menu": {},
   "number_sections": false,
   "sideBar": true,
   "skip_h1_title": true,
   "title_cell": "Table of Contents",
   "title_sidebar": "Contents",
   "toc_cell": false,
   "toc_position": {},
   "toc_section_display": true,
   "toc_window_display": false
  }
 },
 "nbformat": 4,
 "nbformat_minor": 5
}
