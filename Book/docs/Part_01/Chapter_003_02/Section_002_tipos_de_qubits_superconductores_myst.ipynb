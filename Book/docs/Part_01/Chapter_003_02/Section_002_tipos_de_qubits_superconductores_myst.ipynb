{
 "cells": [
  {
   "cell_type": "markdown",
   "id": "8ddaeb38",
   "metadata": {},
   "source": [
    "> {sub-ref}`today` | {sub-ref}`wordcount-minutes` min read\n",
    "\n",
    "<img src=\"Figuras/Fig_logo_UMA_scbi.png\" align=center  width=\"2000px\"/>\n",
    "\n",
    "\n",
    "<a href=\"https://www.scbi.uma.es/web/es/computacion-cuantica/\">\n",
    "    <button class=\"rounded\" style=\"float: right;\">\n",
    "    <svg xmlns=\"http://www.w3.org/2000/svg\" width=\"32\" height=\"32\" viewBox=\"0 0 24 24\">\n",
    "        <path fill=\"var(--fill, white)\"\n",
    "        d=\"M18.1 15.3c-.1.1-.3.2-.4.3l-2.4.4l1.7 3.6c.2.4 0 .8-.4\n",
    "            1l-2.8 1.3c-.1.1-.2.1-.3.1c-.3 0-.6-.2-.7-.4L11.2\n",
    "            18l-1.9 1.5c-.1.1-.3.2-.5.2c-.4 0-.8-.3-.8-.8V7.5c0-.5.3-.8.8-.8c.2 0\n",
    "            .4.1.5.2l8.7 7.4c.3.2.4.7.1 1M6 12H4V4h16v8h-1.6l2.2 1.9c.8-.3 1.3-1\n",
    "            1.3-1.9V4c0-1.1-.9-2-2-2H4c-1.1 0-2 .9-2 2v8c0 1.1.9 2 2 2h2z\" />\n",
    "    </svg>\n",
    "    Volver a SCBI - Computación Cuantica\n",
    "    </button>\n",
    "</a>\n",
    "\n",
    "$ \\newcommand{\\bra}[1]{\\langle #1|} $\n",
    "$ \\newcommand{\\ket}[1]{|#1\\rangle} $\n",
    "$ \\newcommand{\\branew}[1]{\\langle #1|} $\n",
    "$ \\newcommand{\\ketnew}[1]{\\langle #1|} $\n",
    "$ \\newcommand{\\braket}[2]{\\langle #1|#2\\rangle} $\n",
    "$ \\newcommand{\\ketbra}[2]{| #1\\rangle \\langle #2 |} $\n",
    "$ \\newcommand{\\i}{{\\color{blue} i}} $ \n",
    "$ \\newcommand{\\Hil}{{\\cal H}} $\n",
    "$ \\newcommand{\\cg}[1]{{\\rm C}#1} $\n",
    "$ \\newcommand{\\lp}{\\left(} $\n",
    "$ \\newcommand{\\rp}{\\right)} $\n",
    "$ \\newcommand{\\lc}{\\left[} $\n",
    "$ \\newcommand{\\rc}{\\right]} $\n",
    "$ \\newcommand{\\lch}{\\left\\{} $\n",
    "$ \\newcommand{\\rch}{\\right\\}} $\n",
    "$ \\newcommand{\\Lp}{\\Bigl(} $\n",
    "$ \\newcommand{\\Rp}{\\Bigr)} $\n",
    "$ \\newcommand{\\Lc}{\\Bigl[} $\n",
    "$ \\newcommand{\\Rc}{\\Bigr]} $\n",
    "$ \\newcommand{\\Lch}{\\Bigl\\{} $\n",
    "$ \\newcommand{\\Rch}{\\Bigr\\}} $\n",
    "$ \\newcommand{\\rqa}{\\quad \\Rightarrow \\quad} $\n",
    "$ \\newcommand{\\bm}{\\boldsymbol}$"
   ]
  },
  {
   "cell_type": "markdown",
   "id": "080fe82e",
   "metadata": {},
   "source": [
    "# Tipos de qubits superconductores\n"
   ]
  },
  {
   "cell_type": "markdown",
   "id": "080fe82e",
   "metadata": {},
   "source": [
    "Veamos ahora a los distintos tipos de qubits superconductores. Estos difieren en la forma de codificar la información cuántica en dos estados distintos. Podemos ver los más importantes en la Fig.  {numref}`%s <Fig_scq_tipos_qubits_superconductores>`\n"
   ]
  },
  {
   "cell_type": "markdown",
   "id": "080fe82e",
   "metadata": {},
   "source": [
    "::::{figure} Figuras/Fig_scq_tipos_qubits_superconductores.png\n",
    ":width: 1000px\n",
    ":align: center\n",
    ":name: Fig_scq_tipos_qubits_superconductores\n",
    "Los distintos tipos de qubits superconductores y los proveedores de la industria relacionados. Figura tomada de {cite}`bib_scq_ezratty2023perspective`.\n",
    "::::\n"
   ]
  },
  {
   "cell_type": "markdown",
   "id": "080fe82e",
   "metadata": {},
   "source": [
    "## Qubits de Carga (Charge Qubits)\n"
   ]
  },
  {
   "cell_type": "markdown",
   "id": "080fe82e",
   "metadata": {},
   "source": [
    "Los <b>qubits de carga</b>, también conocidos como <b>cajas de pares de Cooper</b> (Cooper-pair box), consisten en un circuito superconductor con uniones Josephson, un condensador y una fuente de voltaje. La zona que se forma entre las uniones Josephson y el condensador se denomina <b>isla</b>. Este tipo de circuitos son resonadores LC, donde la unión Josephson hace el efecto de una inductancia <b>no lineal</b>.\n"
   ]
  },
  {
   "cell_type": "markdown",
   "id": "080fe82e",
   "metadata": {},
   "source": [
    "El tipo más simple de esta clase de qubits es el que podemos ver en la Fig.  {numref}`%s <Fig_scq_charge_qubit>`, con una sola unión Josephson.  Este consiste en una pequeña isla superconductora (\"caja\") con $n$ cargas de pares de Cooper en exceso (en relación con algún estado neutro de referencia), conectada mediante una unión Josephson con capacitancia $C_J$ y energía de acoplamiento Josephson $E_J$ a un electrodo superconductor. Una tensión de control $V_g$ se acopla al sistema a través de un condensador de capacitancia $C_g$.\n"
   ]
  },
  {
   "cell_type": "markdown",
   "id": "080fe82e",
   "metadata": {},
   "source": [
    "::::{figure} Figuras/Fig_scq_charge_qubit.png\n",
    ":width: 500px\n",
    ":align: center\n",
    ":name: Fig_scq_charge_qubit\n",
    "Forma simple de un circuito superconductor para generar un qubit de carga\n",
    "::::\n"
   ]
  },
  {
   "cell_type": "markdown",
   "id": "080fe82e",
   "metadata": {},
   "source": [
    "La escala de energía relevante, la energía de carga de un solo electrón $E_C \\equiv e^2/2(C_g+C_J)$, que depende de la capacitancia total de la isla, se encuentra en el rango de un Kelvin o superior, $E_C \\geq 1 K$ (habitualmente se usan las unidades de temperatura para energía). La energía de acoplamiento Josephson $E_J$ es proporcional a la corriente crítica de la unión Josephson. Los valores típicos considerados aquí están en el rango de $100$ mK ($E_c \\gg E_J$).\n"
   ]
  },
  {
   "cell_type": "markdown",
   "id": "080fe82e",
   "metadata": {},
   "source": [
    "Elegimos un material tal que el gap de energía superconductora, $\\Delta$, entre el estado fundamental y los estados excitados con cuasiparticulas sea la mayor energía del problema, mayor incluso que la energía de carga de un solo electrón $E_C$. En este caso, el efecto túnel de cuasipartículas se suprime a bajas temperaturas, y se puede llegar a una situación en la que no se encuentre ninguna excitación de cuasipartículas en la isla. En estas condiciones, sólo los pares de Cooper hacen túnel (coherentemente) en la unión superconductora.\n"
   ]
  },
  {
   "cell_type": "markdown",
   "id": "080fe82e",
   "metadata": {},
   "source": [
    "Es decir, las únicas excitaciones de baja energía son las transiciones entre diferentes estados $\\ket{n}$ (donde $n$ es el número de pares en la isla respecto a un estado neutro de referencia) debido a efecto túnel de pares de Cooper en la unión Josephson.\n"
   ]
  },
  {
   "cell_type": "markdown",
   "id": "080fe82e",
   "metadata": {},
   "source": [
    "La inductancia no lineal de la unión Josephson hace que el resonador LC sea ligeramente anarmónico. Es decir, a diferencia del oscilador armónico cuántico que presenta unos niveles de energía <b>equiespaciados</b>, la presencia de una inductancia no lineal hace que los niveles de energía dejen de estar equiespaciados. Esto permite que podamos coger los dos de menos energía como los estados de nuestro qubit sin miedo a que se nos den transiciones a niveles de energía superiores. Podemos ver esto en la Fig.  {numref}`%s <Fig_scq_LC_energy_levels>`. Explicaremos más en detalle este fenómeno en la sección  {numref}`%s <sec_scq_fisica_de_lo_scq>`.\n"
   ]
  },
  {
   "cell_type": "markdown",
   "id": "080fe82e",
   "metadata": {},
   "source": [
    "::::{figure} Figuras/Fig_scq_LC_energy_levels.jpeg\n",
    ":width: 1000px\n",
    ":align: center\n",
    ":name: Fig_scq_LC_energy_levels\n",
    "Diferencia en los niveles de energía entre un oscilador armónico (circuito LC) y un oscilador anarmónico (circuito con un condensador y una unión Josephson). Figura tomada de {cite}`bib_scq_ezratty2023perspective`\n",
    "::::\n"
   ]
  },
  {
   "cell_type": "markdown",
   "id": "080fe82e",
   "metadata": {},
   "source": [
    "La variante más común es el <b>transmón</b>, por \"transmission line shunted plasma oscillation qubit\", que reduce el efecto del ruido de carga pero con una anarmonicidad más débil. Los transmones son utilizados por IBM, Google, IQM y otros. Hasta la fecha, son los qubits que generan la <b>tasa de error más baja en los qubits superconductores</b>, pero su baja anarmonicidad crea un peaje en las velocidades de puertas y lectura.\n"
   ]
  },
  {
   "cell_type": "markdown",
   "id": "080fe82e",
   "metadata": {},
   "source": [
    "Se dividen en al menos dos categorías: qubits con <b>una sola unión Josephson</b> (transmón de unión simple, utilizado por IBM) o con <b>dos uniones Josephson</b> conectadas en paralelo (<i>spit transmon</i>, utilizado por Google).\n"
   ]
  },
  {
   "cell_type": "markdown",
   "id": "080fe82e",
   "metadata": {},
   "source": [
    "Además, existen muchas variaciones con el coaxmon (OQC) y el unimon (IQM) y el mergemon o transmon de elemento fusionado, en el que la unión Josephson está diseñada para actuar como su propio condensador de derivación paralelo, reduciendo el tamaño del qubit.\n"
   ]
  },
  {
   "cell_type": "markdown",
   "id": "080fe82e",
   "metadata": {},
   "source": [
    "## Qubits de Flujo (Flux Qubits)\n"
   ]
  },
  {
   "cell_type": "markdown",
   "id": "080fe82e",
   "metadata": {},
   "source": [
    "Los estados de los <b>qubits de flujo</b> corresponden a la dirección del flujo de la corriente superconductora en su bucle. Acoplan un condensador, de una a tres uniones Josephson y un superinductor y tienen una gran coherencia y una gran anarmonicidad.\n"
   ]
  },
  {
   "cell_type": "markdown",
   "id": "080fe82e",
   "metadata": {},
   "source": [
    "Para medir el estado de un qubit de este tipo se utiliza un SQUID (dispositivo superconductor de interferencia cuántica) con dos uniones Josephson conectadas en paralelo, un magnetómetro que mide la dirección de la corriente en el qubit y, por tanto, su estado fundamental 0 ó 1.\n"
   ]
  },
  {
   "cell_type": "markdown",
   "id": "080fe82e",
   "metadata": {},
   "source": [
    "Este tipo de qubit superconductor es el adoptado por D-Wave, Rigetti, Alibaba, Bleximo y Atlantic Quantum en el espacio de vendedores de la industria.\n"
   ]
  },
  {
   "cell_type": "markdown",
   "id": "080fe82e",
   "metadata": {},
   "source": [
    "En trabajos recientes, los qubits de fluxonio generaron el mejor $T_1 /T_2$ con $T_1$ superior a 1 ms. Utilizan frecuencias de control normalmente inferiores a 3 GHz, lo que reduce los efectos de pérdida dieléctrica y da lugar a un tiempo de relajación $T_1$ prolongado. Las puertas single-qubit pueden tener un tiempo de aplicación en el rango de 10 ns y niveles de error alrededor de $10^{-4}$. En esta arquitectura, se espera que tanto la interferencia (crosstalk) de lectura como la de control sean pequeñas. Las principales deficiencias de los qubits de flujo son su mala protección frente a la relajación ($T_1$) y el desfase ($T_2$) y la complejidad del circuito para las puertas y la lectura.\n"
   ]
  },
  {
   "cell_type": "markdown",
   "id": "080fe82e",
   "metadata": {},
   "source": [
    "Por último, en el ámbito del annealing cuántico, D-Wave está utilizando SQUIDs controlados por flujo que se acoplan magnéticamente para implementar un proceso de annealing cuántico. La empresa tiene previsto implantar qubits de flujo en un modo basado en puertas, con diseños de chip completamente distintos.\n"
   ]
  },
  {
   "cell_type": "markdown",
   "id": "080fe82e",
   "metadata": {},
   "source": [
    "## Otros tipos de qubits superconductores\n"
   ]
  },
  {
   "cell_type": "markdown",
   "id": "080fe82e",
   "metadata": {},
   "source": [
    "### Qubits de Fase (Phase Qubits)\n"
   ]
  },
  {
   "cell_type": "markdown",
   "id": "080fe82e",
   "metadata": {},
   "source": [
    "Los qubits de fase utilizan uniones Josephson más grandes que en los qubits de carga. Su estado corresponde a dos niveles de energía de corriente en una unión Josephson. Este enfoque fue probado por el NIST en EE.UU., entre otros lugares, pero ningún vendedor comercial parece utilizar este tipo de qubit superconductor. El qubit de fase parece un callejón sin salida.\n"
   ]
  },
  {
   "cell_type": "markdown",
   "id": "080fe82e",
   "metadata": {},
   "source": [
    "### Qubits de espín Andreev (ASQ)\n"
   ]
  },
  {
   "cell_type": "markdown",
   "id": "080fe82e",
   "metadata": {},
   "source": [
    "<b>Andreev Spin Qubits (ASQ)</b> es un qubit de nivel de investigación que se basa en una excitación microscópica localizada del condensado BCS que de forma nativa sólo tiene dos niveles y se basa en un nanocable. No se trata de una excitación colectiva del circuito de bucle superconductor. Dado que manipula los espines de los electrones en relación con un resonador superconductor y utiliza la electrodinámica de circuitos (cQED), se sitúa entre las categorías de qubits de espín superconductores y de silicio.\n"
   ]
  },
  {
   "cell_type": "markdown",
   "id": "080fe82e",
   "metadata": {},
   "source": [
    "### Cat-qubit\n"
   ]
  },
  {
   "cell_type": "markdown",
   "id": "080fe82e",
   "metadata": {},
   "source": [
    "Los <b>cat-qubits</b> son qubits basados en cavidades conectados a un qubit transmón que se utiliza únicamente para su preparación, lectura y/o corrección, dependiendo de la implementación.\n"
   ]
  },
  {
   "cell_type": "markdown",
   "id": "080fe82e",
   "metadata": {},
   "source": [
    "### Qubits Bosónicos\n"
   ]
  },
  {
   "cell_type": "markdown",
   "id": "080fe82e",
   "metadata": {},
   "source": [
    "Los <b>qubits bosónicos</b> son una amplia categoría de qubits resistentes al ruido o que generan menos ruido y permiten ensamblar qubits lógicos con muchos menos qubits físicos, en el rango de 10-100 en lugar de 1000-10.000. Contiene cat-qubits y códigos GKP.\n"
   ]
  },
  {
   "cell_type": "markdown",
   "id": "080fe82e",
   "metadata": {},
   "source": [
    "El enfoque cat-qubits es el elegido por Alice{\\&}Bob (Francia), Amazon (EE.UU.) y QCI (EE.UU.), mientras que Nord Quantique (Canadá) parece utilizar otra clase de código bosónico.\n"
   ]
  },
  {
   "cell_type": "markdown",
   "id": "8534e04c",
   "metadata": {},
   "source": [
    "::::{figure} https://quantumspain-project.es/wp-content/uploads/2022/11/Logo_QS_EspanaDigital.png\n",
    ":width: 2000px\n",
    ":align: center\n",
    "::::\n",
    "\n",
    "<center>\n",
    "<img align=\"left\" src=\"https://quantumspain-project.es/wp-content/uploads/2024/02/Banner-QS_GOB_v2.png\" width=\"1000px\" />\n",
    "</center>"
   ]
  }
 ],
 "metadata": {
  "kernelspec": {
   "display_name": "Python 3 (ipykernel)",
   "language": "python",
   "name": "python3"
  },
  "language_info": {
   "codemirror_mode": {
    "name": "ipython",
    "version": 3
   },
   "file_extension": ".py",
   "mimetype": "text/x-python",
   "name": "python",
   "nbconvert_exporter": "python",
   "pygments_lexer": "ipython3",
   "version": "3.11.7"
  },
  "toc": {
   "base_numbering": 1,
   "nav_menu": {},
   "number_sections": false,
   "sideBar": true,
   "skip_h1_title": true,
   "title_cell": "Table of Contents",
   "title_sidebar": "Contents",
   "toc_cell": false,
   "toc_position": {},
   "toc_section_display": true,
   "toc_window_display": false
  }
 },
 "nbformat": 4,
 "nbformat_minor": 5
}
