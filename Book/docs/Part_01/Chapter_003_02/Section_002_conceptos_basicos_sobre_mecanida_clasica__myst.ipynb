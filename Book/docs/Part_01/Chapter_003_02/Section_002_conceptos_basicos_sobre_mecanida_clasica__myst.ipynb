{
 "cells": [
  {
   "cell_type": "markdown",
   "id": "8ddaeb38",
   "metadata": {},
   "source": [
    "> {sub-ref}`today` | {sub-ref}`wordcount-minutes` min read\n",
    "\n",
    "",
    "<a href=\"https://www.talentq.es/es_es/cursos/\">\n",
    "    <button class=\"rounded\" style=\"float: right;\">\n",
    "    <svg xmlns=\"http://www.w3.org/2000/svg\" width=\"32\" height=\"32\" viewBox=\"0 0 24 24\">\n",
    "        <path fill=\"var(--fill, white)\"\n",
    "        d=\"M18.1 15.3c-.1.1-.3.2-.4.3l-2.4.4l1.7 3.6c.2.4 0 .8-.4\n",
    "            1l-2.8 1.3c-.1.1-.2.1-.3.1c-.3 0-.6-.2-.7-.4L11.2\n",
    "            18l-1.9 1.5c-.1.1-.3.2-.5.2c-.4 0-.8-.3-.8-.8V7.5c0-.5.3-.8.8-.8c.2 0\n",
    "            .4.1.5.2l8.7 7.4c.3.2.4.7.1 1M6 12H4V4h16v8h-1.6l2.2 1.9c.8-.3 1.3-1\n",
    "            1.3-1.9V4c0-1.1-.9-2-2-2H4c-1.1 0-2 .9-2 2v8c0 1.1.9 2 2 2h2z\" />\n",
    "    </svg>\n",
    "    Volver a TalentQ\n",
    "    </button>\n",
    "</a>\n",
    "\n",
    "$ \\newcommand{\\bra}[1]{\\langle #1|} $\n",
    "$ \\newcommand{\\ket}[1]{|#1\\rangle} $\n",
    "$ \\newcommand{\\branew}[1]{\\langle #1|} $\n",
    "$ \\newcommand{\\ketnew}[1]{\\langle #1|} $\n",
    "$ \\newcommand{\\braket}[2]{\\langle #1|#2\\rangle} $\n",
    "$ \\newcommand{\\ketbra}[2]{| #1\\rangle \\langle #2 |} $\n",
    "$ \\newcommand{\\i}{{\\color{blue} i}} $ \n",
    "$ \\newcommand{\\Hil}{{\\cal H}} $\n",
    "$ \\newcommand{\\cg}[1]{{\\rm C}#1} $\n",
    "$ \\newcommand{\\lp}{\\left(} $\n",
    "$ \\newcommand{\\rp}{\\right)} $\n",
    "$ \\newcommand{\\lc}{\\left[} $\n",
    "$ \\newcommand{\\rc}{\\right]} $\n",
    "$ \\newcommand{\\lch}{\\left\\{} $\n",
    "$ \\newcommand{\\rch}{\\right\\}} $\n",
    "$ \\newcommand{\\Lp}{\\Bigl(} $\n",
    "$ \\newcommand{\\Rp}{\\Bigr)} $\n",
    "$ \\newcommand{\\Lc}{\\Bigl[} $\n",
    "$ \\newcommand{\\Rc}{\\Bigr]} $\n",
    "$ \\newcommand{\\Lch}{\\Bigl\\{} $\n",
    "$ \\newcommand{\\Rch}{\\Bigr\\}} $\n",
    "$ \\newcommand{\\rqa}{\\quad \\Rightarrow \\quad} $\n",
    "$ \\newcommand{\\bm}{\\boldsymbol}$"
   ]
  },
  {
   "cell_type": "markdown",
   "id": "080fe82e",
   "metadata": {},
   "source": [
    "\n",
    "(sec_scq_conceptos_mecanica)= \n",
    "# Conceptos básicos sobre Mecánida Clásica \n"
   ]
  },
  {
   "cell_type": "markdown",
   "id": "080fe82e",
   "metadata": {},
   "source": [
    "En esta sección vamos a ver de forma resumida que son los formalismos Lagrangiano y Hamiltoniano, pues los vamos a usar en la sección  {numref}`%s <sec_sub_scq_qho>` para describir el circuito LC. Estos formalismo no son más que reformulaciones de la mecánica clásica (la mecánica Newtoniana). Es decir, no contienen física \"nueva\" respecto a la mecánica newtoniana, sino que son enfoques diferentes para abordar el mismo problema: obtener la ecuaciones de movimiento, las que rigen la dinámica del sistema.\n"
   ]
  },
  {
   "cell_type": "markdown",
   "id": "080fe82e",
   "metadata": {},
   "source": [
    "## Formalismo Lagrangiano\n"
   ]
  },
  {
   "cell_type": "markdown",
   "id": "080fe82e",
   "metadata": {},
   "source": [
    "Como es bien conocido, la mecánica clásica se fundamenta en las leyes de Newton y en el concepto de <b>fuerzas</b>. Esto se ve en la famosa ecuación de Newton\n",
    "\\begin{equation}\n",
    "\\sum \\vec{F} = m \\vec{a} \\,.\n",
    "\\end{equation}\n",
    "Si conocemos todas las fuerzas que actúan sobre un sistema, podemos integrar esta ecuación y llegar a las ecuaciones del movimiento. Es decir, una vez conocidas las fuerzas, la ecuación de Newton contiene toda la dinámica del sistema.\n"
   ]
  },
  {
   "cell_type": "markdown",
   "id": "080fe82e",
   "metadata": {},
   "source": [
    "El problema de este formalismo newtoniano es que, pese a que funciona bien en una gran variedad de problemas, en muchos otros se vuelve una pesadilla. No siempre podemos conocer con precisión las fuerzas que actuan sobre el sistema y no siempre es fácil integrar la ecuación.\n"
   ]
  },
  {
   "cell_type": "markdown",
   "id": "080fe82e",
   "metadata": {},
   "source": [
    "El formalismo Lagrangiano nace en la segunda mitad del siglo XVIII como una reformulación de la mecánica newtoniana. Es decir, como una forma diferente abordar los problemas para llegar al mismo punto: obtener las ecuaciones del movimiento.\n"
   ]
  },
  {
   "cell_type": "markdown",
   "id": "080fe82e",
   "metadata": {},
   "source": [
    "En lugar de fuerzas, la mecánica lagrangiana utiliza las <b>energías</b> del sistema. La magnitud central de la mecánica lagrangiana es el <b>Lagrangiano</b>, una función escalar que engloba toda la dinámica del sistema. El Lagrangiano es una función que depende de unas <b>coordenadas generalizadas</b> $\\vec{q}(t)$ y unas <b>velocidades generalizadas</b> $\\dot{\\vec{q}}(t)$:\n",
    "\\begin{equation}\n",
    "\\vec{q}(t) = (q_1(t), q_2(t), \\dots, q_n(t))\n",
    "\\end{equation}\n",
    "\\begin{equation}\n",
    "\\dot{\\vec{q}}(t) = (\\dot{q_1}(t), \\dot{q_2}(t), \\dots, \\dot{q_n}(t)), \\qquad \\text{ donde } \\dot{q_i}(t) = \\frac{d q_i}{dt}\n",
    "\\end{equation}\n"
   ]
  },
  {
   "cell_type": "markdown",
   "id": "080fe82e",
   "metadata": {},
   "source": [
    "Es decir,\n",
    "\\begin{equation}\n",
    "L= L(\\vec{q},\\,  \\dot{\\vec{q}}, t)\n",
    "\\end{equation}\n",
    "donde a su vez, $\\vec{q}$ y $\\dot{\\vec{q}}$ dependen también de $t$.\n"
   ]
  },
  {
   "cell_type": "markdown",
   "id": "080fe82e",
   "metadata": {},
   "source": [
    "::::::{admonition} Nota (Coordenadas generalizadas) \n",
    ":class: note\n",
    "\n",
    "\n",
    "\n",
    "El ejemplo más típico de coordenadas generalizadas son las posiciones y velocidades. En tres dimensiones serían:\n",
    "\\begin{equation}\n",
    "\\vec{q}(t)  \\quad \\rightarrow \\quad \\vec{r}(t) = (x(t), y(t), z(t))\n",
    "\\end{equation}\n",
    "\\begin{equation}\n",
    "\\dot{\\vec{q}}(t) \\quad \\rightarrow \\quad \\vec{v}(t) = (v_x(t), v_y(t), v_z(t))  \\qquad \\text{ donde } v_i(t) = \\frac{d x_i}{dt}\n",
    "\\end{equation}\n",
    "\n",
    "Por supuesto, si las llamamos \"generalizadas\" es porque no siempre vas a ser posiciones y velocidades al uso, sino que pueden ser otras variables, pero deben cumplir que las \"velocidades\" sean derivadas de las \"posiciones\".\n",
    "::::::\n"
   ]
  },
  {
   "cell_type": "markdown",
   "id": "080fe82e",
   "metadata": {},
   "source": [
    "En algunos sistemas, el Lagrangiano cumple\n",
    "```{math}\n",
    ":label: ec_sqc_FLagrangiano_L_T_V \n",
    "\\begin{equation} \n",
    "L = E_c - E_v = T - V\n",
    "\\end{equation} \n",
    "```\n",
    "donde $T=E_c$  es la <b>energía cinética</b> y $V=E_v$ es la <b>energía potencial</b>.\n"
   ]
  },
  {
   "cell_type": "markdown",
   "id": "080fe82e",
   "metadata": {},
   "source": [
    "Una vez se tiene el Lagrangiano del sistema, las ecuaciones del movimiento se pueden obtener mediante la <b>ecuación de Euler-Lagrange</b>\n",
    "```{math}\n",
    ":label: ec_sqc_ec_euler_lagrange \n",
    "\\begin{equation} \n",
    "\\frac{\\partial L }{\\partial q_i} -\\frac{d}{dt} \\lp \\frac{\\partial L }{\\partial \\dot{q}_i} \\rp = 0\n",
    "\\end{equation} \n",
    "```\n"
   ]
  },
  {
   "cell_type": "markdown",
   "id": "080fe82e",
   "metadata": {},
   "source": [
    "## Formalismo Hamiltoniano\n"
   ]
  },
  {
   "cell_type": "markdown",
   "id": "080fe82e",
   "metadata": {},
   "source": [
    "El formalismo Hamiltoniano nace en la primera mitad del siglo XIX como otra reformulación de la mecánica lagrangiana.  En el formalismo Hamiltoniano se reemplazan las velocidades generalizadas $\\dot{\\vec{q}}$ por los <b>momentos generalizados</b> (también llamados <b>momentos conjugados</b> y los <b>momentos canónicos</b>), definidos como\n",
    "```{math}\n",
    ":label: ec_sqc_FHamiltoniano_p \n",
    "\\begin{equation} \n",
    "p (\\vec{q},\\,  \\dot{\\vec{q}}, t) = \\frac{\\partial L}{\\partial \\dot{q}_i}\n",
    "\\end{equation} \n",
    "```\n"
   ]
  },
  {
   "cell_type": "markdown",
   "id": "080fe82e",
   "metadata": {},
   "source": [
    "Se define ahora una nueva función, el <b>Hamiltoniano</b>, como la <b>transformada de Legendre</b> del Lagrangiano\n",
    "```{math}\n",
    ":label: ec_sqc_FHamiltoniano_Legendre \n",
    "\\begin{equation} \n",
    "H(\\vec{p}, \\vec{q}, t) = \\sum_{i=1}^n \\dot{q}_i \\frac{\\partial L}{\\partial \\dot{q}_i} - L(\\vec{q}, \\dot{\\vec{q}}, t) =\n",
    "\\sum_{i=1}^n \\dot{q}_i p_i - L(\\vec{q}, \\dot{\\vec{q}}, t)\n",
    "\\end{equation} \n",
    "```\n"
   ]
  },
  {
   "cell_type": "markdown",
   "id": "080fe82e",
   "metadata": {},
   "source": [
    "El par (2n-dimensional) $(\\vec{p},\\vec{q})$ se denomina coordenadas del <b>espacio de fase</b> o <b>coordenadas canónicas</b>. En estas coordenadas, la ecuación de Euler-Lagrange (Ec.  {eq}`%s <ec_sqc_ec_euler_lagrange>`) se convierte en las <b>ecuaciones de Hamilton</b>\n",
    "```{math}\n",
    ":label: ec_sqc_FHamiltoniano_ec_Hamil \n",
    "\\begin{equation} \n",
    "\\frac{d q_i}{dt} = \\frac{\\partial H}{\\partial p_i}, \\qquad\n",
    "\\frac{d p_i}{dt} = - \\frac{\\partial H}{\\partial q_i}\n",
    "\\end{equation} \n",
    "```\n",
    "La gran diferencia aquí es que la Mecánica Lagrangia las ecuaciones del movimiento son ecuaciones diferenciales de <b>segundo orden</b>, mientras que en la Mecánica Hamiltoniana son de <b>primer orden</b>.\n"
   ]
  },
  {
   "cell_type": "markdown",
   "id": "080fe82e",
   "metadata": {},
   "source": [
    "En algunos sistemas, el Hamiltoniano cumple:\n",
    "```{math}\n",
    ":label: ec_sqc_oscilador_H_T_V \n",
    "\\begin{equation} \n",
    "H = T + V\\, ,\n",
    "\\end{equation} \n",
    "```\n",
    "es decir, es igual a la energía del sistema.\n"
   ]
  },
  {
   "cell_type": "markdown",
   "id": "080fe82e",
   "metadata": {},
   "source": [
    "## El Oscilador Armónico\n"
   ]
  },
  {
   "cell_type": "markdown",
   "id": "080fe82e",
   "metadata": {},
   "source": [
    "En mecánica clásica, un oscilador harmónico es un sistema que, cuando se desplaza de su posición de equilibrio, experimenta una fuerza restauradora $\\vec{F}$ proporcional al desplazamiento $\\vec{x}$:\n",
    "\\begin{equation}\n",
    "\\vec{F} = -k \\vec{x}\n",
    "\\end{equation}\n",
    "donde $k$ es una constante positiva.\n"
   ]
  },
  {
   "cell_type": "markdown",
   "id": "080fe82e",
   "metadata": {},
   "source": [
    "Si $\\vec{F}$ es la única fuerza que actúa sobre el sistema, éste se denomina <b>oscilador armónico simple</b> y experimenta un movimiento armónico simple: oscilaciones sinusoidales alrededor del punto de equilibrio, con una amplitud constante y una frecuencia constante (que no depende de la amplitud). Si además existe una fuerza de fricción (amortiguación) proporcional a la velocidad, el oscilador armónico se describe como <b>oscilador amortiguado</b>.\n"
   ]
  },
  {
   "cell_type": "markdown",
   "id": "080fe82e",
   "metadata": {},
   "source": [
    "Para un oscilador armónico simple en una dimensión, el Hamiltoniano es de la forma, la energía cinética y la potencial son de la forma:\n",
    "```{math}\n",
    ":label: ec_sqc_oscilador_T_V \n",
    "\\begin{equation} \n",
    "E_c = T_{HO} = \\frac{1}{2} m v^2 = \\frac{1}{2} m \\dot{x}^2\n",
    "\\qquad , \\qquad\n",
    "E_p = V_{HO} = \\frac{1}{2} k x^2\n",
    "\\end{equation} \n",
    "```\n",
    "donde $x$ es la posición y $v = dx/dt = \\dot{x}$ es la velocidad. Teniendo en cuenta la Ec.\n",
    " {eq}`%s <ec_sqc_FLagrangiano_L_T_V>`, el Lagrangiano es de la forma:\n",
    "```{math}\n",
    ":label: ec_sqc_oscilador_L \n",
    "\\begin{equation} \n",
    "L_{HO} = \\frac{1}{2} m \\dot{x}^2 - \\frac{1}{2} k x^2\n",
    "\\end{equation} \n",
    "```\n"
   ]
  },
  {
   "cell_type": "markdown",
   "id": "080fe82e",
   "metadata": {},
   "source": [
    "Para calcular el Hamiltoniano, calculemos primero el momento  {eq}`%s <ec_sqc_FHamiltoniano_p>`:\n",
    "```{math}\n",
    ":label: ec_sqc_oscialdor_p \n",
    "\\begin{equation} \n",
    "p = \\frac{\\partial L}{\\partial \\dot{x}} = m \\dot{x}\n",
    "\\end{equation} \n",
    "```\n",
    "Tenemos pues que el Hamiltoniano es  {eq}`%s <ec_sqc_FHamiltoniano_Legendre>`\n",
    "```{math}\n",
    ":label: ec_sqc_oscilador_H \n",
    "\\begin{equation} \n",
    "H_{HO} = p - L = \\frac{1}{2m} p^2 + \\frac{1}{2} k x^2\n",
    "\\end{equation} \n",
    "```\n",
    "Ejemplos de osciladores armónicos simples serían, por ejemplo, un muelle con una masa o un péndulo.\n"
   ]
  },
  {
   "cell_type": "markdown",
   "id": "080fe82e",
   "metadata": {},
   "source": [
    "La frecuencia del oscilador armónico sería:\n",
    "```{math}\n",
    ":label: ec_sqc_oscilador_omega \n",
    "\\begin{equation} \n",
    "\\omega = \\sqrt{\\frac{k}{m}}\n",
    "\\end{equation} \n",
    "```\n"
   ]
  },
  {
   "cell_type": "markdown",
   "id": "080fe82e",
   "metadata": {},
   "source": [
    "::::{figure} Figuras/Fig_HarmOsc1.png\n",
    ":width: 500px\n",
    ":align: center\n",
    ":name: Fig_HarmOsc1\n",
    "Ejemplo de oscilador armónico simple: un muelle con una masa\n",
    "::::\n"
   ]
  },
  {
   "cell_type": "markdown",
   "id": "080fe82e",
   "metadata": {},
   "source": [
    "## Formulación de las ecuaciones de Hamilton con Corchetes de Poisson\n"
   ]
  },
  {
   "cell_type": "markdown",
   "id": "080fe82e",
   "metadata": {},
   "source": [
    "En las coordenadas canónicas $(q_i,p_i)$ en espacio de fase, dadas dos funciones $f(\\vec{p}, \\vec{q}, t)$ y $g(\\vec{p}, \\vec{q},t)$, el <b>corchete de Poisson</b> toma la forma\n",
    "\\begin{equation}\n",
    "\\lch f, g \\rch = \\sum_{i=1}^{N} \\lp \\frac{\\partial f}{\\partial q_i} \\frac{\\partial g}{\\partial p_i} - \\frac{\\partial f}{\\partial p_i} \\frac{\\partial g}{\\partial g_i}   \\rp \\, .\n",
    "\\end{equation}\n",
    "Puede verse que los corchetes de Poisson de las coordenadas generalizadas consigo mismas son:\n",
    "```{math}\n",
    ":label: ec_sqc_Poisson_corchetes_coordenadas \n",
    "\\begin{equation} \n",
    "\\begin{aligned}\n",
    "\\lch q_k, q_l \\rch = 0\\,, \\\\\n",
    "\\lch p_k, p_l \\rch = 0\\,, \\\\\n",
    "\\lch q_k, p_l \\rch = \\delta_{kl} \\,.\n",
    "\\end{aligned}\n",
    "\\end{equation} \n",
    "```\n",
    "donde $\\delta_{kl}$ es la delta de Kronecker.\n"
   ]
  },
  {
   "cell_type": "markdown",
   "id": "080fe82e",
   "metadata": {},
   "source": [
    "Los corchetes de Poisson se introducen en la mecánica clásica debido a la forma extraordinariamente sencilla que adoptan las ecuaciones de Hamilton (Ec.  {eq}`%s <ec_sqc_FHamiltoniano_ec_Hamil>`) cuando se expresan en términos de ellos,\n",
    "```{math}\n",
    ":label: ec_sqc_Poisson_Hamilton_ec \n",
    "\\begin{equation} \n",
    "\\frac{d q_i}{dt} = \\frac{\\partial H}{\\partial p_i} = \\lch q_i, H \\rch , \\qquad\n",
    "\\frac{d p_i}{dt} = - \\frac{\\partial H}{\\partial q_i} = \\lch p_i, H \\rch\n",
    "\\end{equation} \n",
    "```\n"
   ]
  },
  {
   "cell_type": "markdown",
   "id": "080fe82e",
   "metadata": {},
   "source": [
    "El desarrollo temporal de una variable dinámica arbitraria también puede escribirse simplemente en términos de corchetes de Poisson.  A partir de la regla de la cadena multivariable,\n",
    "\\begin{equation}\n",
    "\\frac{d}{dt} f(\\vec{p}, \\vec{q},t) =\n",
    "\\frac{\\partial f}{\\partial q} \\frac{d q}{d t} +\n",
    "\\frac{\\partial f}{\\partial p} \\frac{d p}{d t} +\n",
    "\\frac{\\partial f}{\\partial t}\n",
    "\\end{equation}\n",
    "Teniendo en cuenta las ecuaciones de Hamilton de la Ec.  {eq}`%s <ec_sqc_FHamiltoniano_ec_Hamil>`, llegamos a:\n",
    "```{math}\n",
    ":label: ec_sqc_poisson_df \n",
    "\\begin{equation} \n",
    "\\frac{d}{dt} f(\\vec{p}, \\vec{q},t)  =\n",
    "\\frac{\\partial f}{\\partial q} \\frac{\\partial H}{\\partial p} +\n",
    "\\frac{\\partial f}{\\partial p} \\frac{\\partial H}{\\partial q} +\n",
    "\\frac{\\partial f}{\\partial t}\n",
    "\\rqa\n",
    "\\frac{d}{dt} f(\\vec{p}, \\vec{q},t)  = \\lch f, H \\rch + \\frac{\\partial f}{\\partial t}\n",
    "\\end{equation} \n",
    "```\n"
   ]
  },
  {
   "cell_type": "markdown",
   "id": "62e589cb",
   "metadata": {},
   "source": [
    "---\n",
    "Autor:\n",
    "\n",
    "David Castaño ([UMA-SCBI](https://www.scbi.uma.es/site/))\n",
    "\n",
    "<img src=\"Figuras/Logo_UMA.jpeg\"  width=\"170px\">\n",
    "\n",
    "\n",
    "---\n",
    "::::{figure} https://quantumspain-project.es/wp-content/uploads/2022/11/Logo_QS_EspanaDigital.png\n",
    ":width: 2000px\n",
    ":align: center\n",
    "::::\n",
    "\n",
    "<center>\n",
    "<a rel=\"license\" href=\"http://creativecommons.org/licenses/by-sa/4.0/\">\n",
    "<img aling=\"left\" alt=\"Licencia Creative Commons\" style=\"border-width:0\" src=\"https://i.creativecommons.org/l/by-sa/4.0/88x31.png\" /></a>\n",
    "</center>\n",
    "\n",
    "License: <a rel=\"license\" href=\"http://creativecommons.org/licenses/by-sa/4.0/\">Licencia Creative Commons Atribución-CompartirIgual 4.0 Internacional</a>.\n",
    "\n",
    "This work has been financially supported by the Ministry for Digital Transformation and of Civil Service of the Spanish Government through the QUANTUM ENIA project call - Quantum Spain project, and by the European Union through the Recovery, Transformation and Resilience Plan - NextGenerationEU within the framework of the Digital Spain 2026 Agenda.\n",
    "\n",
    "<center>\n",
    "<img align=\"left\" src=\"https://quantumspain-project.es/wp-content/uploads/2024/02/Banner-QS_GOB_v2.png\" width=\"1000px\" />\n",
    "</center>"
   ]
  },
  {
   "cell_type": "markdown",
   "id": "a1b0711f",
   "metadata": {},
   "source": []
  }
 ],
 "metadata": {
  "kernelspec": {
   "display_name": "Python 3 (ipykernel)",
   "language": "python",
   "name": "python3"
  },
  "language_info": {
   "codemirror_mode": {
    "name": "ipython",
    "version": 3
   },
   "file_extension": ".py",
   "mimetype": "text/x-python",
   "name": "python",
   "nbconvert_exporter": "python",
   "pygments_lexer": "ipython3",
   "version": "3.11.7"
  },
  "toc": {
   "base_numbering": 1,
   "nav_menu": {},
   "number_sections": false,
   "sideBar": true,
   "skip_h1_title": true,
   "title_cell": "Table of Contents",
   "title_sidebar": "Contents",
   "toc_cell": false,
   "toc_position": {},
   "toc_section_display": true,
   "toc_window_display": false
  }
 },
 "nbformat": 4,
 "nbformat_minor": 5
}
