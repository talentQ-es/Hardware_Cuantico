{
 "cells": [
  {
   "cell_type": "markdown",
   "id": "8ddaeb38",
   "metadata": {},
   "source": [
    "",
    "<a href=\"https://www.talentq.es/es_es/cursos/\">\n",
    "    <button class=\"rounded\" style=\"float: right;\">\n",
    "    <svg xmlns=\"http://www.w3.org/2000/svg\" width=\"32\" height=\"32\" viewBox=\"0 0 24 24\">\n",
    "        <path fill=\"var(--fill, white)\"\n",
    "        d=\"M18.1 15.3c-.1.1-.3.2-.4.3l-2.4.4l1.7 3.6c.2.4 0 .8-.4\n",
    "            1l-2.8 1.3c-.1.1-.2.1-.3.1c-.3 0-.6-.2-.7-.4L11.2\n",
    "            18l-1.9 1.5c-.1.1-.3.2-.5.2c-.4 0-.8-.3-.8-.8V7.5c0-.5.3-.8.8-.8c.2 0\n",
    "            .4.1.5.2l8.7 7.4c.3.2.4.7.1 1M6 12H4V4h16v8h-1.6l2.2 1.9c.8-.3 1.3-1\n",
    "            1.3-1.9V4c0-1.1-.9-2-2-2H4c-1.1 0-2 .9-2 2v8c0 1.1.9 2 2 2h2z\" />\n",
    "    </svg>\n",
    "    Volver a TalentQ\n",
    "    </button>\n",
    "</a>\n",
    "\n",
    "$ \\newcommand{\\bra}[1]{\\langle #1|} $\n",
    "$ \\newcommand{\\ket}[1]{|#1\\rangle} $\n",
    "$ \\newcommand{\\branew}[1]{\\langle #1|} $\n",
    "$ \\newcommand{\\ketnew}[1]{\\langle #1|} $\n",
    "$ \\newcommand{\\braket}[2]{\\langle #1|#2\\rangle} $\n",
    "$ \\newcommand{\\ketbra}[2]{| #1\\rangle \\langle #2 |} $\n",
    "$ \\newcommand{\\i}{{\\color{blue} i}} $ \n",
    "$ \\newcommand{\\Hil}{{\\cal H}} $\n",
    "$ \\newcommand{\\cg}[1]{{\\rm C}#1} $\n",
    "$ \\newcommand{\\lp}{\\left(} $\n",
    "$ \\newcommand{\\rp}{\\right)} $\n",
    "$ \\newcommand{\\lc}{\\left[} $\n",
    "$ \\newcommand{\\rc}{\\right]} $\n",
    "$ \\newcommand{\\lch}{\\left\\{} $\n",
    "$ \\newcommand{\\rch}{\\right\\}} $\n",
    "$ \\newcommand{\\Lp}{\\Bigl(} $\n",
    "$ \\newcommand{\\Rp}{\\Bigr)} $\n",
    "$ \\newcommand{\\Lc}{\\Bigl[} $\n",
    "$ \\newcommand{\\Rc}{\\Bigr]} $\n",
    "$ \\newcommand{\\Lch}{\\Bigl\\{} $\n",
    "$ \\newcommand{\\Rch}{\\Bigr\\}} $\n",
    "$ \\newcommand{\\rqa}{\\quad \\Rightarrow \\quad} $\n",
    "$ \\newcommand{\\bm}{\\boldsymbol}$"
   ]
  },
  {
   "cell_type": "markdown",
   "id": "080fe82e",
   "metadata": {},
   "source": [
    "\n",
    "<a id='sec_scq_conceptos_cuantizacion'></a>\n",
    "# Conceptos básicos sobre cuantización \n"
   ]
  },
  {
   "cell_type": "markdown",
   "id": "080fe82e",
   "metadata": {},
   "source": [
    "## Lagrangiano y Hamiltonianos en la Mecánica Cuántica\n"
   ]
  },
  {
   "cell_type": "markdown",
   "id": "080fe82e",
   "metadata": {},
   "source": [
    "Se pueden escribir ríos de tinta hablando de la importancia de los formalismos Lagrangiano y Hamiltoniano en la física. Pese a haber nacido en el seno de la mecánica clásica, la generalidad de los mismos ha hecho que se empleen en todos los campos de la física teórica, incluida la Mecánica Cuántica y su variante más avanzada, las Teorías Cuánticas de Campos.\n"
   ]
  },
  {
   "cell_type": "markdown",
   "id": "080fe82e",
   "metadata": {},
   "source": [
    "Quizás uno de los Lagrangianos cuánticos más conocidos es el del Modelo Estándar de Física de Partículas (ver Fig.  {numref}`%s <Fig_sqc_taza_Modelo_Estandar>`), la Teoría Cuántica de Campos más grande que se ha construido hasta el momento. Esta teoría, que gracias al formalismo lagragiano podemos resumir en poco más de una linea, tiene tras de sí miles de folios de cálculos para llegar a predicciones medibles en laboratorio a partir de este Lagrangiano.\n"
   ]
  },
  {
   "cell_type": "markdown",
   "id": "080fe82e",
   "metadata": {},
   "source": [
    "<figure><center>\n",
    "<img src=\"Figuras/Fig_sqc_taza_Modelo_Estandar.png\" alt=\"\" align=center width='600px'/>\n",
    "<a id='Fig_sqc_taza_Modelo_Estandar'></a>\n",
    "<center>Taza con el Lagrangiano del Modelo Estandar de Física de Partículas</center>\n",
    "</center></figure>\n\n"
   ]
  },
  {
   "cell_type": "markdown",
   "id": "080fe82e",
   "metadata": {},
   "source": [
    "\n",
    "<a id='sec_scq_cuantizacion_canonica'></a>\n",
    "## Cuantización canónica  \n"
   ]
  },
  {
   "cell_type": "markdown",
   "id": "080fe82e",
   "metadata": {},
   "source": [
    "En esta sección vamos a ver como en ciertos casos podemos obtener el Hamiltoniano de un sistema cuántico a partir del Hamiltoniano clásico del sistema. Esto es lo que se llama la <b>cuantización canónica</b>. Para poder entenderla, primero tenemos que ver que es la Imagen de Heisenberg. Para ello, vemos a ver primero que es la imagen de Schrödinger.\n"
   ]
  },
  {
   "cell_type": "markdown",
   "id": "080fe82e",
   "metadata": {},
   "source": [
    "El concepto es sencillo: en física tenemos principalmente tres formulaciones de la Mecánica Cuántica que denominamos <b>imágenes</b> (pictures): la de Schrödinger, la de Heisenberg y la de interacción. Las tres describen la misma teoría, la Mecánica Cuántica, pero de maneras diferentes. La principal difetencia es <b>donde ponemos la dependencia temporal</b>: en los estados, en los operadores o en ambos.\n"
   ]
  },
  {
   "cell_type": "markdown",
   "id": "080fe82e",
   "metadata": {},
   "source": [
    "Dependiendo del contexto en el que estemos trabajando, en algunos casos nos será más fácil usar una imagen o otra.\n"
   ]
  },
  {
   "cell_type": "markdown",
   "id": "080fe82e",
   "metadata": {},
   "source": [
    "<div class=\"alert alert-block alert-danger\">\n",
    "<p style=\"color: DarkRed;\">\n",
    "<b>Nota</b>: <i>(Operadores y funciones)</i>\n",
    "<br>\n",
    "En esta sección vamos a ponerle un gorro (\\,$\\hat{}\\,$) a los operadores (cuánticos) para distinguirlos de las funciones (clásicas).\n",
    "<br>\n",
    "Aunque en las secciones anteriores sobre Mecánica Clásica estuvimos usando los términos \"Hamiltoniano\" y \"Lagrangiano\", esto en realidad es un abuso de lenguaje. En Mecánica Clásica deberíamos usar los termino \"lagrangiana\" y \"hamiltoniana\", pues son <b>funciones</b> (función hamiltoniana y función lagrangiana).\n",
    "<br>\n",
    "Los términos \"Hamiltoniano\" y \"Lagrangiano\" se usan en Mecánica Cuántica cuando lidiamos con <b>operadores</b> (es decir, matrices). Sin embargo, este abuso de lenguaje es muy extendido en física.\n",
    "</p></div>\n"
   ]
  },
  {
   "cell_type": "markdown",
   "id": "080fe82e",
   "metadata": {},
   "source": [
    "### Imagen de Schrödinger (Schrödinger picture)\n"
   ]
  },
  {
   "cell_type": "markdown",
   "id": "080fe82e",
   "metadata": {},
   "source": [
    "La imagen de Schrödinger es la \"típica\", pues suele ser la primera que se enseña. Es también la que hemos usado hasta ahora.\n"
   ]
  },
  {
   "cell_type": "markdown",
   "id": "080fe82e",
   "metadata": {},
   "source": [
    "La <b>imagen de Schrödinger</b> o <b>representación de Schrödinger</b> es una formulación de la mecánica cuántica en la que los vectores de estado evolucionan con el tiempo, pero los operadores (observables y otros) son en su mayoría constantes con respecto al tiempo.\n"
   ]
  },
  {
   "cell_type": "markdown",
   "id": "080fe82e",
   "metadata": {},
   "source": [
    "En la representación de Schrödinger, el estado de un sistema evoluciona con el tiempo, siguiendo la <b>ecuación de Schrödinger</b>\n",
    "\\begin{equation}\n",
    "i \\hbar \\frac{\\partial}{\\partial t} \\ket{\\psi(t)} = \\hat{H} \\ket{\\psi (t)}\n",
    "\\end{equation}\n"
   ]
  },
  {
   "cell_type": "markdown",
   "id": "080fe82e",
   "metadata": {},
   "source": [
    "Al resolver esta ecuación se ve que la evolución para un sistema cuántico cerrado se produce mediante un operador unitario, el operador de <b>evolución temporal</b>:\n",
    "\\begin{equation}\n",
    "\\ket{\\psi(t)} = \\hat{U}(t, t_0) \\ket{\\psi (t_0}\n",
    "\\end{equation}\n",
    "En el caso de que el Hamiltoniano $H$ del sistema no varíe con el tiempo, el operador de evolución temporal tiene la forma\n",
    "\\begin{equation}\n",
    "\\hat{U} (t, t_0) = e^{-i \\hat{H} \\cdot (t-t_0)/\\hbar}\n",
    "\\end{equation}\n"
   ]
  },
  {
   "cell_type": "markdown",
   "id": "080fe82e",
   "metadata": {},
   "source": [
    "### Imagen de Heisenberg (Heisenberg picture)\n"
   ]
  },
  {
   "cell_type": "markdown",
   "id": "080fe82e",
   "metadata": {},
   "source": [
    "La <b>imagen de Heisenberg</b> o <b>representación de Heisenberg</b> es una formulación de la mecánica cuántica en la que los observables, $A$, incorporan una dependencia del tiempo, pero los estados, $\\ket{\\psi}$, son independientes del tiempo.\n"
   ]
  },
  {
   "cell_type": "markdown",
   "id": "080fe82e",
   "metadata": {},
   "source": [
    "En el caso en que el Hamiltoniano en la imagen de Schrödinger, $H_S$, no dependa del tiempo, la conexión entre los estados y operadores en la imagen de Schrödinger y de Heisenberg es la siguiente:\n",
    "\\begin{equation}\n",
    "\\ket{\\psi_H} = e^{it \\hat{H}/\\hbar} \\ket{\\psi_S(t)}\n",
    "\\qquad; \\qquad\n",
    "\\hat{A}_H(t) = e^{it \\hat{H}/\\hbar} \\hat{A}_S e^{-it \\hat{H}/\\hbar}\n",
    "\\end{equation}\n",
    "donde $\\hat{H}_S = \\hat{H}_H = \\hat{H}$, y donde recordemos que $e^{-it \\hat{H}/\\hbar} = \\hat{U}(t,0)$\n"
   ]
  },
  {
   "cell_type": "markdown",
   "id": "080fe82e",
   "metadata": {},
   "source": [
    "Podemos ver como es la evolución de un observable $\\hat{A}_H(t)$ derivando la expresión de $\\hat{A}_H(t)$ respecto a $t$:\n",
    "\\begin{equation}\n",
    "\\begin{aligned}\n",
    "\\frac{d}{dt} \\hat{A}_H(t) & = \\frac{d}{dt} \\lp e^{it\\hat{H}/\\hbar} \\hat{A}_S e^{-it\\hat{H}/\\hbar}  \\rp =  \\\\\n",
    "& = \\frac{i}{\\hbar} \\lc \\hat{H} e^{it \\hat{H}/\\hbar} \\hat{A}_S e^{-it \\hat{H}/\\hbar} - e^{it \\hat{H}/\\hbar} \\hat{A}_S \\hat{H} e^{-it \\hat{H}/\\hbar} \\rc  + e^{it \\hat{H}/\\hbar} \\frac{d \\hat{A}_S}{d t}  e^{- it \\hat{H}/\\hbar} = \\\\\n",
    "& = \\frac{i}{\\hbar} \\lc \\hat{H} \\hat{A}_H(t) - \\hat{A}_H(t) \\hat{H}  \\rc  + e^{it \\hat{H}/\\hbar} \\frac{\\partial \\hat{A}_S}{\\partial t}  e^{- it \\hat{H}/\\hbar}\n",
    "\\end{aligned}\n",
    "\\end{equation}\n",
    "donde hemos usado que $\\hat{H}$ conmuta $e^{it \\hat{H}/\\hbar}$, y que $\\frac{d \\hat{A}_S}{d t} = \\frac{\\partial \\hat{A}_S}{\\partial t}$ ya que en la imagen de Schrödonger los operadores no tiene dependencias implícitas en el tiempo. La ecuación anterios podemos reercribirla como:\n",
    "\\begin{equation} \\label{ec_sqc_canonica_heisenberg}\n",
    "\\begin{aligned}\n",
    "\\frac{d}{dt} \\hat{A}_H(t) & = \\frac{1}{i\\hbar} \\lc \\hat{A}_H(t), \\hat{H} \\rc + \\lp \\frac{\\partial \\hat{A}_S}{\\partial t} \\rp_H \\\\\n",
    "\\end{aligned}\n",
    "\\end{equation}\n",
    "donde se ha usado la definición del <b>conmutador</b>\n",
    "\\begin{equation} \\label{ec_sqc_cononica_conmutador}\n",
    "[\\hat{A},\\hat{B}] = \\hat{A}\\hat{B} - \\hat{B}\\hat{A}\n",
    "\\end{equation}\n",
    "y se han invertido $\\hat{A}_H(t)$ y $\\hat{H}$ en el conmutador debido al signo $-$ que aparece al bajar la $i$ al denominador.\n",
    "La Ec.  {eq}`%s <ec_sqc_canonica_heisenberg>` se denomina <b>Ecuación de Heisenberg</b>.\n"
   ]
  },
  {
   "cell_type": "markdown",
   "id": "080fe82e",
   "metadata": {},
   "source": [
    "Si el operador $\\hat{A}_S$ no tiene dependencia explicita en el tiempo, la Ec.  {eq}`%s <ec_sqc_canonica_heisenberg>` se simplifica a\n",
    "\\begin{equation}\n",
    "\\frac{d}{dt} \\hat{A}_H(t) = \\frac{i}{\\hbar} \\lc \\hat{H}, \\hat{A}_H(t) \\rc\n",
    "\\end{equation}\n"
   ]
  },
  {
   "cell_type": "markdown",
   "id": "080fe82e",
   "metadata": {},
   "source": [
    "Podemos escribir las relaciones de conmutación entre los operadores de las coordenadas generalizadas $\\hat{q}_j$ y los operadores de los momentos generalizados $\\hat{p}_j = -i \\hbar \\partial/\\partial \\hat{q}_j $:\n",
    "\\begin{equation} \\label{ec_sqc_canonica_conmutadores_coordenadas}\n",
    "\\begin{aligned}\n",
    "\\lc \\hat{q}_k, \\hat{q}_l \\rc = 0\\,, \\\\\n",
    "\\lc \\hat{p}_k, \\hat{p}_l \\rc = 0\\,, \\\\\n",
    "\\lc \\hat{q}_k, \\hat{p}_l \\rc = i \\hbar \\delta_{kl} \\,.\n",
    "\\end{aligned}\n",
    "\\end{equation}\n"
   ]
  },
  {
   "cell_type": "markdown",
   "id": "080fe82e",
   "metadata": {},
   "source": [
    "<div class=\"alert alert-block alert-danger\">\n",
    "<p style=\"color: DarkRed;\">\n",
    "<b>Nota</b>: <i>(Demostración)</i>\n",
    "<br>\n",
    "Las relaciones de la Ec.  {eq}`%s <ec_sqc_canonica_conmutadores_coordenadas>` pueden verse facilmente si aplicamos los conmutadores sobre una función de onda $\\psi(\\hat{\\vec{q}})$. Por ejemplo:\n",
    "\\begin{equation}\n",
    "\\lc \\hat{q}_k, \\hat{p}_l \\rc \\psi (\\hat{\\vec{q}}) = \\hat{q}_k (-i\\hbar) \\frac{\\partial}{\\partial \\hat{q}_l} \\psi(\\hat{\\vec{q}}) - (-i\\hbar) \\frac{\\partial}{\\partial \\hat{q}_l} \\lc \\hat{q}_k \\, \\psi(\\hat{\\vec{q}}) \\rc = i \\hbar \\delta_{kl} \\psi (\\hat{\\vec{q}})\n",
    "\\end{equation}\n",
    "<br>\n",
    "</p></div>\n"
   ]
  },
  {
   "cell_type": "markdown",
   "id": "080fe82e",
   "metadata": {},
   "source": [
    "### El método canónico de cuántización\n"
   ]
  },
  {
   "cell_type": "markdown",
   "id": "080fe82e",
   "metadata": {},
   "source": [
    "Ahora podemos dar un paso atrás y comparar la formulación del corchete de Poisson de la mecánica clásica con las ecuaciones en la imagen de Heisenberg de la Mecánica Cuántica. Comparando la Ec.  {eq}`%s <ec_sqc_Poisson_corchetes_coordenadas>` con la Ec.  {eq}`%s <ec_sqc_canonica_conmutadores_coordenadas>` y la Ec.  {eq}`%s <ec_sqc_poisson_df>`  con la Ec.  {eq}`%s <ec_sqc_canonica_heisenberg>`. Parece que una teoría hamiltoniana clásica puede transcribirse a la mecánica cuántica mediante la regla simple,\n",
    "\\begin{equation} \\label{ec_scq_cuantizacion_canonica}\n",
    "\\lch A, B \\rch \\rqa \\frac{1}{i \\hbar} \\lc \\hat{A} , \\hat{B} \\rc\n",
    "\\end{equation}\n",
    "donde los operadores cuánticos $\\hat{A} = \\hat{A}(\\hat{\\vec{q}}, \\hat{\\vec{p}},t)$ y $\\hat{B} = \\hat{B}(\\hat{\\vec{q}}, \\hat{\\vec{p}},t)$ son las mismas funciones de los operadores $\\hat{\\vec{q}}$ y $\\hat{\\vec{p}}$, que las funciones $A = A(\\vec{q}, \\vec{p}, t)$ Y $B = B(\\vec{q}, \\vec{p}, t)$ lo son de $\\vec{q}$ y $\\vec{p}$.\n"
   ]
  },
  {
   "cell_type": "markdown",
   "id": "080fe82e",
   "metadata": {},
   "source": [
    "Es decir, partiendo de la formulación clásica de un sistema podemos obtener la formulación cuántica cambiando las funciones por operadores y los corchetes de Poisson por conmutadores (con el $1/(i \\hbar)$). El procedimiento se denomina <b>cuantización canónica</b> porque se deduce de la descripción hamiltoniana canónica de la dinámica clásica. Sin embargo, hay algunas limitaciones importantes del método de cuantización canónica que escapan del objetivo de esta explicación.\n"
   ]
  },
  {
   "cell_type": "markdown",
   "id": "080fe82e",
   "metadata": {},
   "source": [
    "Vamos a resumir los sencillos pasos necesarios para encontrar el equivalente cuántico de un sistema hamiltoniano clásico\n",
    "\n",
    " \n- Establecer la dinámica Hamiltoniana clásica en términos de coordenadas canónicas $\\vec{q}$ y momentos $\\vec{p}$, con un Hamiltoniano $H$.\n",
    " \n- Escribir las ecuaciones de movimiento en forma de corchete de Poisson.\n",
    " \n- Reinterpretar las variables dinámicas clásicas como operadores cuánticos en un espacio de Hilbert de estados, y los corchetes de Poisson como conmutadores (ver Ec.  {eq}`%s <ec_sqc_canonica_conmutadores_coordenadas>`. \n",
    "\n"
   ]
  },
  {
   "cell_type": "markdown",
   "id": "080fe82e",
   "metadata": {},
   "source": [
    "### Oscilador armónico cuántico\n"
   ]
  },
  {
   "cell_type": "markdown",
   "id": "080fe82e",
   "metadata": {},
   "source": [
    "Con el método de la cuantización canónica, podemos obtener el Hamiltoniano del oscilador armónico cuántico (unidimensional) a partir del Hamiltoniano clásico que vimos en la Ec.  {eq}`%s <ec_sqc_oscilador_H>`. Simplemente tenemos que promocional las coordenadas a operadores:\n",
    "\\begin{equation} \\label{ec_sqc_canonica_oscilador_H}\n",
    "\\hat{H}_{QHO} = \\frac{1}{2m} \\hat{p}^2 + \\frac{1}{2} k \\hat{x}^2\n",
    "\\end{equation}\n",
    "donde $\\hat{p}$ y $\\hat{x}$ cumples las reglas de conmutación de la Ec.  {eq}`%s <ec_sqc_canonica_conmutadores_coordenadas>`, donde ya vimos que (Ec.  {eq}`%s <ec_sqc_oscilador_omega>`)\n",
    "\\begin{equation}\n",
    "k = m \\omega^2\n",
    "\\end{equation}\n"
   ]
  },
  {
   "cell_type": "markdown",
   "id": "080fe82e",
   "metadata": {},
   "source": [
    "Resolviendo la ecuación de Schrödinger independiente del tiempo (ecuación de autovalores) para este Hamiltoniano\n",
    "\\begin{equation} \\label{ec_sqc_canonica_QHO_schrodinger}\n",
    "\\hat{H}_{QHO} \\ket{n} = E_n \\ket{n}\n",
    "\\end{equation}\n",
    "puede verse que la energía está cuantizada y toma los valores:\n",
    "\\begin{equation} \\label{ec_sqc_canonica_QHO_E}\n",
    "E_n = \\hbar \\omega \\lp n + \\frac{1}{2} \\rp\n",
    "\\end{equation}\n",
    "Vemos que las energías están equiespaciadas, $E_{n+1} - E_n = \\hbar \\omega$, y que el estado fundamental ($n=0$) tiene una energía diferente de cero: $E_0 = \\hbar \\omega/2$. En la Fig.  {numref}`%s <Fig_sqc_Oscilador_Armonico_amplitudes_y_prob>` podemos ver la distribución espacial de las amplitudes y de las probabilidades.\n"
   ]
  },
  {
   "cell_type": "markdown",
   "id": "080fe82e",
   "metadata": {},
   "source": [
    "<figure><center>\n",
    "<img src=\"Figuras/Fig_Hardware_Oscilador_Armonico.png\" alt=\"\" align=center width='1000px'/>\n",
    "<a id='Fig_sqc_Oscilador_Armonico_amplitudes_y_prob'></a>\n",
    "<center>Primeros $8$ estados del oscilador armónico cuántico ($n=0,1, \\dots,7$) en una dimensión ($\\hat{x}$). El eje horizontal representa la posición $x$. Source [[86]](../../Bibliografia.ipynb#bib_Hardware_Wiki_QHO)</center>\n",
    "</center></figure>\n\n"
   ]
  },
  {
   "cell_type": "markdown",
   "id": "080fe82e",
   "metadata": {},
   "source": [
    "## Segunda cuantización\n"
   ]
  },
  {
   "cell_type": "markdown",
   "id": "080fe82e",
   "metadata": {},
   "source": [
    "La <b>segunda cuantización</b>, también denominada <b>representación del número de ocupación</b>, es un formalismo utilizado para describir y analizar sistemas cuánticos de muchos cuerpos. En este enfoque, los estados cuánticos de muchos cuerpos se representan en la base de estados de Fock, que se construyen rellenando cada estado de con un cierto número de partículas idénticas.\n"
   ]
  },
  {
   "cell_type": "markdown",
   "id": "080fe82e",
   "metadata": {},
   "source": [
    "### Partículas idénticas\n"
   ]
  },
  {
   "cell_type": "markdown",
   "id": "080fe82e",
   "metadata": {},
   "source": [
    "El punto de partida del segundo formalismo de cuantización es la noción de <b>indistinguibilidad</b> de las partículas en mecánica cuántica. En la mecánica clásica, cada partícula está etiquetada por un vector de posición distinto $\\vec{r}_k$ y diferentes configuraciones del conjunto de $\\vec{r}_k$ corresponden a diferentes estados de muchos cuerpos. Por otro lado,  en la mecánica cuántica, las partículas son <b>idénticas</b>, de tal manera que intercambiar dos partículas, es decir, $\\vec{r}_k \\leftrightarrow \\vec{r}_l$, no conduce a un estado cuántico de muchos cuerpos diferente. Esto implica que la función de onda cuántica de muchos cuerpos debe ser invariante (salvo un factor de fase) bajo el intercambio de dos partículas\n",
    "\\begin{equation}\n",
    "\\begin{aligned}\n",
    "\\Psi_B (\\cdots, \\hat{\\vec{r}}_k, \\cdots, \\hat{\\vec{r}}_l, \\cdots) &= + \\Psi_B (\\cdots, \\hat{\\vec{r}}_l, \\cdots, \\hat{\\vec{r}}_k, \\cdots)  \\text{ si las partículas son bosones} \\\\\n",
    "\\Psi_F (\\cdots, \\hat{\\vec{r}}_k, \\cdots, \\hat{\\vec{r}}_l, \\cdots) &= - \\Psi_F (\\cdots, \\hat{\\vec{r}}_l, \\cdots, \\hat{\\vec{r}}_k, \\cdots)  \\text{ si las partículas son ferminones}\n",
    "\\end{aligned}\n",
    "\\end{equation}\n",
    "Esta propiedad de simetría de intercambio impone una restricción a la función de onda de muchos cuerpos. Cada vez que se añade o elimina una partícula del sistema multicuerpo, la función de onda debe simetrizarse o anti-simetrizarse adecuadamente para satisfacer la restricción de simetría.\n"
   ]
  },
  {
   "cell_type": "markdown",
   "id": "080fe82e",
   "metadata": {},
   "source": [
    "### Estados de Fock\n"
   ]
  },
  {
   "cell_type": "markdown",
   "id": "080fe82e",
   "metadata": {},
   "source": [
    "En el segunda cuantización, en lugar de preguntar \"¿en que estado está cada partícula?\", se pregunta \"¿Cuántas partículas hay en cada estado?\". Dado que esta descripción no hace referencia al etiquetado de las partículas, no contiene información redundante y, por tanto, conduce a una descripción precisa y más sencilla del estado cuántico de muchos cuerpos.\n"
   ]
  },
  {
   "cell_type": "markdown",
   "id": "080fe82e",
   "metadata": {},
   "source": [
    "En este enfoque, el estado de muchos cuerpos se representa en la base del <b>números de ocupación</b>, y el estado se etiqueta mediante el conjunto de números de ocupación, denotado como\n",
    "\\begin{equation}\n",
    "\\ket{\\lc n_\\alpha \\rc} = \\ket{n_1, n_2, \\cdots, n_\\alpha, \\cdots},\n",
    "\\end{equation}\n",
    "lo que significa que hay $n_\\alpha$ partículas en el estado $\\ket{\\alpha}$. Los números de ocupación suman al número total de partículas $\\sum_\\alpha n_\\alpha = N$.\n"
   ]
  },
  {
   "cell_type": "markdown",
   "id": "080fe82e",
   "metadata": {},
   "source": [
    "El estado de Fork con todos los números de ocupación igual a cero se llama el <b>vacío</b>, denotado como\n",
    "\\begin{equation}\n",
    "\\ket{0} \\equiv \\ket{\\cdots, 0_\\alpha, \\cdots}.\n",
    "\\end{equation}\n"
   ]
  },
  {
   "cell_type": "markdown",
   "id": "080fe82e",
   "metadata": {},
   "source": [
    "### Operadores de creación y aniquilación\n"
   ]
  },
  {
   "cell_type": "markdown",
   "id": "080fe82e",
   "metadata": {},
   "source": [
    "Los operadores de creación ($\\hat{a}^\\dagger_\\alpha$) y aniquilación ($\\hat{a}_\\alpha$) se introducen para añadir o eliminar una partícula del sistema de muchos cuerpos. La aplicación del operador de creación (aniquilación) a una función de onda de muchos cuerpos cuantificada insertará (eliminará) un estado de una sola partícula de la función de onda de forma simetrizada dependiendo de las estadísticas de la partícula.\n"
   ]
  },
  {
   "cell_type": "markdown",
   "id": "080fe82e",
   "metadata": {},
   "source": [
    "Para estados <b>bosónicos</b>, estos operadores se comportan de la siguiente forma:\n",
    "\\begin{equation} \\label{ec_sqc_a_y_a_dagger_sobre_n_generico}\n",
    "\\begin{aligned}\n",
    "\\hat{a}_\\alpha^\\dagger \\ket{\\cdots, n_\\beta, n_\\alpha, n_\\gamma,\\cdots } & = \\sqrt{n_\\alpha+1} \\ket{\\cdots, n_\\beta, n_\\alpha + 1, n_\\gamma,\\cdots } \\\\\n",
    "\\hat{a}_\\alpha \\ket{\\cdots, n_\\beta, n_\\alpha, n_\\gamma,\\cdots } & = \\sqrt{n_\\alpha} \\ket{\\cdots, n_\\beta, n_\\alpha - 1, n_\\gamma,\\cdots }\n",
    "\\end{aligned}\n",
    "\\end{equation}\n"
   ]
  },
  {
   "cell_type": "markdown",
   "id": "080fe82e",
   "metadata": {},
   "source": [
    "Teniendo en cuenta las anteriores relaciones, vemos podemos construir un estado de $n_\\alpha$ partículas en el estado $\\ket{\\alpha}$ aplicando operadores de creación sobre el vacío:\n",
    "\\begin{equation}\n",
    "\\ket{n_\\alpha} = \\frac{1}{\\sqrt{n_\\alpha !}} (\\hat{a}^\\dagger_\\alpha)^{n_\\alpha} \\ket{0_\\alpha}\n",
    "\\end{equation}\n"
   ]
  },
  {
   "cell_type": "markdown",
   "id": "080fe82e",
   "metadata": {},
   "source": [
    "También se puede definir un <b>operador número</b>, $N_\\alpha$, que nos da el número de partículas en un estado\n",
    "\\begin{equation}\n",
    "\\hat{N}_\\alpha = \\hat{a}_\\alpha^\\dagger \\hat{a}_\\alpha \\rqa \\hat{N}_\\alpha \\ket{n_\\alpha} = n_\\alpha \\ket{n_\\alpha}\n",
    "\\end{equation}\n"
   ]
  },
  {
   "cell_type": "markdown",
   "id": "080fe82e",
   "metadata": {},
   "source": [
    "### Oscilador armónico: operadores escalera\n"
   ]
  },
  {
   "cell_type": "markdown",
   "id": "080fe82e",
   "metadata": {},
   "source": [
    "Cuando tratamos con el oscilador armónico, a los operadores de creación y aniquilación se los suele llamar operadores de <b>subida</b> (raising) y <b>bajada</b> (lowering), comunmente conocidos como <b>operadores escalera</b>. Esta diferencia en el nombre es porque en el caso anterior decíamos que los $n_\\alpha$ era los números de ocupación. Es decir, el número de particulas en un estado $\\alpha$. Para el oscilador armónico, aunque el tratamiento es formalmente idéntico, el significado de $n$ va a ser diferente. En este caso, $n$ va a ser el estado de vibración del oscilador (de la partícula). Los operadores $\\ket{a}$ y $\\ket{a}^{\\dagger}$ lo que van hacer es <b>subir y bajar el estado de vibración del oscilador</b>.\n"
   ]
  },
  {
   "cell_type": "markdown",
   "id": "080fe82e",
   "metadata": {},
   "source": [
    "<div class=\"alert alert-block alert-danger\">\n",
    "<p style=\"color: DarkRed;\">\n",
    "<b>Nota</b>:\n",
    "<br>\n",
    "Véase que precisamente es por esto, por tener solo un oscilador, por lo que en esta sección no aparecen los subíndices $\\alpha$ de la anterior.\n",
    "</p></div>\n"
   ]
  },
  {
   "cell_type": "markdown",
   "id": "080fe82e",
   "metadata": {},
   "source": [
    "\n",
    "Vamos a tratar con un solo oscilador que va estar en un esto $\\ket{n}$ de oscilación. Definimos los operadores $\\ket{a}$ (bajada/aniquilación) y su hermítico conjugado $\\ket{a}^{\\dagger}$ (subida/creación) como\n",
    "\\begin{equation}\n",
    "\\left\\{\n",
    "\\begin{aligned}\n",
    "\\hat{a} & = \\sqrt{\\frac{m \\omega}{2 \\hbar}} \\lp \\hat{x} + \\frac{i}{m \\omega} \\hat{p} \\rp \\\\\n",
    "\\hat{a}^{\\dagger} & = \\sqrt{\\frac{m \\omega}{2 \\hbar}} \\lp \\hat{x} - \\frac{i}{m \\omega} \\hat{p} \\rp\n",
    "\\end{aligned}\n",
    "\\right.\n",
    "\\rqa\n",
    "\\left\\{\n",
    "\\begin{aligned}\n",
    "\\hat{x} = \\sqrt{\\frac{\\hbar}{2 m \\omega}} \\lp \\hat{a}^\\dagger + \\hat{a} \\rp \\\\\n",
    "\\hat{p} = \\sqrt{\\frac{\\hbar m \\omega}{2}} \\lp \\hat{a}^\\dagger - \\hat{a} \\rp\n",
    "\\end{aligned}\n",
    "\\right.\n",
    "\\end{equation}\n",
    "donde, siguiendo la Ec.  {eq}`%s <ec_sqc_a_y_a_dagger_sobre_n_generico>` vemos que\n",
    "\\begin{equation}\n",
    "\\begin{aligned}\n",
    "\\hat{a}^\\dagger \\ket{n} &= \\sqrt{n+1} \\ket{n+1} \\\\\n",
    "\\hat{a} \\ket{n} &= \\sqrt{n} \\ket{n-1}\n",
    "\\end{aligned}\n",
    "\\end{equation}\n"
   ]
  },
  {
   "cell_type": "markdown",
   "id": "080fe82e",
   "metadata": {},
   "source": [
    "Usando estos operadores, podemos reescribir el Hamiltoniano de la Ec.  {eq}`%s <ec_sqc_canonica_oscilador_H>` de la siguiente forma\n",
    "\\begin{equation} \\label{ec_sqc_qho_second_quant}\n",
    "\\hat{H}_{QHO} = \\hbar \\omega \\lp \\hat{a}^\\dagger \\hat{a} + \\frac{1}{2} \\rp \\, .\n",
    "\\end{equation}\n"
   ]
  },
  {
   "cell_type": "markdown",
   "id": "62e589cb",
   "metadata": {},
   "source": [
    "---\n",
    "Autor:\n",
    "\n",
    "David Castaño ([UMA-SCBI](https://www.scbi.uma.es/site/))\n",
    "\n",
    "<img src=\"Figuras/Logo_UMA.jpeg\"  width=\"170px\">\n",
    "\n",
    "\n",
    "---\n",
    "<figure><center>\n",
    "<img   src=\"https://quantumspain-project.es/wp-content/uploads/2022/11/Logo_QS_EspanaDigital.png\" align=center  width=\"2000px\"/>\n",
    "</center></figure>\n",
    "\n",
    "<center>\n",
    "<a rel=\"license\" href=\"http://creativecommons.org/licenses/by-sa/4.0/\">\n",
    "<img aling=\"left\" alt=\"Licencia Creative Commons\" style=\"border-width:0\" src=\"https://i.creativecommons.org/l/by-sa/4.0/88x31.png\" /></a>\n",
    "</center>\n",
    "\n",
    "License: <a rel=\"license\" href=\"http://creativecommons.org/licenses/by-sa/4.0/\">Licencia Creative Commons Atribución-CompartirIgual 4.0 Internacional</a>.\n",
    "\n",
    "This work has been financially supported by the Ministry for Digital Transformation and of Civil Service of the Spanish Government through the QUANTUM ENIA project call - Quantum Spain project, and by the European Union through the Recovery, Transformation and Resilience Plan - NextGenerationEU within the framework of the Digital Spain 2026 Agenda.\n",
    "\n",
    "<center>\n",
    "<img align=\"left\" src=\"https://quantumspain-project.es/wp-content/uploads/2024/02/Banner-QS_GOB_v2.png\" width=\"1000px\" />\n",
    "</center>"
   ]
  },
  {
   "cell_type": "markdown",
   "id": "a1b0711f",
   "metadata": {},
   "source": []
  }
 ],
 "metadata": {
  "kernelspec": {
   "display_name": "Python 3 (ipykernel)",
   "language": "python",
   "name": "python3"
  },
  "language_info": {
   "codemirror_mode": {
    "name": "ipython",
    "version": 3
   },
   "file_extension": ".py",
   "mimetype": "text/x-python",
   "name": "python",
   "nbconvert_exporter": "python",
   "pygments_lexer": "ipython3",
   "version": "3.11.7"
  },
  "toc": {
   "base_numbering": 1,
   "nav_menu": {},
   "number_sections": false,
   "sideBar": true,
   "skip_h1_title": true,
   "title_cell": "Table of Contents",
   "title_sidebar": "Contents",
   "toc_cell": false,
   "toc_position": {},
   "toc_section_display": true,
   "toc_window_display": false
  }
 },
 "nbformat": 4,
 "nbformat_minor": 5
}
