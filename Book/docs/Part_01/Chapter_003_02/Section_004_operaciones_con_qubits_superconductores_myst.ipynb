{
 "cells": [
  {
   "cell_type": "markdown",
   "id": "8ddaeb38",
   "metadata": {},
   "source": [
    "> {sub-ref}`today` | {sub-ref}`wordcount-minutes` min read\n",
    "\n",
    "<img src=\"Figuras/Fig_logo_UMA_scbi.png\" align=center  width=\"2000px\"/>\n",
    "\n",
    "\n",
    "<a href=\"https://www.scbi.uma.es/web/es/computacion-cuantica/\">\n",
    "    <button class=\"rounded\" style=\"float: right;\">\n",
    "    <svg xmlns=\"http://www.w3.org/2000/svg\" width=\"32\" height=\"32\" viewBox=\"0 0 24 24\">\n",
    "        <path fill=\"var(--fill, white)\"\n",
    "        d=\"M18.1 15.3c-.1.1-.3.2-.4.3l-2.4.4l1.7 3.6c.2.4 0 .8-.4\n",
    "            1l-2.8 1.3c-.1.1-.2.1-.3.1c-.3 0-.6-.2-.7-.4L11.2\n",
    "            18l-1.9 1.5c-.1.1-.3.2-.5.2c-.4 0-.8-.3-.8-.8V7.5c0-.5.3-.8.8-.8c.2 0\n",
    "            .4.1.5.2l8.7 7.4c.3.2.4.7.1 1M6 12H4V4h16v8h-1.6l2.2 1.9c.8-.3 1.3-1\n",
    "            1.3-1.9V4c0-1.1-.9-2-2-2H4c-1.1 0-2 .9-2 2v8c0 1.1.9 2 2 2h2z\" />\n",
    "    </svg>\n",
    "    Volver a SCBI - Computación Cuantica\n",
    "    </button>\n",
    "</a>\n",
    "\n",
    "$ \\newcommand{\\bra}[1]{\\langle #1|} $\n",
    "$ \\newcommand{\\ket}[1]{|#1\\rangle} $\n",
    "$ \\newcommand{\\branew}[1]{\\langle #1|} $\n",
    "$ \\newcommand{\\ketnew}[1]{\\langle #1|} $\n",
    "$ \\newcommand{\\braket}[2]{\\langle #1|#2\\rangle} $\n",
    "$ \\newcommand{\\ketbra}[2]{| #1\\rangle \\langle #2 |} $\n",
    "$ \\newcommand{\\i}{{\\color{blue} i}} $ \n",
    "$ \\newcommand{\\Hil}{{\\cal H}} $\n",
    "$ \\newcommand{\\cg}[1]{{\\rm C}#1} $\n",
    "$ \\newcommand{\\lp}{\\left(} $\n",
    "$ \\newcommand{\\rp}{\\right)} $\n",
    "$ \\newcommand{\\lc}{\\left[} $\n",
    "$ \\newcommand{\\rc}{\\right]} $\n",
    "$ \\newcommand{\\lch}{\\left\\{} $\n",
    "$ \\newcommand{\\rch}{\\right\\}} $\n",
    "$ \\newcommand{\\Lp}{\\Bigl(} $\n",
    "$ \\newcommand{\\Rp}{\\Bigr)} $\n",
    "$ \\newcommand{\\Lc}{\\Bigl[} $\n",
    "$ \\newcommand{\\Rc}{\\Bigr]} $\n",
    "$ \\newcommand{\\Lch}{\\Bigl\\{} $\n",
    "$ \\newcommand{\\Rch}{\\Bigr\\}} $\n",
    "$ \\newcommand{\\rqa}{\\quad \\Rightarrow \\quad} $\n",
    "$ \\newcommand{\\bm}{\\boldsymbol}$"
   ]
  },
  {
   "cell_type": "markdown",
   "id": "080fe82e",
   "metadata": {},
   "source": [
    "# Operaciones con qubits superconductores\n"
   ]
  },
  {
   "cell_type": "markdown",
   "id": "080fe82e",
   "metadata": {},
   "source": [
    "El principio general de funcionamiento de los transmones (qubits superconductores) es el siguiente:\n"
   ]
  },
  {
   "cell_type": "markdown",
   "id": "080fe82e",
   "metadata": {},
   "source": [
    "## Estado del qubit transmón\n"
   ]
  },
  {
   "cell_type": "markdown",
   "id": "080fe82e",
   "metadata": {},
   "source": [
    "<b>El estado cuántico del qubit</b> en el caso genérico de un transmón es un sistema de dos niveles de carga de pares de Cooper que corresponden a un oscilador no lineal que contiene al menos una unión Josephson y una capacitancia. Es decir, los estados se diferencian por el número de pares de Cooper en la isla (en concreto, en un par). Hay casos donde la frecuencia de resonancia del qubit puede ser ajustada con un pulso de corriente continua, lo que ayuda a reducir la interferencia (<i>crosstalk</i>) entre qubits, pero a costa de un menos tiempo de vida $T_1$. Por eso lo más común es tener frecuencias de qubit fijas y diferentes.\n"
   ]
  },
  {
   "cell_type": "markdown",
   "id": "080fe82e",
   "metadata": {},
   "source": [
    "## Puertas de un qubit\n"
   ]
  },
  {
   "cell_type": "markdown",
   "id": "080fe82e",
   "metadata": {},
   "source": [
    "Las puertas cuánticas de un solo qubit se generan mediante pulsos de microondas enviados a través de cables coaxiales sobre los qubits (Fig.  {numref}`%s <Fig_scq_pulsos_1>`). Su frecuencia se ajusta al nivel de energía $\\hbar \\omega_{01}$ mencionado anteriormente. Esta frecuencia se calibra para que sea diferente en qubits adyacentes para evitar efectos de <i>crosstalk</i>. La <b>amplitud</b> del pulso de microondas controla el <b>ángulo de rotación</b> y su <b>fase</b> ajusta el <b>eje</b> de la operación de rotación de la puerta.\n"
   ]
  },
  {
   "cell_type": "markdown",
   "id": "080fe82e",
   "metadata": {},
   "source": [
    "::::{figure} Figuras/Fig_scq_pulsos_1.png\n",
    ":width: 1000px\n",
    ":align: center\n",
    ":name: Fig_scq_pulsos_1\n",
    "a) Esquema de una configuración típica de control de un qubits. Una fuente de microondas suministra una señal de alta frecuencia ($\\omega_{LO}$), mientras que un generador de onda arbitrarios (AWG de sus siglas en inglés) suministra una envolvente del pulso ($s(t)$), a veces con un componente de baja frecuencia, $\\omega_{AWG}$. El mezclador $IQ$ combina las dos señales para generar una forma de onda $V_d(t)$ con una frecuencia $\\omega_d = \\omega_{LO} \\pm \\omega_{AWG}$, normalmente resonante con el qubit. b) Ejemplo de cómo una secuencia de puerta se traduce en una forma de onda generada por el AWG. Los colores indican los componentes $I$ y $Q$. c) La acción de un pulso $X_{\\pi/2}$ sobre un estado $\\ket{0}$ para producir el estado $\\ket{-i} = \\frac{1}{\\sqrt{2}} (\\ket{0} - i\\ket{1})$. Figura tomada de {cite}`bib_scq_ezratty2023perspective`\n",
    "::::\n"
   ]
  },
  {
   "cell_type": "markdown",
   "id": "080fe82e",
   "metadata": {},
   "source": [
    "::::{figure} Figuras/Fig_scq_modulacion.jpg\n",
    ":width: 400px\n",
    ":align: center\n",
    ":name: Fig_scq_modulacion\n",
    "Ejemplos de ondas moduladas, tanto en amplitud (lo que se usa en control de qubits y en la radio AM), como en frecuencia (lo que usa en las radios FM). Como vemos tenemos dos ondas, la <b>portadora</b> y la <b>moduladora</b>. La gracia aquí es que la información que se quiere transmitir está en la onda moduladora. Esta puede ser, por ejemplo, la onda del sonido que tiene que emitir la rádio del coche. La onda portadora se usa para transmitir la información de la moduladora.\n",
    "::::\n"
   ]
  },
  {
   "cell_type": "markdown",
   "id": "080fe82e",
   "metadata": {},
   "source": [
    "El pulso $V_d(t)$ podemos escribirlo de forma genérica como:\n",
    "```{math}\n",
    ":label: eq_scq_Vd_1 \n",
    "\\begin{equation} \n",
    "V_d(t) = V_0 v(t) = V_0 s(t) \\sin(\\omega_d t + \\phi) \\, ,\n",
    "\\end{equation} \n",
    "```\n",
    "es decir, como un pulso senoidal de frecuencia $\\omega_d$ con un desfase $\\phi$ modulado por una función adimensional $s(t)$ denominada <b>envoltura</b>. (Puede verse más sobre modulación de señales en la Fig.  {numref}`%s <Fig_scq_modulacion>`). La frecuencia $\\omega_d$ será la frecuencia de resonancia del qubit. Puede verse este pulso en la Fig.  {numref}`%s <Fig_scq_pulsos_1>`a. Usando la identidad trigonométrica del seno de la suma, podemos reescribir el pulso como:\n",
    "\\begin{equation}\n",
    "V_d(t) = V_0 s(t) \\Lc \\cos(\\phi) \\sin(\\omega_d t) + \\sin(\\phi) \\cos (\\omega_d t) \\Rc\n",
    "\\end{equation}\n",
    "Adoptando las definiciones:\n",
    "\\begin{equation}\n",
    "\\begin{aligned}\n",
    "I & = \\cos (\\phi) \\quad (\\text{componente \"en-fase\"}) \\\\\n",
    "Q & = \\sin (\\phi) \\quad (\\text{componente \"fuera-de-fase/quadratura\"})\n",
    "\\end{aligned}\n",
    "\\end{equation}\n",
    "con lo que llegamos a:\n",
    "```{math}\n",
    ":label: eq_scq_Vd_2 \n",
    "\\begin{equation} \n",
    "\\boxed{V_d(t) = V_0 s(t) \\Lc I \\sin(\\omega_d t) + Q \\cos (\\omega_d t) \\Rc}\n",
    "\\end{equation} \n",
    "```\n",
    "Vemos que si $\\phi = 0$, tenemos $V_d(t) = V_0 s(t) \\sin(\\omega_d t)$ y si $\\phi = \\pi/2$ tenemos $V_d(t) = V_0 s(t) \\cos(\\omega_d t)$.\n"
   ]
  },
  {
   "cell_type": "markdown",
   "id": "080fe82e",
   "metadata": {},
   "source": [
    "Como dijimos, la Eq.  {numref}`%s <eq_scq_Vd_1>`, que acabamos reescribiendo como la Eq.  {numref}`%s <eq_scq_Vd_2>`, describe la forma genérica de un pulso de control de un qubit. La pregunta ahora es, como generamos este pulso? En la práctica, se usan dos generadores de ondas y un mezclados:\n",
    "\n",
    " \n- Tenemos un <b>generador de ondas arbitrario</b> (<b>AWG</b>, de sus siglas en inglés) que crea dos ondas, una denominada \"en fase\" y otra denominda \"cuadratura/fuera-de-fase\" ($I$ y $Q$) que son dos pulsos de microondas sinusoidales que tienen la misma frecuencia $\\omega_{AWG}$, están desfasados 90º (uno un seno y otro un coseno) y están modulados por una envolvente $s(t)$.\n",
    " \n- Tenemos un generador que denominados <b>oscilador local</b> (<b>LO</b>, de sus siglas en inglés) que genera una onda sinusoidal de frecuencia $\\omega_{LO}$.\n",
    " \n- Finalmente tenemos un mezclados que compone las tres ondas para dar una onda de frecuencia $\\omega_d = \\omega_{LO} \\pm \\omega_{AWG}$, modulada con la envolvente $s(t)$ y con una fase arbitraria $\\phi$. Esta fase depende de las amplitudes relativas de las ondas $I$ y $Q$.\n",
    "\n",
    "Habitualmente tenemos que $\\omega_{LO} \\gg \\omega_{AWG}$. Además, recordar que $\\omega_d = \\omega_{LO} \\pm \\omega_{AWG}$ debe de ser la frecuencia de resonancia del qubit, que ronda los $5$ GHz, así que $\\omega_{LO}$ suele estar próxima.\n"
   ]
  },
  {
   "cell_type": "markdown",
   "id": "080fe82e",
   "metadata": {},
   "source": [
    "Como ya dijimos, la <b>amplitud</b> del pulso de microondas controla el <b>ángulo de rotación</b> y su <b>fase</b> el <b>eje</b> de rotación. Esto se traduce en que la fase $\\phi$ que ajustamos con las ondas $IQ$ controla el eje, mientras que la envolvente $s(t)$ que aplicamos al pulso controla la rotación.\n"
   ]
  },
  {
   "cell_type": "markdown",
   "id": "080fe82e",
   "metadata": {},
   "source": [
    "Los pulsos de microondas generados a temperatura ambiente se atenúan y filtran progresivamente en cada etapa del criostato, de modo que sólo llegan al qubit un par de centenares de fotones de microondas.\n"
   ]
  },
  {
   "cell_type": "markdown",
   "id": "080fe82e",
   "metadata": {},
   "source": [
    "## Puertas de dos qubits\n"
   ]
  },
  {
   "cell_type": "markdown",
   "id": "080fe82e",
   "metadata": {},
   "source": [
    "Las puertas cuánticas de dos qubits se realizan con un circuito de acoplamiento situado entre los dos qubits, que puede ser un simple condensador o un sistema controlable dinámicamente. Dependiendo de la implementación, existen varios tipos de puertas de dos qubits, como la $\\sqrt{\\text{iSWAP}}$ o la puerta CZ. Este acoplamiento se gestiona con un qubit intermedio en el procesador Sycamore de Google y sus equivalentes chinos. IBM no utiliza acopladores, sino puertas de resonancia cruzada (cross-resonance gates).\n"
   ]
  },
  {
   "cell_type": "markdown",
   "id": "080fe82e",
   "metadata": {},
   "source": [
    "## Lectura de los qubits\n"
   ]
  },
  {
   "cell_type": "markdown",
   "id": "080fe82e",
   "metadata": {},
   "source": [
    "La lectura de los qubits depende de su tipo. Con los qubits transmon, se acopla un resonador al qubit. Este resonador suele tener forma de serpenteánte en zig-zag.\n"
   ]
  },
  {
   "cell_type": "markdown",
   "id": "080fe82e",
   "metadata": {},
   "source": [
    "Por este resonador se transmite un impulso de microondas que es reflejado al llegar al qubit. Estas microondas reflejadas suelen amplificarse en varias etapas. El método se denomina \"lectura dispersiva\": para una frecuencia de microondas fija, la frecuencia de resonancia del resonador de guía de ondas cambia en función del estado del qubit medido. Es decir, el estado del qubit afecta ligeramente a la frecuencia y la fase del pulso reflejado. La medición de la fase de la microonda reflejada determina el estado del qubit tras la medición sin destruirlo.\n"
   ]
  },
  {
   "cell_type": "markdown",
   "id": "080fe82e",
   "metadata": {},
   "source": [
    "## Conectividad.\n"
   ]
  },
  {
   "cell_type": "markdown",
   "id": "080fe82e",
   "metadata": {},
   "source": [
    "La conectividad es una característica importante de un procesador cuántico. Cuantos más qubits estén conectados entre sí, menos puertas SWAP habrá que ejecutar para entrelazarlos lógicamente.\n"
   ]
  },
  {
   "cell_type": "markdown",
   "id": "080fe82e",
   "metadata": {},
   "source": [
    "Con las estructuras 2D, uno de los problemas a resolver radica en las conexiones internas del chipset. Estas topologías consisten en una única capa de metal sobre la oblea de qubits y una placa de circuito impreso. Aunque este esquema funciona bien para topologías en anillo (aquellas en las que los qubits están dispuestos en un anillo), se rompe si hay qubits en el centro del anillo porque no hay forma forma de enviarles señales de microondas.\n"
   ]
  },
  {
   "cell_type": "markdown",
   "id": "080fe82e",
   "metadata": {},
   "source": [
    "También tenemos la arquitectura 3D con dos capas. Esta consiste en dos chips separados, cada uno con una capa de metal estampado, unidos por uniones superconductoras: una capa para la lectura de qubits (oblea intercalada) y otra para las operaciones con qubits. Este esquema permite llevar las señales de microondas al centro del chip de qubits, \"rompiendo el plano\".\n"
   ]
  },
  {
   "cell_type": "markdown",
   "id": "080fe82e",
   "metadata": {},
   "source": [
    "::::::{admonition} Nota (Los proceadores Falcon y Hummingbird de IBM) \n",
    ":class: note\n",
    "\n",
    "\n",
    "\n",
    "Esta fue la piedra angular de los procesadores como el <b>Falcon</b> (27 qubits) y el Hummingbird (65 qubits) de IBM. Sin embargo, según [IBM](https://www.ibm.com/quantum/blog/eagle-quantum-processor-performance): (esta topología) requería que todas las líneas de control y lectura de los qubits se dirigieran a la periferia del chip, y que las capas metálicas no estuvieran aisladas entre sí.\n",
    "\n",
    "::::::\n"
   ]
  },
  {
   "cell_type": "markdown",
   "id": "080fe82e",
   "metadata": {},
   "source": [
    "Aun así, la conectividad de la topología de los qubits es, en el mejor de los casos, de cuatro vecinos más cercanos, como en el Sycamore de Google. IBM utiliza una conectividad de \"heavy hex lattice\" desde 2021 (ver Fig.  {numref}`%s <Fig_scq_hhl>`). Esta, utilizando celdas unitarias hexagonales de 12 qubits con conectividad 1 a 2 y 1 a 3, genera mejores fidelidades de puerta de qubit y permite la implementación de códigos de corrección de errores. Podemos ver varios chips con esta conectividad en la Fig.  {numref}`%s <Fig_scq_topologías_IBM>`\n"
   ]
  },
  {
   "cell_type": "markdown",
   "id": "080fe82e",
   "metadata": {},
   "source": [
    "::::{figure} Figuras/Fig_scq_hhl.png\n",
    ":width: 500px\n",
    ":align: center\n",
    ":name: Fig_scq_hhl\n",
    "Topología \"heavy hex lattice\"\n",
    "::::\n"
   ]
  },
  {
   "cell_type": "markdown",
   "id": "080fe82e",
   "metadata": {},
   "source": [
    "::::{figure} Figuras/Fig_scq_topologías_IBM.png\n",
    ":width: 1000px\n",
    ":align: center\n",
    ":name: Fig_scq_topologías_IBM\n",
    "Topología de red de diferentes chips de IBM donde se puede apreciar el uso de la conectividad \"heavy hex lattice\". \n",
    "::::\n"
   ]
  },
  {
   "cell_type": "markdown",
   "id": "080fe82e",
   "metadata": {},
   "source": [
    "Un nuevo enfoque consiste en utilizar chipsets de conectividad de múltiples capas que se conectan al chipset de qubits con conectores verticales TSV (through-silicon vias). Los diseños más recientes de IBM y los laboratorios Lincoln del MIT tienen entre tres y siete capas metálicas.\n"
   ]
  },
  {
   "cell_type": "markdown",
   "id": "080fe82e",
   "metadata": {},
   "source": [
    "::::{figure} Figuras/Fig_scq_MLW.png\n",
    ":width: 1000px\n",
    ":align: center\n",
    ":name: Fig_scq_MLW\n",
    "Arquitecturas con una, dos y varias capas de chips de IBM.\n",
    "::::\n"
   ]
  },
  {
   "cell_type": "markdown",
   "id": "080fe82e",
   "metadata": {},
   "source": [
    "::::::{admonition} Nota (Los proceadores Falcon y Humminbird de IBM) \n",
    ":class: note\n",
    "\n",
    "\n",
    "\n",
    "IBM utilizó por primera vez este tipo de arquitectura multicapa en el procesador <b>Eagle</b> de 127 qubits (ver Fig  {numref}`%s <Fig_scq_eagle_127>`).  Para el procesador Eagle, como antes, se usó una oblea de qubits unida a una oblea intercalada. Sin embargo, en este procesador se añadió un <b>cableado multicapa</b> (<b>MLW</b>, de sus siglas en inglés) dentro del intercalador. Las señales de control y lectura se dirigen en esta capa adicional, que está bien aislada del propio dispositivo cuántico y permite enviar señales a gran profundidad en chips de gran tamaño.  El nivel MLW consta de tres capas metálicas, un dieléctrico planarizado entre cada nivel y unas conexiones cortas llamadas vías que conectan los niveles metálicos. Juntos, estos niveles permiten crear líneas de transmisión totalmente aisladas entre sí y del dispositivo cuántico. También se añadieron vías a través del sustrato a los chips de qubits e intercalador.\n",
    "::::::\n"
   ]
  },
  {
   "cell_type": "markdown",
   "id": "080fe82e",
   "metadata": {},
   "source": [
    "::::{figure} Figuras/Fig_scq_eagle_127.jpeg\n",
    ":width: 1000px\n",
    ":align: center\n",
    ":name: Fig_scq_eagle_127\n",
    "Procesador Eagle de 127 qubits de IBM\n",
    "::::\n"
   ]
  },
  {
   "cell_type": "markdown",
   "id": "8534e04c",
   "metadata": {},
   "source": [
    "::::{figure} https://quantumspain-project.es/wp-content/uploads/2022/11/Logo_QS_EspanaDigital.png\n",
    ":width: 2000px\n",
    ":align: center\n",
    "::::\n",
    "\n",
    "<center>\n",
    "<img align=\"left\" src=\"https://quantumspain-project.es/wp-content/uploads/2024/02/Banner-QS_GOB_v2.png\" width=\"1000px\" />\n",
    "</center>"
   ]
  }
 ],
 "metadata": {
  "kernelspec": {
   "display_name": "Python 3 (ipykernel)",
   "language": "python",
   "name": "python3"
  },
  "language_info": {
   "codemirror_mode": {
    "name": "ipython",
    "version": 3
   },
   "file_extension": ".py",
   "mimetype": "text/x-python",
   "name": "python",
   "nbconvert_exporter": "python",
   "pygments_lexer": "ipython3",
   "version": "3.11.7"
  },
  "toc": {
   "base_numbering": 1,
   "nav_menu": {},
   "number_sections": false,
   "sideBar": true,
   "skip_h1_title": true,
   "title_cell": "Table of Contents",
   "title_sidebar": "Contents",
   "toc_cell": false,
   "toc_position": {},
   "toc_section_display": true,
   "toc_window_display": false
  }
 },
 "nbformat": 4,
 "nbformat_minor": 5
}
