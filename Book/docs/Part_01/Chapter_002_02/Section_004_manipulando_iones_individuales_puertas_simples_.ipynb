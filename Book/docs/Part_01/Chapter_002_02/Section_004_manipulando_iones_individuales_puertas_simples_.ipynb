{
 "cells": [
  {
   "cell_type": "markdown",
   "id": "8ddaeb38",
   "metadata": {},
   "source": [
    "<img src=\"Figuras/Fig_logo_UMA_scbi.png\" align=center  width=\"2000px\"/>\n",
    "\n",
    "\n",
    "<a href=\"https://www.scbi.uma.es/web/es/computacion-cuantica/\">\n",
    "    <button class=\"rounded\" style=\"float: right;\">\n",
    "    <svg xmlns=\"http://www.w3.org/2000/svg\" width=\"32\" height=\"32\" viewBox=\"0 0 24 24\">\n",
    "        <path fill=\"var(--fill, white)\"\n",
    "        d=\"M18.1 15.3c-.1.1-.3.2-.4.3l-2.4.4l1.7 3.6c.2.4 0 .8-.4\n",
    "            1l-2.8 1.3c-.1.1-.2.1-.3.1c-.3 0-.6-.2-.7-.4L11.2\n",
    "            18l-1.9 1.5c-.1.1-.3.2-.5.2c-.4 0-.8-.3-.8-.8V7.5c0-.5.3-.8.8-.8c.2 0\n",
    "            .4.1.5.2l8.7 7.4c.3.2.4.7.1 1M6 12H4V4h16v8h-1.6l2.2 1.9c.8-.3 1.3-1\n",
    "            1.3-1.9V4c0-1.1-.9-2-2-2H4c-1.1 0-2 .9-2 2v8c0 1.1.9 2 2 2h2z\" />\n",
    "    </svg>\n",
    "    Volver a SCBI - Computación Cuantica\n",
    "    </button>\n",
    "</a>\n",
    "\n",
    "$ \\newcommand{\\bra}[1]{\\langle #1|} $\n",
    "$ \\newcommand{\\ket}[1]{|#1\\rangle} $\n",
    "$ \\newcommand{\\branew}[1]{\\langle #1|} $\n",
    "$ \\newcommand{\\ketnew}[1]{\\langle #1|} $\n",
    "$ \\newcommand{\\braket}[2]{\\langle #1|#2\\rangle} $\n",
    "$ \\newcommand{\\ketbra}[2]{| #1\\rangle \\langle #2 |} $\n",
    "$ \\newcommand{\\i}{{\\color{blue} i}} $ \n",
    "$ \\newcommand{\\Hil}{{\\cal H}} $\n",
    "$ \\newcommand{\\cg}[1]{{\\rm C}#1} $\n",
    "$ \\newcommand{\\lp}{\\left(} $\n",
    "$ \\newcommand{\\rp}{\\right)} $\n",
    "$ \\newcommand{\\lc}{\\left[} $\n",
    "$ \\newcommand{\\rc}{\\right]} $\n",
    "$ \\newcommand{\\lch}{\\left\\{} $\n",
    "$ \\newcommand{\\rch}{\\right\\}} $\n",
    "$ \\newcommand{\\Lp}{\\Bigl(} $\n",
    "$ \\newcommand{\\Rp}{\\Bigr)} $\n",
    "$ \\newcommand{\\Lc}{\\Bigl[} $\n",
    "$ \\newcommand{\\Rc}{\\Bigr]} $\n",
    "$ \\newcommand{\\Lch}{\\Bigl\\{} $\n",
    "$ \\newcommand{\\Rch}{\\Bigr\\}} $\n",
    "$ \\newcommand{\\rqa}{\\quad \\Rightarrow \\quad} $\n",
    "$ \\newcommand{\\bm}{\\boldsymbol}$"
   ]
  },
  {
   "cell_type": "markdown",
   "id": "080fe82e",
   "metadata": {},
   "source": [
    "\n",
    "<a id='sec_ions_single_ion'></a>\n",
    "# Manipulando iones individuales: puertas simples \n"
   ]
  },
  {
   "cell_type": "markdown",
   "id": "080fe82e",
   "metadata": {},
   "source": [
    "## Tres tipos de resonancias\n"
   ]
  },
  {
   "cell_type": "markdown",
   "id": "080fe82e",
   "metadata": {},
   "source": [
    "En la sección anterior vimos que, eligiendo la frecuencia del láser, podemos utilizar la interacción láser-ión para alterar el estado del ion. En particular, mostramos que <b>red sideband resonance</b> se utiliza para una transición que reduce el estado de vibración saltando a un estado atómico excitado:\n",
    "\\begin{equation}\n",
    "\\boxed{\\ket{g,n+1} \\leftrightarrow \\ket{e,n}}\n",
    "\\end{equation}\n",
    "(Véase que se ha hecho el cambio $n \\rightarrow n+1$ respecto a la notación de la sección anterior).\n",
    "En esta sección, introducimos dos interacciones resonantes más que se utilizan para manipular un ion durante el proceso de computación cuántica:\n"
   ]
  },
  {
   "cell_type": "markdown",
   "id": "080fe82e",
   "metadata": {},
   "source": [
    "\n",
    " \n- <b>Blue sideband resonance</b>: Si tomamos como frecuencia del láser $\\omega = \\omega_o + \\omega_z$, se puede inducir la transición\n",
    "    \\begin{equation}\n",
    "    \\boxed{\\ket{g,n} \\leftrightarrow \\ket{e,n+1}}\n",
    "    \\end{equation}\n",
    " \n- <b>Carrier resonance</b>: Si la frecuencia del láser es igual a la frecuencia de transición atómica, $\\omega = \\omega_0$, podemos inducir la transición:\n",
    "    \\begin{equation}\n",
    "    \\boxed{\\ket{g,n} \\leftrightarrow \\ket{e,n}}\n",
    "    \\end{equation}\n",
    "    donde no se cambia el estado de vibración.\n",
    "\n"
   ]
  },
  {
   "cell_type": "markdown",
   "id": "080fe82e",
   "metadata": {},
   "source": [
    "Una vez tenemos el estado fiducial $\\ket{g,0}$ al final del proceso de enfriamiento ($n=0$), estos tres procesos de resonancia nos permiten movernos entre los 4 estados\n",
    "\\begin{equation}\n",
    "\\lch \\ket{g,0}, \\ket{g,1}, \\ket{e,0}, \\ket{e,1} \\rch.\n",
    "\\end{equation}\n",
    "Es decir, podemos tomar estos 4 estados como una base en la que expresar el estado del ión bajo la aplicación de estos tres pulsos láser:\n",
    "\\begin{equation} \\label{ec_ions_psi_1_ions}\n",
    "\\ket{\\Psi_{ion}} = \\begin{pmatrix} a_{g0} \\\\ a_{g1} \\\\ a_{e0} \\\\ a_{e1} \\end{pmatrix} =\n",
    "a_{g0} \\ket{g,0} + a_{g1} \\ket{g,1} + a_{e0} \\ket{e,0} + a_{e1} \\ket{e,1}\n",
    "\\end{equation}\n",
    "donde $|a_{g0}|^2+|a_{g1}|^2+|a_{e0}|^2+|a_{e1}|^2 = 1$.\n"
   ]
  },
  {
   "cell_type": "markdown",
   "id": "080fe82e",
   "metadata": {},
   "source": [
    "Podemos ver los tres tipos de transiciones en la Fig.  {numref}`%s <Fig_ions_Niveles_energia>`.\n"
   ]
  },
  {
   "cell_type": "markdown",
   "id": "080fe82e",
   "metadata": {},
   "source": [
    "<figure><center>\n",
    "<img src=\"Figuras/Fig_ions_Niveles_energia.png\" alt=\"\" align=center width='1000px'/>\n",
    "<a id='Fig_ions_Niveles_energia'></a>\n",
    "<center>Niveles de energía para dos estados <b>atómicos</b> $g$ y $e$ de los iones y dos estados del <b>oscilador armónico simple cuántico</b> (QSHO) $n=0$ y $n=1$.</center>\n",
    "</center></figure>\n\n"
   ]
  },
  {
   "cell_type": "markdown",
   "id": "080fe82e",
   "metadata": {},
   "source": [
    "## Operadores de evolución temporal de las tres transiciones\n"
   ]
  },
  {
   "cell_type": "markdown",
   "id": "080fe82e",
   "metadata": {},
   "source": [
    "En esta sección vamos a presentar los operadores de evolución temporal de las tres transiciones que vimos en la sección. Estos operadores pueden calcularse a planteando el Hamiltoniano de interacción luz-materia [[85]](../../Bibliografia.ipynb#bib_Haken1970), pero está fuera del alcance de este curso. Vamos simplemente a poner el resultado.\n"
   ]
  },
  {
   "cell_type": "markdown",
   "id": "080fe82e",
   "metadata": {},
   "source": [
    "### Carrier resonance\n"
   ]
  },
  {
   "cell_type": "markdown",
   "id": "080fe82e",
   "metadata": {},
   "source": [
    "Para este caso tenemos\n",
    "\n",
    "\n",
    "\n",
    "\n",
    "\n"
   ]
  },
  {
   "cell_type": "markdown",
   "id": "080fe82e",
   "metadata": {},
   "source": [
    "<figure><center>\n",
    "<img src=\"Figuras/Fig_ions_U_carrier.png\" alt=\"\" align=center width='1000px'/>\n",
    "<a id='Fig_ions_U_carrier'></a>\n",
    "<center>Carrier resonance</center>\n",
    "</center></figure>\n\n",
    "donde $\\phi$ es la <b>fase</b> del pulso láser y $\\beta = \\Omega t$, siendo $\\Omega$ la intensidad de acoplamiento (un parámetro) y $t$ el <b>tiempo</b> de aplicación del pulso láser. Para nuestro caso, $n = 0$.\n"
   ]
  },
  {
   "cell_type": "markdown",
   "id": "080fe82e",
   "metadata": {},
   "source": [
    "### Blue sideband\n"
   ]
  },
  {
   "cell_type": "markdown",
   "id": "080fe82e",
   "metadata": {},
   "source": [
    "Para este caso tenemos\n",
    "\n",
    "<figure><center>\n",
    "<img src=\"Figuras/Fig_ions_U_bsb.png\" alt=\"\" align=center width='1000px'/>\n",
    "<a id='Fig_ions_U_bsb'></a>\n",
    "<center>Blue sideband</center>\n",
    "</center></figure>\n\n",
    "donde $\\phi$ es la <b>fase</b> del pulso láser, $\\eta$ el parametro de Lamd-Dicke y $\\beta = \\Omega t$, siendo $\\Omega$ la intensidad de acoplamiento (un parámetro) y $t$ el <b>tiempo</b> de aplicación del pulso láser. Para nuestro caso, $n = 0$.\n"
   ]
  },
  {
   "cell_type": "markdown",
   "id": "080fe82e",
   "metadata": {},
   "source": [
    "### Red sideband\n"
   ]
  },
  {
   "cell_type": "markdown",
   "id": "080fe82e",
   "metadata": {},
   "source": [
    "Para este caso tenemos\n",
    "<figure><center>\n",
    "<img src=\"Figuras/Fig_ions_U_rsb.png\" alt=\"\" align=center width='1000px'/>\n",
    "<a id='Fig_ions_U_rsb'></a>\n",
    "<center>Red sideband</center>\n",
    "</center></figure>\n\n",
    "donde $\\phi$ es la <b>fase</b> del pulso láser, $\\eta$ el parametro de Lamd-Dicke y $\\beta = \\Omega t$, siendo $\\Omega$ la intensidad de acoplamiento (un parámetro) y $t$ el <b>tiempo</b> de aplicación del pulso láser. Para nuestro caso, $n = 0$.\n"
   ]
  },
  {
   "cell_type": "markdown",
   "id": "080fe82e",
   "metadata": {},
   "source": [
    "<div class=\"alert alert-block alert-danger\">\n",
    "<p style=\"color: DarkRed;\">\n",
    "<b>Nota</b>:\n",
    "<br>\n",
    "Viendo estas matrices y como se aplican sobre los estados, vemos por qué en las transiciones estuvimos poniendo $\\leftrightarrow$ en vez de $\\rightarrow$. Esto es porque dependiendo del tiempo $t$ de aplicación del láser, podemos movernos entre los dos estados.\n",
    "</p></div>\n"
   ]
  },
  {
   "cell_type": "markdown",
   "id": "080fe82e",
   "metadata": {},
   "source": [
    "<div class=\"alert alert-block alert-danger\">\n",
    "<p style=\"color: DarkRed;\">\n",
    "<b>Nota</b>: <i>(Subíndice $I$)</i>\n",
    "<br>\n",
    "El subíndice $I$ en los operadores de evolución temporal hace referencia a que están en la imagen de interacción. Nuevamente, esto está fuera del alcance del curso y se comenta por completitud.\n",
    "</p></div>\n"
   ]
  },
  {
   "cell_type": "markdown",
   "id": "080fe82e",
   "metadata": {},
   "source": [
    "## Estados del Qubit y Puertas Simples con Iones\n"
   ]
  },
  {
   "cell_type": "markdown",
   "id": "080fe82e",
   "metadata": {},
   "source": [
    "Veamos que sucede si aplicamos el operador de evolución temporal de la <i>carrier resonance</i> de la Fig.  {numref}`%s <Fig_ions_U_carrier>` sobre el estado $\\ket{g,0}$:\n"
   ]
  },
  {
   "cell_type": "markdown",
   "id": "080fe82e",
   "metadata": {},
   "source": [
    "\\begin{equation}\n",
    "\\mathcal{U}_I^{(\\text{c})} \\ket{g,0} = \\cos(\\beta/2) \\ket{g,0} - i e^{i \\phi} \\sin (\\beta/2) \\ket{e,0}\\, .\n",
    "\\end{equation}\n"
   ]
  },
  {
   "cell_type": "markdown",
   "id": "080fe82e",
   "metadata": {},
   "source": [
    "Si hacemos el siguiente cambio de notación\n",
    "\\begin{equation}\n",
    "\\boxed{\\ket{g,0} \\equiv \\ket{0}} \\,, \\quad \\text{y} \\quad \\boxed{\\ket{e,0} \\equiv \\ket{1}}\n",
    "\\end{equation}\n",
    "y tomamos $t=\\theta/\\Omega$ y $\\phi = \\varphi - \\pi/2$, nos queda\n",
    "\\begin{equation}\n",
    "\\boxed{\\mathcal{U}_I^{(\\text{c})} \\ket{0} = \\cos(\\theta/2) \\ket{0} + e^{i \\varphi} \\sin (\\theta/2) \\ket{1}}\\, ,\n",
    "\\end{equation}\n",
    "que si nos fijamos es la ecuación del <b>estado general de un qubit</b> (Ec.  {eq}`%s <ec_qubit_caso_general>`). Es decir, el estado general de un qubit puede considerarse el resultado de la aplicación de una puerta de un qubit al qubit fiduciario $\\ket{g,0} \\equiv \\ket{0}$, lo que implica que puede aplicarse cualquier puerta de un qubit al qubit fiduciario utilizando la interacción de <i>carrier resonance</i> y seleccionando un intervalo de tiempo y una fase adecuados para el pulso láser.\n"
   ]
  },
  {
   "cell_type": "markdown",
   "id": "080fe82e",
   "metadata": {},
   "source": [
    "Con esto, se cumple el criterio 2 de Divicenzo (sección  {numref}`%s <sec_criterio_divicenzo>`).\n"
   ]
  },
  {
   "cell_type": "markdown",
   "id": "8534e04c",
   "metadata": {},
   "source": [
    "<figure><center>\n",
    "<img   src=\"https://quantumspain-project.es/wp-content/uploads/2022/11/Logo_QS_EspanaDigital.png\" align=center  width=\"2000px\"/>\n",
    "</center></figure>\n",
    "\n",
    "<center>\n",
    "<img align=\"left\" src=\"https://quantumspain-project.es/wp-content/uploads/2024/02/Banner-QS_GOB_v2.png\" width=\"1000px\" />\n",
    "</center>"
   ]
  }
 ],
 "metadata": {
  "kernelspec": {
   "display_name": "Python 3 (ipykernel)",
   "language": "python",
   "name": "python3"
  },
  "language_info": {
   "codemirror_mode": {
    "name": "ipython",
    "version": 3
   },
   "file_extension": ".py",
   "mimetype": "text/x-python",
   "name": "python",
   "nbconvert_exporter": "python",
   "pygments_lexer": "ipython3",
   "version": "3.11.7"
  },
  "toc": {
   "base_numbering": 1,
   "nav_menu": {},
   "number_sections": false,
   "sideBar": true,
   "skip_h1_title": true,
   "title_cell": "Table of Contents",
   "title_sidebar": "Contents",
   "toc_cell": false,
   "toc_position": {},
   "toc_section_display": true,
   "toc_window_display": false
  }
 },
 "nbformat": 4,
 "nbformat_minor": 5
}
